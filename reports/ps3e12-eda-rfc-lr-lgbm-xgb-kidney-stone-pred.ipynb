{
 "cells": [
  {
   "cell_type": "markdown",
   "metadata": {
    "_cell_guid": "b1076dfc-b9ad-4769-8c92-a6c4dae69d19",
    "_uuid": "8f2839f25d086af736a60e9eeb907d3b93b6e0e5",
    "execution": {
     "iopub.execute_input": "2023-04-05T20:47:23.102511Z",
     "iopub.status.busy": "2023-04-05T20:47:23.102131Z",
     "iopub.status.idle": "2023-04-05T20:47:23.108276Z",
     "shell.execute_reply": "2023-04-05T20:47:23.107225Z",
     "shell.execute_reply.started": "2023-04-05T20:47:23.102479Z"
    }
   },
   "source": [
    "# <p style=\"padding:10px;background-color:lightblue;border-style: solid;border-color: black;margin:0;color:green;font-family:newtimeroman;font-size:150%;text-align:center;border-radius: 25px 50px;overflow:hidden;font-weight:500\">Kidney Stone Prediction</p>"
   ]
  },
  {
   "cell_type": "markdown",
   "metadata": {},
   "source": [
    "### <font color='289C4E'>Table of contents<font><a class='anchor' id='top'></a>\n",
    "- [Importing Libraries & Exploring the data](#1)\n",
    "- [Exploratory Data Analysis](#2)\n",
    "    - [Check for Information Bias in Train data and Original Data](#2.1)\n",
    "    - [Linear Correlation between the features](#2.2)\n",
    "    - [Feature Distributions for train & test data](#2.3)\n",
    "- [Feature Engineering](#2.4)\n",
    "- [Predictive Analysis](#3)\n",
    "    - [Lazypredict : Finding the best perfoming models](#4)\n",
    "    - [1. LGBMClassifier](#5)\n",
    "    - [2. XGBClassifier](#6)\n",
    "    - [3. AdaBoost Classifier](#7)\n",
    "    - [4. Random Forest Classifier](#8)\n",
    "    - [5. Logistic Regression](#9)\n",
    "    - [6. Bonus one: Gaussian Naive Bayes](#10)\n",
    "- [Feature Importance](#11)"
   ]
  },
  {
   "cell_type": "markdown",
   "metadata": {},
   "source": [
    "---\n",
    "\n",
    "<a id=\"1\"></a>\n",
    "# <p style=\"padding:10px;background-color:lightblue;border-style: solid;border-color: black;margin:0;color:green;font-family:newtimeroman;font-size:150%;text-align:center;border-radius: 25px 50px;overflow:hidden;font-weight:500\">Importing Libraries & Exploring the data</p>\n",
    "\n",
    "---"
   ]
  },
  {
   "cell_type": "code",
   "execution_count": null,
   "metadata": {
    "execution": {
     "iopub.execute_input": "2023-04-11T05:04:10.610688Z",
     "iopub.status.busy": "2023-04-11T05:04:10.610103Z",
     "iopub.status.idle": "2023-04-11T05:04:10.620322Z",
     "shell.execute_reply": "2023-04-11T05:04:10.618278Z",
     "shell.execute_reply.started": "2023-04-11T05:04:10.610630Z"
    }
   },
   "outputs": [],
   "source": [
    "import numpy as np\n",
    "import pandas as pd\n",
    "import pandas as pd\n",
    "import numpy as np\n",
    "import matplotlib.pyplot as plt\n",
    "import plotly.express as px\n",
    "import seaborn as sns\n",
    "from itertools import product"
   ]
  },
  {
   "cell_type": "markdown",
   "metadata": {},
   "source": [
    "<h3 align=\"left\"> <font color='blue'>Setting Style</font></h3>"
   ]
  },
  {
   "cell_type": "code",
   "execution_count": null,
   "metadata": {
    "execution": {
     "iopub.execute_input": "2023-04-11T05:04:10.631483Z",
     "iopub.status.busy": "2023-04-11T05:04:10.624188Z",
     "iopub.status.idle": "2023-04-11T05:04:10.642151Z",
     "shell.execute_reply": "2023-04-11T05:04:10.640692Z",
     "shell.execute_reply.started": "2023-04-11T05:04:10.631425Z"
    }
   },
   "outputs": [],
   "source": [
    "sns.set_style('darkgrid')"
   ]
  },
  {
   "cell_type": "markdown",
   "metadata": {},
   "source": [
    "<h3 align=\"left\"> <font color='blue'>Loading the Data</font></h3>"
   ]
  },
  {
   "cell_type": "code",
   "execution_count": null,
   "metadata": {
    "execution": {
     "iopub.execute_input": "2023-04-11T05:04:10.645355Z",
     "iopub.status.busy": "2023-04-11T05:04:10.644914Z",
     "iopub.status.idle": "2023-04-11T05:04:10.710013Z",
     "shell.execute_reply": "2023-04-11T05:04:10.708853Z",
     "shell.execute_reply.started": "2023-04-11T05:04:10.645312Z"
    }
   },
   "outputs": [],
   "source": [
    "train_df = pd.read_csv('/kaggle/input/playground-series-s3e12/train.csv')\n",
    "original_df = pd.read_csv('/kaggle/input/kidney-stone-prediction-based-on-urine-analysis/kindey stone urine analysis.csv')\n",
    "test_df = pd.read_csv('/kaggle/input/playground-series-s3e12/test.csv')\n",
    "sub=pd.read_csv('/kaggle/input/playground-series-s3e12/sample_submission.csv')\n",
    "train_df"
   ]
  },
  {
   "cell_type": "markdown",
   "metadata": {},
   "source": [
    "<h3 align=\"left\"> <font color='blue'>Exploring the Data</font></h3>"
   ]
  },
  {
   "cell_type": "code",
   "execution_count": null,
   "metadata": {
    "execution": {
     "iopub.execute_input": "2023-04-11T05:04:10.715327Z",
     "iopub.status.busy": "2023-04-11T05:04:10.714925Z",
     "iopub.status.idle": "2023-04-11T05:04:10.758816Z",
     "shell.execute_reply": "2023-04-11T05:04:10.754674Z",
     "shell.execute_reply.started": "2023-04-11T05:04:10.715287Z"
    }
   },
   "outputs": [],
   "source": [
    "Df = [train_df, original_df, test_df]\n",
    "names = ['Training Data', 'Original Data','Test Data']\n",
    "print('Data Information')\n",
    "for df,name in zip(Df,names):\n",
    "    print(name)\n",
    "    print(df.info())\n",
    "    print()"
   ]
  },
  {
   "cell_type": "code",
   "execution_count": null,
   "metadata": {
    "execution": {
     "iopub.execute_input": "2023-04-11T05:04:10.766637Z",
     "iopub.status.busy": "2023-04-11T05:04:10.766015Z",
     "iopub.status.idle": "2023-04-11T05:04:10.776017Z",
     "shell.execute_reply": "2023-04-11T05:04:10.774990Z",
     "shell.execute_reply.started": "2023-04-11T05:04:10.766601Z"
    }
   },
   "outputs": [],
   "source": [
    "train_df.drop('id',axis=1,inplace=True)\n",
    "test_df.drop('id',axis=1,inplace=True)"
   ]
  },
  {
   "cell_type": "code",
   "execution_count": null,
   "metadata": {
    "execution": {
     "iopub.execute_input": "2023-04-11T05:04:10.778545Z",
     "iopub.status.busy": "2023-04-11T05:04:10.778198Z",
     "iopub.status.idle": "2023-04-11T05:04:10.837530Z",
     "shell.execute_reply": "2023-04-11T05:04:10.836188Z",
     "shell.execute_reply.started": "2023-04-11T05:04:10.778513Z"
    }
   },
   "outputs": [],
   "source": [
    "desc = train_df.describe()\n",
    "desc = desc.style.background_gradient()\n",
    "desc"
   ]
  },
  {
   "cell_type": "markdown",
   "metadata": {},
   "source": [
    "---\n",
    "<a id=\"2\"></a>\n",
    "# <p style=\"padding:10px;background-color:lightblue;border-style: solid;border-color: black;margin:0;color:green;font-family:newtimeroman;font-size:150%;text-align:center;border-radius: 25px 50px;overflow:hidden;font-weight:500\">Exploratory Data Analysis</p>\n",
    "---"
   ]
  },
  {
   "cell_type": "markdown",
   "metadata": {},
   "source": [
    "<h2 align=\"center\"><a id=\"2.1\"></a><font color='navy'>Check for Information Bias in Train data and Original Data</font></h2>"
   ]
  },
  {
   "cell_type": "code",
   "execution_count": null,
   "metadata": {
    "execution": {
     "iopub.execute_input": "2023-04-11T05:04:10.839490Z",
     "iopub.status.busy": "2023-04-11T05:04:10.838996Z",
     "iopub.status.idle": "2023-04-11T05:04:11.111074Z",
     "shell.execute_reply": "2023-04-11T05:04:11.109674Z",
     "shell.execute_reply.started": "2023-04-11T05:04:10.839436Z"
    }
   },
   "outputs": [],
   "source": [
    "f,ax=plt.subplots(1,2,figsize=(12,10))\n",
    "train_df['target'].value_counts().plot.pie(explode=[0,0.1],autopct='%1.1f%%',ax=ax[0],shadow=True)\n",
    "ax[0].set_title('Target class in training data')\n",
    "ax[0].set_ylabel('')\n",
    "original_df['target'].value_counts().plot.pie(explode=[0,0.1],autopct='%1.1f%%',ax=ax[1],shadow=True)\n",
    "ax[1].set_title('Target class in original data')\n",
    "ax[1].set_ylabel('')\n",
    "\n",
    "plt.show()"
   ]
  },
  {
   "cell_type": "markdown",
   "metadata": {},
   "source": [
    "<h3 align=\"left\"> <font color='darkgreen'>As there is almost equal proportion of target class in both train data & original data, <br>Hence there won't be any bias if we merge them<br>\n",
    "Threfore let's merge the these two dataframes</font></h3>"
   ]
  },
  {
   "cell_type": "code",
   "execution_count": null,
   "metadata": {
    "execution": {
     "iopub.execute_input": "2023-04-11T05:04:11.113374Z",
     "iopub.status.busy": "2023-04-11T05:04:11.112860Z",
     "iopub.status.idle": "2023-04-11T05:04:11.139890Z",
     "shell.execute_reply": "2023-04-11T05:04:11.138800Z",
     "shell.execute_reply.started": "2023-04-11T05:04:11.113335Z"
    }
   },
   "outputs": [],
   "source": [
    "train_df = pd.concat([train_df,original_df],ignore_index=True)\n",
    "train_df"
   ]
  },
  {
   "cell_type": "markdown",
   "metadata": {},
   "source": [
    "<h2 align=\"center\"><a id=\"2.2\"></a><font color='navy'>Linear Correlation between the features</font></h2>"
   ]
  },
  {
   "cell_type": "code",
   "execution_count": null,
   "metadata": {
    "execution": {
     "iopub.execute_input": "2023-04-11T05:04:11.141840Z",
     "iopub.status.busy": "2023-04-11T05:04:11.141378Z",
     "iopub.status.idle": "2023-04-11T05:04:11.684022Z",
     "shell.execute_reply": "2023-04-11T05:04:11.682904Z",
     "shell.execute_reply.started": "2023-04-11T05:04:11.141799Z"
    }
   },
   "outputs": [],
   "source": [
    "plt.figure(figsize=(12,8))\n",
    "sns.heatmap(train_df.corr(),annot=True,cmap='Greens')\n",
    "plt.title('Correlation Matrix for Features of Train Data');\n",
    "plt.show()"
   ]
  },
  {
   "cell_type": "markdown",
   "metadata": {},
   "source": [
    "<h2 align=\"center\"><a id=\"2.3\"></a><font color='navy'>Feature Distributions for train & test data</font></h2>"
   ]
  },
  {
   "cell_type": "code",
   "execution_count": null,
   "metadata": {
    "execution": {
     "iopub.execute_input": "2023-04-11T05:04:11.694468Z",
     "iopub.status.busy": "2023-04-11T05:04:11.691684Z",
     "iopub.status.idle": "2023-04-11T05:04:15.815628Z",
     "shell.execute_reply": "2023-04-11T05:04:15.814181Z",
     "shell.execute_reply.started": "2023-04-11T05:04:11.694424Z"
    }
   },
   "outputs": [],
   "source": [
    "plt.figure(figsize=(10,30))\n",
    "i = 1\n",
    "for col in train_df.columns[:6]:\n",
    "    plt.subplot(6,2,i)\n",
    "    sns.histplot(x=train_df[col],color='#288BA8',kde=True,lw=1)\n",
    "    plt.title(\"training data: distribution of '{}' feature\".format(col));\n",
    "   \n",
    "    plt.subplot(6,2,i+1)\n",
    "    sns.histplot(x=test_df[col],color='#B22222',kde=True,lw=1)\n",
    "    plt.title(\"testing data: distribution of '{}' feature\".format(col));\n",
    "    i+=2\n",
    "plt.tight_layout()"
   ]
  },
  {
   "cell_type": "markdown",
   "metadata": {},
   "source": [
    "<h2 align=\"left\"> <font color='navy'>Insights</font></h2>\n",
    "After going through overall plots we see <br>1. some changes in distribution of <b>urea</b> in train & test data <br>"
   ]
  },
  {
   "cell_type": "code",
   "execution_count": null,
   "metadata": {
    "execution": {
     "iopub.execute_input": "2023-04-11T05:04:15.818873Z",
     "iopub.status.busy": "2023-04-11T05:04:15.818307Z",
     "iopub.status.idle": "2023-04-11T05:04:16.721722Z",
     "shell.execute_reply": "2023-04-11T05:04:16.720654Z",
     "shell.execute_reply.started": "2023-04-11T05:04:15.818834Z"
    }
   },
   "outputs": [],
   "source": [
    "plt.figure(figsize=(10,5))\n",
    "col = 'urea'\n",
    "plt.subplot(1,2,1)\n",
    "sns.histplot(x=train_df['urea'],color='#288BA8',kde=True,lw=1)\n",
    "plt.title(\"training data: distribution of '{}' feature\".format(col));\n",
    "\n",
    "plt.subplot(1,2,2)\n",
    "sns.histplot(x=test_df['urea'],color='#B22222',kde=True,lw=1)\n",
    "plt.title(\"testing data: distribution of '{}' feature\".format(col));\n",
    "plt.tight_layout()"
   ]
  },
  {
   "cell_type": "markdown",
   "metadata": {},
   "source": [
    "The values for <b>urea</b> feature is starting from 64 in test data whereas in train data it is starting from 10 "
   ]
  },
  {
   "cell_type": "code",
   "execution_count": null,
   "metadata": {
    "execution": {
     "iopub.execute_input": "2023-04-11T05:04:16.727083Z",
     "iopub.status.busy": "2023-04-11T05:04:16.726152Z",
     "iopub.status.idle": "2023-04-11T05:04:16.745980Z",
     "shell.execute_reply": "2023-04-11T05:04:16.745058Z",
     "shell.execute_reply.started": "2023-04-11T05:04:16.727036Z"
    }
   },
   "outputs": [],
   "source": [
    "train_df[train_df['urea']<50]"
   ]
  },
  {
   "cell_type": "markdown",
   "metadata": {},
   "source": [
    "### So lets drop this values for better predictions"
   ]
  },
  {
   "cell_type": "code",
   "execution_count": null,
   "metadata": {
    "execution": {
     "iopub.execute_input": "2023-04-11T05:04:16.748626Z",
     "iopub.status.busy": "2023-04-11T05:04:16.747767Z",
     "iopub.status.idle": "2023-04-11T05:04:16.759297Z",
     "shell.execute_reply": "2023-04-11T05:04:16.758321Z",
     "shell.execute_reply.started": "2023-04-11T05:04:16.748580Z"
    }
   },
   "outputs": [],
   "source": [
    "train_df = train_df[train_df['urea']>50]"
   ]
  },
  {
   "cell_type": "markdown",
   "metadata": {},
   "source": [
    "---\n",
    "<a id=\"2.4\"></a>\n",
    "# <p style=\"padding:10px;background-color:lightblue;border-style: solid;border-color: black;margin:0;color:green;font-family:newtimeroman;font-size:150%;text-align:center;border-radius: 25px 50px;overflow:hidden;font-weight:500\">Feature Engineering</p>\n",
    "\n",
    "---\n",
    "\n",
    "The features were added for better performance of the model on the data,\n",
    "This feature engineering is taken from [This Awesome Notebook](https://www.kaggle.com/code/phongnguyen1/a-framework-for-tabular-classification-e12-10) by <b>Phong Nguyen</b>. Kudos to this author for his work. You can check that out for more information"
   ]
  },
  {
   "cell_type": "code",
   "execution_count": null,
   "metadata": {
    "execution": {
     "iopub.execute_input": "2023-04-11T05:04:16.761870Z",
     "iopub.status.busy": "2023-04-11T05:04:16.761078Z",
     "iopub.status.idle": "2023-04-11T05:04:16.784227Z",
     "shell.execute_reply": "2023-04-11T05:04:16.783210Z",
     "shell.execute_reply.started": "2023-04-11T05:04:16.761832Z"
    }
   },
   "outputs": [],
   "source": [
    "train_df.head(2)"
   ]
  },
  {
   "cell_type": "code",
   "execution_count": null,
   "metadata": {
    "execution": {
     "iopub.execute_input": "2023-04-11T05:04:16.787484Z",
     "iopub.status.busy": "2023-04-11T05:04:16.785796Z",
     "iopub.status.idle": "2023-04-11T05:04:16.809139Z",
     "shell.execute_reply": "2023-04-11T05:04:16.808281Z",
     "shell.execute_reply.started": "2023-04-11T05:04:16.787361Z"
    }
   },
   "outputs": [],
   "source": [
    "test_df.head(2)"
   ]
  },
  {
   "cell_type": "code",
   "execution_count": null,
   "metadata": {
    "execution": {
     "iopub.execute_input": "2023-04-11T05:04:16.815806Z",
     "iopub.status.busy": "2023-04-11T05:04:16.812461Z",
     "iopub.status.idle": "2023-04-11T05:04:16.824761Z",
     "shell.execute_reply": "2023-04-11T05:04:16.823238Z",
     "shell.execute_reply.started": "2023-04-11T05:04:16.815766Z"
    }
   },
   "outputs": [],
   "source": [
    "def add_features(df):\n",
    "    # Ratio of calcium concentration to urea concentration: \n",
    "    df['calc_urea_ratio'] = df['calc'] / df['urea']\n",
    "    \n",
    "#     # Product of calcium concentration and osmolarity: \n",
    "#     df['calc_osm_product'] = df['calc'] * df['osmo']\n",
    "    \n",
    "#     # Ratio of calcium concentration to specific gravity: \n",
    "#     df['calc_gravity_ratio'] = df['calc'] / df['gravity']\n",
    "    \n",
    "    # Ratio of calcium concentration to osmolarity: \n",
    "    df['calc_osm_ratio'] = df['calc'] / df['osmo']"
   ]
  },
  {
   "cell_type": "code",
   "execution_count": null,
   "metadata": {
    "execution": {
     "iopub.execute_input": "2023-04-11T05:04:16.829470Z",
     "iopub.status.busy": "2023-04-11T05:04:16.827736Z",
     "iopub.status.idle": "2023-04-11T05:04:16.856363Z",
     "shell.execute_reply": "2023-04-11T05:04:16.855367Z",
     "shell.execute_reply.started": "2023-04-11T05:04:16.829433Z"
    }
   },
   "outputs": [],
   "source": [
    "train_df"
   ]
  },
  {
   "cell_type": "code",
   "execution_count": null,
   "metadata": {
    "_kg_hide-output": true,
    "execution": {
     "iopub.execute_input": "2023-04-11T05:04:16.864041Z",
     "iopub.status.busy": "2023-04-11T05:04:16.861503Z",
     "iopub.status.idle": "2023-04-11T05:04:16.877889Z",
     "shell.execute_reply": "2023-04-11T05:04:16.876545Z",
     "shell.execute_reply.started": "2023-04-11T05:04:16.863999Z"
    },
    "scrolled": true
   },
   "outputs": [],
   "source": [
    "add_features(train_df)\n",
    "add_features(test_df)"
   ]
  },
  {
   "cell_type": "code",
   "execution_count": null,
   "metadata": {
    "execution": {
     "iopub.execute_input": "2023-04-11T05:04:16.885504Z",
     "iopub.status.busy": "2023-04-11T05:04:16.882755Z",
     "iopub.status.idle": "2023-04-11T05:04:16.907512Z",
     "shell.execute_reply": "2023-04-11T05:04:16.906438Z",
     "shell.execute_reply.started": "2023-04-11T05:04:16.885453Z"
    }
   },
   "outputs": [],
   "source": [
    "train_df.head(3)"
   ]
  },
  {
   "cell_type": "code",
   "execution_count": null,
   "metadata": {
    "execution": {
     "iopub.execute_input": "2023-04-11T05:04:16.914667Z",
     "iopub.status.busy": "2023-04-11T05:04:16.912426Z",
     "iopub.status.idle": "2023-04-11T05:04:16.934236Z",
     "shell.execute_reply": "2023-04-11T05:04:16.933339Z",
     "shell.execute_reply.started": "2023-04-11T05:04:16.914631Z"
    }
   },
   "outputs": [],
   "source": [
    "test_df.head(3)"
   ]
  },
  {
   "cell_type": "markdown",
   "metadata": {},
   "source": [
    "---\n",
    "<a id=\"3\"></a>\n",
    "# <p style=\"padding:10px;background-color:lightblue;border-style: solid;border-color: black;margin:0;color:green;font-family:newtimeroman;font-size:150%;text-align:center;border-radius: 25px 50px;overflow:hidden;font-weight:500\">Predictive Analysis</p>\n",
    "\n",
    "---"
   ]
  },
  {
   "cell_type": "markdown",
   "metadata": {},
   "source": [
    "<h2 align=\"center\"> <font color='navy'>Standardization for numerical labels</font></h2>"
   ]
  },
  {
   "cell_type": "code",
   "execution_count": null,
   "metadata": {
    "execution": {
     "iopub.execute_input": "2023-04-11T05:04:16.941145Z",
     "iopub.status.busy": "2023-04-11T05:04:16.938896Z",
     "iopub.status.idle": "2023-04-11T05:04:16.947058Z",
     "shell.execute_reply": "2023-04-11T05:04:16.946102Z",
     "shell.execute_reply.started": "2023-04-11T05:04:16.941094Z"
    }
   },
   "outputs": [],
   "source": [
    "from sklearn.preprocessing import StandardScaler, LabelEncoder\n",
    "standardScaler = StandardScaler()"
   ]
  },
  {
   "cell_type": "markdown",
   "metadata": {},
   "source": [
    "<h2 align=\"left\"> <font color='navy'>Train Data</font></h2>"
   ]
  },
  {
   "cell_type": "code",
   "execution_count": null,
   "metadata": {
    "execution": {
     "iopub.execute_input": "2023-04-11T05:04:16.954357Z",
     "iopub.status.busy": "2023-04-11T05:04:16.951885Z",
     "iopub.status.idle": "2023-04-11T05:04:16.984977Z",
     "shell.execute_reply": "2023-04-11T05:04:16.984162Z",
     "shell.execute_reply.started": "2023-04-11T05:04:16.954321Z"
    }
   },
   "outputs": [],
   "source": [
    "train = standardScaler.fit_transform(train_df.drop(['target'],axis=1))\n",
    "train = pd.DataFrame(train, columns=train_df.drop(['target'],axis=1).columns)\n",
    "train"
   ]
  },
  {
   "cell_type": "markdown",
   "metadata": {},
   "source": [
    "<h2 align=\"left\"> <font color='navy'>Test Data</font></h2>"
   ]
  },
  {
   "cell_type": "code",
   "execution_count": null,
   "metadata": {
    "execution": {
     "iopub.execute_input": "2023-04-11T05:04:16.991769Z",
     "iopub.status.busy": "2023-04-11T05:04:16.989629Z",
     "iopub.status.idle": "2023-04-11T05:04:17.018847Z",
     "shell.execute_reply": "2023-04-11T05:04:17.017900Z",
     "shell.execute_reply.started": "2023-04-11T05:04:16.991734Z"
    }
   },
   "outputs": [],
   "source": [
    "test = standardScaler.fit_transform(test_df)\n",
    "test = pd.DataFrame(test, columns=test_df.columns)\n",
    "test"
   ]
  },
  {
   "cell_type": "markdown",
   "metadata": {},
   "source": [
    "---\n",
    "<a id=\"4\"></a>\n",
    "# <p style=\"padding:10px;background-color:lightblue;border-style: solid;border-color: black;margin:0;color:green;font-family:newtimeroman;font-size:150%;text-align:center;border-radius: 25px 50px;overflow:hidden;font-weight:500\">Lazypredict : Finding the best perfoming models</p>\n",
    "---"
   ]
  },
  {
   "cell_type": "code",
   "execution_count": null,
   "metadata": {
    "_kg_hide-output": true,
    "execution": {
     "iopub.execute_input": "2023-04-11T05:04:17.025563Z",
     "iopub.status.busy": "2023-04-11T05:04:17.023170Z",
     "iopub.status.idle": "2023-04-11T05:04:27.030930Z",
     "shell.execute_reply": "2023-04-11T05:04:27.029081Z",
     "shell.execute_reply.started": "2023-04-11T05:04:17.025524Z"
    },
    "scrolled": true
   },
   "outputs": [],
   "source": [
    "!pip install lazypredict"
   ]
  },
  {
   "cell_type": "code",
   "execution_count": null,
   "metadata": {
    "_kg_hide-output": true,
    "execution": {
     "iopub.execute_input": "2023-04-11T05:04:27.041567Z",
     "iopub.status.busy": "2023-04-11T05:04:27.039319Z",
     "iopub.status.idle": "2023-04-11T05:04:27.048107Z",
     "shell.execute_reply": "2023-04-11T05:04:27.046861Z",
     "shell.execute_reply.started": "2023-04-11T05:04:27.041528Z"
    },
    "scrolled": true
   },
   "outputs": [],
   "source": [
    "from lazypredict.Supervised import LazyClassifier, LazyRegressor\n",
    "from sklearn.model_selection import train_test_split"
   ]
  },
  {
   "cell_type": "code",
   "execution_count": null,
   "metadata": {
    "execution": {
     "iopub.execute_input": "2023-04-11T05:04:27.050977Z",
     "iopub.status.busy": "2023-04-11T05:04:27.050695Z",
     "iopub.status.idle": "2023-04-11T05:04:28.573565Z",
     "shell.execute_reply": "2023-04-11T05:04:28.572791Z",
     "shell.execute_reply.started": "2023-04-11T05:04:27.050951Z"
    }
   },
   "outputs": [],
   "source": [
    "X, y = train, train_df.target\n",
    "X_train, X_test, y_train, y_test = train_test_split(X, y, test_size=.2, random_state=42)\n",
    "# fit all models\n",
    "clf = LazyClassifier(predictions=True)\n",
    "models, predictions = clf.fit(X_train, X_test, y_train, y_test)"
   ]
  },
  {
   "cell_type": "code",
   "execution_count": null,
   "metadata": {
    "execution": {
     "iopub.execute_input": "2023-04-11T05:04:28.578032Z",
     "iopub.status.busy": "2023-04-11T05:04:28.577056Z",
     "iopub.status.idle": "2023-04-11T05:04:28.591934Z",
     "shell.execute_reply": "2023-04-11T05:04:28.590662Z",
     "shell.execute_reply.started": "2023-04-11T05:04:28.577965Z"
    }
   },
   "outputs": [],
   "source": [
    "models"
   ]
  },
  {
   "cell_type": "markdown",
   "metadata": {},
   "source": [
    "<h3 align=\"left\"> <font color='navy'>Above table gives the different models according to their perfomance on the data<br>The models are according to descending ROC AUC which is being use for our model evalution over Test Data<br>\n",
    "As we don't know the exact test data, we will try to create all the best models and submit their results into the competition<br> We will use top 4 + logistic regression models for predicting the problem statement , Hence we will be dealing with following baseline models and try for hypertuning for better results<br></font><br>LGBMClassifier<br>XGBClassifier<br>AdaBoostClassifier<br> RandomForestClassifier<br>Logistic Regression</h3>\n"
   ]
  },
  {
   "cell_type": "markdown",
   "metadata": {},
   "source": [
    "---\n",
    "<a id=\"5\"></a>\n",
    "# <p style=\"padding:10px;background-color:lightblue;border-style: solid;border-color: black;margin:0;color:green;font-family:newtimeroman;font-size:150%;text-align:center;border-radius: 25px 50px;overflow:hidden;font-weight:500\">1. LGBMClassifier</p>\n",
    "---"
   ]
  },
  {
   "cell_type": "code",
   "execution_count": null,
   "metadata": {
    "execution": {
     "iopub.execute_input": "2023-04-11T05:04:28.594601Z",
     "iopub.status.busy": "2023-04-11T05:04:28.593768Z",
     "iopub.status.idle": "2023-04-11T05:04:28.602242Z",
     "shell.execute_reply": "2023-04-11T05:04:28.600830Z",
     "shell.execute_reply.started": "2023-04-11T05:04:28.594552Z"
    }
   },
   "outputs": [],
   "source": [
    "X = train\n",
    "y = train_df.target\n",
    "X_test = test"
   ]
  },
  {
   "cell_type": "code",
   "execution_count": null,
   "metadata": {
    "execution": {
     "iopub.execute_input": "2023-04-11T05:04:28.604572Z",
     "iopub.status.busy": "2023-04-11T05:04:28.604151Z",
     "iopub.status.idle": "2023-04-11T05:04:28.624732Z",
     "shell.execute_reply": "2023-04-11T05:04:28.623935Z",
     "shell.execute_reply.started": "2023-04-11T05:04:28.604527Z"
    }
   },
   "outputs": [],
   "source": [
    "import lightgbm as lgb\n",
    "lgbm_params = {'n_estimators': 27, \n",
    "               'num_leaves': 5, \n",
    "               'min_child_samples': 11, \n",
    "               'learning_rate': 0.1,  \n",
    "               'colsample_bytree': 0.08, \n",
    "               'reg_alpha': 1.5,\n",
    "               'reg_lambda': 0.01\n",
    "            }\n",
    "lgb_clf = lgb.LGBMClassifier(**lgbm_params)\n",
    "# Fitting the model\n",
    "lgb_clf.fit(X, y)\n",
    "# Predicting the probabilities of the classes using the model\n",
    "pred = lgb_clf.predict_proba(X_test)"
   ]
  },
  {
   "cell_type": "code",
   "execution_count": null,
   "metadata": {
    "execution": {
     "iopub.execute_input": "2023-04-11T05:04:28.628726Z",
     "iopub.status.busy": "2023-04-11T05:04:28.627611Z",
     "iopub.status.idle": "2023-04-11T05:04:28.640928Z",
     "shell.execute_reply": "2023-04-11T05:04:28.639859Z",
     "shell.execute_reply.started": "2023-04-11T05:04:28.628678Z"
    }
   },
   "outputs": [],
   "source": [
    "# Creting DataFrame of the predicted values\n",
    "df = pd.DataFrame(pred[:,1])\n",
    "df.columns = ['target']\n",
    "df"
   ]
  },
  {
   "cell_type": "code",
   "execution_count": null,
   "metadata": {
    "execution": {
     "iopub.execute_input": "2023-04-11T05:04:28.643528Z",
     "iopub.status.busy": "2023-04-11T05:04:28.642411Z",
     "iopub.status.idle": "2023-04-11T05:04:28.663338Z",
     "shell.execute_reply": "2023-04-11T05:04:28.662332Z",
     "shell.execute_reply.started": "2023-04-11T05:04:28.643489Z"
    }
   },
   "outputs": [],
   "source": [
    "# Creating the Data for the submission to competition\n",
    "sub.drop('target',axis=1,inplace=True)\n",
    "sub['target']=df['target'].copy()\n",
    "sub.to_csv('sub_LGBMc.csv', index=False)\n",
    "sub"
   ]
  },
  {
   "cell_type": "markdown",
   "metadata": {},
   "source": [
    "---\n",
    "<a id=\"6\"></a>\n",
    "# <p style=\"padding:10px;background-color:lightblue;border-style: solid;border-color: black;margin:0;color:green;font-family:newtimeroman;font-size:150%;text-align:center;border-radius: 25px 50px;overflow:hidden;font-weight:500\">2. XGBClassifier</p>\n",
    "---"
   ]
  },
  {
   "cell_type": "code",
   "execution_count": null,
   "metadata": {
    "execution": {
     "iopub.execute_input": "2023-04-11T05:04:28.665147Z",
     "iopub.status.busy": "2023-04-11T05:04:28.664669Z",
     "iopub.status.idle": "2023-04-11T05:04:28.671071Z",
     "shell.execute_reply": "2023-04-11T05:04:28.669771Z",
     "shell.execute_reply.started": "2023-04-11T05:04:28.665089Z"
    }
   },
   "outputs": [],
   "source": [
    "from xgboost import XGBClassifier\n",
    "from itertools import product\n",
    "from sklearn.metrics import roc_auc_score\n",
    "from sklearn.model_selection import train_test_split"
   ]
  },
  {
   "cell_type": "markdown",
   "metadata": {},
   "source": [
    "## Hyperparameter Tuning"
   ]
  },
  {
   "cell_type": "code",
   "execution_count": null,
   "metadata": {
    "execution": {
     "iopub.execute_input": "2023-04-11T05:04:28.673399Z",
     "iopub.status.busy": "2023-04-11T05:04:28.672829Z",
     "iopub.status.idle": "2023-04-11T05:04:28.682508Z",
     "shell.execute_reply": "2023-04-11T05:04:28.681183Z",
     "shell.execute_reply.started": "2023-04-11T05:04:28.673357Z"
    }
   },
   "outputs": [],
   "source": [
    "X_train, X_val, y_train, y_val = train_test_split(X, y, test_size=0.33, random_state=42)"
   ]
  },
  {
   "cell_type": "code",
   "execution_count": null,
   "metadata": {
    "execution": {
     "iopub.execute_input": "2023-04-11T05:04:28.684755Z",
     "iopub.status.busy": "2023-04-11T05:04:28.684167Z",
     "iopub.status.idle": "2023-04-11T05:04:42.808355Z",
     "shell.execute_reply": "2023-04-11T05:04:42.807384Z",
     "shell.execute_reply.started": "2023-04-11T05:04:28.684718Z"
    }
   },
   "outputs": [],
   "source": [
    "search_space = {\n",
    "    'n_estimators': [10, 20, 30],\n",
    "    'max_depth': np.linspace(1, 9, num=5).astype('int'),\n",
    "    'learning_rate': np.logspace(-3, 1, num=5),\n",
    "    'reg_alpha': np.linspace(0, 1, num=3),\n",
    "    'reg_lambda': np.linspace(0, 1, num=3)\n",
    "}\n",
    "\n",
    "min_score = 0\n",
    "best_params = {}\n",
    "for val in product(*search_space.values()):\n",
    "    params = {}\n",
    "    for i, param in enumerate(search_space.keys()):\n",
    "        params[param] = val[i]\n",
    "    clf = XGBClassifier(**params).fit(X_train,y_train)\n",
    "    val_pred=clf.predict_proba(X_val)[:,1]\n",
    "    score = roc_auc_score(y_val, val_pred)\n",
    "    if score > min_score:\n",
    "        min_score = score\n",
    "        best_params = params"
   ]
  },
  {
   "cell_type": "code",
   "execution_count": null,
   "metadata": {
    "execution": {
     "iopub.execute_input": "2023-04-11T05:04:42.811156Z",
     "iopub.status.busy": "2023-04-11T05:04:42.810287Z",
     "iopub.status.idle": "2023-04-11T05:04:42.819582Z",
     "shell.execute_reply": "2023-04-11T05:04:42.818553Z",
     "shell.execute_reply.started": "2023-04-11T05:04:42.811091Z"
    }
   },
   "outputs": [],
   "source": [
    "best_params"
   ]
  },
  {
   "cell_type": "code",
   "execution_count": null,
   "metadata": {
    "execution": {
     "iopub.execute_input": "2023-04-11T05:04:42.823596Z",
     "iopub.status.busy": "2023-04-11T05:04:42.821697Z",
     "iopub.status.idle": "2023-04-11T05:04:42.831546Z",
     "shell.execute_reply": "2023-04-11T05:04:42.830581Z",
     "shell.execute_reply.started": "2023-04-11T05:04:42.823563Z"
    }
   },
   "outputs": [],
   "source": [
    "params = {**best_params,\n",
    "          'seed':42,\n",
    "          'eval_metric': 'auc'\n",
    "         }"
   ]
  },
  {
   "cell_type": "code",
   "execution_count": null,
   "metadata": {
    "execution": {
     "iopub.execute_input": "2023-04-11T05:04:42.834424Z",
     "iopub.status.busy": "2023-04-11T05:04:42.832750Z",
     "iopub.status.idle": "2023-04-11T05:04:42.881332Z",
     "shell.execute_reply": "2023-04-11T05:04:42.880568Z",
     "shell.execute_reply.started": "2023-04-11T05:04:42.834381Z"
    }
   },
   "outputs": [],
   "source": [
    "xgb = XGBClassifier(**params)\n",
    "xgb.fit(X, y)\n",
    "\n",
    "# Predicting the probabilities of the classes using the model\n",
    "pred = xgb.predict_proba(X_train)"
   ]
  },
  {
   "cell_type": "code",
   "execution_count": null,
   "metadata": {
    "execution": {
     "iopub.execute_input": "2023-04-11T05:04:42.883821Z",
     "iopub.status.busy": "2023-04-11T05:04:42.882992Z",
     "iopub.status.idle": "2023-04-11T05:04:42.896696Z",
     "shell.execute_reply": "2023-04-11T05:04:42.895782Z",
     "shell.execute_reply.started": "2023-04-11T05:04:42.883779Z"
    }
   },
   "outputs": [],
   "source": [
    "# Creting DataFrame of the predicted values\n",
    "df = pd.DataFrame(pred[:,1])\n",
    "df.columns = ['target']\n",
    "df"
   ]
  },
  {
   "cell_type": "code",
   "execution_count": null,
   "metadata": {
    "execution": {
     "iopub.execute_input": "2023-04-11T05:04:42.899421Z",
     "iopub.status.busy": "2023-04-11T05:04:42.898319Z",
     "iopub.status.idle": "2023-04-11T05:04:42.917174Z",
     "shell.execute_reply": "2023-04-11T05:04:42.916136Z",
     "shell.execute_reply.started": "2023-04-11T05:04:42.899379Z"
    }
   },
   "outputs": [],
   "source": [
    "# Creating the Data for the submission to competition\n",
    "sub.drop('target',axis=1,inplace=True)\n",
    "sub['target']=df['target'].copy()\n",
    "sub.to_csv('sub_XGBc.csv', index=False)\n",
    "sub"
   ]
  },
  {
   "cell_type": "markdown",
   "metadata": {},
   "source": [
    "---\n",
    "<a id=\"7\"></a>\n",
    "# <p style=\"padding:10px;background-color:lightblue;border-style: solid;border-color: black;margin:0;color:green;font-family:newtimeroman;font-size:150%;text-align:center;border-radius: 25px 50px;overflow:hidden;font-weight:500\">3. AdaBoostClassifier</p>\n",
    "---"
   ]
  },
  {
   "cell_type": "code",
   "execution_count": null,
   "metadata": {
    "execution": {
     "iopub.execute_input": "2023-04-11T05:04:42.919416Z",
     "iopub.status.busy": "2023-04-11T05:04:42.918956Z",
     "iopub.status.idle": "2023-04-11T05:04:43.880419Z",
     "shell.execute_reply": "2023-04-11T05:04:43.879089Z",
     "shell.execute_reply.started": "2023-04-11T05:04:42.919372Z"
    }
   },
   "outputs": [],
   "source": [
    "from sklearn.ensemble import AdaBoostClassifier\n",
    "abc = AdaBoostClassifier(n_estimators=400, learning_rate=0.01)\n",
    "model = abc.fit(X, y)\n",
    "\n",
    "pred = model.predict_proba(X_test)\n",
    "pred[:10]"
   ]
  },
  {
   "cell_type": "code",
   "execution_count": null,
   "metadata": {
    "execution": {
     "iopub.execute_input": "2023-04-11T05:04:43.882929Z",
     "iopub.status.busy": "2023-04-11T05:04:43.882010Z",
     "iopub.status.idle": "2023-04-11T05:04:43.897290Z",
     "shell.execute_reply": "2023-04-11T05:04:43.896288Z",
     "shell.execute_reply.started": "2023-04-11T05:04:43.882889Z"
    }
   },
   "outputs": [],
   "source": [
    "# Creting DataFrame of the predicted values\n",
    "df = pd.DataFrame(pred[:,1])\n",
    "df.columns = ['target']\n",
    "df"
   ]
  },
  {
   "cell_type": "code",
   "execution_count": null,
   "metadata": {
    "execution": {
     "iopub.execute_input": "2023-04-11T05:04:43.901275Z",
     "iopub.status.busy": "2023-04-11T05:04:43.900995Z",
     "iopub.status.idle": "2023-04-11T05:04:43.921094Z",
     "shell.execute_reply": "2023-04-11T05:04:43.919824Z",
     "shell.execute_reply.started": "2023-04-11T05:04:43.901248Z"
    }
   },
   "outputs": [],
   "source": [
    "# Creating the Data for the submission to competition\n",
    "sub.drop('target',axis=1,inplace=True)\n",
    "sub['target']=df['target'].copy()\n",
    "sub.to_csv('sub_AdaBC.csv', index=False)\n",
    "sub"
   ]
  },
  {
   "cell_type": "markdown",
   "metadata": {},
   "source": [
    "---\n",
    "<a id=\"8\"></a>\n",
    "# <p style=\"padding:10px;background-color:lightblue;border-style: solid;border-color: black;margin:0;color:green;font-family:newtimeroman;font-size:150%;text-align:center;border-radius: 25px 50px;overflow:hidden;font-weight:500\">4. Random Forest Classifier</p>\n",
    "---"
   ]
  },
  {
   "cell_type": "code",
   "execution_count": null,
   "metadata": {
    "execution": {
     "iopub.execute_input": "2023-04-11T05:04:43.923338Z",
     "iopub.status.busy": "2023-04-11T05:04:43.922834Z",
     "iopub.status.idle": "2023-04-11T05:04:43.929014Z",
     "shell.execute_reply": "2023-04-11T05:04:43.927688Z",
     "shell.execute_reply.started": "2023-04-11T05:04:43.923299Z"
    }
   },
   "outputs": [],
   "source": [
    "from sklearn.ensemble import RandomForestClassifier\n",
    "from sklearn.model_selection import RandomizedSearchCV\n",
    "from sklearn.model_selection import GridSearchCV"
   ]
  },
  {
   "cell_type": "markdown",
   "metadata": {},
   "source": [
    "## Hyperparameter Tunning"
   ]
  },
  {
   "cell_type": "code",
   "execution_count": null,
   "metadata": {
    "_kg_hide-output": true,
    "execution": {
     "iopub.execute_input": "2023-04-11T05:10:47.814303Z",
     "iopub.status.busy": "2023-04-11T05:10:47.813859Z",
     "iopub.status.idle": "2023-04-11T05:12:30.456575Z",
     "shell.execute_reply": "2023-04-11T05:12:30.455180Z",
     "shell.execute_reply.started": "2023-04-11T05:10:47.814265Z"
    },
    "scrolled": true
   },
   "outputs": [],
   "source": [
    "rfc = RandomForestClassifier()\n",
    "random_grid = {'bootstrap': [True],\n",
    "          'max_depth': [25,30],\n",
    "          'max_features': ['log2','auto'],\n",
    "          'min_samples_leaf': [2,3,4],\n",
    "          'min_samples_split': [1,2,3],\n",
    "          'n_estimators': [170,180]\n",
    "         }\n",
    "\n",
    "rf_random = GridSearchCV(estimator = rfc, param_grid = random_grid, cv = 3,n_jobs=-1)\n",
    "rf_random.fit(X, y)"
   ]
  },
  {
   "cell_type": "code",
   "execution_count": null,
   "metadata": {
    "execution": {
     "iopub.execute_input": "2023-04-11T05:12:30.460402Z",
     "iopub.status.busy": "2023-04-11T05:12:30.458868Z",
     "iopub.status.idle": "2023-04-11T05:12:30.469889Z",
     "shell.execute_reply": "2023-04-11T05:12:30.468779Z",
     "shell.execute_reply.started": "2023-04-11T05:12:30.460353Z"
    }
   },
   "outputs": [],
   "source": [
    "rf_random.best_params_"
   ]
  },
  {
   "cell_type": "code",
   "execution_count": null,
   "metadata": {
    "execution": {
     "iopub.execute_input": "2023-04-11T05:05:27.278665Z",
     "iopub.status.busy": "2023-04-11T05:05:27.277880Z",
     "iopub.status.idle": "2023-04-11T05:05:27.287963Z",
     "shell.execute_reply": "2023-04-11T05:05:27.286715Z",
     "shell.execute_reply.started": "2023-04-11T05:05:27.278608Z"
    }
   },
   "outputs": [],
   "source": [
    "rf_random.best_params_"
   ]
  },
  {
   "cell_type": "code",
   "execution_count": null,
   "metadata": {
    "execution": {
     "iopub.execute_input": "2023-04-11T05:12:40.246327Z",
     "iopub.status.busy": "2023-04-11T05:12:40.245267Z",
     "iopub.status.idle": "2023-04-11T05:12:41.314967Z",
     "shell.execute_reply": "2023-04-11T05:12:41.313805Z",
     "shell.execute_reply.started": "2023-04-11T05:12:40.246288Z"
    }
   },
   "outputs": [],
   "source": [
    "rfc = RandomForestClassifier(**rf_random.best_params_,n_jobs=-1)\n",
    "rfc.fit(X,y)\n",
    "pred_rfc = rfc.predict_proba(X_test)\n",
    "pred_rfc[:5]"
   ]
  },
  {
   "cell_type": "code",
   "execution_count": null,
   "metadata": {
    "execution": {
     "iopub.execute_input": "2023-04-11T05:12:43.303591Z",
     "iopub.status.busy": "2023-04-11T05:12:43.302521Z",
     "iopub.status.idle": "2023-04-11T05:12:43.318798Z",
     "shell.execute_reply": "2023-04-11T05:12:43.317775Z",
     "shell.execute_reply.started": "2023-04-11T05:12:43.303552Z"
    }
   },
   "outputs": [],
   "source": [
    "# Creting DataFrame of the predicted values\n",
    "df_rfc = pd.DataFrame(pred_rfc[:,1])\n",
    "df_rfc.columns = ['target']\n",
    "df_rfc"
   ]
  },
  {
   "cell_type": "code",
   "execution_count": null,
   "metadata": {
    "execution": {
     "iopub.execute_input": "2023-04-11T05:13:17.865327Z",
     "iopub.status.busy": "2023-04-11T05:13:17.864940Z",
     "iopub.status.idle": "2023-04-11T05:13:17.884353Z",
     "shell.execute_reply": "2023-04-11T05:13:17.882928Z",
     "shell.execute_reply.started": "2023-04-11T05:13:17.865292Z"
    }
   },
   "outputs": [],
   "source": [
    "# Creating the Data for the submission to competition\n",
    "sub.drop('target',axis=1,inplace=True)\n",
    "sub['target']=df_rfc['target'].copy()\n",
    "sub.to_csv('sub_RFc.csv', index=False)\n",
    "sub"
   ]
  },
  {
   "cell_type": "code",
   "execution_count": null,
   "metadata": {
    "execution": {
     "iopub.execute_input": "2023-04-11T05:13:30.949450Z",
     "iopub.status.busy": "2023-04-11T05:13:30.948309Z",
     "iopub.status.idle": "2023-04-11T05:13:30.957574Z",
     "shell.execute_reply": "2023-04-11T05:13:30.956364Z",
     "shell.execute_reply.started": "2023-04-11T05:13:30.949406Z"
    }
   },
   "outputs": [],
   "source": [
    "sub['target'][275]"
   ]
  },
  {
   "cell_type": "markdown",
   "metadata": {},
   "source": [
    "---\n",
    "<a id=\"9\"></a>\n",
    "# <p style=\"padding:10px;background-color:lightblue;border-style: solid;border-color: black;margin:0;color:green;font-family:newtimeroman;font-size:150%;text-align:center;border-radius: 25px 50px;overflow:hidden;font-weight:500\">5. Logistic Regression</p>\n",
    "---"
   ]
  },
  {
   "cell_type": "code",
   "execution_count": null,
   "metadata": {
    "execution": {
     "iopub.execute_input": "2023-04-11T05:05:28.037038Z",
     "iopub.status.busy": "2023-04-11T05:05:28.035948Z",
     "iopub.status.idle": "2023-04-11T05:05:28.042666Z",
     "shell.execute_reply": "2023-04-11T05:05:28.041503Z",
     "shell.execute_reply.started": "2023-04-11T05:05:28.036999Z"
    }
   },
   "outputs": [],
   "source": [
    "from sklearn.linear_model import LogisticRegression"
   ]
  },
  {
   "cell_type": "markdown",
   "metadata": {},
   "source": [
    "## Hyperparameter tunning"
   ]
  },
  {
   "cell_type": "code",
   "execution_count": null,
   "metadata": {
    "execution": {
     "iopub.execute_input": "2023-04-11T05:05:28.045256Z",
     "iopub.status.busy": "2023-04-11T05:05:28.044223Z",
     "iopub.status.idle": "2023-04-11T05:05:40.119832Z",
     "shell.execute_reply": "2023-04-11T05:05:40.118567Z",
     "shell.execute_reply.started": "2023-04-11T05:05:28.045217Z"
    }
   },
   "outputs": [],
   "source": [
    "from sklearn.model_selection import GridSearchCV\n",
    "\n",
    "# Split data into features and target\n",
    "X = train\n",
    "y = train_df.target\n",
    "\n",
    "# Define the logistic regression model\n",
    "logistic_reg = LogisticRegression()\n",
    "\n",
    "# Define hyperparameters to tune\n",
    "hyperparameters = {\n",
    "    'penalty': ['l1', 'l2'],\n",
    "    'C': [0.01, 0.02, 0.05, 0.1],\n",
    "    'solver': ['liblinear', 'saga','lbfgs'],\n",
    "    'fit_intercept': [True, False],\n",
    "    'max_iter': [1, 5, 10, 50, 100],\n",
    "    'tol': [1e-4, 1e-5]\n",
    "}\n",
    "\n",
    "# Perform grid search to find the best hyperparameters\n",
    "clf = GridSearchCV(logistic_reg, hyperparameters, cv=5)\n",
    "clf.fit(X, y)\n",
    "\n",
    "# Print the best hyperparameters and score\n",
    "print('Best hyperparameters:', clf.best_params_)\n",
    "print('Best score:', clf.best_score_)"
   ]
  },
  {
   "cell_type": "code",
   "execution_count": null,
   "metadata": {
    "execution": {
     "iopub.execute_input": "2023-04-11T05:05:40.122051Z",
     "iopub.status.busy": "2023-04-11T05:05:40.121657Z",
     "iopub.status.idle": "2023-04-11T05:05:40.138197Z",
     "shell.execute_reply": "2023-04-11T05:05:40.137196Z",
     "shell.execute_reply.started": "2023-04-11T05:05:40.122011Z"
    }
   },
   "outputs": [],
   "source": [
    "lr = LogisticRegression(**clf.best_params_)\n",
    "lr.fit(X,y.values)\n",
    "pred = lr.predict_proba(X_test)\n",
    "pred[:5]"
   ]
  },
  {
   "cell_type": "code",
   "execution_count": null,
   "metadata": {
    "execution": {
     "iopub.execute_input": "2023-04-11T05:05:40.140215Z",
     "iopub.status.busy": "2023-04-11T05:05:40.139825Z",
     "iopub.status.idle": "2023-04-11T05:05:40.155398Z",
     "shell.execute_reply": "2023-04-11T05:05:40.154202Z",
     "shell.execute_reply.started": "2023-04-11T05:05:40.140179Z"
    }
   },
   "outputs": [],
   "source": [
    "df = pd.DataFrame(pred[:,1])\n",
    "df.columns = ['target']\n",
    "df"
   ]
  },
  {
   "cell_type": "code",
   "execution_count": null,
   "metadata": {
    "execution": {
     "iopub.execute_input": "2023-04-11T05:05:40.157620Z",
     "iopub.status.busy": "2023-04-11T05:05:40.157047Z",
     "iopub.status.idle": "2023-04-11T05:05:40.175915Z",
     "shell.execute_reply": "2023-04-11T05:05:40.174861Z",
     "shell.execute_reply.started": "2023-04-11T05:05:40.157577Z"
    }
   },
   "outputs": [],
   "source": [
    "sub.drop('target',axis=1,inplace=True)\n",
    "sub['target']=df['target'].copy()\n",
    "sub.to_csv('sub_LogR.csv', index=False)\n",
    "sub"
   ]
  },
  {
   "cell_type": "markdown",
   "metadata": {
    "_kg_hide-input": false
   },
   "source": [
    "---\n",
    "<a id=\"10\"></a>\n",
    "# <p style=\"padding:10px;background-color:lightblue;border-style: solid;border-color: black;margin:0;color:green;font-family:newtimeroman;font-size:150%;text-align:center;border-radius: 25px 50px;overflow:hidden;font-weight:500\">6. Bonus One : Gaussian Naive Bayes</p>\n",
    "---"
   ]
  },
  {
   "cell_type": "code",
   "execution_count": null,
   "metadata": {
    "_kg_hide-input": false,
    "execution": {
     "iopub.execute_input": "2023-04-11T05:05:40.177497Z",
     "iopub.status.busy": "2023-04-11T05:05:40.177208Z",
     "iopub.status.idle": "2023-04-11T05:05:40.183014Z",
     "shell.execute_reply": "2023-04-11T05:05:40.181674Z",
     "shell.execute_reply.started": "2023-04-11T05:05:40.177469Z"
    }
   },
   "outputs": [],
   "source": [
    "from sklearn.naive_bayes import GaussianNB\n",
    "nb = GaussianNB()"
   ]
  },
  {
   "cell_type": "code",
   "execution_count": null,
   "metadata": {
    "_kg_hide-input": false,
    "execution": {
     "iopub.execute_input": "2023-04-11T05:05:40.186022Z",
     "iopub.status.busy": "2023-04-11T05:05:40.185271Z",
     "iopub.status.idle": "2023-04-11T05:05:40.211042Z",
     "shell.execute_reply": "2023-04-11T05:05:40.209576Z",
     "shell.execute_reply.started": "2023-04-11T05:05:40.185982Z"
    }
   },
   "outputs": [],
   "source": [
    "nb.fit(X, y.values)\n",
    "pred = nb.predict_proba(X_test)\n",
    "\n",
    "df = pd.DataFrame(pred[:,1])\n",
    "df.columns = ['target']\n",
    "\n",
    "sub.drop('target',axis=1,inplace=True)\n",
    "sub['target']=df['target'].copy()\n",
    "sub.to_csv('sub_GaussianNB.csv', index=False)\n",
    "sub"
   ]
  },
  {
   "cell_type": "code",
   "execution_count": null,
   "metadata": {},
   "outputs": [],
   "source": []
  },
  {
   "cell_type": "markdown",
   "metadata": {},
   "source": [
    "---\n",
    "<a id=\"11\"></a>\n",
    "# <p style=\"padding:10px;background-color:lightblue;border-style: solid;border-color: black;margin:0;color:green;font-family:newtimeroman;font-size:150%;text-align:center;border-radius: 25px 50px;overflow:hidden;font-weight:500\">Model Feature Importance</p>\n",
    "---"
   ]
  },
  {
   "cell_type": "markdown",
   "metadata": {},
   "source": [
    "**As of now Random forest model done well hence lets take a rfc model for calculating the importance of the features**"
   ]
  },
  {
   "cell_type": "code",
   "execution_count": null,
   "metadata": {
    "execution": {
     "iopub.execute_input": "2023-04-11T05:05:40.213798Z",
     "iopub.status.busy": "2023-04-11T05:05:40.212591Z",
     "iopub.status.idle": "2023-04-11T05:05:40.221755Z",
     "shell.execute_reply": "2023-04-11T05:05:40.220541Z",
     "shell.execute_reply.started": "2023-04-11T05:05:40.213750Z"
    }
   },
   "outputs": [],
   "source": [
    "rfc"
   ]
  },
  {
   "cell_type": "code",
   "execution_count": null,
   "metadata": {
    "execution": {
     "iopub.execute_input": "2023-04-11T05:05:40.224012Z",
     "iopub.status.busy": "2023-04-11T05:05:40.223096Z",
     "iopub.status.idle": "2023-04-11T05:05:40.341944Z",
     "shell.execute_reply": "2023-04-11T05:05:40.340771Z",
     "shell.execute_reply.started": "2023-04-11T05:05:40.223970Z"
    }
   },
   "outputs": [],
   "source": [
    "df_imp = pd.DataFrame(rfc.feature_names_in_, rfc.feature_importances_)\n",
    "df_imp.columns = [\"Feature_Names\"]\n",
    "df_imp[\"Importances\"] = df_imp.index\n",
    "df_imp = df_imp.sort_values(by = \"Importances\", ascending = True)\n",
    "df_imp.index = np.arange(0,len(df_imp))\n",
    "df_imp"
   ]
  },
  {
   "cell_type": "code",
   "execution_count": null,
   "metadata": {
    "execution": {
     "iopub.execute_input": "2023-04-11T05:05:40.343765Z",
     "iopub.status.busy": "2023-04-11T05:05:40.343347Z",
     "iopub.status.idle": "2023-04-11T05:05:40.807315Z",
     "shell.execute_reply": "2023-04-11T05:05:40.806209Z",
     "shell.execute_reply.started": "2023-04-11T05:05:40.343718Z"
    }
   },
   "outputs": [],
   "source": [
    "plt.figure(figsize = (18,10))\n",
    "ax = sns.barplot(x = \"Feature_Names\", y = \"Importances\", data = df_imp)\n",
    "plt.title(\"Feature Importances\", fontsize = 20)\n",
    "for bars in ax.containers:\n",
    "    ax.bar_label(bars)"
   ]
  },
  {
   "cell_type": "markdown",
   "metadata": {},
   "source": [
    "As you can see the added features are playing important role in modelling.\n",
    "\n",
    "Hence feature engineering was crucial here, Once again thanks to [Phong Nguyen for this worderful feature engineering](https://www.kaggle.com/code/phongnguyen1/a-framework-for-tabular-classification-e12-10) "
   ]
  },
  {
   "cell_type": "markdown",
   "metadata": {},
   "source": [
    "---\n",
    "# <h2><span style=\"font-family:Comic Sans MS; color:golden\"><strong>If you like it, pls upvote</strong></span></h2>\n",
    "<blockquote><h2><span style=\"color:navy\">T</span><span style=\"color:blue\">h</span><span style=\"color:green\">a</span><span style=\"color:red\">n</span><span style=\"color:red\">k</span> <span style=\"color:green\">y</span><span style=\"color:blue\">o</span><span style=\"color:navy\">u</span> 🙂</h2></blockquote>"
   ]
  }
 ],
 "metadata": {
  "kernelspec": {
   "display_name": "Python 3 (ipykernel)",
   "language": "python",
   "name": "python3"
  },
  "language_info": {
   "codemirror_mode": {
    "name": "ipython",
    "version": 3
   },
   "file_extension": ".py",
   "mimetype": "text/x-python",
   "name": "python",
   "nbconvert_exporter": "python",
   "pygments_lexer": "ipython3",
   "version": "3.10.13"
  }
 },
 "nbformat": 4,
 "nbformat_minor": 4
}
