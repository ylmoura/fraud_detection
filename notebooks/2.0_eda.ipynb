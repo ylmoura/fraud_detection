{
 "cells": [
  {
   "cell_type": "code",
   "execution_count": 5,
   "id": "d2500c6e",
   "metadata": {
    "ExecuteTime": {
     "end_time": "2023-09-14T00:01:02.367017Z",
     "start_time": "2023-09-14T00:01:02.341014Z"
    }
   },
   "outputs": [],
   "source": [
    "\n",
    "# Basic Tools\n",
    "import numpy as np\n",
    "import pandas as pd\n",
    "from datetime import datetime as dt\n",
    "import sys\n",
    "import re\n",
    "\n",
    "\n",
    "# Visualization Tools\n",
    "from matplotlib import pyplot as plt\n",
    "from matplotlib import rcParams\n",
    "%matplotlib inline\n",
    "import seaborn as sns\n",
    "from PIL import Image\n",
    "from IPython.display import display\n",
    "import sweetviz as sv\n",
    "\n",
    "# import plotly packages \n",
    "import plotly.graph_objects as go\n",
    "import plotly.express as px\n",
    "\n",
    "\n",
    "\n",
    "#!{sys.executable} -m pip install pandas-profiling\n",
    "from pandas_profiling import ProfileReport\n",
    "\n",
    "\n",
    "\n",
    "from sklearn.model_selection import train_test_split\n",
    "\n",
    "\n",
    "\n",
    "import warnings\n",
    "\n",
    "import warnings\n",
    "warnings.filterwarnings( 'ignore' )"
   ]
  },
  {
   "cell_type": "markdown",
   "id": "27a365de",
   "metadata": {},
   "source": [
    "# Configurations"
   ]
  },
  {
   "cell_type": "code",
   "execution_count": 33,
   "id": "c5f9757d",
   "metadata": {
    "ExecuteTime": {
     "end_time": "2023-09-14T00:43:03.734645Z",
     "start_time": "2023-09-14T00:43:03.720642Z"
    }
   },
   "outputs": [],
   "source": [
    "def pandas_settings():\n",
    "    pd.options.display.float_format = '{:,.2f}'.format\n",
    "    pd.set_option('display.expand_frame_repr', False )\n",
    "    pd.set_option('display.max_columns', 35)\n",
    "    pd.set_option('display.max_rows', 50)\n",
    "    \n",
    "\n",
    "pandas_settings()"
   ]
  },
  {
   "cell_type": "code",
   "execution_count": 68,
   "id": "c223a968",
   "metadata": {
    "ExecuteTime": {
     "end_time": "2023-09-14T01:26:06.577614Z",
     "start_time": "2023-09-14T01:25:56.754944Z"
    }
   },
   "outputs": [],
   "source": [
    "data_raw = pd.read_csv('../data/processed/data_processed.csv')"
   ]
  },
  {
   "cell_type": "code",
   "execution_count": 69,
   "id": "accfd59c",
   "metadata": {
    "ExecuteTime": {
     "end_time": "2023-09-14T01:26:06.733580Z",
     "start_time": "2023-09-14T01:26:06.581616Z"
    }
   },
   "outputs": [],
   "source": [
    "data = data_raw.copy()"
   ]
  },
  {
   "cell_type": "code",
   "execution_count": null,
   "id": "d159a7e8",
   "metadata": {},
   "outputs": [],
   "source": []
  },
  {
   "cell_type": "markdown",
   "id": "119ea914",
   "metadata": {},
   "source": [
    "# change type"
   ]
  },
  {
   "cell_type": "code",
   "execution_count": 70,
   "id": "6b5eadd1",
   "metadata": {
    "ExecuteTime": {
     "end_time": "2023-09-14T01:26:07.391603Z",
     "start_time": "2023-09-14T01:26:06.737579Z"
    }
   },
   "outputs": [],
   "source": [
    "map_type = {'PAYMENT': 0,'TRANSFER':1,'CASH_OUT': 2,'DEBIT': 3,'CASH_IN': 4}\n",
    "data['type'] = data['type'].map(map_type)\n",
    "\n",
    "map_type_dest = {'C': 0,'M':1}\n",
    "data['type_dest'] = data['type_dest'].map(map_type_dest)"
   ]
  },
  {
   "cell_type": "markdown",
   "id": "9fa2b431",
   "metadata": {},
   "source": [
    "# Analyse Dataset"
   ]
  },
  {
   "cell_type": "code",
   "execution_count": 71,
   "id": "01bfe2bf",
   "metadata": {
    "ExecuteTime": {
     "end_time": "2023-09-14T01:26:07.407604Z",
     "start_time": "2023-09-14T01:26:07.395613Z"
    }
   },
   "outputs": [],
   "source": [
    "# profile = ProfileReport(data, minimal=True)\n",
    "# profile.to_file(output_file=\"../reports/analyse_fraud.html\")"
   ]
  },
  {
   "cell_type": "code",
   "execution_count": null,
   "id": "93e765f9",
   "metadata": {},
   "outputs": [],
   "source": []
  },
  {
   "cell_type": "code",
   "execution_count": 72,
   "id": "1cdeb407",
   "metadata": {
    "ExecuteTime": {
     "end_time": "2023-09-14T01:26:07.519576Z",
     "start_time": "2023-09-14T01:26:07.503582Z"
    }
   },
   "outputs": [],
   "source": [
    "\n",
    "# my_report = sv.analyze(data)\n",
    "# my_report.show_html() "
   ]
  },
  {
   "cell_type": "code",
   "execution_count": 73,
   "id": "dd4d208a",
   "metadata": {
    "ExecuteTime": {
     "end_time": "2023-09-14T01:26:07.534576Z",
     "start_time": "2023-09-14T01:26:07.522579Z"
    }
   },
   "outputs": [
    {
     "data": {
      "text/plain": [
       "step                  int64\n",
       "type                  int64\n",
       "amount              float64\n",
       "name_orig             int64\n",
       "oldbalance_org      float64\n",
       "newbalance_orig     float64\n",
       "name_dest             int64\n",
       "oldbalance_dest     float64\n",
       "newbalance_dest     float64\n",
       "is_fraud              int64\n",
       "is_flagged_fraud      int64\n",
       "length_name_orig      int64\n",
       "length_name_dest      int64\n",
       "type_dest             int64\n",
       "dia                   int64\n",
       "hora                  int64\n",
       "origin_missing      float64\n",
       "dest_missing        float64\n",
       "dtype: object"
      ]
     },
     "execution_count": 73,
     "metadata": {},
     "output_type": "execute_result"
    }
   ],
   "source": [
    "data.dtypes"
   ]
  },
  {
   "cell_type": "code",
   "execution_count": 74,
   "id": "05e8929f",
   "metadata": {
    "ExecuteTime": {
     "end_time": "2023-09-14T01:26:07.564565Z",
     "start_time": "2023-09-14T01:26:07.538580Z"
    }
   },
   "outputs": [
    {
     "data": {
      "text/html": [
       "<div>\n",
       "<style scoped>\n",
       "    .dataframe tbody tr th:only-of-type {\n",
       "        vertical-align: middle;\n",
       "    }\n",
       "\n",
       "    .dataframe tbody tr th {\n",
       "        vertical-align: top;\n",
       "    }\n",
       "\n",
       "    .dataframe thead th {\n",
       "        text-align: right;\n",
       "    }\n",
       "</style>\n",
       "<table border=\"1\" class=\"dataframe\">\n",
       "  <thead>\n",
       "    <tr style=\"text-align: right;\">\n",
       "      <th></th>\n",
       "      <th>step</th>\n",
       "      <th>type</th>\n",
       "      <th>amount</th>\n",
       "      <th>name_orig</th>\n",
       "      <th>oldbalance_org</th>\n",
       "      <th>newbalance_orig</th>\n",
       "      <th>name_dest</th>\n",
       "      <th>oldbalance_dest</th>\n",
       "      <th>newbalance_dest</th>\n",
       "      <th>is_fraud</th>\n",
       "      <th>is_flagged_fraud</th>\n",
       "      <th>length_name_orig</th>\n",
       "      <th>length_name_dest</th>\n",
       "      <th>type_dest</th>\n",
       "      <th>dia</th>\n",
       "      <th>hora</th>\n",
       "      <th>origin_missing</th>\n",
       "      <th>dest_missing</th>\n",
       "    </tr>\n",
       "  </thead>\n",
       "  <tbody>\n",
       "    <tr>\n",
       "      <th>0</th>\n",
       "      <td>1</td>\n",
       "      <td>0</td>\n",
       "      <td>9,839.64</td>\n",
       "      <td>1231006815</td>\n",
       "      <td>170,136.00</td>\n",
       "      <td>160,296.36</td>\n",
       "      <td>1979787155</td>\n",
       "      <td>0.00</td>\n",
       "      <td>0.00</td>\n",
       "      <td>0</td>\n",
       "      <td>0</td>\n",
       "      <td>11</td>\n",
       "      <td>11</td>\n",
       "      <td>1</td>\n",
       "      <td>1</td>\n",
       "      <td>0</td>\n",
       "      <td>0.00</td>\n",
       "      <td>9,839.64</td>\n",
       "    </tr>\n",
       "    <tr>\n",
       "      <th>1</th>\n",
       "      <td>1</td>\n",
       "      <td>0</td>\n",
       "      <td>1,864.28</td>\n",
       "      <td>1666544295</td>\n",
       "      <td>21,249.00</td>\n",
       "      <td>19,384.72</td>\n",
       "      <td>2044282225</td>\n",
       "      <td>0.00</td>\n",
       "      <td>0.00</td>\n",
       "      <td>0</td>\n",
       "      <td>0</td>\n",
       "      <td>11</td>\n",
       "      <td>11</td>\n",
       "      <td>1</td>\n",
       "      <td>1</td>\n",
       "      <td>0</td>\n",
       "      <td>0.00</td>\n",
       "      <td>1,864.28</td>\n",
       "    </tr>\n",
       "    <tr>\n",
       "      <th>2</th>\n",
       "      <td>1</td>\n",
       "      <td>1</td>\n",
       "      <td>181.00</td>\n",
       "      <td>1305486145</td>\n",
       "      <td>181.00</td>\n",
       "      <td>0.00</td>\n",
       "      <td>553264065</td>\n",
       "      <td>0.00</td>\n",
       "      <td>0.00</td>\n",
       "      <td>1</td>\n",
       "      <td>0</td>\n",
       "      <td>11</td>\n",
       "      <td>10</td>\n",
       "      <td>0</td>\n",
       "      <td>1</td>\n",
       "      <td>0</td>\n",
       "      <td>0.00</td>\n",
       "      <td>181.00</td>\n",
       "    </tr>\n",
       "    <tr>\n",
       "      <th>3</th>\n",
       "      <td>1</td>\n",
       "      <td>2</td>\n",
       "      <td>181.00</td>\n",
       "      <td>840083671</td>\n",
       "      <td>181.00</td>\n",
       "      <td>0.00</td>\n",
       "      <td>38997010</td>\n",
       "      <td>21,182.00</td>\n",
       "      <td>0.00</td>\n",
       "      <td>1</td>\n",
       "      <td>0</td>\n",
       "      <td>10</td>\n",
       "      <td>9</td>\n",
       "      <td>0</td>\n",
       "      <td>1</td>\n",
       "      <td>0</td>\n",
       "      <td>0.00</td>\n",
       "      <td>-21,001.00</td>\n",
       "    </tr>\n",
       "    <tr>\n",
       "      <th>4</th>\n",
       "      <td>1</td>\n",
       "      <td>0</td>\n",
       "      <td>11,668.14</td>\n",
       "      <td>2048537720</td>\n",
       "      <td>41,554.00</td>\n",
       "      <td>29,885.86</td>\n",
       "      <td>1230701703</td>\n",
       "      <td>0.00</td>\n",
       "      <td>0.00</td>\n",
       "      <td>0</td>\n",
       "      <td>0</td>\n",
       "      <td>11</td>\n",
       "      <td>11</td>\n",
       "      <td>1</td>\n",
       "      <td>1</td>\n",
       "      <td>0</td>\n",
       "      <td>0.00</td>\n",
       "      <td>11,668.14</td>\n",
       "    </tr>\n",
       "  </tbody>\n",
       "</table>\n",
       "</div>"
      ],
      "text/plain": [
       "   step  type    amount   name_orig  oldbalance_org  newbalance_orig   name_dest  oldbalance_dest  newbalance_dest  is_fraud  is_flagged_fraud  length_name_orig  length_name_dest  type_dest  dia  hora  origin_missing  dest_missing\n",
       "0     1     0  9,839.64  1231006815      170,136.00       160,296.36  1979787155             0.00             0.00         0                 0                11                11          1    1     0            0.00      9,839.64\n",
       "1     1     0  1,864.28  1666544295       21,249.00        19,384.72  2044282225             0.00             0.00         0                 0                11                11          1    1     0            0.00      1,864.28\n",
       "2     1     1    181.00  1305486145          181.00             0.00   553264065             0.00             0.00         1                 0                11                10          0    1     0            0.00        181.00\n",
       "3     1     2    181.00   840083671          181.00             0.00    38997010        21,182.00             0.00         1                 0                10                 9          0    1     0            0.00    -21,001.00\n",
       "4     1     0 11,668.14  2048537720       41,554.00        29,885.86  1230701703             0.00             0.00         0                 0                11                11          1    1     0            0.00     11,668.14"
      ]
     },
     "execution_count": 74,
     "metadata": {},
     "output_type": "execute_result"
    }
   ],
   "source": [
    "data.head()"
   ]
  },
  {
   "cell_type": "code",
   "execution_count": 75,
   "id": "10654198",
   "metadata": {
    "ExecuteTime": {
     "end_time": "2023-09-14T01:26:08.025485Z",
     "start_time": "2023-09-14T01:26:07.567576Z"
    }
   },
   "outputs": [],
   "source": [
    "teste = data.copy()"
   ]
  },
  {
   "cell_type": "code",
   "execution_count": 76,
   "id": "a57b9ce5",
   "metadata": {
    "ExecuteTime": {
     "end_time": "2023-09-14T01:26:12.843418Z",
     "start_time": "2023-09-14T01:26:08.032490Z"
    }
   },
   "outputs": [],
   "source": [
    "teste['name_orig'] = teste['name_orig'].astype(str)  # Convert integers to strings\n",
    "teste['LENGTH_name_orig'] = teste['name_orig'].str.len()\n"
   ]
  },
  {
   "cell_type": "code",
   "execution_count": 77,
   "id": "fefc14af",
   "metadata": {
    "ExecuteTime": {
     "end_time": "2023-09-14T01:26:17.703635Z",
     "start_time": "2023-09-14T01:26:12.849604Z"
    }
   },
   "outputs": [],
   "source": [
    "teste['name_dest'] = teste['name_dest'].astype(str)  # Convert integers to strings\n",
    "teste['LENGTH_name_dest'] = teste['name_dest'].str.len()\n"
   ]
  },
  {
   "cell_type": "code",
   "execution_count": 78,
   "id": "d5fcce78",
   "metadata": {
    "ExecuteTime": {
     "end_time": "2023-09-14T01:26:17.764653Z",
     "start_time": "2023-09-14T01:26:17.706650Z"
    }
   },
   "outputs": [
    {
     "data": {
      "text/plain": [
       "array([10,  9,  8,  7,  6,  5,  4], dtype=int64)"
      ]
     },
     "execution_count": 78,
     "metadata": {},
     "output_type": "execute_result"
    }
   ],
   "source": [
    "teste['LENGTH_name_orig'].unique()"
   ]
  },
  {
   "cell_type": "code",
   "execution_count": 66,
   "id": "22938b01",
   "metadata": {
    "ExecuteTime": {
     "end_time": "2023-09-14T00:54:31.788384Z",
     "start_time": "2023-09-14T00:54:31.730277Z"
    }
   },
   "outputs": [
    {
     "data": {
      "text/plain": [
       "array([10,  9,  8,  7,  6,  3,  5,  4,  1], dtype=int64)"
      ]
     },
     "execution_count": 66,
     "metadata": {},
     "output_type": "execute_result"
    }
   ],
   "source": [
    "teste['LENGTH_name_dest'].unique()"
   ]
  },
  {
   "cell_type": "code",
   "execution_count": null,
   "id": "13c0880c",
   "metadata": {},
   "outputs": [],
   "source": []
  },
  {
   "cell_type": "code",
   "execution_count": null,
   "id": "304f5512",
   "metadata": {},
   "outputs": [],
   "source": []
  },
  {
   "cell_type": "code",
   "execution_count": null,
   "id": "08ad5b3f",
   "metadata": {},
   "outputs": [],
   "source": []
  },
  {
   "cell_type": "code",
   "execution_count": null,
   "id": "84a01865",
   "metadata": {},
   "outputs": [],
   "source": []
  },
  {
   "cell_type": "code",
   "execution_count": 23,
   "id": "d00b70d8",
   "metadata": {
    "ExecuteTime": {
     "end_time": "2023-09-14T00:02:54.956710Z",
     "start_time": "2023-09-14T00:02:54.933718Z"
    }
   },
   "outputs": [
    {
     "data": {
      "text/plain": [
       "step                  int64\n",
       "type                  int64\n",
       "amount              float64\n",
       "name_orig             int64\n",
       "oldbalance_org      float64\n",
       "newbalance_orig     float64\n",
       "name_dest             int64\n",
       "oldbalance_dest     float64\n",
       "newbalance_dest     float64\n",
       "is_fraud              int64\n",
       "is_flagged_fraud      int64\n",
       "type_dest             int64\n",
       "dia                   int64\n",
       "hora                  int64\n",
       "origin_missing      float64\n",
       "dest_missing        float64\n",
       "dtype: object"
      ]
     },
     "execution_count": 23,
     "metadata": {},
     "output_type": "execute_result"
    }
   ],
   "source": [
    "data.dtypes"
   ]
  },
  {
   "cell_type": "code",
   "execution_count": null,
   "id": "1a98ab53",
   "metadata": {},
   "outputs": [],
   "source": []
  },
  {
   "cell_type": "code",
   "execution_count": 22,
   "id": "d33a0e3b",
   "metadata": {
    "ExecuteTime": {
     "end_time": "2023-09-14T00:02:29.866290Z",
     "start_time": "2023-09-14T00:02:25.879490Z"
    }
   },
   "outputs": [
    {
     "data": {
      "text/html": [
       "<style type=\"text/css\">\n",
       "#T_8eb16_row0_col0, #T_8eb16_row0_col1, #T_8eb16_row0_col9, #T_8eb16_row0_col10, #T_8eb16_row0_col11, #T_8eb16_row0_col12, #T_8eb16_row0_col13, #T_8eb16_row7_col2, #T_8eb16_row7_col3, #T_8eb16_row7_col4, #T_8eb16_row7_col5, #T_8eb16_row7_col6, #T_8eb16_row7_col7, #T_8eb16_row7_col8, #T_8eb16_row7_col14, #T_8eb16_row7_col15 {\n",
       "  background-color: #023858;\n",
       "  color: #f1f1f1;\n",
       "}\n",
       "#T_8eb16_row0_col2, #T_8eb16_row0_col14, #T_8eb16_row1_col15, #T_8eb16_row6_col15 {\n",
       "  background-color: #f5eef6;\n",
       "  color: #000000;\n",
       "}\n",
       "#T_8eb16_row0_col3, #T_8eb16_row0_col6, #T_8eb16_row1_col0, #T_8eb16_row1_col1, #T_8eb16_row1_col2, #T_8eb16_row1_col7, #T_8eb16_row1_col8, #T_8eb16_row1_col9, #T_8eb16_row1_col10, #T_8eb16_row1_col11, #T_8eb16_row1_col12, #T_8eb16_row1_col13, #T_8eb16_row1_col14, #T_8eb16_row2_col0, #T_8eb16_row2_col1, #T_8eb16_row2_col9, #T_8eb16_row2_col10, #T_8eb16_row2_col11, #T_8eb16_row2_col12, #T_8eb16_row2_col13, #T_8eb16_row3_col0, #T_8eb16_row3_col1, #T_8eb16_row3_col2, #T_8eb16_row3_col3, #T_8eb16_row3_col4, #T_8eb16_row3_col5, #T_8eb16_row3_col6, #T_8eb16_row3_col7, #T_8eb16_row3_col8, #T_8eb16_row3_col9, #T_8eb16_row3_col10, #T_8eb16_row3_col11, #T_8eb16_row3_col12, #T_8eb16_row3_col13, #T_8eb16_row3_col14, #T_8eb16_row3_col15, #T_8eb16_row4_col0, #T_8eb16_row4_col1, #T_8eb16_row4_col2, #T_8eb16_row4_col4, #T_8eb16_row4_col5, #T_8eb16_row4_col7, #T_8eb16_row4_col8, #T_8eb16_row4_col9, #T_8eb16_row4_col10, #T_8eb16_row4_col11, #T_8eb16_row4_col12, #T_8eb16_row4_col13, #T_8eb16_row4_col14, #T_8eb16_row5_col0, #T_8eb16_row5_col1, #T_8eb16_row5_col2, #T_8eb16_row5_col4, #T_8eb16_row5_col5, #T_8eb16_row5_col7, #T_8eb16_row5_col8, #T_8eb16_row5_col9, #T_8eb16_row5_col10, #T_8eb16_row5_col11, #T_8eb16_row5_col12, #T_8eb16_row5_col13, #T_8eb16_row5_col14, #T_8eb16_row6_col0, #T_8eb16_row6_col1, #T_8eb16_row6_col2, #T_8eb16_row6_col4, #T_8eb16_row6_col5, #T_8eb16_row6_col7, #T_8eb16_row6_col8, #T_8eb16_row6_col9, #T_8eb16_row6_col10, #T_8eb16_row6_col11, #T_8eb16_row6_col12, #T_8eb16_row6_col13, #T_8eb16_row6_col14, #T_8eb16_row7_col0, #T_8eb16_row7_col1, #T_8eb16_row7_col9, #T_8eb16_row7_col10, #T_8eb16_row7_col11, #T_8eb16_row7_col12, #T_8eb16_row7_col13 {\n",
       "  background-color: #fff7fb;\n",
       "  color: #000000;\n",
       "}\n",
       "#T_8eb16_row0_col4 {\n",
       "  background-color: #efe9f3;\n",
       "  color: #000000;\n",
       "}\n",
       "#T_8eb16_row0_col5 {\n",
       "  background-color: #ece7f2;\n",
       "  color: #000000;\n",
       "}\n",
       "#T_8eb16_row0_col7, #T_8eb16_row0_col8, #T_8eb16_row1_col4, #T_8eb16_row1_col5 {\n",
       "  background-color: #fdf5fa;\n",
       "  color: #000000;\n",
       "}\n",
       "#T_8eb16_row0_col15 {\n",
       "  background-color: #f1ebf4;\n",
       "  color: #000000;\n",
       "}\n",
       "#T_8eb16_row1_col3 {\n",
       "  background-color: #73a9cf;\n",
       "  color: #f1f1f1;\n",
       "}\n",
       "#T_8eb16_row1_col6, #T_8eb16_row5_col3, #T_8eb16_row5_col6 {\n",
       "  background-color: #75a9cf;\n",
       "  color: #f1f1f1;\n",
       "}\n",
       "#T_8eb16_row2_col2, #T_8eb16_row2_col14 {\n",
       "  background-color: #fef6fb;\n",
       "  color: #000000;\n",
       "}\n",
       "#T_8eb16_row2_col3, #T_8eb16_row2_col6 {\n",
       "  background-color: #c4cbe3;\n",
       "  color: #000000;\n",
       "}\n",
       "#T_8eb16_row2_col4 {\n",
       "  background-color: #f8f1f8;\n",
       "  color: #000000;\n",
       "}\n",
       "#T_8eb16_row2_col5 {\n",
       "  background-color: #f6eff7;\n",
       "  color: #000000;\n",
       "}\n",
       "#T_8eb16_row2_col7, #T_8eb16_row2_col8 {\n",
       "  background-color: #fef6fa;\n",
       "  color: #000000;\n",
       "}\n",
       "#T_8eb16_row2_col15 {\n",
       "  background-color: #f4eef6;\n",
       "  color: #000000;\n",
       "}\n",
       "#T_8eb16_row4_col3 {\n",
       "  background-color: #d0d1e6;\n",
       "  color: #000000;\n",
       "}\n",
       "#T_8eb16_row4_col6 {\n",
       "  background-color: #d1d2e6;\n",
       "  color: #000000;\n",
       "}\n",
       "#T_8eb16_row4_col15, #T_8eb16_row5_col15 {\n",
       "  background-color: #f5eff6;\n",
       "  color: #000000;\n",
       "}\n",
       "#T_8eb16_row6_col3, #T_8eb16_row6_col6 {\n",
       "  background-color: #056faf;\n",
       "  color: #f1f1f1;\n",
       "}\n",
       "</style>\n",
       "<table id=\"T_8eb16\">\n",
       "  <thead>\n",
       "    <tr>\n",
       "      <th class=\"blank level0\" >&nbsp;</th>\n",
       "      <th id=\"T_8eb16_level0_col0\" class=\"col_heading level0 col0\" >step</th>\n",
       "      <th id=\"T_8eb16_level0_col1\" class=\"col_heading level0 col1\" >type</th>\n",
       "      <th id=\"T_8eb16_level0_col2\" class=\"col_heading level0 col2\" >amount</th>\n",
       "      <th id=\"T_8eb16_level0_col3\" class=\"col_heading level0 col3\" >name_orig</th>\n",
       "      <th id=\"T_8eb16_level0_col4\" class=\"col_heading level0 col4\" >oldbalance_org</th>\n",
       "      <th id=\"T_8eb16_level0_col5\" class=\"col_heading level0 col5\" >newbalance_orig</th>\n",
       "      <th id=\"T_8eb16_level0_col6\" class=\"col_heading level0 col6\" >name_dest</th>\n",
       "      <th id=\"T_8eb16_level0_col7\" class=\"col_heading level0 col7\" >oldbalance_dest</th>\n",
       "      <th id=\"T_8eb16_level0_col8\" class=\"col_heading level0 col8\" >newbalance_dest</th>\n",
       "      <th id=\"T_8eb16_level0_col9\" class=\"col_heading level0 col9\" >is_fraud</th>\n",
       "      <th id=\"T_8eb16_level0_col10\" class=\"col_heading level0 col10\" >is_flagged_fraud</th>\n",
       "      <th id=\"T_8eb16_level0_col11\" class=\"col_heading level0 col11\" >type_dest</th>\n",
       "      <th id=\"T_8eb16_level0_col12\" class=\"col_heading level0 col12\" >dia</th>\n",
       "      <th id=\"T_8eb16_level0_col13\" class=\"col_heading level0 col13\" >hora</th>\n",
       "      <th id=\"T_8eb16_level0_col14\" class=\"col_heading level0 col14\" >origin_missing</th>\n",
       "      <th id=\"T_8eb16_level0_col15\" class=\"col_heading level0 col15\" >dest_missing</th>\n",
       "    </tr>\n",
       "  </thead>\n",
       "  <tbody>\n",
       "    <tr>\n",
       "      <th id=\"T_8eb16_level0_row0\" class=\"row_heading level0 row0\" >count</th>\n",
       "      <td id=\"T_8eb16_row0_col0\" class=\"data row0 col0\" >6362620.000000</td>\n",
       "      <td id=\"T_8eb16_row0_col1\" class=\"data row0 col1\" >6362620.000000</td>\n",
       "      <td id=\"T_8eb16_row0_col2\" class=\"data row0 col2\" >6362620.000000</td>\n",
       "      <td id=\"T_8eb16_row0_col3\" class=\"data row0 col3\" >6362620.000000</td>\n",
       "      <td id=\"T_8eb16_row0_col4\" class=\"data row0 col4\" >6362620.000000</td>\n",
       "      <td id=\"T_8eb16_row0_col5\" class=\"data row0 col5\" >6362620.000000</td>\n",
       "      <td id=\"T_8eb16_row0_col6\" class=\"data row0 col6\" >6362620.000000</td>\n",
       "      <td id=\"T_8eb16_row0_col7\" class=\"data row0 col7\" >6362620.000000</td>\n",
       "      <td id=\"T_8eb16_row0_col8\" class=\"data row0 col8\" >6362620.000000</td>\n",
       "      <td id=\"T_8eb16_row0_col9\" class=\"data row0 col9\" >6362620.000000</td>\n",
       "      <td id=\"T_8eb16_row0_col10\" class=\"data row0 col10\" >6362620.000000</td>\n",
       "      <td id=\"T_8eb16_row0_col11\" class=\"data row0 col11\" >6362620.000000</td>\n",
       "      <td id=\"T_8eb16_row0_col12\" class=\"data row0 col12\" >6362620.000000</td>\n",
       "      <td id=\"T_8eb16_row0_col13\" class=\"data row0 col13\" >6362620.000000</td>\n",
       "      <td id=\"T_8eb16_row0_col14\" class=\"data row0 col14\" >6362620.000000</td>\n",
       "      <td id=\"T_8eb16_row0_col15\" class=\"data row0 col15\" >6362620.000000</td>\n",
       "    </tr>\n",
       "    <tr>\n",
       "      <th id=\"T_8eb16_level0_row1\" class=\"row_heading level0 row1\" >mean</th>\n",
       "      <td id=\"T_8eb16_row1_col0\" class=\"data row1 col0\" >243.397246</td>\n",
       "      <td id=\"T_8eb16_row1_col1\" class=\"data row1 col1\" >1.686309</td>\n",
       "      <td id=\"T_8eb16_row1_col2\" class=\"data row1 col2\" >179861.903549</td>\n",
       "      <td id=\"T_8eb16_row1_col3\" class=\"data row1 col3\" >1073759036.726486</td>\n",
       "      <td id=\"T_8eb16_row1_col4\" class=\"data row1 col4\" >833883.104074</td>\n",
       "      <td id=\"T_8eb16_row1_col5\" class=\"data row1 col5\" >855113.668579</td>\n",
       "      <td id=\"T_8eb16_row1_col6\" class=\"data row1 col6\" >1073432221.407277</td>\n",
       "      <td id=\"T_8eb16_row1_col7\" class=\"data row1 col7\" >1100701.666520</td>\n",
       "      <td id=\"T_8eb16_row1_col8\" class=\"data row1 col8\" >1224996.398202</td>\n",
       "      <td id=\"T_8eb16_row1_col9\" class=\"data row1 col9\" >0.001291</td>\n",
       "      <td id=\"T_8eb16_row1_col10\" class=\"data row1 col10\" >0.000003</td>\n",
       "      <td id=\"T_8eb16_row1_col11\" class=\"data row1 col11\" >0.338146</td>\n",
       "      <td id=\"T_8eb16_row1_col12\" class=\"data row1 col12\" >10.491907</td>\n",
       "      <td id=\"T_8eb16_row1_col13\" class=\"data row1 col13\" >14.591483</td>\n",
       "      <td id=\"T_8eb16_row1_col14\" class=\"data row1 col14\" >201092.468053</td>\n",
       "      <td id=\"T_8eb16_row1_col15\" class=\"data row1 col15\" >304156.635231</td>\n",
       "    </tr>\n",
       "    <tr>\n",
       "      <th id=\"T_8eb16_level0_row2\" class=\"row_heading level0 row2\" >std</th>\n",
       "      <td id=\"T_8eb16_row2_col0\" class=\"data row2 col0\" >142.331971</td>\n",
       "      <td id=\"T_8eb16_row2_col1\" class=\"data row2 col1\" >1.491355</td>\n",
       "      <td id=\"T_8eb16_row2_col2\" class=\"data row2 col2\" >603858.231463</td>\n",
       "      <td id=\"T_8eb16_row2_col3\" class=\"data row2 col3\" >620078300.686025</td>\n",
       "      <td id=\"T_8eb16_row2_col4\" class=\"data row2 col4\" >2888242.673038</td>\n",
       "      <td id=\"T_8eb16_row2_col5\" class=\"data row2 col5\" >2924048.502954</td>\n",
       "      <td id=\"T_8eb16_row2_col6\" class=\"data row2 col6\" >620492725.396405</td>\n",
       "      <td id=\"T_8eb16_row2_col7\" class=\"data row2 col7\" >3399180.112994</td>\n",
       "      <td id=\"T_8eb16_row2_col8\" class=\"data row2 col8\" >3674128.942120</td>\n",
       "      <td id=\"T_8eb16_row2_col9\" class=\"data row2 col9\" >0.035905</td>\n",
       "      <td id=\"T_8eb16_row2_col10\" class=\"data row2 col10\" >0.001586</td>\n",
       "      <td id=\"T_8eb16_row2_col11\" class=\"data row2 col11\" >0.473079</td>\n",
       "      <td id=\"T_8eb16_row2_col12\" class=\"data row2 col12\" >5.921812</td>\n",
       "      <td id=\"T_8eb16_row2_col13\" class=\"data row2 col13\" >4.100153</td>\n",
       "      <td id=\"T_8eb16_row2_col14\" class=\"data row2 col14\" >606650.460140</td>\n",
       "      <td id=\"T_8eb16_row2_col15\" class=\"data row2 col15\" >1362380.920588</td>\n",
       "    </tr>\n",
       "    <tr>\n",
       "      <th id=\"T_8eb16_level0_row3\" class=\"row_heading level0 row3\" >min</th>\n",
       "      <td id=\"T_8eb16_row3_col0\" class=\"data row3 col0\" >1.000000</td>\n",
       "      <td id=\"T_8eb16_row3_col1\" class=\"data row3 col1\" >0.000000</td>\n",
       "      <td id=\"T_8eb16_row3_col2\" class=\"data row3 col2\" >0.000000</td>\n",
       "      <td id=\"T_8eb16_row3_col3\" class=\"data row3 col3\" >1338.000000</td>\n",
       "      <td id=\"T_8eb16_row3_col4\" class=\"data row3 col4\" >0.000000</td>\n",
       "      <td id=\"T_8eb16_row3_col5\" class=\"data row3 col5\" >0.000000</td>\n",
       "      <td id=\"T_8eb16_row3_col6\" class=\"data row3 col6\" >2.000000</td>\n",
       "      <td id=\"T_8eb16_row3_col7\" class=\"data row3 col7\" >0.000000</td>\n",
       "      <td id=\"T_8eb16_row3_col8\" class=\"data row3 col8\" >0.000000</td>\n",
       "      <td id=\"T_8eb16_row3_col9\" class=\"data row3 col9\" >0.000000</td>\n",
       "      <td id=\"T_8eb16_row3_col10\" class=\"data row3 col10\" >0.000000</td>\n",
       "      <td id=\"T_8eb16_row3_col11\" class=\"data row3 col11\" >0.000000</td>\n",
       "      <td id=\"T_8eb16_row3_col12\" class=\"data row3 col12\" >1.000000</td>\n",
       "      <td id=\"T_8eb16_row3_col13\" class=\"data row3 col13\" >0.000000</td>\n",
       "      <td id=\"T_8eb16_row3_col14\" class=\"data row3 col14\" >-0.010000</td>\n",
       "      <td id=\"T_8eb16_row3_col15\" class=\"data row3 col15\" >-12930418.440000</td>\n",
       "    </tr>\n",
       "    <tr>\n",
       "      <th id=\"T_8eb16_level0_row4\" class=\"row_heading level0 row4\" >25%</th>\n",
       "      <td id=\"T_8eb16_row4_col0\" class=\"data row4 col0\" >156.000000</td>\n",
       "      <td id=\"T_8eb16_row4_col1\" class=\"data row4 col1\" >0.000000</td>\n",
       "      <td id=\"T_8eb16_row4_col2\" class=\"data row4 col2\" >13389.570000</td>\n",
       "      <td id=\"T_8eb16_row4_col3\" class=\"data row4 col3\" >537017706.000000</td>\n",
       "      <td id=\"T_8eb16_row4_col4\" class=\"data row4 col4\" >0.000000</td>\n",
       "      <td id=\"T_8eb16_row4_col5\" class=\"data row4 col5\" >0.000000</td>\n",
       "      <td id=\"T_8eb16_row4_col6\" class=\"data row4 col6\" >536091873.000000</td>\n",
       "      <td id=\"T_8eb16_row4_col7\" class=\"data row4 col7\" >0.000000</td>\n",
       "      <td id=\"T_8eb16_row4_col8\" class=\"data row4 col8\" >0.000000</td>\n",
       "      <td id=\"T_8eb16_row4_col9\" class=\"data row4 col9\" >0.000000</td>\n",
       "      <td id=\"T_8eb16_row4_col10\" class=\"data row4 col10\" >0.000000</td>\n",
       "      <td id=\"T_8eb16_row4_col11\" class=\"data row4 col11\" >0.000000</td>\n",
       "      <td id=\"T_8eb16_row4_col12\" class=\"data row4 col12\" >7.000000</td>\n",
       "      <td id=\"T_8eb16_row4_col13\" class=\"data row4 col13\" >11.000000</td>\n",
       "      <td id=\"T_8eb16_row4_col14\" class=\"data row4 col14\" >2954.230000</td>\n",
       "      <td id=\"T_8eb16_row4_col15\" class=\"data row4 col15\" >3815.940000</td>\n",
       "    </tr>\n",
       "    <tr>\n",
       "      <th id=\"T_8eb16_level0_row5\" class=\"row_heading level0 row5\" >50%</th>\n",
       "      <td id=\"T_8eb16_row5_col0\" class=\"data row5 col0\" >239.000000</td>\n",
       "      <td id=\"T_8eb16_row5_col1\" class=\"data row5 col1\" >2.000000</td>\n",
       "      <td id=\"T_8eb16_row5_col2\" class=\"data row5 col2\" >74871.940000</td>\n",
       "      <td id=\"T_8eb16_row5_col3\" class=\"data row5 col3\" >1073741161.000000</td>\n",
       "      <td id=\"T_8eb16_row5_col4\" class=\"data row5 col4\" >14208.000000</td>\n",
       "      <td id=\"T_8eb16_row5_col5\" class=\"data row5 col5\" >0.000000</td>\n",
       "      <td id=\"T_8eb16_row5_col6\" class=\"data row5 col6\" >1072209263.000000</td>\n",
       "      <td id=\"T_8eb16_row5_col7\" class=\"data row5 col7\" >132705.665000</td>\n",
       "      <td id=\"T_8eb16_row5_col8\" class=\"data row5 col8\" >214661.440000</td>\n",
       "      <td id=\"T_8eb16_row5_col9\" class=\"data row5 col9\" >0.000000</td>\n",
       "      <td id=\"T_8eb16_row5_col10\" class=\"data row5 col10\" >0.000000</td>\n",
       "      <td id=\"T_8eb16_row5_col11\" class=\"data row5 col11\" >0.000000</td>\n",
       "      <td id=\"T_8eb16_row5_col12\" class=\"data row5 col12\" >10.000000</td>\n",
       "      <td id=\"T_8eb16_row5_col13\" class=\"data row5 col13\" >15.000000</td>\n",
       "      <td id=\"T_8eb16_row5_col14\" class=\"data row5 col14\" >68677.255000</td>\n",
       "      <td id=\"T_8eb16_row5_col15\" class=\"data row5 col15\" >27748.415000</td>\n",
       "    </tr>\n",
       "    <tr>\n",
       "      <th id=\"T_8eb16_level0_row6\" class=\"row_heading level0 row6\" >75%</th>\n",
       "      <td id=\"T_8eb16_row6_col0\" class=\"data row6 col0\" >335.000000</td>\n",
       "      <td id=\"T_8eb16_row6_col1\" class=\"data row6 col1\" >2.000000</td>\n",
       "      <td id=\"T_8eb16_row6_col2\" class=\"data row6 col2\" >208721.477500</td>\n",
       "      <td id=\"T_8eb16_row6_col3\" class=\"data row6 col3\" >1610813625.750000</td>\n",
       "      <td id=\"T_8eb16_row6_col4\" class=\"data row6 col4\" >107315.175000</td>\n",
       "      <td id=\"T_8eb16_row6_col5\" class=\"data row6 col5\" >144258.410000</td>\n",
       "      <td id=\"T_8eb16_row6_col6\" class=\"data row6 col6\" >1611937607.000000</td>\n",
       "      <td id=\"T_8eb16_row6_col7\" class=\"data row6 col7\" >943036.707500</td>\n",
       "      <td id=\"T_8eb16_row6_col8\" class=\"data row6 col8\" >1111909.250000</td>\n",
       "      <td id=\"T_8eb16_row6_col9\" class=\"data row6 col9\" >0.000000</td>\n",
       "      <td id=\"T_8eb16_row6_col10\" class=\"data row6 col10\" >0.000000</td>\n",
       "      <td id=\"T_8eb16_row6_col11\" class=\"data row6 col11\" >1.000000</td>\n",
       "      <td id=\"T_8eb16_row6_col12\" class=\"data row6 col12\" >14.000000</td>\n",
       "      <td id=\"T_8eb16_row6_col13\" class=\"data row6 col13\" >18.000000</td>\n",
       "      <td id=\"T_8eb16_row6_col14\" class=\"data row6 col14\" >249641.087500</td>\n",
       "      <td id=\"T_8eb16_row6_col15\" class=\"data row6 col15\" >308391.692500</td>\n",
       "    </tr>\n",
       "    <tr>\n",
       "      <th id=\"T_8eb16_level0_row7\" class=\"row_heading level0 row7\" >max</th>\n",
       "      <td id=\"T_8eb16_row7_col0\" class=\"data row7 col0\" >743.000000</td>\n",
       "      <td id=\"T_8eb16_row7_col1\" class=\"data row7 col1\" >4.000000</td>\n",
       "      <td id=\"T_8eb16_row7_col2\" class=\"data row7 col2\" >92445516.640000</td>\n",
       "      <td id=\"T_8eb16_row7_col3\" class=\"data row7 col3\" >2147483560.000000</td>\n",
       "      <td id=\"T_8eb16_row7_col4\" class=\"data row7 col4\" >59585040.370000</td>\n",
       "      <td id=\"T_8eb16_row7_col5\" class=\"data row7 col5\" >49585040.370000</td>\n",
       "      <td id=\"T_8eb16_row7_col6\" class=\"data row7 col6\" >2147483045.000000</td>\n",
       "      <td id=\"T_8eb16_row7_col7\" class=\"data row7 col7\" >356015889.350000</td>\n",
       "      <td id=\"T_8eb16_row7_col8\" class=\"data row7 col8\" >356179278.920000</td>\n",
       "      <td id=\"T_8eb16_row7_col9\" class=\"data row7 col9\" >1.000000</td>\n",
       "      <td id=\"T_8eb16_row7_col10\" class=\"data row7 col10\" >1.000000</td>\n",
       "      <td id=\"T_8eb16_row7_col11\" class=\"data row7 col11\" >1.000000</td>\n",
       "      <td id=\"T_8eb16_row7_col12\" class=\"data row7 col12\" >31.000000</td>\n",
       "      <td id=\"T_8eb16_row7_col13\" class=\"data row7 col13\" >23.000000</td>\n",
       "      <td id=\"T_8eb16_row7_col14\" class=\"data row7 col14\" >92445516.640000</td>\n",
       "      <td id=\"T_8eb16_row7_col15\" class=\"data row7 col15\" >184891033.280000</td>\n",
       "    </tr>\n",
       "  </tbody>\n",
       "</table>\n"
      ],
      "text/plain": [
       "<pandas.io.formats.style.Styler at 0x2933b2cf760>"
      ]
     },
     "execution_count": 22,
     "metadata": {},
     "output_type": "execute_result"
    }
   ],
   "source": [
    "desc = data.describe()\n",
    "desc = desc.style.background_gradient()\n",
    "desc"
   ]
  },
  {
   "cell_type": "code",
   "execution_count": null,
   "id": "5ea7d88c",
   "metadata": {},
   "outputs": [],
   "source": []
  },
  {
   "cell_type": "code",
   "execution_count": null,
   "id": "9b880d13",
   "metadata": {},
   "outputs": [],
   "source": []
  },
  {
   "cell_type": "code",
   "execution_count": null,
   "id": "c4fd6d17",
   "metadata": {},
   "outputs": [],
   "source": []
  },
  {
   "cell_type": "code",
   "execution_count": 250,
   "id": "7b5631e6",
   "metadata": {
    "ExecuteTime": {
     "end_time": "2023-09-12T17:59:05.002139Z",
     "start_time": "2023-09-12T17:59:04.989146Z"
    }
   },
   "outputs": [],
   "source": [
    "# def remove_1_letra(df, column_name):\n",
    "#     df[column_name] = df[column_name].str[1:]\n",
    "\n",
    "\n"
   ]
  },
  {
   "cell_type": "code",
   "execution_count": 251,
   "id": "ba705d92",
   "metadata": {
    "ExecuteTime": {
     "end_time": "2023-09-12T17:59:08.937119Z",
     "start_time": "2023-09-12T17:59:05.007140Z"
    }
   },
   "outputs": [],
   "source": [
    "# remove_1_letra(data, 'name_orig')\n",
    "# remove_1_letra(data, 'name_dest')"
   ]
  },
  {
   "cell_type": "code",
   "execution_count": null,
   "id": "497275f8",
   "metadata": {},
   "outputs": [],
   "source": []
  },
  {
   "cell_type": "code",
   "execution_count": 253,
   "id": "5ee52ad1",
   "metadata": {
    "ExecuteTime": {
     "end_time": "2023-09-12T17:59:31.803331Z",
     "start_time": "2023-09-12T17:59:31.781338Z"
    }
   },
   "outputs": [
    {
     "data": {
      "text/html": [
       "<div>\n",
       "<style scoped>\n",
       "    .dataframe tbody tr th:only-of-type {\n",
       "        vertical-align: middle;\n",
       "    }\n",
       "\n",
       "    .dataframe tbody tr th {\n",
       "        vertical-align: top;\n",
       "    }\n",
       "\n",
       "    .dataframe thead th {\n",
       "        text-align: right;\n",
       "    }\n",
       "</style>\n",
       "<table border=\"1\" class=\"dataframe\">\n",
       "  <thead>\n",
       "    <tr style=\"text-align: right;\">\n",
       "      <th></th>\n",
       "      <th>step</th>\n",
       "      <th>type</th>\n",
       "      <th>amount</th>\n",
       "      <th>name_orig</th>\n",
       "      <th>oldbalance_org</th>\n",
       "      <th>newbalance_orig</th>\n",
       "      <th>name_dest</th>\n",
       "      <th>oldbalance_dest</th>\n",
       "      <th>newbalance_dest</th>\n",
       "      <th>is_fraud</th>\n",
       "      <th>is_flagged_fraud</th>\n",
       "    </tr>\n",
       "  </thead>\n",
       "  <tbody>\n",
       "    <tr>\n",
       "      <th>0</th>\n",
       "      <td>1</td>\n",
       "      <td>0</td>\n",
       "      <td>9,839.64</td>\n",
       "      <td>1231006815</td>\n",
       "      <td>170,136.00</td>\n",
       "      <td>160,296.36</td>\n",
       "      <td>1979787155</td>\n",
       "      <td>0.00</td>\n",
       "      <td>0.00</td>\n",
       "      <td>0</td>\n",
       "      <td>0</td>\n",
       "    </tr>\n",
       "    <tr>\n",
       "      <th>1</th>\n",
       "      <td>1</td>\n",
       "      <td>0</td>\n",
       "      <td>1,864.28</td>\n",
       "      <td>1666544295</td>\n",
       "      <td>21,249.00</td>\n",
       "      <td>19,384.72</td>\n",
       "      <td>2044282225</td>\n",
       "      <td>0.00</td>\n",
       "      <td>0.00</td>\n",
       "      <td>0</td>\n",
       "      <td>0</td>\n",
       "    </tr>\n",
       "    <tr>\n",
       "      <th>2</th>\n",
       "      <td>1</td>\n",
       "      <td>1</td>\n",
       "      <td>181.00</td>\n",
       "      <td>1305486145</td>\n",
       "      <td>181.00</td>\n",
       "      <td>0.00</td>\n",
       "      <td>553264065</td>\n",
       "      <td>0.00</td>\n",
       "      <td>0.00</td>\n",
       "      <td>1</td>\n",
       "      <td>0</td>\n",
       "    </tr>\n",
       "    <tr>\n",
       "      <th>3</th>\n",
       "      <td>1</td>\n",
       "      <td>2</td>\n",
       "      <td>181.00</td>\n",
       "      <td>840083671</td>\n",
       "      <td>181.00</td>\n",
       "      <td>0.00</td>\n",
       "      <td>38997010</td>\n",
       "      <td>21,182.00</td>\n",
       "      <td>0.00</td>\n",
       "      <td>1</td>\n",
       "      <td>0</td>\n",
       "    </tr>\n",
       "    <tr>\n",
       "      <th>4</th>\n",
       "      <td>1</td>\n",
       "      <td>0</td>\n",
       "      <td>11,668.14</td>\n",
       "      <td>2048537720</td>\n",
       "      <td>41,554.00</td>\n",
       "      <td>29,885.86</td>\n",
       "      <td>1230701703</td>\n",
       "      <td>0.00</td>\n",
       "      <td>0.00</td>\n",
       "      <td>0</td>\n",
       "      <td>0</td>\n",
       "    </tr>\n",
       "  </tbody>\n",
       "</table>\n",
       "</div>"
      ],
      "text/plain": [
       "   step  type    amount   name_orig  oldbalance_org  newbalance_orig   name_dest  oldbalance_dest  newbalance_dest  is_fraud  is_flagged_fraud\n",
       "0     1     0  9,839.64  1231006815      170,136.00       160,296.36  1979787155             0.00             0.00         0                 0\n",
       "1     1     0  1,864.28  1666544295       21,249.00        19,384.72  2044282225             0.00             0.00         0                 0\n",
       "2     1     1    181.00  1305486145          181.00             0.00   553264065             0.00             0.00         1                 0\n",
       "3     1     2    181.00   840083671          181.00             0.00    38997010        21,182.00             0.00         1                 0\n",
       "4     1     0 11,668.14  2048537720       41,554.00        29,885.86  1230701703             0.00             0.00         0                 0"
      ]
     },
     "execution_count": 253,
     "metadata": {},
     "output_type": "execute_result"
    }
   ],
   "source": [
    "data.head()"
   ]
  },
  {
   "cell_type": "code",
   "execution_count": null,
   "id": "12a53dc6",
   "metadata": {},
   "outputs": [],
   "source": [
    "# s.str.slice(start=0, stop=5, step=3)\n",
    "# https://pandas.pydata.org/docs/reference/api/pandas.Series.str.slice.html\n",
    "# mostrar valores unico da inicial\n",
    "data['name_orig'].str[0:1].unique()"
   ]
  },
  {
   "cell_type": "code",
   "execution_count": null,
   "id": "ffd4991e",
   "metadata": {},
   "outputs": [],
   "source": []
  },
  {
   "cell_type": "code",
   "execution_count": null,
   "id": "45071980",
   "metadata": {},
   "outputs": [],
   "source": []
  },
  {
   "cell_type": "code",
   "execution_count": 24,
   "id": "8894dacc",
   "metadata": {
    "ExecuteTime": {
     "end_time": "2023-09-14T00:04:31.416509Z",
     "start_time": "2023-09-14T00:04:31.325506Z"
    }
   },
   "outputs": [
    {
     "data": {
      "text/html": [
       "<div>\n",
       "<style scoped>\n",
       "    .dataframe tbody tr th:only-of-type {\n",
       "        vertical-align: middle;\n",
       "    }\n",
       "\n",
       "    .dataframe tbody tr th {\n",
       "        vertical-align: top;\n",
       "    }\n",
       "\n",
       "    .dataframe thead th {\n",
       "        text-align: right;\n",
       "    }\n",
       "</style>\n",
       "<table border=\"1\" class=\"dataframe\">\n",
       "  <thead>\n",
       "    <tr style=\"text-align: right;\">\n",
       "      <th></th>\n",
       "      <th>step</th>\n",
       "      <th>type</th>\n",
       "      <th>amount</th>\n",
       "      <th>name_orig</th>\n",
       "      <th>oldbalance_org</th>\n",
       "      <th>newbalance_orig</th>\n",
       "      <th>name_dest</th>\n",
       "      <th>oldbalance_dest</th>\n",
       "      <th>newbalance_dest</th>\n",
       "      <th>is_fraud</th>\n",
       "      <th>is_flagged_fraud</th>\n",
       "      <th>type_dest</th>\n",
       "      <th>dia</th>\n",
       "      <th>hora</th>\n",
       "      <th>origin_missing</th>\n",
       "      <th>dest_missing</th>\n",
       "    </tr>\n",
       "  </thead>\n",
       "  <tbody>\n",
       "    <tr>\n",
       "      <th>1673434</th>\n",
       "      <td>158</td>\n",
       "      <td>0</td>\n",
       "      <td>0.06</td>\n",
       "      <td>1836545979</td>\n",
       "      <td>0.00</td>\n",
       "      <td>0.00</td>\n",
       "      <td>711077292</td>\n",
       "      <td>0.00</td>\n",
       "      <td>0.00</td>\n",
       "      <td>0</td>\n",
       "      <td>0</td>\n",
       "      <td>1</td>\n",
       "      <td>7</td>\n",
       "      <td>13</td>\n",
       "      <td>0.06</td>\n",
       "      <td>0.06</td>\n",
       "    </tr>\n",
       "    <tr>\n",
       "      <th>2359430</th>\n",
       "      <td>190</td>\n",
       "      <td>0</td>\n",
       "      <td>0.02</td>\n",
       "      <td>344473063</td>\n",
       "      <td>33,192.97</td>\n",
       "      <td>33,192.95</td>\n",
       "      <td>646412904</td>\n",
       "      <td>0.00</td>\n",
       "      <td>0.00</td>\n",
       "      <td>0</td>\n",
       "      <td>0</td>\n",
       "      <td>1</td>\n",
       "      <td>8</td>\n",
       "      <td>21</td>\n",
       "      <td>0.00</td>\n",
       "      <td>0.02</td>\n",
       "    </tr>\n",
       "    <tr>\n",
       "      <th>2359953</th>\n",
       "      <td>190</td>\n",
       "      <td>0</td>\n",
       "      <td>0.07</td>\n",
       "      <td>1814144923</td>\n",
       "      <td>11,788.13</td>\n",
       "      <td>11,788.06</td>\n",
       "      <td>28752575</td>\n",
       "      <td>0.00</td>\n",
       "      <td>0.00</td>\n",
       "      <td>0</td>\n",
       "      <td>0</td>\n",
       "      <td>1</td>\n",
       "      <td>8</td>\n",
       "      <td>21</td>\n",
       "      <td>0.00</td>\n",
       "      <td>0.07</td>\n",
       "    </tr>\n",
       "    <tr>\n",
       "      <th>2736447</th>\n",
       "      <td>212</td>\n",
       "      <td>2</td>\n",
       "      <td>0.00</td>\n",
       "      <td>1510987794</td>\n",
       "      <td>0.00</td>\n",
       "      <td>0.00</td>\n",
       "      <td>1696624817</td>\n",
       "      <td>0.00</td>\n",
       "      <td>0.00</td>\n",
       "      <td>1</td>\n",
       "      <td>0</td>\n",
       "      <td>0</td>\n",
       "      <td>9</td>\n",
       "      <td>19</td>\n",
       "      <td>0.00</td>\n",
       "      <td>0.00</td>\n",
       "    </tr>\n",
       "    <tr>\n",
       "      <th>2799608</th>\n",
       "      <td>217</td>\n",
       "      <td>0</td>\n",
       "      <td>0.03</td>\n",
       "      <td>807337950</td>\n",
       "      <td>205,196.00</td>\n",
       "      <td>205,195.97</td>\n",
       "      <td>1035971031</td>\n",
       "      <td>0.00</td>\n",
       "      <td>0.00</td>\n",
       "      <td>0</td>\n",
       "      <td>0</td>\n",
       "      <td>1</td>\n",
       "      <td>10</td>\n",
       "      <td>0</td>\n",
       "      <td>0.00</td>\n",
       "      <td>0.03</td>\n",
       "    </tr>\n",
       "    <tr>\n",
       "      <th>3027913</th>\n",
       "      <td>233</td>\n",
       "      <td>0</td>\n",
       "      <td>0.02</td>\n",
       "      <td>1371059152</td>\n",
       "      <td>0.00</td>\n",
       "      <td>0.00</td>\n",
       "      <td>1506318282</td>\n",
       "      <td>0.00</td>\n",
       "      <td>0.00</td>\n",
       "      <td>0</td>\n",
       "      <td>0</td>\n",
       "      <td>1</td>\n",
       "      <td>10</td>\n",
       "      <td>16</td>\n",
       "      <td>0.02</td>\n",
       "      <td>0.02</td>\n",
       "    </tr>\n",
       "    <tr>\n",
       "      <th>3247298</th>\n",
       "      <td>250</td>\n",
       "      <td>2</td>\n",
       "      <td>0.00</td>\n",
       "      <td>521393327</td>\n",
       "      <td>0.00</td>\n",
       "      <td>0.00</td>\n",
       "      <td>480398193</td>\n",
       "      <td>0.00</td>\n",
       "      <td>0.00</td>\n",
       "      <td>1</td>\n",
       "      <td>0</td>\n",
       "      <td>0</td>\n",
       "      <td>11</td>\n",
       "      <td>9</td>\n",
       "      <td>0.00</td>\n",
       "      <td>0.00</td>\n",
       "    </tr>\n",
       "    <tr>\n",
       "      <th>3760289</th>\n",
       "      <td>279</td>\n",
       "      <td>2</td>\n",
       "      <td>0.00</td>\n",
       "      <td>539112012</td>\n",
       "      <td>0.00</td>\n",
       "      <td>0.00</td>\n",
       "      <td>1106468520</td>\n",
       "      <td>538,547.63</td>\n",
       "      <td>538,547.63</td>\n",
       "      <td>1</td>\n",
       "      <td>0</td>\n",
       "      <td>0</td>\n",
       "      <td>12</td>\n",
       "      <td>14</td>\n",
       "      <td>0.00</td>\n",
       "      <td>0.00</td>\n",
       "    </tr>\n",
       "    <tr>\n",
       "      <th>4077303</th>\n",
       "      <td>301</td>\n",
       "      <td>0</td>\n",
       "      <td>0.02</td>\n",
       "      <td>421116740</td>\n",
       "      <td>0.00</td>\n",
       "      <td>0.00</td>\n",
       "      <td>410442874</td>\n",
       "      <td>0.00</td>\n",
       "      <td>0.00</td>\n",
       "      <td>0</td>\n",
       "      <td>0</td>\n",
       "      <td>1</td>\n",
       "      <td>13</td>\n",
       "      <td>12</td>\n",
       "      <td>0.02</td>\n",
       "      <td>0.02</td>\n",
       "    </tr>\n",
       "    <tr>\n",
       "      <th>4736180</th>\n",
       "      <td>332</td>\n",
       "      <td>2</td>\n",
       "      <td>0.01</td>\n",
       "      <td>1496340830</td>\n",
       "      <td>0.00</td>\n",
       "      <td>0.00</td>\n",
       "      <td>554562342</td>\n",
       "      <td>262,792.79</td>\n",
       "      <td>262,792.80</td>\n",
       "      <td>0</td>\n",
       "      <td>0</td>\n",
       "      <td>0</td>\n",
       "      <td>14</td>\n",
       "      <td>19</td>\n",
       "      <td>0.01</td>\n",
       "      <td>0.02</td>\n",
       "    </tr>\n",
       "    <tr>\n",
       "      <th>5175520</th>\n",
       "      <td>359</td>\n",
       "      <td>4</td>\n",
       "      <td>0.04</td>\n",
       "      <td>255705071</td>\n",
       "      <td>2,265,671.14</td>\n",
       "      <td>2,265,671.18</td>\n",
       "      <td>1260814124</td>\n",
       "      <td>2,668,374.72</td>\n",
       "      <td>2,668,374.68</td>\n",
       "      <td>0</td>\n",
       "      <td>0</td>\n",
       "      <td>0</td>\n",
       "      <td>15</td>\n",
       "      <td>22</td>\n",
       "      <td>0.08</td>\n",
       "      <td>0.00</td>\n",
       "    </tr>\n",
       "    <tr>\n",
       "      <th>5288273</th>\n",
       "      <td>373</td>\n",
       "      <td>0</td>\n",
       "      <td>0.09</td>\n",
       "      <td>1086227169</td>\n",
       "      <td>0.00</td>\n",
       "      <td>0.00</td>\n",
       "      <td>1630176123</td>\n",
       "      <td>0.00</td>\n",
       "      <td>0.00</td>\n",
       "      <td>0</td>\n",
       "      <td>0</td>\n",
       "      <td>1</td>\n",
       "      <td>16</td>\n",
       "      <td>12</td>\n",
       "      <td>0.09</td>\n",
       "      <td>0.09</td>\n",
       "    </tr>\n",
       "    <tr>\n",
       "      <th>5563714</th>\n",
       "      <td>387</td>\n",
       "      <td>2</td>\n",
       "      <td>0.00</td>\n",
       "      <td>1294472700</td>\n",
       "      <td>0.00</td>\n",
       "      <td>0.00</td>\n",
       "      <td>1325541393</td>\n",
       "      <td>7,970,766.57</td>\n",
       "      <td>7,970,766.57</td>\n",
       "      <td>1</td>\n",
       "      <td>0</td>\n",
       "      <td>0</td>\n",
       "      <td>17</td>\n",
       "      <td>2</td>\n",
       "      <td>0.00</td>\n",
       "      <td>0.00</td>\n",
       "    </tr>\n",
       "    <tr>\n",
       "      <th>5996408</th>\n",
       "      <td>425</td>\n",
       "      <td>2</td>\n",
       "      <td>0.00</td>\n",
       "      <td>832555372</td>\n",
       "      <td>0.00</td>\n",
       "      <td>0.00</td>\n",
       "      <td>1462759334</td>\n",
       "      <td>76,759.90</td>\n",
       "      <td>76,759.90</td>\n",
       "      <td>1</td>\n",
       "      <td>0</td>\n",
       "      <td>0</td>\n",
       "      <td>18</td>\n",
       "      <td>16</td>\n",
       "      <td>0.00</td>\n",
       "      <td>0.00</td>\n",
       "    </tr>\n",
       "    <tr>\n",
       "      <th>5996410</th>\n",
       "      <td>425</td>\n",
       "      <td>2</td>\n",
       "      <td>0.00</td>\n",
       "      <td>69493310</td>\n",
       "      <td>0.00</td>\n",
       "      <td>0.00</td>\n",
       "      <td>719711728</td>\n",
       "      <td>2,921,531.34</td>\n",
       "      <td>2,921,531.34</td>\n",
       "      <td>1</td>\n",
       "      <td>0</td>\n",
       "      <td>0</td>\n",
       "      <td>18</td>\n",
       "      <td>16</td>\n",
       "      <td>0.00</td>\n",
       "      <td>0.00</td>\n",
       "    </tr>\n",
       "    <tr>\n",
       "      <th>6002642</th>\n",
       "      <td>428</td>\n",
       "      <td>0</td>\n",
       "      <td>0.03</td>\n",
       "      <td>1909969960</td>\n",
       "      <td>0.00</td>\n",
       "      <td>0.00</td>\n",
       "      <td>157485741</td>\n",
       "      <td>0.00</td>\n",
       "      <td>0.00</td>\n",
       "      <td>0</td>\n",
       "      <td>0</td>\n",
       "      <td>1</td>\n",
       "      <td>18</td>\n",
       "      <td>19</td>\n",
       "      <td>0.03</td>\n",
       "      <td>0.03</td>\n",
       "    </tr>\n",
       "    <tr>\n",
       "      <th>6168500</th>\n",
       "      <td>554</td>\n",
       "      <td>2</td>\n",
       "      <td>0.00</td>\n",
       "      <td>10965156</td>\n",
       "      <td>0.00</td>\n",
       "      <td>0.00</td>\n",
       "      <td>1493336195</td>\n",
       "      <td>230,289.66</td>\n",
       "      <td>230,289.66</td>\n",
       "      <td>1</td>\n",
       "      <td>0</td>\n",
       "      <td>0</td>\n",
       "      <td>24</td>\n",
       "      <td>1</td>\n",
       "      <td>0.00</td>\n",
       "      <td>0.00</td>\n",
       "    </tr>\n",
       "    <tr>\n",
       "      <th>6205440</th>\n",
       "      <td>586</td>\n",
       "      <td>2</td>\n",
       "      <td>0.00</td>\n",
       "      <td>1303719003</td>\n",
       "      <td>0.00</td>\n",
       "      <td>0.00</td>\n",
       "      <td>900608348</td>\n",
       "      <td>1,328,472.86</td>\n",
       "      <td>1,328,472.86</td>\n",
       "      <td>1</td>\n",
       "      <td>0</td>\n",
       "      <td>0</td>\n",
       "      <td>25</td>\n",
       "      <td>9</td>\n",
       "      <td>0.00</td>\n",
       "      <td>0.00</td>\n",
       "    </tr>\n",
       "    <tr>\n",
       "      <th>6266414</th>\n",
       "      <td>617</td>\n",
       "      <td>2</td>\n",
       "      <td>0.00</td>\n",
       "      <td>1971175979</td>\n",
       "      <td>0.00</td>\n",
       "      <td>0.00</td>\n",
       "      <td>1352345416</td>\n",
       "      <td>0.00</td>\n",
       "      <td>0.00</td>\n",
       "      <td>1</td>\n",
       "      <td>0</td>\n",
       "      <td>0</td>\n",
       "      <td>26</td>\n",
       "      <td>16</td>\n",
       "      <td>0.00</td>\n",
       "      <td>0.00</td>\n",
       "    </tr>\n",
       "    <tr>\n",
       "      <th>6281483</th>\n",
       "      <td>646</td>\n",
       "      <td>2</td>\n",
       "      <td>0.00</td>\n",
       "      <td>2060908932</td>\n",
       "      <td>0.00</td>\n",
       "      <td>0.00</td>\n",
       "      <td>1587892888</td>\n",
       "      <td>0.00</td>\n",
       "      <td>0.00</td>\n",
       "      <td>1</td>\n",
       "      <td>0</td>\n",
       "      <td>0</td>\n",
       "      <td>27</td>\n",
       "      <td>21</td>\n",
       "      <td>0.00</td>\n",
       "      <td>0.00</td>\n",
       "    </tr>\n",
       "    <tr>\n",
       "      <th>6281485</th>\n",
       "      <td>646</td>\n",
       "      <td>2</td>\n",
       "      <td>0.00</td>\n",
       "      <td>1997645312</td>\n",
       "      <td>0.00</td>\n",
       "      <td>0.00</td>\n",
       "      <td>601248796</td>\n",
       "      <td>0.00</td>\n",
       "      <td>0.00</td>\n",
       "      <td>1</td>\n",
       "      <td>0</td>\n",
       "      <td>0</td>\n",
       "      <td>27</td>\n",
       "      <td>21</td>\n",
       "      <td>0.00</td>\n",
       "      <td>0.00</td>\n",
       "    </tr>\n",
       "    <tr>\n",
       "      <th>6296015</th>\n",
       "      <td>671</td>\n",
       "      <td>2</td>\n",
       "      <td>0.00</td>\n",
       "      <td>1960007029</td>\n",
       "      <td>0.00</td>\n",
       "      <td>0.00</td>\n",
       "      <td>459118517</td>\n",
       "      <td>27,938.72</td>\n",
       "      <td>27,938.72</td>\n",
       "      <td>1</td>\n",
       "      <td>0</td>\n",
       "      <td>0</td>\n",
       "      <td>28</td>\n",
       "      <td>22</td>\n",
       "      <td>0.00</td>\n",
       "      <td>0.00</td>\n",
       "    </tr>\n",
       "    <tr>\n",
       "      <th>6351226</th>\n",
       "      <td>702</td>\n",
       "      <td>2</td>\n",
       "      <td>0.00</td>\n",
       "      <td>1461113533</td>\n",
       "      <td>0.00</td>\n",
       "      <td>0.00</td>\n",
       "      <td>1382150537</td>\n",
       "      <td>107,777.02</td>\n",
       "      <td>107,777.02</td>\n",
       "      <td>1</td>\n",
       "      <td>0</td>\n",
       "      <td>0</td>\n",
       "      <td>30</td>\n",
       "      <td>5</td>\n",
       "      <td>0.00</td>\n",
       "      <td>0.00</td>\n",
       "    </tr>\n",
       "    <tr>\n",
       "      <th>6362461</th>\n",
       "      <td>730</td>\n",
       "      <td>2</td>\n",
       "      <td>0.00</td>\n",
       "      <td>729003789</td>\n",
       "      <td>0.00</td>\n",
       "      <td>0.00</td>\n",
       "      <td>1388096959</td>\n",
       "      <td>1,008,609.53</td>\n",
       "      <td>1,008,609.53</td>\n",
       "      <td>1</td>\n",
       "      <td>0</td>\n",
       "      <td>0</td>\n",
       "      <td>31</td>\n",
       "      <td>9</td>\n",
       "      <td>0.00</td>\n",
       "      <td>0.00</td>\n",
       "    </tr>\n",
       "    <tr>\n",
       "      <th>6362463</th>\n",
       "      <td>730</td>\n",
       "      <td>2</td>\n",
       "      <td>0.00</td>\n",
       "      <td>2088151490</td>\n",
       "      <td>0.00</td>\n",
       "      <td>0.00</td>\n",
       "      <td>1156763710</td>\n",
       "      <td>0.00</td>\n",
       "      <td>0.00</td>\n",
       "      <td>1</td>\n",
       "      <td>0</td>\n",
       "      <td>0</td>\n",
       "      <td>31</td>\n",
       "      <td>9</td>\n",
       "      <td>0.00</td>\n",
       "      <td>0.00</td>\n",
       "    </tr>\n",
       "    <tr>\n",
       "      <th>6362585</th>\n",
       "      <td>741</td>\n",
       "      <td>2</td>\n",
       "      <td>0.00</td>\n",
       "      <td>312737633</td>\n",
       "      <td>0.00</td>\n",
       "      <td>0.00</td>\n",
       "      <td>1400061387</td>\n",
       "      <td>267,522.87</td>\n",
       "      <td>267,522.87</td>\n",
       "      <td>1</td>\n",
       "      <td>0</td>\n",
       "      <td>0</td>\n",
       "      <td>31</td>\n",
       "      <td>20</td>\n",
       "      <td>0.00</td>\n",
       "      <td>0.00</td>\n",
       "    </tr>\n",
       "  </tbody>\n",
       "</table>\n",
       "</div>"
      ],
      "text/plain": [
       "         step  type  amount   name_orig  oldbalance_org  newbalance_orig   name_dest  oldbalance_dest  newbalance_dest  is_fraud  is_flagged_fraud  type_dest  dia  hora  origin_missing  dest_missing\n",
       "1673434   158     0    0.06  1836545979            0.00             0.00   711077292             0.00             0.00         0                 0          1    7    13            0.06          0.06\n",
       "2359430   190     0    0.02   344473063       33,192.97        33,192.95   646412904             0.00             0.00         0                 0          1    8    21            0.00          0.02\n",
       "2359953   190     0    0.07  1814144923       11,788.13        11,788.06    28752575             0.00             0.00         0                 0          1    8    21            0.00          0.07\n",
       "2736447   212     2    0.00  1510987794            0.00             0.00  1696624817             0.00             0.00         1                 0          0    9    19            0.00          0.00\n",
       "2799608   217     0    0.03   807337950      205,196.00       205,195.97  1035971031             0.00             0.00         0                 0          1   10     0            0.00          0.03\n",
       "3027913   233     0    0.02  1371059152            0.00             0.00  1506318282             0.00             0.00         0                 0          1   10    16            0.02          0.02\n",
       "3247298   250     2    0.00   521393327            0.00             0.00   480398193             0.00             0.00         1                 0          0   11     9            0.00          0.00\n",
       "3760289   279     2    0.00   539112012            0.00             0.00  1106468520       538,547.63       538,547.63         1                 0          0   12    14            0.00          0.00\n",
       "4077303   301     0    0.02   421116740            0.00             0.00   410442874             0.00             0.00         0                 0          1   13    12            0.02          0.02\n",
       "4736180   332     2    0.01  1496340830            0.00             0.00   554562342       262,792.79       262,792.80         0                 0          0   14    19            0.01          0.02\n",
       "5175520   359     4    0.04   255705071    2,265,671.14     2,265,671.18  1260814124     2,668,374.72     2,668,374.68         0                 0          0   15    22            0.08          0.00\n",
       "5288273   373     0    0.09  1086227169            0.00             0.00  1630176123             0.00             0.00         0                 0          1   16    12            0.09          0.09\n",
       "5563714   387     2    0.00  1294472700            0.00             0.00  1325541393     7,970,766.57     7,970,766.57         1                 0          0   17     2            0.00          0.00\n",
       "5996408   425     2    0.00   832555372            0.00             0.00  1462759334        76,759.90        76,759.90         1                 0          0   18    16            0.00          0.00\n",
       "5996410   425     2    0.00    69493310            0.00             0.00   719711728     2,921,531.34     2,921,531.34         1                 0          0   18    16            0.00          0.00\n",
       "6002642   428     0    0.03  1909969960            0.00             0.00   157485741             0.00             0.00         0                 0          1   18    19            0.03          0.03\n",
       "6168500   554     2    0.00    10965156            0.00             0.00  1493336195       230,289.66       230,289.66         1                 0          0   24     1            0.00          0.00\n",
       "6205440   586     2    0.00  1303719003            0.00             0.00   900608348     1,328,472.86     1,328,472.86         1                 0          0   25     9            0.00          0.00\n",
       "6266414   617     2    0.00  1971175979            0.00             0.00  1352345416             0.00             0.00         1                 0          0   26    16            0.00          0.00\n",
       "6281483   646     2    0.00  2060908932            0.00             0.00  1587892888             0.00             0.00         1                 0          0   27    21            0.00          0.00\n",
       "6281485   646     2    0.00  1997645312            0.00             0.00   601248796             0.00             0.00         1                 0          0   27    21            0.00          0.00\n",
       "6296015   671     2    0.00  1960007029            0.00             0.00   459118517        27,938.72        27,938.72         1                 0          0   28    22            0.00          0.00\n",
       "6351226   702     2    0.00  1461113533            0.00             0.00  1382150537       107,777.02       107,777.02         1                 0          0   30     5            0.00          0.00\n",
       "6362461   730     2    0.00   729003789            0.00             0.00  1388096959     1,008,609.53     1,008,609.53         1                 0          0   31     9            0.00          0.00\n",
       "6362463   730     2    0.00  2088151490            0.00             0.00  1156763710             0.00             0.00         1                 0          0   31     9            0.00          0.00\n",
       "6362585   741     2    0.00   312737633            0.00             0.00  1400061387       267,522.87       267,522.87         1                 0          0   31    20            0.00          0.00"
      ]
     },
     "execution_count": 24,
     "metadata": {},
     "output_type": "execute_result"
    }
   ],
   "source": [
    "data[data['amount'] < 0.10]"
   ]
  },
  {
   "cell_type": "code",
   "execution_count": 25,
   "id": "85e9a54e",
   "metadata": {
    "ExecuteTime": {
     "end_time": "2023-09-14T00:04:41.832715Z",
     "start_time": "2023-09-14T00:04:41.027992Z"
    }
   },
   "outputs": [
    {
     "data": {
      "text/html": [
       "<div>\n",
       "<style scoped>\n",
       "    .dataframe tbody tr th:only-of-type {\n",
       "        vertical-align: middle;\n",
       "    }\n",
       "\n",
       "    .dataframe tbody tr th {\n",
       "        vertical-align: top;\n",
       "    }\n",
       "\n",
       "    .dataframe thead th {\n",
       "        text-align: right;\n",
       "    }\n",
       "</style>\n",
       "<table border=\"1\" class=\"dataframe\">\n",
       "  <thead>\n",
       "    <tr style=\"text-align: right;\">\n",
       "      <th></th>\n",
       "      <th>step</th>\n",
       "      <th>amount</th>\n",
       "      <th>name_orig</th>\n",
       "      <th>oldbalance_org</th>\n",
       "      <th>newbalance_orig</th>\n",
       "      <th>name_dest</th>\n",
       "      <th>oldbalance_dest</th>\n",
       "      <th>newbalance_dest</th>\n",
       "      <th>is_fraud</th>\n",
       "      <th>is_flagged_fraud</th>\n",
       "      <th>type_dest</th>\n",
       "      <th>dia</th>\n",
       "      <th>hora</th>\n",
       "      <th>origin_missing</th>\n",
       "      <th>dest_missing</th>\n",
       "    </tr>\n",
       "    <tr>\n",
       "      <th>type</th>\n",
       "      <th></th>\n",
       "      <th></th>\n",
       "      <th></th>\n",
       "      <th></th>\n",
       "      <th></th>\n",
       "      <th></th>\n",
       "      <th></th>\n",
       "      <th></th>\n",
       "      <th></th>\n",
       "      <th></th>\n",
       "      <th></th>\n",
       "      <th></th>\n",
       "      <th></th>\n",
       "      <th></th>\n",
       "      <th></th>\n",
       "    </tr>\n",
       "  </thead>\n",
       "  <tbody>\n",
       "    <tr>\n",
       "      <th>0</th>\n",
       "      <td>525778430</td>\n",
       "      <td>28,093,371,138.37</td>\n",
       "      <td>2310624622185633</td>\n",
       "      <td>146,768,163,438.80</td>\n",
       "      <td>133,043,913,105.10</td>\n",
       "      <td>2311089737590313</td>\n",
       "      <td>0.00</td>\n",
       "      <td>0.00</td>\n",
       "      <td>0</td>\n",
       "      <td>0</td>\n",
       "      <td>2151495</td>\n",
       "      <td>22638850</td>\n",
       "      <td>31930415</td>\n",
       "      <td>14,369,120,804.67</td>\n",
       "      <td>28,093,371,138.37</td>\n",
       "    </tr>\n",
       "    <tr>\n",
       "      <th>1</th>\n",
       "      <td>131445897</td>\n",
       "      <td>485,291,987,263.17</td>\n",
       "      <td>572336289873047</td>\n",
       "      <td>29,012,552,760.76</td>\n",
       "      <td>5,482,651,300.55</td>\n",
       "      <td>571848518364852</td>\n",
       "      <td>1,368,300,197,339.45</td>\n",
       "      <td>1,894,260,653,500.24</td>\n",
       "      <td>4097</td>\n",
       "      <td>16</td>\n",
       "      <td>0</td>\n",
       "      <td>5665995</td>\n",
       "      <td>7718924</td>\n",
       "      <td>461,762,085,802.96</td>\n",
       "      <td>1,011,252,443,423.96</td>\n",
       "    </tr>\n",
       "    <tr>\n",
       "      <th>2</th>\n",
       "      <td>539015395</td>\n",
       "      <td>394,412,995,224.49</td>\n",
       "      <td>2402668649768071</td>\n",
       "      <td>102,978,263,227.81</td>\n",
       "      <td>39,098,506,249.34</td>\n",
       "      <td>2402155977193687</td>\n",
       "      <td>3,351,233,273,577.65</td>\n",
       "      <td>3,784,342,078,061.13</td>\n",
       "      <td>4116</td>\n",
       "      <td>0</td>\n",
       "      <td>0</td>\n",
       "      <td>23254938</td>\n",
       "      <td>32359383</td>\n",
       "      <td>330,533,238,246.02</td>\n",
       "      <td>827,521,799,707.97</td>\n",
       "    </tr>\n",
       "    <tr>\n",
       "      <th>3</th>\n",
       "      <td>10293386</td>\n",
       "      <td>227,199,221.28</td>\n",
       "      <td>44327573802431</td>\n",
       "      <td>2,844,196,471.80</td>\n",
       "      <td>2,699,777,564.12</td>\n",
       "      <td>44383454980716</td>\n",
       "      <td>61,863,601,275.22</td>\n",
       "      <td>62,686,759,687.09</td>\n",
       "      <td>0</td>\n",
       "      <td>0</td>\n",
       "      <td>0</td>\n",
       "      <td>443129</td>\n",
       "      <td>611226</td>\n",
       "      <td>82,780,313.60</td>\n",
       "      <td>1,050,357,633.15</td>\n",
       "    </tr>\n",
       "    <tr>\n",
       "      <th>4</th>\n",
       "      <td>342111075</td>\n",
       "      <td>236,367,391,912.46</td>\n",
       "      <td>1501963586627493</td>\n",
       "      <td>5,024,078,139,747.24</td>\n",
       "      <td>5,260,438,481,752.39</td>\n",
       "      <td>1500363632440802</td>\n",
       "      <td>2,221,949,365,238.93</td>\n",
       "      <td>2,052,897,091,879.10</td>\n",
       "      <td>0</td>\n",
       "      <td>0</td>\n",
       "      <td>0</td>\n",
       "      <td>14753104</td>\n",
       "      <td>20220111</td>\n",
       "      <td>472,727,733,917.61</td>\n",
       "      <td>67,315,118,552.63</td>\n",
       "    </tr>\n",
       "  </tbody>\n",
       "</table>\n",
       "</div>"
      ],
      "text/plain": [
       "           step             amount         name_orig       oldbalance_org      newbalance_orig         name_dest      oldbalance_dest      newbalance_dest  is_fraud  is_flagged_fraud  type_dest       dia      hora     origin_missing         dest_missing\n",
       "type                                                                                                                                                                                                                                                         \n",
       "0     525778430  28,093,371,138.37  2310624622185633   146,768,163,438.80   133,043,913,105.10  2311089737590313                 0.00                 0.00         0                 0    2151495  22638850  31930415  14,369,120,804.67    28,093,371,138.37\n",
       "1     131445897 485,291,987,263.17   572336289873047    29,012,552,760.76     5,482,651,300.55   571848518364852 1,368,300,197,339.45 1,894,260,653,500.24      4097                16          0   5665995   7718924 461,762,085,802.96 1,011,252,443,423.96\n",
       "2     539015395 394,412,995,224.49  2402668649768071   102,978,263,227.81    39,098,506,249.34  2402155977193687 3,351,233,273,577.65 3,784,342,078,061.13      4116                 0          0  23254938  32359383 330,533,238,246.02   827,521,799,707.97\n",
       "3      10293386     227,199,221.28    44327573802431     2,844,196,471.80     2,699,777,564.12    44383454980716    61,863,601,275.22    62,686,759,687.09         0                 0          0    443129    611226      82,780,313.60     1,050,357,633.15\n",
       "4     342111075 236,367,391,912.46  1501963586627493 5,024,078,139,747.24 5,260,438,481,752.39  1500363632440802 2,221,949,365,238.93 2,052,897,091,879.10         0                 0          0  14753104  20220111 472,727,733,917.61    67,315,118,552.63"
      ]
     },
     "execution_count": 25,
     "metadata": {},
     "output_type": "execute_result"
    }
   ],
   "source": [
    "df2 =data.groupby(['type']).sum()\n",
    "df2 "
   ]
  },
  {
   "cell_type": "code",
   "execution_count": null,
   "id": "99d7283b",
   "metadata": {},
   "outputs": [],
   "source": []
  },
  {
   "cell_type": "code",
   "execution_count": null,
   "id": "893e6e14",
   "metadata": {},
   "outputs": [],
   "source": []
  },
  {
   "cell_type": "code",
   "execution_count": null,
   "id": "00a5334b",
   "metadata": {},
   "outputs": [],
   "source": []
  },
  {
   "cell_type": "markdown",
   "id": "ad2b96ea",
   "metadata": {},
   "source": [
    "# Filter"
   ]
  },
  {
   "cell_type": "code",
   "execution_count": 216,
   "id": "bd9100fd",
   "metadata": {
    "ExecuteTime": {
     "end_time": "2023-09-12T17:52:17.976393Z",
     "start_time": "2023-09-12T17:52:17.662399Z"
    }
   },
   "outputs": [
    {
     "name": "stdout",
     "output_type": "stream",
     "text": [
      "Tamanho do dataset: 6362620\n",
      "-------------------------------------------\n",
      "Dados que tem saldo inicial antes da transação que esteja correto com saldo depois da transação -  cliente\n",
      "Quantidade de linhas: 440511\n",
      "Quantidade de fraude: 8144\n",
      "-------------------------------------------\n",
      "Dados que tem saldo inicial antes da transação que esteja correto com saldo depois da transação - destino\n",
      "Quantidade de linhas: 760360\n",
      "Quantidade de fraude: 2171\n",
      "-------------------------------------------\n",
      "Quantidade de linhas do filtro com base as condições:       1200871\n",
      "-------------------------------------------\n",
      "Dados que tem saldo inicial antes da transação que esteja correto com saldo depois da transação cliente e  destino\n",
      "Quantidade de linhas: 60035\n",
      "Quantidade de fraude: 2161\n",
      "-------------------------------------------\n"
     ]
    }
   ],
   "source": [
    "condicao1 = (data['oldbalance_org'] - data['newbalance_orig'] == data['amount'])\n",
    "condicao2 = (data['newbalance_dest'] - data['oldbalance_dest'] == data['amount'])\n",
    "\n",
    "\n",
    "\n",
    "dados_filtrados_cliente = data[condicao1]\n",
    "is_fraud_cliente = dados_filtrados_correto['is_fraud'].sum()\n",
    "\n",
    "\n",
    "\n",
    "dados_filtrados_destino = data[condicao2]\n",
    "is_fraud_destino = dados_filtrados_errado['is_fraud'].sum()\n",
    "\n",
    "\n",
    "\n",
    "dados_filtrados_merge = data[condicao1 & condicao2]\n",
    "is_fraud_merge = dados_filtrados_merge['is_fraud'].sum()\n",
    "\n",
    "\n",
    "\n",
    "\n",
    "print(f'Tamanho do dataset: {data.shape[0]}')\n",
    "\n",
    "print('-------------------------------------------')\n",
    "\n",
    "print('Dados que tem saldo inicial antes da transação que esteja correto com saldo depois da transação -  cliente')\n",
    "print(f'Quantidade de linhas: {dados_filtrados_cliente.shape[0]}')\n",
    "print(f'Quantidade de fraude: {is_fraud_cliente}')\n",
    "\n",
    "\n",
    "\n",
    "print('-------------------------------------------')\n",
    "\n",
    "print('Dados que tem saldo inicial antes da transação que esteja correto com saldo depois da transação - destino')\n",
    "print(f'Quantidade de linhas: {dados_filtrados_destino.shape[0]}')\n",
    "print(f'Quantidade de fraude: {is_fraud_destino}')\n",
    "\n",
    "print('-------------------------------------------')\n",
    "\n",
    "\n",
    "print(f'Quantidade de linhas do filtro com base as condições: \\\n",
    "      {dados_filtrados_errado.shape[0] + dados_filtrados_correto.shape[0] }')\n",
    "\n",
    "print('-------------------------------------------')\n",
    "\n",
    "print('Dados que tem saldo inicial antes da transação que esteja correto com saldo depois da transação cliente e  destino')\n",
    "print(f'Quantidade de linhas: {dados_filtrados_merge.shape[0]}')\n",
    "print(f'Quantidade de fraude: {is_fraud_merge}')\n",
    "\n",
    "print('-------------------------------------------')\n",
    "\n"
   ]
  },
  {
   "cell_type": "code",
   "execution_count": null,
   "id": "3d905b61",
   "metadata": {},
   "outputs": [],
   "source": []
  },
  {
   "cell_type": "code",
   "execution_count": null,
   "id": "e194e897",
   "metadata": {},
   "outputs": [],
   "source": []
  },
  {
   "cell_type": "code",
   "execution_count": null,
   "id": "f3aa91b0",
   "metadata": {},
   "outputs": [],
   "source": []
  },
  {
   "cell_type": "code",
   "execution_count": 217,
   "id": "0fca44f8",
   "metadata": {
    "ExecuteTime": {
     "end_time": "2023-09-12T17:52:31.729196Z",
     "start_time": "2023-09-12T17:52:21.366208Z"
    }
   },
   "outputs": [
    {
     "data": {
      "text/plain": [
       "array([], dtype=object)"
      ]
     },
     "execution_count": 217,
     "metadata": {},
     "output_type": "execute_result"
    }
   ],
   "source": [
    "# check se tem linhas com somente letra na coluna name_orig.\n",
    "data.loc[data['name_orig'].apply( lambda x: bool( re.search( '^[a-zA-Z]+$', x ) ) ), 'name_orig'].unique()"
   ]
  },
  {
   "cell_type": "code",
   "execution_count": 218,
   "id": "199928ef",
   "metadata": {
    "ExecuteTime": {
     "end_time": "2023-09-12T17:52:31.745199Z",
     "start_time": "2023-09-12T17:52:31.733195Z"
    }
   },
   "outputs": [],
   "source": [
    "# # identficacao: mostrar todas as linhas que tem letra e numero\n",
    "# df_name_orig = data.loc[data['name_orig'].apply( lambda x: bool( re.search( '[^0-9]+', x ) ) ), :]\n",
    "# df_name_orig.head(20)"
   ]
  },
  {
   "cell_type": "code",
   "execution_count": 219,
   "id": "7c57b320",
   "metadata": {
    "ExecuteTime": {
     "end_time": "2023-09-12T17:52:33.693197Z",
     "start_time": "2023-09-12T17:52:31.748195Z"
    }
   },
   "outputs": [
    {
     "data": {
      "text/plain": [
       "array(['C'], dtype=object)"
      ]
     },
     "execution_count": 219,
     "metadata": {},
     "output_type": "execute_result"
    }
   ],
   "source": [
    "# s.str.slice(start=0, stop=5, step=3)\n",
    "# https://pandas.pydata.org/docs/reference/api/pandas.Series.str.slice.html\n",
    "# mostrar valores unico da inicial\n",
    "data['name_orig'].str[0:1].unique()"
   ]
  },
  {
   "cell_type": "code",
   "execution_count": 220,
   "id": "7c156862",
   "metadata": {
    "ExecuteTime": {
     "end_time": "2023-09-12T17:52:35.640187Z",
     "start_time": "2023-09-12T17:52:33.698194Z"
    }
   },
   "outputs": [
    {
     "data": {
      "text/plain": [
       "array(['M', 'C'], dtype=object)"
      ]
     },
     "execution_count": 220,
     "metadata": {},
     "output_type": "execute_result"
    }
   ],
   "source": [
    "# mostrar a letra inicial do name_dest\n",
    "# M (Comerciantes).\n",
    "data['name_dest'].str[0:1].unique()"
   ]
  },
  {
   "cell_type": "code",
   "execution_count": 221,
   "id": "9c561068",
   "metadata": {
    "ExecuteTime": {
     "end_time": "2023-09-12T17:52:36.222191Z",
     "start_time": "2023-09-12T17:52:35.643191Z"
    }
   },
   "outputs": [
    {
     "data": {
      "text/html": [
       "<div>\n",
       "<style scoped>\n",
       "    .dataframe tbody tr th:only-of-type {\n",
       "        vertical-align: middle;\n",
       "    }\n",
       "\n",
       "    .dataframe tbody tr th {\n",
       "        vertical-align: top;\n",
       "    }\n",
       "\n",
       "    .dataframe thead th {\n",
       "        text-align: right;\n",
       "    }\n",
       "</style>\n",
       "<table border=\"1\" class=\"dataframe\">\n",
       "  <thead>\n",
       "    <tr style=\"text-align: right;\">\n",
       "      <th></th>\n",
       "      <th>step</th>\n",
       "      <th>type</th>\n",
       "      <th>amount</th>\n",
       "      <th>name_orig</th>\n",
       "      <th>oldbalance_org</th>\n",
       "      <th>newbalance_orig</th>\n",
       "      <th>name_dest</th>\n",
       "      <th>oldbalance_dest</th>\n",
       "      <th>newbalance_dest</th>\n",
       "      <th>is_fraud</th>\n",
       "      <th>is_flagged_fraud</th>\n",
       "    </tr>\n",
       "  </thead>\n",
       "  <tbody>\n",
       "  </tbody>\n",
       "</table>\n",
       "</div>"
      ],
      "text/plain": [
       "Empty DataFrame\n",
       "Columns: [step, type, amount, name_orig, oldbalance_org, newbalance_orig, name_dest, oldbalance_dest, newbalance_dest, is_fraud, is_flagged_fraud]\n",
       "Index: []"
      ]
     },
     "execution_count": 221,
     "metadata": {},
     "output_type": "execute_result"
    }
   ],
   "source": [
    "# não temos o mesmo name_orig idetico com name_dest\n",
    "teste = data['name_orig'] == data['name_dest']\n",
    "data[teste]"
   ]
  },
  {
   "cell_type": "code",
   "execution_count": null,
   "id": "4145c13c",
   "metadata": {},
   "outputs": [],
   "source": []
  },
  {
   "cell_type": "code",
   "execution_count": 222,
   "id": "4c8cb8ee",
   "metadata": {
    "ExecuteTime": {
     "end_time": "2023-09-12T17:52:36.478189Z",
     "start_time": "2023-09-12T17:52:36.225201Z"
    }
   },
   "outputs": [],
   "source": [
    "num_attributes = data.select_dtypes(include=['int64', 'float64'])\n",
    "cat_attributes = data.select_dtypes(exclude=['int64', 'float64', 'datetime64[ns]'])"
   ]
  },
  {
   "cell_type": "code",
   "execution_count": 223,
   "id": "a2b6d4f3",
   "metadata": {
    "ExecuteTime": {
     "end_time": "2023-09-12T17:52:36.509188Z",
     "start_time": "2023-09-12T17:52:36.482193Z"
    }
   },
   "outputs": [
    {
     "data": {
      "text/html": [
       "<div>\n",
       "<style scoped>\n",
       "    .dataframe tbody tr th:only-of-type {\n",
       "        vertical-align: middle;\n",
       "    }\n",
       "\n",
       "    .dataframe tbody tr th {\n",
       "        vertical-align: top;\n",
       "    }\n",
       "\n",
       "    .dataframe thead th {\n",
       "        text-align: right;\n",
       "    }\n",
       "</style>\n",
       "<table border=\"1\" class=\"dataframe\">\n",
       "  <thead>\n",
       "    <tr style=\"text-align: right;\">\n",
       "      <th></th>\n",
       "      <th>step</th>\n",
       "      <th>type</th>\n",
       "      <th>amount</th>\n",
       "      <th>oldbalance_org</th>\n",
       "      <th>newbalance_orig</th>\n",
       "      <th>oldbalance_dest</th>\n",
       "      <th>newbalance_dest</th>\n",
       "      <th>is_fraud</th>\n",
       "      <th>is_flagged_fraud</th>\n",
       "    </tr>\n",
       "  </thead>\n",
       "  <tbody>\n",
       "    <tr>\n",
       "      <th>0</th>\n",
       "      <td>1</td>\n",
       "      <td>0</td>\n",
       "      <td>9,839.6400</td>\n",
       "      <td>170,136.0000</td>\n",
       "      <td>160,296.3600</td>\n",
       "      <td>0.0000</td>\n",
       "      <td>0.0000</td>\n",
       "      <td>0</td>\n",
       "      <td>0</td>\n",
       "    </tr>\n",
       "    <tr>\n",
       "      <th>1</th>\n",
       "      <td>1</td>\n",
       "      <td>0</td>\n",
       "      <td>1,864.2800</td>\n",
       "      <td>21,249.0000</td>\n",
       "      <td>19,384.7200</td>\n",
       "      <td>0.0000</td>\n",
       "      <td>0.0000</td>\n",
       "      <td>0</td>\n",
       "      <td>0</td>\n",
       "    </tr>\n",
       "    <tr>\n",
       "      <th>2</th>\n",
       "      <td>1</td>\n",
       "      <td>1</td>\n",
       "      <td>181.0000</td>\n",
       "      <td>181.0000</td>\n",
       "      <td>0.0000</td>\n",
       "      <td>0.0000</td>\n",
       "      <td>0.0000</td>\n",
       "      <td>1</td>\n",
       "      <td>0</td>\n",
       "    </tr>\n",
       "    <tr>\n",
       "      <th>3</th>\n",
       "      <td>1</td>\n",
       "      <td>2</td>\n",
       "      <td>181.0000</td>\n",
       "      <td>181.0000</td>\n",
       "      <td>0.0000</td>\n",
       "      <td>21,182.0000</td>\n",
       "      <td>0.0000</td>\n",
       "      <td>1</td>\n",
       "      <td>0</td>\n",
       "    </tr>\n",
       "    <tr>\n",
       "      <th>4</th>\n",
       "      <td>1</td>\n",
       "      <td>0</td>\n",
       "      <td>11,668.1400</td>\n",
       "      <td>41,554.0000</td>\n",
       "      <td>29,885.8600</td>\n",
       "      <td>0.0000</td>\n",
       "      <td>0.0000</td>\n",
       "      <td>0</td>\n",
       "      <td>0</td>\n",
       "    </tr>\n",
       "    <tr>\n",
       "      <th>...</th>\n",
       "      <td>...</td>\n",
       "      <td>...</td>\n",
       "      <td>...</td>\n",
       "      <td>...</td>\n",
       "      <td>...</td>\n",
       "      <td>...</td>\n",
       "      <td>...</td>\n",
       "      <td>...</td>\n",
       "      <td>...</td>\n",
       "    </tr>\n",
       "    <tr>\n",
       "      <th>6362615</th>\n",
       "      <td>743</td>\n",
       "      <td>2</td>\n",
       "      <td>339,682.1300</td>\n",
       "      <td>339,682.1300</td>\n",
       "      <td>0.0000</td>\n",
       "      <td>0.0000</td>\n",
       "      <td>339,682.1300</td>\n",
       "      <td>1</td>\n",
       "      <td>0</td>\n",
       "    </tr>\n",
       "    <tr>\n",
       "      <th>6362616</th>\n",
       "      <td>743</td>\n",
       "      <td>1</td>\n",
       "      <td>6,311,409.2800</td>\n",
       "      <td>6,311,409.2800</td>\n",
       "      <td>0.0000</td>\n",
       "      <td>0.0000</td>\n",
       "      <td>0.0000</td>\n",
       "      <td>1</td>\n",
       "      <td>0</td>\n",
       "    </tr>\n",
       "    <tr>\n",
       "      <th>6362617</th>\n",
       "      <td>743</td>\n",
       "      <td>2</td>\n",
       "      <td>6,311,409.2800</td>\n",
       "      <td>6,311,409.2800</td>\n",
       "      <td>0.0000</td>\n",
       "      <td>68,488.8400</td>\n",
       "      <td>6,379,898.1100</td>\n",
       "      <td>1</td>\n",
       "      <td>0</td>\n",
       "    </tr>\n",
       "    <tr>\n",
       "      <th>6362618</th>\n",
       "      <td>743</td>\n",
       "      <td>1</td>\n",
       "      <td>850,002.5200</td>\n",
       "      <td>850,002.5200</td>\n",
       "      <td>0.0000</td>\n",
       "      <td>0.0000</td>\n",
       "      <td>0.0000</td>\n",
       "      <td>1</td>\n",
       "      <td>0</td>\n",
       "    </tr>\n",
       "    <tr>\n",
       "      <th>6362619</th>\n",
       "      <td>743</td>\n",
       "      <td>2</td>\n",
       "      <td>850,002.5200</td>\n",
       "      <td>850,002.5200</td>\n",
       "      <td>0.0000</td>\n",
       "      <td>6,510,099.1100</td>\n",
       "      <td>7,360,101.6300</td>\n",
       "      <td>1</td>\n",
       "      <td>0</td>\n",
       "    </tr>\n",
       "  </tbody>\n",
       "</table>\n",
       "<p>6362620 rows × 9 columns</p>\n",
       "</div>"
      ],
      "text/plain": [
       "         step  type         amount  oldbalance_org  newbalance_orig  oldbalance_dest  newbalance_dest  is_fraud  is_flagged_fraud\n",
       "0           1     0     9,839.6400    170,136.0000     160,296.3600           0.0000           0.0000         0                 0\n",
       "1           1     0     1,864.2800     21,249.0000      19,384.7200           0.0000           0.0000         0                 0\n",
       "2           1     1       181.0000        181.0000           0.0000           0.0000           0.0000         1                 0\n",
       "3           1     2       181.0000        181.0000           0.0000      21,182.0000           0.0000         1                 0\n",
       "4           1     0    11,668.1400     41,554.0000      29,885.8600           0.0000           0.0000         0                 0\n",
       "...       ...   ...            ...             ...              ...              ...              ...       ...               ...\n",
       "6362615   743     2   339,682.1300    339,682.1300           0.0000           0.0000     339,682.1300         1                 0\n",
       "6362616   743     1 6,311,409.2800  6,311,409.2800           0.0000           0.0000           0.0000         1                 0\n",
       "6362617   743     2 6,311,409.2800  6,311,409.2800           0.0000      68,488.8400   6,379,898.1100         1                 0\n",
       "6362618   743     1   850,002.5200    850,002.5200           0.0000           0.0000           0.0000         1                 0\n",
       "6362619   743     2   850,002.5200    850,002.5200           0.0000   6,510,099.1100   7,360,101.6300         1                 0\n",
       "\n",
       "[6362620 rows x 9 columns]"
      ]
     },
     "execution_count": 223,
     "metadata": {},
     "output_type": "execute_result"
    }
   ],
   "source": [
    "num_attributes"
   ]
  },
  {
   "cell_type": "code",
   "execution_count": 224,
   "id": "c76d7ee4",
   "metadata": {
    "ExecuteTime": {
     "end_time": "2023-09-12T17:52:36.541193Z",
     "start_time": "2023-09-12T17:52:36.512195Z"
    }
   },
   "outputs": [
    {
     "data": {
      "text/html": [
       "<div>\n",
       "<style scoped>\n",
       "    .dataframe tbody tr th:only-of-type {\n",
       "        vertical-align: middle;\n",
       "    }\n",
       "\n",
       "    .dataframe tbody tr th {\n",
       "        vertical-align: top;\n",
       "    }\n",
       "\n",
       "    .dataframe thead th {\n",
       "        text-align: right;\n",
       "    }\n",
       "</style>\n",
       "<table border=\"1\" class=\"dataframe\">\n",
       "  <thead>\n",
       "    <tr style=\"text-align: right;\">\n",
       "      <th></th>\n",
       "      <th>name_orig</th>\n",
       "      <th>name_dest</th>\n",
       "    </tr>\n",
       "  </thead>\n",
       "  <tbody>\n",
       "    <tr>\n",
       "      <th>0</th>\n",
       "      <td>C1231006815</td>\n",
       "      <td>M1979787155</td>\n",
       "    </tr>\n",
       "    <tr>\n",
       "      <th>1</th>\n",
       "      <td>C1666544295</td>\n",
       "      <td>M2044282225</td>\n",
       "    </tr>\n",
       "    <tr>\n",
       "      <th>2</th>\n",
       "      <td>C1305486145</td>\n",
       "      <td>C553264065</td>\n",
       "    </tr>\n",
       "    <tr>\n",
       "      <th>3</th>\n",
       "      <td>C840083671</td>\n",
       "      <td>C38997010</td>\n",
       "    </tr>\n",
       "    <tr>\n",
       "      <th>4</th>\n",
       "      <td>C2048537720</td>\n",
       "      <td>M1230701703</td>\n",
       "    </tr>\n",
       "    <tr>\n",
       "      <th>...</th>\n",
       "      <td>...</td>\n",
       "      <td>...</td>\n",
       "    </tr>\n",
       "    <tr>\n",
       "      <th>6362615</th>\n",
       "      <td>C786484425</td>\n",
       "      <td>C776919290</td>\n",
       "    </tr>\n",
       "    <tr>\n",
       "      <th>6362616</th>\n",
       "      <td>C1529008245</td>\n",
       "      <td>C1881841831</td>\n",
       "    </tr>\n",
       "    <tr>\n",
       "      <th>6362617</th>\n",
       "      <td>C1162922333</td>\n",
       "      <td>C1365125890</td>\n",
       "    </tr>\n",
       "    <tr>\n",
       "      <th>6362618</th>\n",
       "      <td>C1685995037</td>\n",
       "      <td>C2080388513</td>\n",
       "    </tr>\n",
       "    <tr>\n",
       "      <th>6362619</th>\n",
       "      <td>C1280323807</td>\n",
       "      <td>C873221189</td>\n",
       "    </tr>\n",
       "  </tbody>\n",
       "</table>\n",
       "<p>6362620 rows × 2 columns</p>\n",
       "</div>"
      ],
      "text/plain": [
       "           name_orig    name_dest\n",
       "0        C1231006815  M1979787155\n",
       "1        C1666544295  M2044282225\n",
       "2        C1305486145   C553264065\n",
       "3         C840083671    C38997010\n",
       "4        C2048537720  M1230701703\n",
       "...              ...          ...\n",
       "6362615   C786484425   C776919290\n",
       "6362616  C1529008245  C1881841831\n",
       "6362617  C1162922333  C1365125890\n",
       "6362618  C1685995037  C2080388513\n",
       "6362619  C1280323807   C873221189\n",
       "\n",
       "[6362620 rows x 2 columns]"
      ]
     },
     "execution_count": 224,
     "metadata": {},
     "output_type": "execute_result"
    }
   ],
   "source": [
    "cat_attributes"
   ]
  },
  {
   "cell_type": "code",
   "execution_count": null,
   "id": "36b9ef54",
   "metadata": {},
   "outputs": [],
   "source": []
  },
  {
   "cell_type": "markdown",
   "id": "c9573679",
   "metadata": {},
   "source": [
    "# Numerical Variables"
   ]
  },
  {
   "cell_type": "code",
   "execution_count": 225,
   "id": "1151d924",
   "metadata": {
    "ExecuteTime": {
     "end_time": "2023-09-12T17:52:40.827184Z",
     "start_time": "2023-09-12T17:52:36.545189Z"
    }
   },
   "outputs": [
    {
     "data": {
      "image/png": "[encoded data removed]",
      "text/plain": [
       "<Figure size 2500x1500 with 9 Axes>"
      ]
     },
     "metadata": {},
     "output_type": "display_data"
    }
   ],
   "source": [
    "num_attributes.hist(bins=25, figsize=(25,15));"
   ]
  },
  {
   "cell_type": "code",
   "execution_count": 300,
   "id": "6bae208c",
   "metadata": {
    "ExecuteTime": {
     "end_time": "2023-09-12T22:02:26.827487Z",
     "start_time": "2023-09-12T21:59:35.963848Z"
    }
   },
   "outputs": [
    {
     "data": {
      "text/plain": [
       "<Axes: xlabel='step', ylabel='Density'>"
      ]
     },
     "execution_count": 300,
     "metadata": {},
     "output_type": "execute_result"
    },
    {
     "data": {
      "image/png": "[encoded data removed]",
      "text/plain": [
       "<Figure size 2000x1000 with 6 Axes>"
      ]
     },
     "metadata": {},
     "output_type": "display_data"
    }
   ],
   "source": [
    "plt.figure(figsize = (20,10))\n",
    "\n",
    "plt.subplot(2,3,1)\n",
    "sns.distplot(np.log1p(num_attributes['amount']))  \n",
    "\n",
    "plt.subplot(2,3,2)\n",
    "sns.distplot(np.log1p(num_attributes['oldbalance_org']))\n",
    "\n",
    "plt.subplot(2,3,3)\n",
    "sns.distplot(np.log1p(num_attributes['newbalance_orig']))\n",
    "\n",
    "plt.subplot(2,3,4)\n",
    "sns.distplot(np.log1p(num_attributes['oldbalance_dest']))\n",
    "\n",
    "plt.subplot(2,3,5)\n",
    "sns.distplot(np.log1p(num_attributes['newbalance_dest']))\n",
    "\n",
    "plt.subplot(2,3,6)\n",
    "sns.distplot(np.log1p(data['step']))"
   ]
  },
  {
   "cell_type": "code",
   "execution_count": null,
   "id": "d3eb59ee",
   "metadata": {},
   "outputs": [],
   "source": []
  },
  {
   "cell_type": "markdown",
   "id": "d10a9e94",
   "metadata": {},
   "source": [
    "# Analise Univariada"
   ]
  },
  {
   "cell_type": "markdown",
   "id": "53a52f2b",
   "metadata": {},
   "source": [
    "## is_fraud"
   ]
  },
  {
   "cell_type": "code",
   "execution_count": null,
   "id": "ab49f1b6",
   "metadata": {},
   "outputs": [],
   "source": []
  },
  {
   "cell_type": "code",
   "execution_count": null,
   "id": "1bb16b19",
   "metadata": {},
   "outputs": [],
   "source": []
  },
  {
   "cell_type": "markdown",
   "id": "277eb712",
   "metadata": {},
   "source": [
    "# Analise Bivariada"
   ]
  },
  {
   "cell_type": "markdown",
   "id": "bf4e5b3e",
   "metadata": {},
   "source": [
    "# step"
   ]
  },
  {
   "cell_type": "code",
   "execution_count": 226,
   "id": "c74bd0a2",
   "metadata": {
    "ExecuteTime": {
     "end_time": "2023-09-12T17:55:09.441049Z",
     "start_time": "2023-09-12T17:52:40.832183Z"
    }
   },
   "outputs": [
    {
     "data": {
      "text/plain": [
       "<Axes: xlabel='step', ylabel='amount'>"
      ]
     },
     "execution_count": 226,
     "metadata": {},
     "output_type": "execute_result"
    },
    {
     "name": "stdout",
     "output_type": "stream",
     "text": [
      "Error in callback <function _draw_all_if_interactive at 0x0000027D84A44040> (for post_execute):\n"
     ]
    },
    {
     "ename": "KeyboardInterrupt",
     "evalue": "",
     "output_type": "error",
     "traceback": [
      "\u001b[1;31m---------------------------------------------------------------------------\u001b[0m",
      "\u001b[1;31mKeyboardInterrupt\u001b[0m                         Traceback (most recent call last)",
      "File \u001b[1;32m~\\.conda\\envs\\fraud_detection\\lib\\site-packages\\matplotlib\\pyplot.py:120\u001b[0m, in \u001b[0;36m_draw_all_if_interactive\u001b[1;34m()\u001b[0m\n\u001b[0;32m    118\u001b[0m \u001b[38;5;28;01mdef\u001b[39;00m \u001b[38;5;21m_draw_all_if_interactive\u001b[39m():\n\u001b[0;32m    119\u001b[0m     \u001b[38;5;28;01mif\u001b[39;00m matplotlib\u001b[38;5;241m.\u001b[39mis_interactive():\n\u001b[1;32m--> 120\u001b[0m         \u001b[43mdraw_all\u001b[49m\u001b[43m(\u001b[49m\u001b[43m)\u001b[49m\n",
      "File \u001b[1;32m~\\.conda\\envs\\fraud_detection\\lib\\site-packages\\matplotlib\\_pylab_helpers.py:132\u001b[0m, in \u001b[0;36mGcf.draw_all\u001b[1;34m(cls, force)\u001b[0m\n\u001b[0;32m    130\u001b[0m \u001b[38;5;28;01mfor\u001b[39;00m manager \u001b[38;5;129;01min\u001b[39;00m \u001b[38;5;28mcls\u001b[39m\u001b[38;5;241m.\u001b[39mget_all_fig_managers():\n\u001b[0;32m    131\u001b[0m     \u001b[38;5;28;01mif\u001b[39;00m force \u001b[38;5;129;01mor\u001b[39;00m manager\u001b[38;5;241m.\u001b[39mcanvas\u001b[38;5;241m.\u001b[39mfigure\u001b[38;5;241m.\u001b[39mstale:\n\u001b[1;32m--> 132\u001b[0m         \u001b[43mmanager\u001b[49m\u001b[38;5;241;43m.\u001b[39;49m\u001b[43mcanvas\u001b[49m\u001b[38;5;241;43m.\u001b[39;49m\u001b[43mdraw_idle\u001b[49m\u001b[43m(\u001b[49m\u001b[43m)\u001b[49m\n",
      "File \u001b[1;32m~\\.conda\\envs\\fraud_detection\\lib\\site-packages\\matplotlib\\backend_bases.py:2082\u001b[0m, in \u001b[0;36mFigureCanvasBase.draw_idle\u001b[1;34m(self, *args, **kwargs)\u001b[0m\n\u001b[0;32m   2080\u001b[0m \u001b[38;5;28;01mif\u001b[39;00m \u001b[38;5;129;01mnot\u001b[39;00m \u001b[38;5;28mself\u001b[39m\u001b[38;5;241m.\u001b[39m_is_idle_drawing:\n\u001b[0;32m   2081\u001b[0m     \u001b[38;5;28;01mwith\u001b[39;00m \u001b[38;5;28mself\u001b[39m\u001b[38;5;241m.\u001b[39m_idle_draw_cntx():\n\u001b[1;32m-> 2082\u001b[0m         \u001b[38;5;28mself\u001b[39m\u001b[38;5;241m.\u001b[39mdraw(\u001b[38;5;241m*\u001b[39margs, \u001b[38;5;241m*\u001b[39m\u001b[38;5;241m*\u001b[39mkwargs)\n",
      "File \u001b[1;32m~\\.conda\\envs\\fraud_detection\\lib\\site-packages\\matplotlib\\backends\\backend_agg.py:400\u001b[0m, in \u001b[0;36mFigureCanvasAgg.draw\u001b[1;34m(self)\u001b[0m\n\u001b[0;32m    396\u001b[0m \u001b[38;5;66;03m# Acquire a lock on the shared font cache.\u001b[39;00m\n\u001b[0;32m    397\u001b[0m \u001b[38;5;28;01mwith\u001b[39;00m RendererAgg\u001b[38;5;241m.\u001b[39mlock, \\\n\u001b[0;32m    398\u001b[0m      (\u001b[38;5;28mself\u001b[39m\u001b[38;5;241m.\u001b[39mtoolbar\u001b[38;5;241m.\u001b[39m_wait_cursor_for_draw_cm() \u001b[38;5;28;01mif\u001b[39;00m \u001b[38;5;28mself\u001b[39m\u001b[38;5;241m.\u001b[39mtoolbar\n\u001b[0;32m    399\u001b[0m       \u001b[38;5;28;01melse\u001b[39;00m nullcontext()):\n\u001b[1;32m--> 400\u001b[0m     \u001b[38;5;28;43mself\u001b[39;49m\u001b[38;5;241;43m.\u001b[39;49m\u001b[43mfigure\u001b[49m\u001b[38;5;241;43m.\u001b[39;49m\u001b[43mdraw\u001b[49m\u001b[43m(\u001b[49m\u001b[38;5;28;43mself\u001b[39;49m\u001b[38;5;241;43m.\u001b[39;49m\u001b[43mrenderer\u001b[49m\u001b[43m)\u001b[49m\n\u001b[0;32m    401\u001b[0m     \u001b[38;5;66;03m# A GUI class may be need to update a window using this draw, so\u001b[39;00m\n\u001b[0;32m    402\u001b[0m     \u001b[38;5;66;03m# don't forget to call the superclass.\u001b[39;00m\n\u001b[0;32m    403\u001b[0m     \u001b[38;5;28msuper\u001b[39m()\u001b[38;5;241m.\u001b[39mdraw()\n",
      "File \u001b[1;32m~\\.conda\\envs\\fraud_detection\\lib\\site-packages\\matplotlib\\artist.py:95\u001b[0m, in \u001b[0;36m_finalize_rasterization.<locals>.draw_wrapper\u001b[1;34m(artist, renderer, *args, **kwargs)\u001b[0m\n\u001b[0;32m     93\u001b[0m \u001b[38;5;129m@wraps\u001b[39m(draw)\n\u001b[0;32m     94\u001b[0m \u001b[38;5;28;01mdef\u001b[39;00m \u001b[38;5;21mdraw_wrapper\u001b[39m(artist, renderer, \u001b[38;5;241m*\u001b[39margs, \u001b[38;5;241m*\u001b[39m\u001b[38;5;241m*\u001b[39mkwargs):\n\u001b[1;32m---> 95\u001b[0m     result \u001b[38;5;241m=\u001b[39m draw(artist, renderer, \u001b[38;5;241m*\u001b[39margs, \u001b[38;5;241m*\u001b[39m\u001b[38;5;241m*\u001b[39mkwargs)\n\u001b[0;32m     96\u001b[0m     \u001b[38;5;28;01mif\u001b[39;00m renderer\u001b[38;5;241m.\u001b[39m_rasterizing:\n\u001b[0;32m     97\u001b[0m         renderer\u001b[38;5;241m.\u001b[39mstop_rasterizing()\n",
      "File \u001b[1;32m~\\.conda\\envs\\fraud_detection\\lib\\site-packages\\matplotlib\\artist.py:72\u001b[0m, in \u001b[0;36mallow_rasterization.<locals>.draw_wrapper\u001b[1;34m(artist, renderer)\u001b[0m\n\u001b[0;32m     69\u001b[0m     \u001b[38;5;28;01mif\u001b[39;00m artist\u001b[38;5;241m.\u001b[39mget_agg_filter() \u001b[38;5;129;01mis\u001b[39;00m \u001b[38;5;129;01mnot\u001b[39;00m \u001b[38;5;28;01mNone\u001b[39;00m:\n\u001b[0;32m     70\u001b[0m         renderer\u001b[38;5;241m.\u001b[39mstart_filter()\n\u001b[1;32m---> 72\u001b[0m     \u001b[38;5;28;01mreturn\u001b[39;00m \u001b[43mdraw\u001b[49m\u001b[43m(\u001b[49m\u001b[43martist\u001b[49m\u001b[43m,\u001b[49m\u001b[43m \u001b[49m\u001b[43mrenderer\u001b[49m\u001b[43m)\u001b[49m\n\u001b[0;32m     73\u001b[0m \u001b[38;5;28;01mfinally\u001b[39;00m:\n\u001b[0;32m     74\u001b[0m     \u001b[38;5;28;01mif\u001b[39;00m artist\u001b[38;5;241m.\u001b[39mget_agg_filter() \u001b[38;5;129;01mis\u001b[39;00m \u001b[38;5;129;01mnot\u001b[39;00m \u001b[38;5;28;01mNone\u001b[39;00m:\n",
      "File \u001b[1;32m~\\.conda\\envs\\fraud_detection\\lib\\site-packages\\matplotlib\\figure.py:3175\u001b[0m, in \u001b[0;36mFigure.draw\u001b[1;34m(self, renderer)\u001b[0m\n\u001b[0;32m   3172\u001b[0m         \u001b[38;5;66;03m# ValueError can occur when resizing a window.\u001b[39;00m\n\u001b[0;32m   3174\u001b[0m \u001b[38;5;28mself\u001b[39m\u001b[38;5;241m.\u001b[39mpatch\u001b[38;5;241m.\u001b[39mdraw(renderer)\n\u001b[1;32m-> 3175\u001b[0m \u001b[43mmimage\u001b[49m\u001b[38;5;241;43m.\u001b[39;49m\u001b[43m_draw_list_compositing_images\u001b[49m\u001b[43m(\u001b[49m\n\u001b[0;32m   3176\u001b[0m \u001b[43m    \u001b[49m\u001b[43mrenderer\u001b[49m\u001b[43m,\u001b[49m\u001b[43m \u001b[49m\u001b[38;5;28;43mself\u001b[39;49m\u001b[43m,\u001b[49m\u001b[43m \u001b[49m\u001b[43martists\u001b[49m\u001b[43m,\u001b[49m\u001b[43m \u001b[49m\u001b[38;5;28;43mself\u001b[39;49m\u001b[38;5;241;43m.\u001b[39;49m\u001b[43msuppressComposite\u001b[49m\u001b[43m)\u001b[49m\n\u001b[0;32m   3178\u001b[0m \u001b[38;5;28;01mfor\u001b[39;00m sfig \u001b[38;5;129;01min\u001b[39;00m \u001b[38;5;28mself\u001b[39m\u001b[38;5;241m.\u001b[39msubfigs:\n\u001b[0;32m   3179\u001b[0m     sfig\u001b[38;5;241m.\u001b[39mdraw(renderer)\n",
      "File \u001b[1;32m~\\.conda\\envs\\fraud_detection\\lib\\site-packages\\matplotlib\\image.py:131\u001b[0m, in \u001b[0;36m_draw_list_compositing_images\u001b[1;34m(renderer, parent, artists, suppress_composite)\u001b[0m\n\u001b[0;32m    129\u001b[0m \u001b[38;5;28;01mif\u001b[39;00m not_composite \u001b[38;5;129;01mor\u001b[39;00m \u001b[38;5;129;01mnot\u001b[39;00m has_images:\n\u001b[0;32m    130\u001b[0m     \u001b[38;5;28;01mfor\u001b[39;00m a \u001b[38;5;129;01min\u001b[39;00m artists:\n\u001b[1;32m--> 131\u001b[0m         \u001b[43ma\u001b[49m\u001b[38;5;241;43m.\u001b[39;49m\u001b[43mdraw\u001b[49m\u001b[43m(\u001b[49m\u001b[43mrenderer\u001b[49m\u001b[43m)\u001b[49m\n\u001b[0;32m    132\u001b[0m \u001b[38;5;28;01melse\u001b[39;00m:\n\u001b[0;32m    133\u001b[0m     \u001b[38;5;66;03m# Composite any adjacent images together\u001b[39;00m\n\u001b[0;32m    134\u001b[0m     image_group \u001b[38;5;241m=\u001b[39m []\n",
      "File \u001b[1;32m~\\.conda\\envs\\fraud_detection\\lib\\site-packages\\matplotlib\\artist.py:72\u001b[0m, in \u001b[0;36mallow_rasterization.<locals>.draw_wrapper\u001b[1;34m(artist, renderer)\u001b[0m\n\u001b[0;32m     69\u001b[0m     \u001b[38;5;28;01mif\u001b[39;00m artist\u001b[38;5;241m.\u001b[39mget_agg_filter() \u001b[38;5;129;01mis\u001b[39;00m \u001b[38;5;129;01mnot\u001b[39;00m \u001b[38;5;28;01mNone\u001b[39;00m:\n\u001b[0;32m     70\u001b[0m         renderer\u001b[38;5;241m.\u001b[39mstart_filter()\n\u001b[1;32m---> 72\u001b[0m     \u001b[38;5;28;01mreturn\u001b[39;00m \u001b[43mdraw\u001b[49m\u001b[43m(\u001b[49m\u001b[43martist\u001b[49m\u001b[43m,\u001b[49m\u001b[43m \u001b[49m\u001b[43mrenderer\u001b[49m\u001b[43m)\u001b[49m\n\u001b[0;32m     73\u001b[0m \u001b[38;5;28;01mfinally\u001b[39;00m:\n\u001b[0;32m     74\u001b[0m     \u001b[38;5;28;01mif\u001b[39;00m artist\u001b[38;5;241m.\u001b[39mget_agg_filter() \u001b[38;5;129;01mis\u001b[39;00m \u001b[38;5;129;01mnot\u001b[39;00m \u001b[38;5;28;01mNone\u001b[39;00m:\n",
      "File \u001b[1;32m~\\.conda\\envs\\fraud_detection\\lib\\site-packages\\matplotlib\\axes\\_base.py:3064\u001b[0m, in \u001b[0;36m_AxesBase.draw\u001b[1;34m(self, renderer)\u001b[0m\n\u001b[0;32m   3061\u001b[0m \u001b[38;5;28;01mif\u001b[39;00m artists_rasterized:\n\u001b[0;32m   3062\u001b[0m     _draw_rasterized(\u001b[38;5;28mself\u001b[39m\u001b[38;5;241m.\u001b[39mfigure, artists_rasterized, renderer)\n\u001b[1;32m-> 3064\u001b[0m \u001b[43mmimage\u001b[49m\u001b[38;5;241;43m.\u001b[39;49m\u001b[43m_draw_list_compositing_images\u001b[49m\u001b[43m(\u001b[49m\n\u001b[0;32m   3065\u001b[0m \u001b[43m    \u001b[49m\u001b[43mrenderer\u001b[49m\u001b[43m,\u001b[49m\u001b[43m \u001b[49m\u001b[38;5;28;43mself\u001b[39;49m\u001b[43m,\u001b[49m\u001b[43m \u001b[49m\u001b[43martists\u001b[49m\u001b[43m,\u001b[49m\u001b[43m \u001b[49m\u001b[38;5;28;43mself\u001b[39;49m\u001b[38;5;241;43m.\u001b[39;49m\u001b[43mfigure\u001b[49m\u001b[38;5;241;43m.\u001b[39;49m\u001b[43msuppressComposite\u001b[49m\u001b[43m)\u001b[49m\n\u001b[0;32m   3067\u001b[0m renderer\u001b[38;5;241m.\u001b[39mclose_group(\u001b[38;5;124m'\u001b[39m\u001b[38;5;124maxes\u001b[39m\u001b[38;5;124m'\u001b[39m)\n\u001b[0;32m   3068\u001b[0m \u001b[38;5;28mself\u001b[39m\u001b[38;5;241m.\u001b[39mstale \u001b[38;5;241m=\u001b[39m \u001b[38;5;28;01mFalse\u001b[39;00m\n",
      "File \u001b[1;32m~\\.conda\\envs\\fraud_detection\\lib\\site-packages\\matplotlib\\image.py:131\u001b[0m, in \u001b[0;36m_draw_list_compositing_images\u001b[1;34m(renderer, parent, artists, suppress_composite)\u001b[0m\n\u001b[0;32m    129\u001b[0m \u001b[38;5;28;01mif\u001b[39;00m not_composite \u001b[38;5;129;01mor\u001b[39;00m \u001b[38;5;129;01mnot\u001b[39;00m has_images:\n\u001b[0;32m    130\u001b[0m     \u001b[38;5;28;01mfor\u001b[39;00m a \u001b[38;5;129;01min\u001b[39;00m artists:\n\u001b[1;32m--> 131\u001b[0m         \u001b[43ma\u001b[49m\u001b[38;5;241;43m.\u001b[39;49m\u001b[43mdraw\u001b[49m\u001b[43m(\u001b[49m\u001b[43mrenderer\u001b[49m\u001b[43m)\u001b[49m\n\u001b[0;32m    132\u001b[0m \u001b[38;5;28;01melse\u001b[39;00m:\n\u001b[0;32m    133\u001b[0m     \u001b[38;5;66;03m# Composite any adjacent images together\u001b[39;00m\n\u001b[0;32m    134\u001b[0m     image_group \u001b[38;5;241m=\u001b[39m []\n",
      "File \u001b[1;32m~\\.conda\\envs\\fraud_detection\\lib\\site-packages\\matplotlib\\artist.py:72\u001b[0m, in \u001b[0;36mallow_rasterization.<locals>.draw_wrapper\u001b[1;34m(artist, renderer)\u001b[0m\n\u001b[0;32m     69\u001b[0m     \u001b[38;5;28;01mif\u001b[39;00m artist\u001b[38;5;241m.\u001b[39mget_agg_filter() \u001b[38;5;129;01mis\u001b[39;00m \u001b[38;5;129;01mnot\u001b[39;00m \u001b[38;5;28;01mNone\u001b[39;00m:\n\u001b[0;32m     70\u001b[0m         renderer\u001b[38;5;241m.\u001b[39mstart_filter()\n\u001b[1;32m---> 72\u001b[0m     \u001b[38;5;28;01mreturn\u001b[39;00m \u001b[43mdraw\u001b[49m\u001b[43m(\u001b[49m\u001b[43martist\u001b[49m\u001b[43m,\u001b[49m\u001b[43m \u001b[49m\u001b[43mrenderer\u001b[49m\u001b[43m)\u001b[49m\n\u001b[0;32m     73\u001b[0m \u001b[38;5;28;01mfinally\u001b[39;00m:\n\u001b[0;32m     74\u001b[0m     \u001b[38;5;28;01mif\u001b[39;00m artist\u001b[38;5;241m.\u001b[39mget_agg_filter() \u001b[38;5;129;01mis\u001b[39;00m \u001b[38;5;129;01mnot\u001b[39;00m \u001b[38;5;28;01mNone\u001b[39;00m:\n",
      "File \u001b[1;32m~\\.conda\\envs\\fraud_detection\\lib\\site-packages\\matplotlib\\legend.py:734\u001b[0m, in \u001b[0;36mLegend.draw\u001b[1;34m(self, renderer)\u001b[0m\n\u001b[0;32m    731\u001b[0m     Shadow(\u001b[38;5;28mself\u001b[39m\u001b[38;5;241m.\u001b[39mlegendPatch, \u001b[38;5;241m2\u001b[39m, \u001b[38;5;241m-\u001b[39m\u001b[38;5;241m2\u001b[39m)\u001b[38;5;241m.\u001b[39mdraw(renderer)\n\u001b[0;32m    733\u001b[0m \u001b[38;5;28mself\u001b[39m\u001b[38;5;241m.\u001b[39mlegendPatch\u001b[38;5;241m.\u001b[39mdraw(renderer)\n\u001b[1;32m--> 734\u001b[0m \u001b[38;5;28;43mself\u001b[39;49m\u001b[38;5;241;43m.\u001b[39;49m\u001b[43m_legend_box\u001b[49m\u001b[38;5;241;43m.\u001b[39;49m\u001b[43mdraw\u001b[49m\u001b[43m(\u001b[49m\u001b[43mrenderer\u001b[49m\u001b[43m)\u001b[49m\n\u001b[0;32m    736\u001b[0m renderer\u001b[38;5;241m.\u001b[39mclose_group(\u001b[38;5;124m'\u001b[39m\u001b[38;5;124mlegend\u001b[39m\u001b[38;5;124m'\u001b[39m)\n\u001b[0;32m    737\u001b[0m \u001b[38;5;28mself\u001b[39m\u001b[38;5;241m.\u001b[39mstale \u001b[38;5;241m=\u001b[39m \u001b[38;5;28;01mFalse\u001b[39;00m\n",
      "File \u001b[1;32m~\\.conda\\envs\\fraud_detection\\lib\\site-packages\\matplotlib\\artist.py:39\u001b[0m, in \u001b[0;36m_prevent_rasterization.<locals>.draw_wrapper\u001b[1;34m(artist, renderer, *args, **kwargs)\u001b[0m\n\u001b[0;32m     36\u001b[0m     renderer\u001b[38;5;241m.\u001b[39mstop_rasterizing()\n\u001b[0;32m     37\u001b[0m     renderer\u001b[38;5;241m.\u001b[39m_rasterizing \u001b[38;5;241m=\u001b[39m \u001b[38;5;28;01mFalse\u001b[39;00m\n\u001b[1;32m---> 39\u001b[0m \u001b[38;5;28;01mreturn\u001b[39;00m draw(artist, renderer, \u001b[38;5;241m*\u001b[39margs, \u001b[38;5;241m*\u001b[39m\u001b[38;5;241m*\u001b[39mkwargs)\n",
      "File \u001b[1;32m~\\.conda\\envs\\fraud_detection\\lib\\site-packages\\matplotlib\\offsetbox.py:413\u001b[0m, in \u001b[0;36mOffsetBox.draw\u001b[1;34m(self, renderer)\u001b[0m\n\u001b[0;32m    408\u001b[0m \u001b[38;5;250m\u001b[39m\u001b[38;5;124;03m\"\"\"\u001b[39;00m\n\u001b[0;32m    409\u001b[0m \u001b[38;5;124;03mUpdate the location of children if necessary and draw them\u001b[39;00m\n\u001b[0;32m    410\u001b[0m \u001b[38;5;124;03mto the given *renderer*.\u001b[39;00m\n\u001b[0;32m    411\u001b[0m \u001b[38;5;124;03m\"\"\"\u001b[39;00m\n\u001b[0;32m    412\u001b[0m bbox, offsets \u001b[38;5;241m=\u001b[39m \u001b[38;5;28mself\u001b[39m\u001b[38;5;241m.\u001b[39m_get_bbox_and_child_offsets(renderer)\n\u001b[1;32m--> 413\u001b[0m px, py \u001b[38;5;241m=\u001b[39m \u001b[38;5;28;43mself\u001b[39;49m\u001b[38;5;241;43m.\u001b[39;49m\u001b[43mget_offset\u001b[49m\u001b[43m(\u001b[49m\u001b[43mbbox\u001b[49m\u001b[43m,\u001b[49m\u001b[43m \u001b[49m\u001b[43mrenderer\u001b[49m\u001b[43m)\u001b[49m\n\u001b[0;32m    414\u001b[0m \u001b[38;5;28;01mfor\u001b[39;00m c, (ox, oy) \u001b[38;5;129;01min\u001b[39;00m \u001b[38;5;28mzip\u001b[39m(\u001b[38;5;28mself\u001b[39m\u001b[38;5;241m.\u001b[39mget_visible_children(), offsets):\n\u001b[0;32m    415\u001b[0m     c\u001b[38;5;241m.\u001b[39mset_offset((px \u001b[38;5;241m+\u001b[39m ox, py \u001b[38;5;241m+\u001b[39m oy))\n",
      "File \u001b[1;32m~\\.conda\\envs\\fraud_detection\\lib\\site-packages\\matplotlib\\offsetbox.py:60\u001b[0m, in \u001b[0;36m_compat_get_offset.<locals>.get_offset\u001b[1;34m(self, *args, **kwargs)\u001b[0m\n\u001b[0;32m     56\u001b[0m params \u001b[38;5;241m=\u001b[39m _api\u001b[38;5;241m.\u001b[39mselect_matching_signature(sigs, \u001b[38;5;28mself\u001b[39m, \u001b[38;5;241m*\u001b[39margs, \u001b[38;5;241m*\u001b[39m\u001b[38;5;241m*\u001b[39mkwargs)\n\u001b[0;32m     57\u001b[0m bbox \u001b[38;5;241m=\u001b[39m (params[\u001b[38;5;124m\"\u001b[39m\u001b[38;5;124mbbox\u001b[39m\u001b[38;5;124m\"\u001b[39m] \u001b[38;5;28;01mif\u001b[39;00m \u001b[38;5;124m\"\u001b[39m\u001b[38;5;124mbbox\u001b[39m\u001b[38;5;124m\"\u001b[39m \u001b[38;5;129;01min\u001b[39;00m params \u001b[38;5;28;01melse\u001b[39;00m\n\u001b[0;32m     58\u001b[0m         Bbox\u001b[38;5;241m.\u001b[39mfrom_bounds(\u001b[38;5;241m-\u001b[39mparams[\u001b[38;5;124m\"\u001b[39m\u001b[38;5;124mxdescent\u001b[39m\u001b[38;5;124m\"\u001b[39m], \u001b[38;5;241m-\u001b[39mparams[\u001b[38;5;124m\"\u001b[39m\u001b[38;5;124mydescent\u001b[39m\u001b[38;5;124m\"\u001b[39m],\n\u001b[0;32m     59\u001b[0m                          params[\u001b[38;5;124m\"\u001b[39m\u001b[38;5;124mwidth\u001b[39m\u001b[38;5;124m\"\u001b[39m], params[\u001b[38;5;124m\"\u001b[39m\u001b[38;5;124mheight\u001b[39m\u001b[38;5;124m\"\u001b[39m]))\n\u001b[1;32m---> 60\u001b[0m \u001b[38;5;28;01mreturn\u001b[39;00m \u001b[43mmeth\u001b[49m\u001b[43m(\u001b[49m\u001b[43mparams\u001b[49m\u001b[43m[\u001b[49m\u001b[38;5;124;43m\"\u001b[39;49m\u001b[38;5;124;43mself\u001b[39;49m\u001b[38;5;124;43m\"\u001b[39;49m\u001b[43m]\u001b[49m\u001b[43m,\u001b[49m\u001b[43m \u001b[49m\u001b[43mbbox\u001b[49m\u001b[43m,\u001b[49m\u001b[43m \u001b[49m\u001b[43mparams\u001b[49m\u001b[43m[\u001b[49m\u001b[38;5;124;43m\"\u001b[39;49m\u001b[38;5;124;43mrenderer\u001b[39;49m\u001b[38;5;124;43m\"\u001b[39;49m\u001b[43m]\u001b[49m\u001b[43m)\u001b[49m\n",
      "File \u001b[1;32m~\\.conda\\envs\\fraud_detection\\lib\\site-packages\\matplotlib\\offsetbox.py:313\u001b[0m, in \u001b[0;36mOffsetBox.get_offset\u001b[1;34m(self, bbox, renderer)\u001b[0m\n\u001b[0;32m    298\u001b[0m \u001b[38;5;129m@_compat_get_offset\u001b[39m\n\u001b[0;32m    299\u001b[0m \u001b[38;5;28;01mdef\u001b[39;00m \u001b[38;5;21mget_offset\u001b[39m(\u001b[38;5;28mself\u001b[39m, bbox, renderer):\n\u001b[0;32m    300\u001b[0m \u001b[38;5;250m    \u001b[39m\u001b[38;5;124;03m\"\"\"\u001b[39;00m\n\u001b[0;32m    301\u001b[0m \u001b[38;5;124;03m    Return the offset as a tuple (x, y).\u001b[39;00m\n\u001b[0;32m    302\u001b[0m \n\u001b[1;32m   (...)\u001b[0m\n\u001b[0;32m    310\u001b[0m \u001b[38;5;124;03m    renderer : `.RendererBase` subclass\u001b[39;00m\n\u001b[0;32m    311\u001b[0m \u001b[38;5;124;03m    \"\"\"\u001b[39;00m\n\u001b[0;32m    312\u001b[0m     \u001b[38;5;28;01mreturn\u001b[39;00m (\n\u001b[1;32m--> 313\u001b[0m         \u001b[38;5;28;43mself\u001b[39;49m\u001b[38;5;241;43m.\u001b[39;49m\u001b[43m_offset\u001b[49m\u001b[43m(\u001b[49m\u001b[43mbbox\u001b[49m\u001b[38;5;241;43m.\u001b[39;49m\u001b[43mwidth\u001b[49m\u001b[43m,\u001b[49m\u001b[43m \u001b[49m\u001b[43mbbox\u001b[49m\u001b[38;5;241;43m.\u001b[39;49m\u001b[43mheight\u001b[49m\u001b[43m,\u001b[49m\u001b[43m \u001b[49m\u001b[38;5;241;43m-\u001b[39;49m\u001b[43mbbox\u001b[49m\u001b[38;5;241;43m.\u001b[39;49m\u001b[43mx0\u001b[49m\u001b[43m,\u001b[49m\u001b[43m \u001b[49m\u001b[38;5;241;43m-\u001b[39;49m\u001b[43mbbox\u001b[49m\u001b[38;5;241;43m.\u001b[39;49m\u001b[43my0\u001b[49m\u001b[43m,\u001b[49m\u001b[43m \u001b[49m\u001b[43mrenderer\u001b[49m\u001b[43m)\u001b[49m\n\u001b[0;32m    314\u001b[0m         \u001b[38;5;28;01mif\u001b[39;00m callable(\u001b[38;5;28mself\u001b[39m\u001b[38;5;241m.\u001b[39m_offset)\n\u001b[0;32m    315\u001b[0m         \u001b[38;5;28;01melse\u001b[39;00m \u001b[38;5;28mself\u001b[39m\u001b[38;5;241m.\u001b[39m_offset)\n",
      "File \u001b[1;32m~\\.conda\\envs\\fraud_detection\\lib\\site-packages\\matplotlib\\legend.py:695\u001b[0m, in \u001b[0;36mLegend._findoffset\u001b[1;34m(self, width, height, xdescent, ydescent, renderer)\u001b[0m\n\u001b[0;32m    692\u001b[0m \u001b[38;5;250m\u001b[39m\u001b[38;5;124;03m\"\"\"Helper function to locate the legend.\"\"\"\u001b[39;00m\n\u001b[0;32m    694\u001b[0m \u001b[38;5;28;01mif\u001b[39;00m \u001b[38;5;28mself\u001b[39m\u001b[38;5;241m.\u001b[39m_loc \u001b[38;5;241m==\u001b[39m \u001b[38;5;241m0\u001b[39m:  \u001b[38;5;66;03m# \"best\".\u001b[39;00m\n\u001b[1;32m--> 695\u001b[0m     x, y \u001b[38;5;241m=\u001b[39m \u001b[38;5;28;43mself\u001b[39;49m\u001b[38;5;241;43m.\u001b[39;49m\u001b[43m_find_best_position\u001b[49m\u001b[43m(\u001b[49m\u001b[43mwidth\u001b[49m\u001b[43m,\u001b[49m\u001b[43m \u001b[49m\u001b[43mheight\u001b[49m\u001b[43m,\u001b[49m\u001b[43m \u001b[49m\u001b[43mrenderer\u001b[49m\u001b[43m)\u001b[49m\n\u001b[0;32m    696\u001b[0m \u001b[38;5;28;01melif\u001b[39;00m \u001b[38;5;28mself\u001b[39m\u001b[38;5;241m.\u001b[39m_loc \u001b[38;5;129;01min\u001b[39;00m Legend\u001b[38;5;241m.\u001b[39mcodes\u001b[38;5;241m.\u001b[39mvalues():  \u001b[38;5;66;03m# Fixed location.\u001b[39;00m\n\u001b[0;32m    697\u001b[0m     bbox \u001b[38;5;241m=\u001b[39m Bbox\u001b[38;5;241m.\u001b[39mfrom_bounds(\u001b[38;5;241m0\u001b[39m, \u001b[38;5;241m0\u001b[39m, width, height)\n",
      "File \u001b[1;32m~\\.conda\\envs\\fraud_detection\\lib\\site-packages\\matplotlib\\legend.py:1142\u001b[0m, in \u001b[0;36mLegend._find_best_position\u001b[1;34m(self, width, height, renderer, consider)\u001b[0m\n\u001b[0;32m   1137\u001b[0m badness \u001b[38;5;241m=\u001b[39m \u001b[38;5;241m0\u001b[39m\n\u001b[0;32m   1138\u001b[0m \u001b[38;5;66;03m# XXX TODO: If markers are present, it would be good to take them\u001b[39;00m\n\u001b[0;32m   1139\u001b[0m \u001b[38;5;66;03m# into account when checking vertex overlaps in the next line.\u001b[39;00m\n\u001b[0;32m   1140\u001b[0m badness \u001b[38;5;241m=\u001b[39m (\u001b[38;5;28msum\u001b[39m(legendBox\u001b[38;5;241m.\u001b[39mcount_contains(line\u001b[38;5;241m.\u001b[39mvertices)\n\u001b[0;32m   1141\u001b[0m                \u001b[38;5;28;01mfor\u001b[39;00m line \u001b[38;5;129;01min\u001b[39;00m lines)\n\u001b[1;32m-> 1142\u001b[0m            \u001b[38;5;241m+\u001b[39m \u001b[43mlegendBox\u001b[49m\u001b[38;5;241;43m.\u001b[39;49m\u001b[43mcount_contains\u001b[49m\u001b[43m(\u001b[49m\u001b[43moffsets\u001b[49m\u001b[43m)\u001b[49m\n\u001b[0;32m   1143\u001b[0m            \u001b[38;5;241m+\u001b[39m legendBox\u001b[38;5;241m.\u001b[39mcount_overlaps(bboxes)\n\u001b[0;32m   1144\u001b[0m            \u001b[38;5;241m+\u001b[39m \u001b[38;5;28msum\u001b[39m(line\u001b[38;5;241m.\u001b[39mintersects_bbox(legendBox, filled\u001b[38;5;241m=\u001b[39m\u001b[38;5;28;01mFalse\u001b[39;00m)\n\u001b[0;32m   1145\u001b[0m                  \u001b[38;5;28;01mfor\u001b[39;00m line \u001b[38;5;129;01min\u001b[39;00m lines))\n\u001b[0;32m   1146\u001b[0m \u001b[38;5;28;01mif\u001b[39;00m badness \u001b[38;5;241m==\u001b[39m \u001b[38;5;241m0\u001b[39m:\n\u001b[0;32m   1147\u001b[0m     \u001b[38;5;28;01mreturn\u001b[39;00m l, b\n",
      "File \u001b[1;32m~\\.conda\\envs\\fraud_detection\\lib\\site-packages\\matplotlib\\transforms.py:591\u001b[0m, in \u001b[0;36mBboxBase.count_contains\u001b[1;34m(self, vertices)\u001b[0m\n\u001b[0;32m    589\u001b[0m \u001b[38;5;28;01mif\u001b[39;00m \u001b[38;5;28mlen\u001b[39m(vertices) \u001b[38;5;241m==\u001b[39m \u001b[38;5;241m0\u001b[39m:\n\u001b[0;32m    590\u001b[0m     \u001b[38;5;28;01mreturn\u001b[39;00m \u001b[38;5;241m0\u001b[39m\n\u001b[1;32m--> 591\u001b[0m vertices \u001b[38;5;241m=\u001b[39m \u001b[43mnp\u001b[49m\u001b[38;5;241;43m.\u001b[39;49m\u001b[43masarray\u001b[49m\u001b[43m(\u001b[49m\u001b[43mvertices\u001b[49m\u001b[43m)\u001b[49m\n\u001b[0;32m    592\u001b[0m \u001b[38;5;28;01mwith\u001b[39;00m np\u001b[38;5;241m.\u001b[39merrstate(invalid\u001b[38;5;241m=\u001b[39m\u001b[38;5;124m'\u001b[39m\u001b[38;5;124mignore\u001b[39m\u001b[38;5;124m'\u001b[39m):\n\u001b[0;32m    593\u001b[0m     \u001b[38;5;28;01mreturn\u001b[39;00m (((\u001b[38;5;28mself\u001b[39m\u001b[38;5;241m.\u001b[39mmin \u001b[38;5;241m<\u001b[39m vertices) \u001b[38;5;241m&\u001b[39m\n\u001b[0;32m    594\u001b[0m              (vertices \u001b[38;5;241m<\u001b[39m \u001b[38;5;28mself\u001b[39m\u001b[38;5;241m.\u001b[39mmax))\u001b[38;5;241m.\u001b[39mall(axis\u001b[38;5;241m=\u001b[39m\u001b[38;5;241m1\u001b[39m)\u001b[38;5;241m.\u001b[39msum())\n",
      "\u001b[1;31mKeyboardInterrupt\u001b[0m: "
     ]
    },
    {
     "name": "stdout",
     "output_type": "stream",
     "text": [
      "Error in callback <function flush_figures at 0x0000027D84A60310> (for post_execute):\n"
     ]
    },
    {
     "name": "stderr",
     "output_type": "stream",
     "text": [
      "\n",
      "KeyboardInterrupt\n",
      "\n"
     ]
    }
   ],
   "source": []
  },
  {
   "cell_type": "code",
   "execution_count": null,
   "id": "01665b6a",
   "metadata": {},
   "outputs": [],
   "source": []
  },
  {
   "cell_type": "code",
   "execution_count": null,
   "id": "a3749946",
   "metadata": {},
   "outputs": [],
   "source": []
  },
  {
   "cell_type": "markdown",
   "id": "08d00d28",
   "metadata": {},
   "source": [
    "# type"
   ]
  },
  {
   "cell_type": "code",
   "execution_count": 227,
   "id": "f7e186ba",
   "metadata": {
    "ExecuteTime": {
     "end_time": "2023-09-12T17:55:10.910043Z",
     "start_time": "2023-09-12T17:55:09.444058Z"
    }
   },
   "outputs": [
    {
     "name": "stderr",
     "output_type": "stream",
     "text": [
      "\n",
      "KeyboardInterrupt\n",
      "\n"
     ]
    },
    {
     "name": "stdout",
     "output_type": "stream",
     "text": [
      "Error in callback <function flush_figures at 0x0000027D84A60310> (for post_execute):\n"
     ]
    },
    {
     "name": "stderr",
     "output_type": "stream",
     "text": [
      "\n",
      "KeyboardInterrupt\n",
      "\n"
     ]
    }
   ],
   "source": [
    "plt.figure(figsize = (10,7))\n",
    "sns.boxplot(x = 'type', y = 'amount', data = data, palette= 'GnBu_d').set_title('Age by Passenger Class')\n",
    "plt.show()"
   ]
  },
  {
   "cell_type": "code",
   "execution_count": null,
   "id": "0fdd3c23",
   "metadata": {},
   "outputs": [],
   "source": []
  },
  {
   "cell_type": "markdown",
   "id": "cfe1aaad",
   "metadata": {},
   "source": [
    "# amount"
   ]
  },
  {
   "cell_type": "code",
   "execution_count": 273,
   "id": "03404ead",
   "metadata": {
    "ExecuteTime": {
     "end_time": "2023-09-12T21:37:30.371039Z",
     "start_time": "2023-09-12T21:37:28.046186Z"
    }
   },
   "outputs": [
    {
     "data": {
      "text/plain": [
       "<Axes: xlabel='amount'>"
      ]
     },
     "execution_count": 273,
     "metadata": {},
     "output_type": "execute_result"
    },
    {
     "data": {
      "image/png": "[encoded data removed]",
      "text/plain": [
       "<Figure size 640x480 with 1 Axes>"
      ]
     },
     "metadata": {},
     "output_type": "display_data"
    }
   ],
   "source": [
    "sns.boxplot(x=data['amount'])"
   ]
  },
  {
   "cell_type": "code",
   "execution_count": null,
   "id": "38470a88",
   "metadata": {},
   "outputs": [],
   "source": []
  },
  {
   "cell_type": "code",
   "execution_count": 298,
   "id": "94353734",
   "metadata": {
    "ExecuteTime": {
     "end_time": "2023-09-12T21:48:30.627322Z",
     "start_time": "2023-09-12T21:48:28.765933Z"
    }
   },
   "outputs": [
    {
     "data": {
      "text/plain": [
       "amount\n",
       "10,000,000.00    3207\n",
       "10,000.00          88\n",
       "5,000.00           79\n",
       "15,000.00          68\n",
       "500.00             65\n",
       "                 ... \n",
       "8,513.48            1\n",
       "189,137.90          1\n",
       "1,615.78            1\n",
       "128,891.19          1\n",
       "12,257.89           1\n",
       "Name: count, Length: 5316900, dtype: int64"
      ]
     },
     "execution_count": 298,
     "metadata": {},
     "output_type": "execute_result"
    }
   ],
   "source": [
    "data['amount'].value_counts()"
   ]
  },
  {
   "cell_type": "code",
   "execution_count": 283,
   "id": "6130331a",
   "metadata": {
    "ExecuteTime": {
     "end_time": "2023-09-12T21:41:48.832908Z",
     "start_time": "2023-09-12T21:41:48.822905Z"
    }
   },
   "outputs": [
    {
     "data": {
      "text/plain": [
       "6362620"
      ]
     },
     "execution_count": 283,
     "metadata": {},
     "output_type": "execute_result"
    }
   ],
   "source": [
    "data.shape[0]"
   ]
  },
  {
   "cell_type": "code",
   "execution_count": 284,
   "id": "8393b206",
   "metadata": {
    "ExecuteTime": {
     "end_time": "2023-09-12T21:41:49.021958Z",
     "start_time": "2023-09-12T21:41:48.999954Z"
    }
   },
   "outputs": [
    {
     "data": {
      "text/html": [
       "<div>\n",
       "<style scoped>\n",
       "    .dataframe tbody tr th:only-of-type {\n",
       "        vertical-align: middle;\n",
       "    }\n",
       "\n",
       "    .dataframe tbody tr th {\n",
       "        vertical-align: top;\n",
       "    }\n",
       "\n",
       "    .dataframe thead th {\n",
       "        text-align: right;\n",
       "    }\n",
       "</style>\n",
       "<table border=\"1\" class=\"dataframe\">\n",
       "  <thead>\n",
       "    <tr style=\"text-align: right;\">\n",
       "      <th></th>\n",
       "      <th>step</th>\n",
       "      <th>type</th>\n",
       "      <th>amount</th>\n",
       "      <th>name_orig</th>\n",
       "      <th>oldbalance_org</th>\n",
       "      <th>newbalance_orig</th>\n",
       "      <th>name_dest</th>\n",
       "      <th>oldbalance_dest</th>\n",
       "      <th>newbalance_dest</th>\n",
       "      <th>is_fraud</th>\n",
       "      <th>is_flagged_fraud</th>\n",
       "    </tr>\n",
       "  </thead>\n",
       "  <tbody>\n",
       "    <tr>\n",
       "      <th>0</th>\n",
       "      <td>1</td>\n",
       "      <td>0</td>\n",
       "      <td>9,839.64</td>\n",
       "      <td>1231006815</td>\n",
       "      <td>170,136.00</td>\n",
       "      <td>160,296.36</td>\n",
       "      <td>1979787155</td>\n",
       "      <td>0.00</td>\n",
       "      <td>0.00</td>\n",
       "      <td>0</td>\n",
       "      <td>0</td>\n",
       "    </tr>\n",
       "    <tr>\n",
       "      <th>1</th>\n",
       "      <td>1</td>\n",
       "      <td>0</td>\n",
       "      <td>1,864.28</td>\n",
       "      <td>1666544295</td>\n",
       "      <td>21,249.00</td>\n",
       "      <td>19,384.72</td>\n",
       "      <td>2044282225</td>\n",
       "      <td>0.00</td>\n",
       "      <td>0.00</td>\n",
       "      <td>0</td>\n",
       "      <td>0</td>\n",
       "    </tr>\n",
       "    <tr>\n",
       "      <th>2</th>\n",
       "      <td>1</td>\n",
       "      <td>1</td>\n",
       "      <td>181.00</td>\n",
       "      <td>1305486145</td>\n",
       "      <td>181.00</td>\n",
       "      <td>0.00</td>\n",
       "      <td>553264065</td>\n",
       "      <td>0.00</td>\n",
       "      <td>0.00</td>\n",
       "      <td>1</td>\n",
       "      <td>0</td>\n",
       "    </tr>\n",
       "    <tr>\n",
       "      <th>3</th>\n",
       "      <td>1</td>\n",
       "      <td>2</td>\n",
       "      <td>181.00</td>\n",
       "      <td>840083671</td>\n",
       "      <td>181.00</td>\n",
       "      <td>0.00</td>\n",
       "      <td>38997010</td>\n",
       "      <td>21,182.00</td>\n",
       "      <td>0.00</td>\n",
       "      <td>1</td>\n",
       "      <td>0</td>\n",
       "    </tr>\n",
       "    <tr>\n",
       "      <th>4</th>\n",
       "      <td>1</td>\n",
       "      <td>0</td>\n",
       "      <td>11,668.14</td>\n",
       "      <td>2048537720</td>\n",
       "      <td>41,554.00</td>\n",
       "      <td>29,885.86</td>\n",
       "      <td>1230701703</td>\n",
       "      <td>0.00</td>\n",
       "      <td>0.00</td>\n",
       "      <td>0</td>\n",
       "      <td>0</td>\n",
       "    </tr>\n",
       "  </tbody>\n",
       "</table>\n",
       "</div>"
      ],
      "text/plain": [
       "   step  type    amount   name_orig  oldbalance_org  newbalance_orig   name_dest  oldbalance_dest  newbalance_dest  is_fraud  is_flagged_fraud\n",
       "0     1     0  9,839.64  1231006815      170,136.00       160,296.36  1979787155             0.00             0.00         0                 0\n",
       "1     1     0  1,864.28  1666544295       21,249.00        19,384.72  2044282225             0.00             0.00         0                 0\n",
       "2     1     1    181.00  1305486145          181.00             0.00   553264065             0.00             0.00         1                 0\n",
       "3     1     2    181.00   840083671          181.00             0.00    38997010        21,182.00             0.00         1                 0\n",
       "4     1     0 11,668.14  2048537720       41,554.00        29,885.86  1230701703             0.00             0.00         0                 0"
      ]
     },
     "execution_count": 284,
     "metadata": {},
     "output_type": "execute_result"
    }
   ],
   "source": [
    "data.head()"
   ]
  },
  {
   "cell_type": "code",
   "execution_count": 294,
   "id": "fb46c729",
   "metadata": {
    "ExecuteTime": {
     "end_time": "2023-09-12T21:46:53.077344Z",
     "start_time": "2023-09-12T21:46:53.054346Z"
    }
   },
   "outputs": [
    {
     "data": {
      "text/html": [
       "<div>\n",
       "<style scoped>\n",
       "    .dataframe tbody tr th:only-of-type {\n",
       "        vertical-align: middle;\n",
       "    }\n",
       "\n",
       "    .dataframe tbody tr th {\n",
       "        vertical-align: top;\n",
       "    }\n",
       "\n",
       "    .dataframe thead th {\n",
       "        text-align: right;\n",
       "    }\n",
       "</style>\n",
       "<table border=\"1\" class=\"dataframe\">\n",
       "  <thead>\n",
       "    <tr style=\"text-align: right;\">\n",
       "      <th></th>\n",
       "      <th>step</th>\n",
       "      <th>type</th>\n",
       "      <th>amount</th>\n",
       "      <th>name_orig</th>\n",
       "      <th>oldbalance_org</th>\n",
       "      <th>newbalance_orig</th>\n",
       "      <th>name_dest</th>\n",
       "      <th>oldbalance_dest</th>\n",
       "      <th>newbalance_dest</th>\n",
       "      <th>is_fraud</th>\n",
       "      <th>is_flagged_fraud</th>\n",
       "    </tr>\n",
       "  </thead>\n",
       "  <tbody>\n",
       "  </tbody>\n",
       "</table>\n",
       "</div>"
      ],
      "text/plain": [
       "Empty DataFrame\n",
       "Columns: [step, type, amount, name_orig, oldbalance_org, newbalance_orig, name_dest, oldbalance_dest, newbalance_dest, is_fraud, is_flagged_fraud]\n",
       "Index: []"
      ]
     },
     "execution_count": 294,
     "metadata": {},
     "output_type": "execute_result"
    }
   ],
   "source": [
    "data.loc[data['amount'] == '10,000,000.00']\n"
   ]
  },
  {
   "cell_type": "code",
   "execution_count": 296,
   "id": "1bd316ad",
   "metadata": {
    "ExecuteTime": {
     "end_time": "2023-09-12T21:47:23.443946Z",
     "start_time": "2023-09-12T21:47:23.403943Z"
    }
   },
   "outputs": [
    {
     "data": {
      "text/plain": [
       "92445516.64"
      ]
     },
     "execution_count": 296,
     "metadata": {},
     "output_type": "execute_result"
    }
   ],
   "source": [
    "data['amount'].max()"
   ]
  },
  {
   "cell_type": "markdown",
   "id": "fb41aada",
   "metadata": {},
   "source": [
    "# name_orig"
   ]
  },
  {
   "cell_type": "code",
   "execution_count": null,
   "id": "a0c9ef54",
   "metadata": {},
   "outputs": [],
   "source": []
  },
  {
   "cell_type": "code",
   "execution_count": null,
   "id": "202e2a81",
   "metadata": {},
   "outputs": [],
   "source": []
  },
  {
   "cell_type": "markdown",
   "id": "6d14e7f4",
   "metadata": {},
   "source": [
    "# oldbalance_org"
   ]
  },
  {
   "cell_type": "code",
   "execution_count": null,
   "id": "c49951da",
   "metadata": {},
   "outputs": [],
   "source": []
  },
  {
   "cell_type": "code",
   "execution_count": null,
   "id": "3d84459b",
   "metadata": {},
   "outputs": [],
   "source": []
  },
  {
   "cell_type": "markdown",
   "id": "ccb7e331",
   "metadata": {},
   "source": [
    "# newbalance_orig"
   ]
  },
  {
   "cell_type": "code",
   "execution_count": null,
   "id": "38174356",
   "metadata": {},
   "outputs": [],
   "source": []
  },
  {
   "cell_type": "code",
   "execution_count": null,
   "id": "776c2c24",
   "metadata": {},
   "outputs": [],
   "source": []
  },
  {
   "cell_type": "markdown",
   "id": "bdd26af0",
   "metadata": {},
   "source": [
    "# name_dest"
   ]
  },
  {
   "cell_type": "code",
   "execution_count": null,
   "id": "5d2869e2",
   "metadata": {},
   "outputs": [],
   "source": []
  },
  {
   "cell_type": "code",
   "execution_count": null,
   "id": "a613133e",
   "metadata": {},
   "outputs": [],
   "source": []
  },
  {
   "cell_type": "markdown",
   "id": "d501c939",
   "metadata": {},
   "source": [
    "# oldbalance_dest"
   ]
  },
  {
   "cell_type": "code",
   "execution_count": null,
   "id": "b74f89d2",
   "metadata": {},
   "outputs": [],
   "source": []
  },
  {
   "cell_type": "code",
   "execution_count": null,
   "id": "19daecbd",
   "metadata": {},
   "outputs": [],
   "source": []
  },
  {
   "cell_type": "markdown",
   "id": "e692f012",
   "metadata": {},
   "source": [
    "# newbalance_dest"
   ]
  },
  {
   "cell_type": "code",
   "execution_count": null,
   "id": "3c36a049",
   "metadata": {},
   "outputs": [],
   "source": []
  },
  {
   "cell_type": "code",
   "execution_count": null,
   "id": "dc2e4b55",
   "metadata": {},
   "outputs": [],
   "source": []
  },
  {
   "cell_type": "markdown",
   "id": "62a03281",
   "metadata": {},
   "source": [
    "# is_flagged_fraud"
   ]
  },
  {
   "cell_type": "code",
   "execution_count": null,
   "id": "fb0b41fe",
   "metadata": {},
   "outputs": [],
   "source": []
  },
  {
   "cell_type": "code",
   "execution_count": null,
   "id": "04233976",
   "metadata": {},
   "outputs": [],
   "source": []
  },
  {
   "cell_type": "markdown",
   "id": "68ab042a",
   "metadata": {},
   "source": [
    "# Multivariated Analysis"
   ]
  },
  {
   "cell_type": "code",
   "execution_count": 79,
   "id": "7e69ca06",
   "metadata": {
    "ExecuteTime": {
     "end_time": "2023-09-14T01:26:23.343745Z",
     "start_time": "2023-09-14T01:26:17.768661Z"
    },
    "scrolled": true
   },
   "outputs": [
    {
     "data": {
      "image/png": "[encoded data removed]",
      "text/plain": [
       "<Figure size 3200x1600 with 2 Axes>"
      ]
     },
     "metadata": {},
     "output_type": "display_data"
    }
   ],
   "source": [
    "corr = data.corr(method='pearson')\n",
    "\n",
    "column_order = ['is_fraud'] + [col for col in corr.columns if col != 'is_fraud']\n",
    "corr = corr.reindex(columns=column_order, index=column_order)\n",
    "\n",
    "plt.figure(figsize=(32, 16))\n",
    "sns.heatmap(corr, annot=True, fmt='.2f', cmap='coolwarm')\n",
    "plt.show()"
   ]
  },
  {
   "cell_type": "code",
   "execution_count": null,
   "id": "8c8ee9e2",
   "metadata": {},
   "outputs": [],
   "source": []
  }
 ],
 "metadata": {
  "kernelspec": {
   "display_name": "Python 3 (ipykernel)",
   "language": "python",
   "name": "python3"
  },
  "language_info": {
   "codemirror_mode": {
    "name": "ipython",
    "version": 3
   },
   "file_extension": ".py",
   "mimetype": "text/x-python",
   "name": "python",
   "nbconvert_exporter": "python",
   "pygments_lexer": "ipython3",
   "version": "3.10.13"
  }
 },
 "nbformat": 4,
 "nbformat_minor": 5
}
