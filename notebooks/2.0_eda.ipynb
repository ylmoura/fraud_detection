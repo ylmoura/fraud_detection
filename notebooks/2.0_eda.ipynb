{
 "cells": [
  {
   "cell_type": "code",
   "execution_count": 9,
   "id": "d2500c6e",
   "metadata": {
    "ExecuteTime": {
     "end_time": "2023-09-12T13:39:12.368296Z",
     "start_time": "2023-09-12T13:39:12.344301Z"
    }
   },
   "outputs": [],
   "source": [
    "\n",
    "# Basic Tools\n",
    "import numpy as np\n",
    "import pandas as pd\n",
    "from datetime import datetime as dt\n",
    "import sys\n",
    "import re\n",
    "\n",
    "\n",
    "# Visualization Tools\n",
    "from matplotlib import pyplot as plt\n",
    "from matplotlib import rcParams\n",
    "%matplotlib inline\n",
    "import seaborn as sns\n",
    "from PIL import Image\n",
    "from IPython.display import display\n",
    "import sweetviz as sv\n",
    "\n",
    "# import plotly packages \n",
    "import plotly.graph_objects as go\n",
    "import plotly.express as px\n",
    "\n",
    "\n",
    "\n",
    "#!{sys.executable} -m pip install pandas-profiling\n",
    "from pandas_profiling import ProfileReport\n",
    "\n",
    "\n",
    "\n",
    "from sklearn.model_selection import train_test_split\n",
    "\n",
    "\n",
    "\n",
    "import warnings\n",
    "\n",
    "import warnings\n",
    "warnings.filterwarnings( 'ignore' )"
   ]
  },
  {
   "cell_type": "code",
   "execution_count": 242,
   "id": "57aa272a",
   "metadata": {
    "ExecuteTime": {
     "end_time": "2023-09-12T17:59:02.478153Z",
     "start_time": "2023-09-12T17:58:51.636216Z"
    }
   },
   "outputs": [],
   "source": [
    "data_raw = pd.read_csv('../data/processed/data_processed.csv')"
   ]
  },
  {
   "cell_type": "code",
   "execution_count": 243,
   "id": "accfd59c",
   "metadata": {
    "ExecuteTime": {
     "end_time": "2023-09-12T17:59:02.699151Z",
     "start_time": "2023-09-12T17:59:02.482155Z"
    }
   },
   "outputs": [],
   "source": [
    "data = data_raw.copy()"
   ]
  },
  {
   "cell_type": "markdown",
   "id": "27a365de",
   "metadata": {},
   "source": [
    "# Configurations"
   ]
  },
  {
   "cell_type": "code",
   "execution_count": 244,
   "id": "c5f9757d",
   "metadata": {
    "ExecuteTime": {
     "end_time": "2023-09-12T17:59:02.714150Z",
     "start_time": "2023-09-12T17:59:02.703153Z"
    }
   },
   "outputs": [],
   "source": [
    "# def pandas_settings():\n",
    "#     pd.options.display.float_format = '{:,.2f}'.format\n",
    "#     pd.set_option('display.expand_frame_repr', False )\n",
    "#     pd.set_option('display.max_columns', 35)\n",
    "#     pd.set_option('display.max_rows', 50)\n",
    "    \n",
    "\n",
    "# pandas_settings()"
   ]
  },
  {
   "cell_type": "code",
   "execution_count": null,
   "id": "a1169dde",
   "metadata": {},
   "outputs": [],
   "source": []
  },
  {
   "cell_type": "code",
   "execution_count": null,
   "id": "60feef91",
   "metadata": {},
   "outputs": [],
   "source": []
  },
  {
   "cell_type": "code",
   "execution_count": null,
   "id": "a3d365bd",
   "metadata": {},
   "outputs": [],
   "source": []
  },
  {
   "cell_type": "code",
   "execution_count": null,
   "id": "8530f277",
   "metadata": {},
   "outputs": [],
   "source": []
  },
  {
   "cell_type": "code",
   "execution_count": null,
   "id": "d159a7e8",
   "metadata": {},
   "outputs": [],
   "source": []
  },
  {
   "cell_type": "markdown",
   "id": "9fa2b431",
   "metadata": {},
   "source": [
    "# Analyse Dataset"
   ]
  },
  {
   "cell_type": "code",
   "execution_count": 245,
   "id": "01bfe2bf",
   "metadata": {
    "ExecuteTime": {
     "end_time": "2023-09-12T17:59:02.730150Z",
     "start_time": "2023-09-12T17:59:02.719155Z"
    }
   },
   "outputs": [],
   "source": [
    "# profile = ProfileReport(data, minimal=True)\n",
    "# profile.to_file(output_file=\"../reports/analyse_fraud.html\")"
   ]
  },
  {
   "cell_type": "code",
   "execution_count": null,
   "id": "93e765f9",
   "metadata": {},
   "outputs": [],
   "source": []
  },
  {
   "cell_type": "code",
   "execution_count": 246,
   "id": "1cdeb407",
   "metadata": {
    "ExecuteTime": {
     "end_time": "2023-09-12T17:59:02.762152Z",
     "start_time": "2023-09-12T17:59:02.734166Z"
    }
   },
   "outputs": [],
   "source": [
    "\n",
    "# my_report = sv.analyze(data)\n",
    "# my_report.show_html() "
   ]
  },
  {
   "cell_type": "code",
   "execution_count": null,
   "id": "1b2d40a8",
   "metadata": {},
   "outputs": [],
   "source": []
  },
  {
   "cell_type": "code",
   "execution_count": 247,
   "id": "0e62036b",
   "metadata": {
    "ExecuteTime": {
     "end_time": "2023-09-12T17:59:02.794151Z",
     "start_time": "2023-09-12T17:59:02.765152Z"
    }
   },
   "outputs": [
    {
     "data": {
      "text/html": [
       "<div>\n",
       "<style scoped>\n",
       "    .dataframe tbody tr th:only-of-type {\n",
       "        vertical-align: middle;\n",
       "    }\n",
       "\n",
       "    .dataframe tbody tr th {\n",
       "        vertical-align: top;\n",
       "    }\n",
       "\n",
       "    .dataframe thead th {\n",
       "        text-align: right;\n",
       "    }\n",
       "</style>\n",
       "<table border=\"1\" class=\"dataframe\">\n",
       "  <thead>\n",
       "    <tr style=\"text-align: right;\">\n",
       "      <th></th>\n",
       "      <th>step</th>\n",
       "      <th>type</th>\n",
       "      <th>amount</th>\n",
       "      <th>name_orig</th>\n",
       "      <th>oldbalance_org</th>\n",
       "      <th>newbalance_orig</th>\n",
       "      <th>name_dest</th>\n",
       "      <th>oldbalance_dest</th>\n",
       "      <th>newbalance_dest</th>\n",
       "      <th>is_fraud</th>\n",
       "      <th>is_flagged_fraud</th>\n",
       "    </tr>\n",
       "  </thead>\n",
       "  <tbody>\n",
       "    <tr>\n",
       "      <th>0</th>\n",
       "      <td>1</td>\n",
       "      <td>PAYMENT</td>\n",
       "      <td>9,839.64</td>\n",
       "      <td>C1231006815</td>\n",
       "      <td>170,136.00</td>\n",
       "      <td>160,296.36</td>\n",
       "      <td>M1979787155</td>\n",
       "      <td>0.00</td>\n",
       "      <td>0.00</td>\n",
       "      <td>0</td>\n",
       "      <td>0</td>\n",
       "    </tr>\n",
       "    <tr>\n",
       "      <th>1</th>\n",
       "      <td>1</td>\n",
       "      <td>PAYMENT</td>\n",
       "      <td>1,864.28</td>\n",
       "      <td>C1666544295</td>\n",
       "      <td>21,249.00</td>\n",
       "      <td>19,384.72</td>\n",
       "      <td>M2044282225</td>\n",
       "      <td>0.00</td>\n",
       "      <td>0.00</td>\n",
       "      <td>0</td>\n",
       "      <td>0</td>\n",
       "    </tr>\n",
       "    <tr>\n",
       "      <th>2</th>\n",
       "      <td>1</td>\n",
       "      <td>TRANSFER</td>\n",
       "      <td>181.00</td>\n",
       "      <td>C1305486145</td>\n",
       "      <td>181.00</td>\n",
       "      <td>0.00</td>\n",
       "      <td>C553264065</td>\n",
       "      <td>0.00</td>\n",
       "      <td>0.00</td>\n",
       "      <td>1</td>\n",
       "      <td>0</td>\n",
       "    </tr>\n",
       "    <tr>\n",
       "      <th>3</th>\n",
       "      <td>1</td>\n",
       "      <td>CASH_OUT</td>\n",
       "      <td>181.00</td>\n",
       "      <td>C840083671</td>\n",
       "      <td>181.00</td>\n",
       "      <td>0.00</td>\n",
       "      <td>C38997010</td>\n",
       "      <td>21,182.00</td>\n",
       "      <td>0.00</td>\n",
       "      <td>1</td>\n",
       "      <td>0</td>\n",
       "    </tr>\n",
       "    <tr>\n",
       "      <th>4</th>\n",
       "      <td>1</td>\n",
       "      <td>PAYMENT</td>\n",
       "      <td>11,668.14</td>\n",
       "      <td>C2048537720</td>\n",
       "      <td>41,554.00</td>\n",
       "      <td>29,885.86</td>\n",
       "      <td>M1230701703</td>\n",
       "      <td>0.00</td>\n",
       "      <td>0.00</td>\n",
       "      <td>0</td>\n",
       "      <td>0</td>\n",
       "    </tr>\n",
       "  </tbody>\n",
       "</table>\n",
       "</div>"
      ],
      "text/plain": [
       "   step      type    amount    name_orig  oldbalance_org  newbalance_orig    name_dest  oldbalance_dest  newbalance_dest  is_fraud  is_flagged_fraud\n",
       "0     1   PAYMENT  9,839.64  C1231006815      170,136.00       160,296.36  M1979787155             0.00             0.00         0                 0\n",
       "1     1   PAYMENT  1,864.28  C1666544295       21,249.00        19,384.72  M2044282225             0.00             0.00         0                 0\n",
       "2     1  TRANSFER    181.00  C1305486145          181.00             0.00   C553264065             0.00             0.00         1                 0\n",
       "3     1  CASH_OUT    181.00   C840083671          181.00             0.00    C38997010        21,182.00             0.00         1                 0\n",
       "4     1   PAYMENT 11,668.14  C2048537720       41,554.00        29,885.86  M1230701703             0.00             0.00         0                 0"
      ]
     },
     "execution_count": 247,
     "metadata": {},
     "output_type": "execute_result"
    }
   ],
   "source": [
    "data.head()"
   ]
  },
  {
   "cell_type": "code",
   "execution_count": null,
   "id": "b5a93805",
   "metadata": {},
   "outputs": [],
   "source": []
  },
  {
   "cell_type": "code",
   "execution_count": 248,
   "id": "989e85d2",
   "metadata": {
    "ExecuteTime": {
     "end_time": "2023-09-12T17:59:04.609137Z",
     "start_time": "2023-09-12T17:59:02.798154Z"
    }
   },
   "outputs": [
    {
     "data": {
      "text/html": [
       "<style type=\"text/css\">\n",
       "#T_acc7c_row0_col0, #T_acc7c_row0_col6, #T_acc7c_row0_col7, #T_acc7c_row7_col1, #T_acc7c_row7_col2, #T_acc7c_row7_col3, #T_acc7c_row7_col4, #T_acc7c_row7_col5 {\n",
       "  background-color: #023858;\n",
       "  color: #f1f1f1;\n",
       "}\n",
       "#T_acc7c_row0_col1 {\n",
       "  background-color: #f5eef6;\n",
       "  color: #000000;\n",
       "}\n",
       "#T_acc7c_row0_col2 {\n",
       "  background-color: #efe9f3;\n",
       "  color: #000000;\n",
       "}\n",
       "#T_acc7c_row0_col3 {\n",
       "  background-color: #ece7f2;\n",
       "  color: #000000;\n",
       "}\n",
       "#T_acc7c_row0_col4, #T_acc7c_row0_col5, #T_acc7c_row1_col2, #T_acc7c_row1_col3 {\n",
       "  background-color: #fdf5fa;\n",
       "  color: #000000;\n",
       "}\n",
       "#T_acc7c_row1_col0, #T_acc7c_row1_col1, #T_acc7c_row1_col4, #T_acc7c_row1_col5, #T_acc7c_row1_col6, #T_acc7c_row1_col7, #T_acc7c_row2_col0, #T_acc7c_row2_col6, #T_acc7c_row2_col7, #T_acc7c_row3_col0, #T_acc7c_row3_col1, #T_acc7c_row3_col2, #T_acc7c_row3_col3, #T_acc7c_row3_col4, #T_acc7c_row3_col5, #T_acc7c_row3_col6, #T_acc7c_row3_col7, #T_acc7c_row4_col0, #T_acc7c_row4_col1, #T_acc7c_row4_col2, #T_acc7c_row4_col3, #T_acc7c_row4_col4, #T_acc7c_row4_col5, #T_acc7c_row4_col6, #T_acc7c_row4_col7, #T_acc7c_row5_col0, #T_acc7c_row5_col1, #T_acc7c_row5_col2, #T_acc7c_row5_col3, #T_acc7c_row5_col4, #T_acc7c_row5_col5, #T_acc7c_row5_col6, #T_acc7c_row5_col7, #T_acc7c_row6_col0, #T_acc7c_row6_col1, #T_acc7c_row6_col2, #T_acc7c_row6_col3, #T_acc7c_row6_col4, #T_acc7c_row6_col5, #T_acc7c_row6_col6, #T_acc7c_row6_col7, #T_acc7c_row7_col0, #T_acc7c_row7_col6, #T_acc7c_row7_col7 {\n",
       "  background-color: #fff7fb;\n",
       "  color: #000000;\n",
       "}\n",
       "#T_acc7c_row2_col1 {\n",
       "  background-color: #fef6fb;\n",
       "  color: #000000;\n",
       "}\n",
       "#T_acc7c_row2_col2 {\n",
       "  background-color: #f8f1f8;\n",
       "  color: #000000;\n",
       "}\n",
       "#T_acc7c_row2_col3 {\n",
       "  background-color: #f6eff7;\n",
       "  color: #000000;\n",
       "}\n",
       "#T_acc7c_row2_col4, #T_acc7c_row2_col5 {\n",
       "  background-color: #fef6fa;\n",
       "  color: #000000;\n",
       "}\n",
       "</style>\n",
       "<table id=\"T_acc7c\">\n",
       "  <thead>\n",
       "    <tr>\n",
       "      <th class=\"blank level0\" >&nbsp;</th>\n",
       "      <th id=\"T_acc7c_level0_col0\" class=\"col_heading level0 col0\" >step</th>\n",
       "      <th id=\"T_acc7c_level0_col1\" class=\"col_heading level0 col1\" >amount</th>\n",
       "      <th id=\"T_acc7c_level0_col2\" class=\"col_heading level0 col2\" >oldbalance_org</th>\n",
       "      <th id=\"T_acc7c_level0_col3\" class=\"col_heading level0 col3\" >newbalance_orig</th>\n",
       "      <th id=\"T_acc7c_level0_col4\" class=\"col_heading level0 col4\" >oldbalance_dest</th>\n",
       "      <th id=\"T_acc7c_level0_col5\" class=\"col_heading level0 col5\" >newbalance_dest</th>\n",
       "      <th id=\"T_acc7c_level0_col6\" class=\"col_heading level0 col6\" >is_fraud</th>\n",
       "      <th id=\"T_acc7c_level0_col7\" class=\"col_heading level0 col7\" >is_flagged_fraud</th>\n",
       "    </tr>\n",
       "  </thead>\n",
       "  <tbody>\n",
       "    <tr>\n",
       "      <th id=\"T_acc7c_level0_row0\" class=\"row_heading level0 row0\" >count</th>\n",
       "      <td id=\"T_acc7c_row0_col0\" class=\"data row0 col0\" >6362620.000000</td>\n",
       "      <td id=\"T_acc7c_row0_col1\" class=\"data row0 col1\" >6362620.000000</td>\n",
       "      <td id=\"T_acc7c_row0_col2\" class=\"data row0 col2\" >6362620.000000</td>\n",
       "      <td id=\"T_acc7c_row0_col3\" class=\"data row0 col3\" >6362620.000000</td>\n",
       "      <td id=\"T_acc7c_row0_col4\" class=\"data row0 col4\" >6362620.000000</td>\n",
       "      <td id=\"T_acc7c_row0_col5\" class=\"data row0 col5\" >6362620.000000</td>\n",
       "      <td id=\"T_acc7c_row0_col6\" class=\"data row0 col6\" >6362620.000000</td>\n",
       "      <td id=\"T_acc7c_row0_col7\" class=\"data row0 col7\" >6362620.000000</td>\n",
       "    </tr>\n",
       "    <tr>\n",
       "      <th id=\"T_acc7c_level0_row1\" class=\"row_heading level0 row1\" >mean</th>\n",
       "      <td id=\"T_acc7c_row1_col0\" class=\"data row1 col0\" >243.397246</td>\n",
       "      <td id=\"T_acc7c_row1_col1\" class=\"data row1 col1\" >179861.903549</td>\n",
       "      <td id=\"T_acc7c_row1_col2\" class=\"data row1 col2\" >833883.104074</td>\n",
       "      <td id=\"T_acc7c_row1_col3\" class=\"data row1 col3\" >855113.668579</td>\n",
       "      <td id=\"T_acc7c_row1_col4\" class=\"data row1 col4\" >1100701.666520</td>\n",
       "      <td id=\"T_acc7c_row1_col5\" class=\"data row1 col5\" >1224996.398202</td>\n",
       "      <td id=\"T_acc7c_row1_col6\" class=\"data row1 col6\" >0.001291</td>\n",
       "      <td id=\"T_acc7c_row1_col7\" class=\"data row1 col7\" >0.000003</td>\n",
       "    </tr>\n",
       "    <tr>\n",
       "      <th id=\"T_acc7c_level0_row2\" class=\"row_heading level0 row2\" >std</th>\n",
       "      <td id=\"T_acc7c_row2_col0\" class=\"data row2 col0\" >142.331971</td>\n",
       "      <td id=\"T_acc7c_row2_col1\" class=\"data row2 col1\" >603858.231463</td>\n",
       "      <td id=\"T_acc7c_row2_col2\" class=\"data row2 col2\" >2888242.673038</td>\n",
       "      <td id=\"T_acc7c_row2_col3\" class=\"data row2 col3\" >2924048.502954</td>\n",
       "      <td id=\"T_acc7c_row2_col4\" class=\"data row2 col4\" >3399180.112994</td>\n",
       "      <td id=\"T_acc7c_row2_col5\" class=\"data row2 col5\" >3674128.942120</td>\n",
       "      <td id=\"T_acc7c_row2_col6\" class=\"data row2 col6\" >0.035905</td>\n",
       "      <td id=\"T_acc7c_row2_col7\" class=\"data row2 col7\" >0.001586</td>\n",
       "    </tr>\n",
       "    <tr>\n",
       "      <th id=\"T_acc7c_level0_row3\" class=\"row_heading level0 row3\" >min</th>\n",
       "      <td id=\"T_acc7c_row3_col0\" class=\"data row3 col0\" >1.000000</td>\n",
       "      <td id=\"T_acc7c_row3_col1\" class=\"data row3 col1\" >0.000000</td>\n",
       "      <td id=\"T_acc7c_row3_col2\" class=\"data row3 col2\" >0.000000</td>\n",
       "      <td id=\"T_acc7c_row3_col3\" class=\"data row3 col3\" >0.000000</td>\n",
       "      <td id=\"T_acc7c_row3_col4\" class=\"data row3 col4\" >0.000000</td>\n",
       "      <td id=\"T_acc7c_row3_col5\" class=\"data row3 col5\" >0.000000</td>\n",
       "      <td id=\"T_acc7c_row3_col6\" class=\"data row3 col6\" >0.000000</td>\n",
       "      <td id=\"T_acc7c_row3_col7\" class=\"data row3 col7\" >0.000000</td>\n",
       "    </tr>\n",
       "    <tr>\n",
       "      <th id=\"T_acc7c_level0_row4\" class=\"row_heading level0 row4\" >25%</th>\n",
       "      <td id=\"T_acc7c_row4_col0\" class=\"data row4 col0\" >156.000000</td>\n",
       "      <td id=\"T_acc7c_row4_col1\" class=\"data row4 col1\" >13389.570000</td>\n",
       "      <td id=\"T_acc7c_row4_col2\" class=\"data row4 col2\" >0.000000</td>\n",
       "      <td id=\"T_acc7c_row4_col3\" class=\"data row4 col3\" >0.000000</td>\n",
       "      <td id=\"T_acc7c_row4_col4\" class=\"data row4 col4\" >0.000000</td>\n",
       "      <td id=\"T_acc7c_row4_col5\" class=\"data row4 col5\" >0.000000</td>\n",
       "      <td id=\"T_acc7c_row4_col6\" class=\"data row4 col6\" >0.000000</td>\n",
       "      <td id=\"T_acc7c_row4_col7\" class=\"data row4 col7\" >0.000000</td>\n",
       "    </tr>\n",
       "    <tr>\n",
       "      <th id=\"T_acc7c_level0_row5\" class=\"row_heading level0 row5\" >50%</th>\n",
       "      <td id=\"T_acc7c_row5_col0\" class=\"data row5 col0\" >239.000000</td>\n",
       "      <td id=\"T_acc7c_row5_col1\" class=\"data row5 col1\" >74871.940000</td>\n",
       "      <td id=\"T_acc7c_row5_col2\" class=\"data row5 col2\" >14208.000000</td>\n",
       "      <td id=\"T_acc7c_row5_col3\" class=\"data row5 col3\" >0.000000</td>\n",
       "      <td id=\"T_acc7c_row5_col4\" class=\"data row5 col4\" >132705.665000</td>\n",
       "      <td id=\"T_acc7c_row5_col5\" class=\"data row5 col5\" >214661.440000</td>\n",
       "      <td id=\"T_acc7c_row5_col6\" class=\"data row5 col6\" >0.000000</td>\n",
       "      <td id=\"T_acc7c_row5_col7\" class=\"data row5 col7\" >0.000000</td>\n",
       "    </tr>\n",
       "    <tr>\n",
       "      <th id=\"T_acc7c_level0_row6\" class=\"row_heading level0 row6\" >75%</th>\n",
       "      <td id=\"T_acc7c_row6_col0\" class=\"data row6 col0\" >335.000000</td>\n",
       "      <td id=\"T_acc7c_row6_col1\" class=\"data row6 col1\" >208721.477500</td>\n",
       "      <td id=\"T_acc7c_row6_col2\" class=\"data row6 col2\" >107315.175000</td>\n",
       "      <td id=\"T_acc7c_row6_col3\" class=\"data row6 col3\" >144258.410000</td>\n",
       "      <td id=\"T_acc7c_row6_col4\" class=\"data row6 col4\" >943036.707500</td>\n",
       "      <td id=\"T_acc7c_row6_col5\" class=\"data row6 col5\" >1111909.250000</td>\n",
       "      <td id=\"T_acc7c_row6_col6\" class=\"data row6 col6\" >0.000000</td>\n",
       "      <td id=\"T_acc7c_row6_col7\" class=\"data row6 col7\" >0.000000</td>\n",
       "    </tr>\n",
       "    <tr>\n",
       "      <th id=\"T_acc7c_level0_row7\" class=\"row_heading level0 row7\" >max</th>\n",
       "      <td id=\"T_acc7c_row7_col0\" class=\"data row7 col0\" >743.000000</td>\n",
       "      <td id=\"T_acc7c_row7_col1\" class=\"data row7 col1\" >92445516.640000</td>\n",
       "      <td id=\"T_acc7c_row7_col2\" class=\"data row7 col2\" >59585040.370000</td>\n",
       "      <td id=\"T_acc7c_row7_col3\" class=\"data row7 col3\" >49585040.370000</td>\n",
       "      <td id=\"T_acc7c_row7_col4\" class=\"data row7 col4\" >356015889.350000</td>\n",
       "      <td id=\"T_acc7c_row7_col5\" class=\"data row7 col5\" >356179278.920000</td>\n",
       "      <td id=\"T_acc7c_row7_col6\" class=\"data row7 col6\" >1.000000</td>\n",
       "      <td id=\"T_acc7c_row7_col7\" class=\"data row7 col7\" >1.000000</td>\n",
       "    </tr>\n",
       "  </tbody>\n",
       "</table>\n"
      ],
      "text/plain": [
       "<pandas.io.formats.style.Styler at 0x28000b0c4f0>"
      ]
     },
     "execution_count": 248,
     "metadata": {},
     "output_type": "execute_result"
    }
   ],
   "source": [
    "desc = data.describe()\n",
    "desc = desc.style.background_gradient()\n",
    "desc"
   ]
  },
  {
   "cell_type": "code",
   "execution_count": null,
   "id": "a7bfcb6a",
   "metadata": {},
   "outputs": [],
   "source": []
  },
  {
   "cell_type": "code",
   "execution_count": null,
   "id": "44b91300",
   "metadata": {},
   "outputs": [],
   "source": []
  },
  {
   "cell_type": "markdown",
   "id": "e796e7d6",
   "metadata": {},
   "source": [
    "# change type"
   ]
  },
  {
   "cell_type": "code",
   "execution_count": 249,
   "id": "afee2916",
   "metadata": {
    "ExecuteTime": {
     "end_time": "2023-09-12T17:59:04.986134Z",
     "start_time": "2023-09-12T17:59:04.614145Z"
    }
   },
   "outputs": [],
   "source": [
    "map_type = {'PAYMENT': 0,'TRANSFER':1,'CASH_OUT': 2,'DEBIT': 3,'CASH_IN': 4}\n",
    "data['type'] = data['type'].map(map_type)"
   ]
  },
  {
   "cell_type": "code",
   "execution_count": 250,
   "id": "b46b9d46",
   "metadata": {
    "ExecuteTime": {
     "end_time": "2023-09-12T17:59:05.002139Z",
     "start_time": "2023-09-12T17:59:04.989146Z"
    }
   },
   "outputs": [],
   "source": [
    "def remove_1_letra(df, column_name):\n",
    "    df[column_name] = df[column_name].str[1:]\n",
    "\n",
    "\n"
   ]
  },
  {
   "cell_type": "code",
   "execution_count": 251,
   "id": "36a76964",
   "metadata": {
    "ExecuteTime": {
     "end_time": "2023-09-12T17:59:08.937119Z",
     "start_time": "2023-09-12T17:59:05.007140Z"
    }
   },
   "outputs": [],
   "source": [
    "remove_1_letra(data, 'name_orig')\n",
    "remove_1_letra(data, 'name_dest')"
   ]
  },
  {
   "cell_type": "code",
   "execution_count": null,
   "id": "0afe69a2",
   "metadata": {},
   "outputs": [],
   "source": []
  },
  {
   "cell_type": "code",
   "execution_count": 253,
   "id": "d21402f8",
   "metadata": {
    "ExecuteTime": {
     "end_time": "2023-09-12T17:59:31.803331Z",
     "start_time": "2023-09-12T17:59:31.781338Z"
    }
   },
   "outputs": [
    {
     "data": {
      "text/html": [
       "<div>\n",
       "<style scoped>\n",
       "    .dataframe tbody tr th:only-of-type {\n",
       "        vertical-align: middle;\n",
       "    }\n",
       "\n",
       "    .dataframe tbody tr th {\n",
       "        vertical-align: top;\n",
       "    }\n",
       "\n",
       "    .dataframe thead th {\n",
       "        text-align: right;\n",
       "    }\n",
       "</style>\n",
       "<table border=\"1\" class=\"dataframe\">\n",
       "  <thead>\n",
       "    <tr style=\"text-align: right;\">\n",
       "      <th></th>\n",
       "      <th>step</th>\n",
       "      <th>type</th>\n",
       "      <th>amount</th>\n",
       "      <th>name_orig</th>\n",
       "      <th>oldbalance_org</th>\n",
       "      <th>newbalance_orig</th>\n",
       "      <th>name_dest</th>\n",
       "      <th>oldbalance_dest</th>\n",
       "      <th>newbalance_dest</th>\n",
       "      <th>is_fraud</th>\n",
       "      <th>is_flagged_fraud</th>\n",
       "    </tr>\n",
       "  </thead>\n",
       "  <tbody>\n",
       "    <tr>\n",
       "      <th>0</th>\n",
       "      <td>1</td>\n",
       "      <td>0</td>\n",
       "      <td>9,839.64</td>\n",
       "      <td>1231006815</td>\n",
       "      <td>170,136.00</td>\n",
       "      <td>160,296.36</td>\n",
       "      <td>1979787155</td>\n",
       "      <td>0.00</td>\n",
       "      <td>0.00</td>\n",
       "      <td>0</td>\n",
       "      <td>0</td>\n",
       "    </tr>\n",
       "    <tr>\n",
       "      <th>1</th>\n",
       "      <td>1</td>\n",
       "      <td>0</td>\n",
       "      <td>1,864.28</td>\n",
       "      <td>1666544295</td>\n",
       "      <td>21,249.00</td>\n",
       "      <td>19,384.72</td>\n",
       "      <td>2044282225</td>\n",
       "      <td>0.00</td>\n",
       "      <td>0.00</td>\n",
       "      <td>0</td>\n",
       "      <td>0</td>\n",
       "    </tr>\n",
       "    <tr>\n",
       "      <th>2</th>\n",
       "      <td>1</td>\n",
       "      <td>1</td>\n",
       "      <td>181.00</td>\n",
       "      <td>1305486145</td>\n",
       "      <td>181.00</td>\n",
       "      <td>0.00</td>\n",
       "      <td>553264065</td>\n",
       "      <td>0.00</td>\n",
       "      <td>0.00</td>\n",
       "      <td>1</td>\n",
       "      <td>0</td>\n",
       "    </tr>\n",
       "    <tr>\n",
       "      <th>3</th>\n",
       "      <td>1</td>\n",
       "      <td>2</td>\n",
       "      <td>181.00</td>\n",
       "      <td>840083671</td>\n",
       "      <td>181.00</td>\n",
       "      <td>0.00</td>\n",
       "      <td>38997010</td>\n",
       "      <td>21,182.00</td>\n",
       "      <td>0.00</td>\n",
       "      <td>1</td>\n",
       "      <td>0</td>\n",
       "    </tr>\n",
       "    <tr>\n",
       "      <th>4</th>\n",
       "      <td>1</td>\n",
       "      <td>0</td>\n",
       "      <td>11,668.14</td>\n",
       "      <td>2048537720</td>\n",
       "      <td>41,554.00</td>\n",
       "      <td>29,885.86</td>\n",
       "      <td>1230701703</td>\n",
       "      <td>0.00</td>\n",
       "      <td>0.00</td>\n",
       "      <td>0</td>\n",
       "      <td>0</td>\n",
       "    </tr>\n",
       "  </tbody>\n",
       "</table>\n",
       "</div>"
      ],
      "text/plain": [
       "   step  type    amount   name_orig  oldbalance_org  newbalance_orig   name_dest  oldbalance_dest  newbalance_dest  is_fraud  is_flagged_fraud\n",
       "0     1     0  9,839.64  1231006815      170,136.00       160,296.36  1979787155             0.00             0.00         0                 0\n",
       "1     1     0  1,864.28  1666544295       21,249.00        19,384.72  2044282225             0.00             0.00         0                 0\n",
       "2     1     1    181.00  1305486145          181.00             0.00   553264065             0.00             0.00         1                 0\n",
       "3     1     2    181.00   840083671          181.00             0.00    38997010        21,182.00             0.00         1                 0\n",
       "4     1     0 11,668.14  2048537720       41,554.00        29,885.86  1230701703             0.00             0.00         0                 0"
      ]
     },
     "execution_count": 253,
     "metadata": {},
     "output_type": "execute_result"
    }
   ],
   "source": [
    "data.head()"
   ]
  },
  {
   "cell_type": "code",
   "execution_count": null,
   "id": "ba2c1aed",
   "metadata": {},
   "outputs": [],
   "source": [
    "# s.str.slice(start=0, stop=5, step=3)\n",
    "# https://pandas.pydata.org/docs/reference/api/pandas.Series.str.slice.html\n",
    "# mostrar valores unico da inicial\n",
    "data['name_orig'].str[0:1].unique()"
   ]
  },
  {
   "cell_type": "code",
   "execution_count": null,
   "id": "686e9cf9",
   "metadata": {},
   "outputs": [],
   "source": []
  },
  {
   "cell_type": "code",
   "execution_count": null,
   "id": "763e4d83",
   "metadata": {},
   "outputs": [],
   "source": []
  },
  {
   "cell_type": "code",
   "execution_count": 215,
   "id": "1ee7df65",
   "metadata": {
    "ExecuteTime": {
     "end_time": "2023-09-12T17:52:13.463935Z",
     "start_time": "2023-09-12T17:52:13.430942Z"
    }
   },
   "outputs": [
    {
     "data": {
      "text/html": [
       "<div>\n",
       "<style scoped>\n",
       "    .dataframe tbody tr th:only-of-type {\n",
       "        vertical-align: middle;\n",
       "    }\n",
       "\n",
       "    .dataframe tbody tr th {\n",
       "        vertical-align: top;\n",
       "    }\n",
       "\n",
       "    .dataframe thead th {\n",
       "        text-align: right;\n",
       "    }\n",
       "</style>\n",
       "<table border=\"1\" class=\"dataframe\">\n",
       "  <thead>\n",
       "    <tr style=\"text-align: right;\">\n",
       "      <th></th>\n",
       "      <th>step</th>\n",
       "      <th>type</th>\n",
       "      <th>amount</th>\n",
       "      <th>name_orig</th>\n",
       "      <th>oldbalance_org</th>\n",
       "      <th>newbalance_orig</th>\n",
       "      <th>name_dest</th>\n",
       "      <th>oldbalance_dest</th>\n",
       "      <th>newbalance_dest</th>\n",
       "      <th>is_fraud</th>\n",
       "      <th>is_flagged_fraud</th>\n",
       "    </tr>\n",
       "  </thead>\n",
       "  <tbody>\n",
       "    <tr>\n",
       "      <th>1673434</th>\n",
       "      <td>158</td>\n",
       "      <td>0</td>\n",
       "      <td>0.0600</td>\n",
       "      <td>C1836545979</td>\n",
       "      <td>0.0000</td>\n",
       "      <td>0.0000</td>\n",
       "      <td>M711077292</td>\n",
       "      <td>0.0000</td>\n",
       "      <td>0.0000</td>\n",
       "      <td>0</td>\n",
       "      <td>0</td>\n",
       "    </tr>\n",
       "    <tr>\n",
       "      <th>2359430</th>\n",
       "      <td>190</td>\n",
       "      <td>0</td>\n",
       "      <td>0.0200</td>\n",
       "      <td>C344473063</td>\n",
       "      <td>33,192.9700</td>\n",
       "      <td>33,192.9500</td>\n",
       "      <td>M646412904</td>\n",
       "      <td>0.0000</td>\n",
       "      <td>0.0000</td>\n",
       "      <td>0</td>\n",
       "      <td>0</td>\n",
       "    </tr>\n",
       "    <tr>\n",
       "      <th>2359953</th>\n",
       "      <td>190</td>\n",
       "      <td>0</td>\n",
       "      <td>0.0700</td>\n",
       "      <td>C1814144923</td>\n",
       "      <td>11,788.1300</td>\n",
       "      <td>11,788.0600</td>\n",
       "      <td>M28752575</td>\n",
       "      <td>0.0000</td>\n",
       "      <td>0.0000</td>\n",
       "      <td>0</td>\n",
       "      <td>0</td>\n",
       "    </tr>\n",
       "    <tr>\n",
       "      <th>2736447</th>\n",
       "      <td>212</td>\n",
       "      <td>2</td>\n",
       "      <td>0.0000</td>\n",
       "      <td>C1510987794</td>\n",
       "      <td>0.0000</td>\n",
       "      <td>0.0000</td>\n",
       "      <td>C1696624817</td>\n",
       "      <td>0.0000</td>\n",
       "      <td>0.0000</td>\n",
       "      <td>1</td>\n",
       "      <td>0</td>\n",
       "    </tr>\n",
       "    <tr>\n",
       "      <th>2799608</th>\n",
       "      <td>217</td>\n",
       "      <td>0</td>\n",
       "      <td>0.0300</td>\n",
       "      <td>C807337950</td>\n",
       "      <td>205,196.0000</td>\n",
       "      <td>205,195.9700</td>\n",
       "      <td>M1035971031</td>\n",
       "      <td>0.0000</td>\n",
       "      <td>0.0000</td>\n",
       "      <td>0</td>\n",
       "      <td>0</td>\n",
       "    </tr>\n",
       "    <tr>\n",
       "      <th>3027913</th>\n",
       "      <td>233</td>\n",
       "      <td>0</td>\n",
       "      <td>0.0200</td>\n",
       "      <td>C1371059152</td>\n",
       "      <td>0.0000</td>\n",
       "      <td>0.0000</td>\n",
       "      <td>M1506318282</td>\n",
       "      <td>0.0000</td>\n",
       "      <td>0.0000</td>\n",
       "      <td>0</td>\n",
       "      <td>0</td>\n",
       "    </tr>\n",
       "    <tr>\n",
       "      <th>3247298</th>\n",
       "      <td>250</td>\n",
       "      <td>2</td>\n",
       "      <td>0.0000</td>\n",
       "      <td>C521393327</td>\n",
       "      <td>0.0000</td>\n",
       "      <td>0.0000</td>\n",
       "      <td>C480398193</td>\n",
       "      <td>0.0000</td>\n",
       "      <td>0.0000</td>\n",
       "      <td>1</td>\n",
       "      <td>0</td>\n",
       "    </tr>\n",
       "    <tr>\n",
       "      <th>3760289</th>\n",
       "      <td>279</td>\n",
       "      <td>2</td>\n",
       "      <td>0.0000</td>\n",
       "      <td>C539112012</td>\n",
       "      <td>0.0000</td>\n",
       "      <td>0.0000</td>\n",
       "      <td>C1106468520</td>\n",
       "      <td>538,547.6300</td>\n",
       "      <td>538,547.6300</td>\n",
       "      <td>1</td>\n",
       "      <td>0</td>\n",
       "    </tr>\n",
       "    <tr>\n",
       "      <th>4077303</th>\n",
       "      <td>301</td>\n",
       "      <td>0</td>\n",
       "      <td>0.0200</td>\n",
       "      <td>C421116740</td>\n",
       "      <td>0.0000</td>\n",
       "      <td>0.0000</td>\n",
       "      <td>M410442874</td>\n",
       "      <td>0.0000</td>\n",
       "      <td>0.0000</td>\n",
       "      <td>0</td>\n",
       "      <td>0</td>\n",
       "    </tr>\n",
       "    <tr>\n",
       "      <th>4736180</th>\n",
       "      <td>332</td>\n",
       "      <td>2</td>\n",
       "      <td>0.0100</td>\n",
       "      <td>C1496340830</td>\n",
       "      <td>0.0000</td>\n",
       "      <td>0.0000</td>\n",
       "      <td>C554562342</td>\n",
       "      <td>262,792.7900</td>\n",
       "      <td>262,792.8000</td>\n",
       "      <td>0</td>\n",
       "      <td>0</td>\n",
       "    </tr>\n",
       "    <tr>\n",
       "      <th>5175520</th>\n",
       "      <td>359</td>\n",
       "      <td>4</td>\n",
       "      <td>0.0400</td>\n",
       "      <td>C255705071</td>\n",
       "      <td>2,265,671.1400</td>\n",
       "      <td>2,265,671.1800</td>\n",
       "      <td>C1260814124</td>\n",
       "      <td>2,668,374.7200</td>\n",
       "      <td>2,668,374.6800</td>\n",
       "      <td>0</td>\n",
       "      <td>0</td>\n",
       "    </tr>\n",
       "    <tr>\n",
       "      <th>5288273</th>\n",
       "      <td>373</td>\n",
       "      <td>0</td>\n",
       "      <td>0.0900</td>\n",
       "      <td>C1086227169</td>\n",
       "      <td>0.0000</td>\n",
       "      <td>0.0000</td>\n",
       "      <td>M1630176123</td>\n",
       "      <td>0.0000</td>\n",
       "      <td>0.0000</td>\n",
       "      <td>0</td>\n",
       "      <td>0</td>\n",
       "    </tr>\n",
       "    <tr>\n",
       "      <th>5563714</th>\n",
       "      <td>387</td>\n",
       "      <td>2</td>\n",
       "      <td>0.0000</td>\n",
       "      <td>C1294472700</td>\n",
       "      <td>0.0000</td>\n",
       "      <td>0.0000</td>\n",
       "      <td>C1325541393</td>\n",
       "      <td>7,970,766.5700</td>\n",
       "      <td>7,970,766.5700</td>\n",
       "      <td>1</td>\n",
       "      <td>0</td>\n",
       "    </tr>\n",
       "    <tr>\n",
       "      <th>5996408</th>\n",
       "      <td>425</td>\n",
       "      <td>2</td>\n",
       "      <td>0.0000</td>\n",
       "      <td>C832555372</td>\n",
       "      <td>0.0000</td>\n",
       "      <td>0.0000</td>\n",
       "      <td>C1462759334</td>\n",
       "      <td>76,759.9000</td>\n",
       "      <td>76,759.9000</td>\n",
       "      <td>1</td>\n",
       "      <td>0</td>\n",
       "    </tr>\n",
       "    <tr>\n",
       "      <th>5996410</th>\n",
       "      <td>425</td>\n",
       "      <td>2</td>\n",
       "      <td>0.0000</td>\n",
       "      <td>C69493310</td>\n",
       "      <td>0.0000</td>\n",
       "      <td>0.0000</td>\n",
       "      <td>C719711728</td>\n",
       "      <td>2,921,531.3400</td>\n",
       "      <td>2,921,531.3400</td>\n",
       "      <td>1</td>\n",
       "      <td>0</td>\n",
       "    </tr>\n",
       "    <tr>\n",
       "      <th>6002642</th>\n",
       "      <td>428</td>\n",
       "      <td>0</td>\n",
       "      <td>0.0300</td>\n",
       "      <td>C1909969960</td>\n",
       "      <td>0.0000</td>\n",
       "      <td>0.0000</td>\n",
       "      <td>M157485741</td>\n",
       "      <td>0.0000</td>\n",
       "      <td>0.0000</td>\n",
       "      <td>0</td>\n",
       "      <td>0</td>\n",
       "    </tr>\n",
       "    <tr>\n",
       "      <th>6168500</th>\n",
       "      <td>554</td>\n",
       "      <td>2</td>\n",
       "      <td>0.0000</td>\n",
       "      <td>C10965156</td>\n",
       "      <td>0.0000</td>\n",
       "      <td>0.0000</td>\n",
       "      <td>C1493336195</td>\n",
       "      <td>230,289.6600</td>\n",
       "      <td>230,289.6600</td>\n",
       "      <td>1</td>\n",
       "      <td>0</td>\n",
       "    </tr>\n",
       "    <tr>\n",
       "      <th>6205440</th>\n",
       "      <td>586</td>\n",
       "      <td>2</td>\n",
       "      <td>0.0000</td>\n",
       "      <td>C1303719003</td>\n",
       "      <td>0.0000</td>\n",
       "      <td>0.0000</td>\n",
       "      <td>C900608348</td>\n",
       "      <td>1,328,472.8600</td>\n",
       "      <td>1,328,472.8600</td>\n",
       "      <td>1</td>\n",
       "      <td>0</td>\n",
       "    </tr>\n",
       "    <tr>\n",
       "      <th>6266414</th>\n",
       "      <td>617</td>\n",
       "      <td>2</td>\n",
       "      <td>0.0000</td>\n",
       "      <td>C1971175979</td>\n",
       "      <td>0.0000</td>\n",
       "      <td>0.0000</td>\n",
       "      <td>C1352345416</td>\n",
       "      <td>0.0000</td>\n",
       "      <td>0.0000</td>\n",
       "      <td>1</td>\n",
       "      <td>0</td>\n",
       "    </tr>\n",
       "    <tr>\n",
       "      <th>6281483</th>\n",
       "      <td>646</td>\n",
       "      <td>2</td>\n",
       "      <td>0.0000</td>\n",
       "      <td>C2060908932</td>\n",
       "      <td>0.0000</td>\n",
       "      <td>0.0000</td>\n",
       "      <td>C1587892888</td>\n",
       "      <td>0.0000</td>\n",
       "      <td>0.0000</td>\n",
       "      <td>1</td>\n",
       "      <td>0</td>\n",
       "    </tr>\n",
       "    <tr>\n",
       "      <th>6281485</th>\n",
       "      <td>646</td>\n",
       "      <td>2</td>\n",
       "      <td>0.0000</td>\n",
       "      <td>C1997645312</td>\n",
       "      <td>0.0000</td>\n",
       "      <td>0.0000</td>\n",
       "      <td>C601248796</td>\n",
       "      <td>0.0000</td>\n",
       "      <td>0.0000</td>\n",
       "      <td>1</td>\n",
       "      <td>0</td>\n",
       "    </tr>\n",
       "    <tr>\n",
       "      <th>6296015</th>\n",
       "      <td>671</td>\n",
       "      <td>2</td>\n",
       "      <td>0.0000</td>\n",
       "      <td>C1960007029</td>\n",
       "      <td>0.0000</td>\n",
       "      <td>0.0000</td>\n",
       "      <td>C459118517</td>\n",
       "      <td>27,938.7200</td>\n",
       "      <td>27,938.7200</td>\n",
       "      <td>1</td>\n",
       "      <td>0</td>\n",
       "    </tr>\n",
       "    <tr>\n",
       "      <th>6351226</th>\n",
       "      <td>702</td>\n",
       "      <td>2</td>\n",
       "      <td>0.0000</td>\n",
       "      <td>C1461113533</td>\n",
       "      <td>0.0000</td>\n",
       "      <td>0.0000</td>\n",
       "      <td>C1382150537</td>\n",
       "      <td>107,777.0200</td>\n",
       "      <td>107,777.0200</td>\n",
       "      <td>1</td>\n",
       "      <td>0</td>\n",
       "    </tr>\n",
       "    <tr>\n",
       "      <th>6362461</th>\n",
       "      <td>730</td>\n",
       "      <td>2</td>\n",
       "      <td>0.0000</td>\n",
       "      <td>C729003789</td>\n",
       "      <td>0.0000</td>\n",
       "      <td>0.0000</td>\n",
       "      <td>C1388096959</td>\n",
       "      <td>1,008,609.5300</td>\n",
       "      <td>1,008,609.5300</td>\n",
       "      <td>1</td>\n",
       "      <td>0</td>\n",
       "    </tr>\n",
       "    <tr>\n",
       "      <th>6362463</th>\n",
       "      <td>730</td>\n",
       "      <td>2</td>\n",
       "      <td>0.0000</td>\n",
       "      <td>C2088151490</td>\n",
       "      <td>0.0000</td>\n",
       "      <td>0.0000</td>\n",
       "      <td>C1156763710</td>\n",
       "      <td>0.0000</td>\n",
       "      <td>0.0000</td>\n",
       "      <td>1</td>\n",
       "      <td>0</td>\n",
       "    </tr>\n",
       "    <tr>\n",
       "      <th>6362585</th>\n",
       "      <td>741</td>\n",
       "      <td>2</td>\n",
       "      <td>0.0000</td>\n",
       "      <td>C312737633</td>\n",
       "      <td>0.0000</td>\n",
       "      <td>0.0000</td>\n",
       "      <td>C1400061387</td>\n",
       "      <td>267,522.8700</td>\n",
       "      <td>267,522.8700</td>\n",
       "      <td>1</td>\n",
       "      <td>0</td>\n",
       "    </tr>\n",
       "  </tbody>\n",
       "</table>\n",
       "</div>"
      ],
      "text/plain": [
       "         step  type  amount    name_orig  oldbalance_org  newbalance_orig    name_dest  oldbalance_dest  newbalance_dest  is_fraud  is_flagged_fraud\n",
       "1673434   158     0  0.0600  C1836545979          0.0000           0.0000   M711077292           0.0000           0.0000         0                 0\n",
       "2359430   190     0  0.0200   C344473063     33,192.9700      33,192.9500   M646412904           0.0000           0.0000         0                 0\n",
       "2359953   190     0  0.0700  C1814144923     11,788.1300      11,788.0600    M28752575           0.0000           0.0000         0                 0\n",
       "2736447   212     2  0.0000  C1510987794          0.0000           0.0000  C1696624817           0.0000           0.0000         1                 0\n",
       "2799608   217     0  0.0300   C807337950    205,196.0000     205,195.9700  M1035971031           0.0000           0.0000         0                 0\n",
       "3027913   233     0  0.0200  C1371059152          0.0000           0.0000  M1506318282           0.0000           0.0000         0                 0\n",
       "3247298   250     2  0.0000   C521393327          0.0000           0.0000   C480398193           0.0000           0.0000         1                 0\n",
       "3760289   279     2  0.0000   C539112012          0.0000           0.0000  C1106468520     538,547.6300     538,547.6300         1                 0\n",
       "4077303   301     0  0.0200   C421116740          0.0000           0.0000   M410442874           0.0000           0.0000         0                 0\n",
       "4736180   332     2  0.0100  C1496340830          0.0000           0.0000   C554562342     262,792.7900     262,792.8000         0                 0\n",
       "5175520   359     4  0.0400   C255705071  2,265,671.1400   2,265,671.1800  C1260814124   2,668,374.7200   2,668,374.6800         0                 0\n",
       "5288273   373     0  0.0900  C1086227169          0.0000           0.0000  M1630176123           0.0000           0.0000         0                 0\n",
       "5563714   387     2  0.0000  C1294472700          0.0000           0.0000  C1325541393   7,970,766.5700   7,970,766.5700         1                 0\n",
       "5996408   425     2  0.0000   C832555372          0.0000           0.0000  C1462759334      76,759.9000      76,759.9000         1                 0\n",
       "5996410   425     2  0.0000    C69493310          0.0000           0.0000   C719711728   2,921,531.3400   2,921,531.3400         1                 0\n",
       "6002642   428     0  0.0300  C1909969960          0.0000           0.0000   M157485741           0.0000           0.0000         0                 0\n",
       "6168500   554     2  0.0000    C10965156          0.0000           0.0000  C1493336195     230,289.6600     230,289.6600         1                 0\n",
       "6205440   586     2  0.0000  C1303719003          0.0000           0.0000   C900608348   1,328,472.8600   1,328,472.8600         1                 0\n",
       "6266414   617     2  0.0000  C1971175979          0.0000           0.0000  C1352345416           0.0000           0.0000         1                 0\n",
       "6281483   646     2  0.0000  C2060908932          0.0000           0.0000  C1587892888           0.0000           0.0000         1                 0\n",
       "6281485   646     2  0.0000  C1997645312          0.0000           0.0000   C601248796           0.0000           0.0000         1                 0\n",
       "6296015   671     2  0.0000  C1960007029          0.0000           0.0000   C459118517      27,938.7200      27,938.7200         1                 0\n",
       "6351226   702     2  0.0000  C1461113533          0.0000           0.0000  C1382150537     107,777.0200     107,777.0200         1                 0\n",
       "6362461   730     2  0.0000   C729003789          0.0000           0.0000  C1388096959   1,008,609.5300   1,008,609.5300         1                 0\n",
       "6362463   730     2  0.0000  C2088151490          0.0000           0.0000  C1156763710           0.0000           0.0000         1                 0\n",
       "6362585   741     2  0.0000   C312737633          0.0000           0.0000  C1400061387     267,522.8700     267,522.8700         1                 0"
      ]
     },
     "execution_count": 215,
     "metadata": {},
     "output_type": "execute_result"
    }
   ],
   "source": [
    "data[data['amount'] < 0.10]"
   ]
  },
  {
   "cell_type": "code",
   "execution_count": null,
   "id": "ec4f9f80",
   "metadata": {},
   "outputs": [],
   "source": []
  },
  {
   "cell_type": "code",
   "execution_count": null,
   "id": "732c1e45",
   "metadata": {},
   "outputs": [],
   "source": []
  },
  {
   "cell_type": "markdown",
   "id": "a65ab1aa",
   "metadata": {},
   "source": [
    "# Filter"
   ]
  },
  {
   "cell_type": "code",
   "execution_count": 216,
   "id": "ea78fcdd",
   "metadata": {
    "ExecuteTime": {
     "end_time": "2023-09-12T17:52:17.976393Z",
     "start_time": "2023-09-12T17:52:17.662399Z"
    }
   },
   "outputs": [
    {
     "name": "stdout",
     "output_type": "stream",
     "text": [
      "Tamanho do dataset: 6362620\n",
      "-------------------------------------------\n",
      "Dados que tem saldo inicial antes da transação que esteja correto com saldo depois da transação -  cliente\n",
      "Quantidade de linhas: 440511\n",
      "Quantidade de fraude: 8144\n",
      "-------------------------------------------\n",
      "Dados que tem saldo inicial antes da transação que esteja correto com saldo depois da transação - destino\n",
      "Quantidade de linhas: 760360\n",
      "Quantidade de fraude: 2171\n",
      "-------------------------------------------\n",
      "Quantidade de linhas do filtro com base as condições:       1200871\n",
      "-------------------------------------------\n",
      "Dados que tem saldo inicial antes da transação que esteja correto com saldo depois da transação cliente e  destino\n",
      "Quantidade de linhas: 60035\n",
      "Quantidade de fraude: 2161\n",
      "-------------------------------------------\n"
     ]
    }
   ],
   "source": [
    "condicao1 = (data['oldbalance_org'] - data['newbalance_orig'] == data['amount'])\n",
    "condicao2 = (data['newbalance_dest'] - data['oldbalance_dest'] == data['amount'])\n",
    "\n",
    "\n",
    "\n",
    "dados_filtrados_cliente = data[condicao1]\n",
    "is_fraud_cliente = dados_filtrados_correto['is_fraud'].sum()\n",
    "\n",
    "\n",
    "\n",
    "dados_filtrados_destino = data[condicao2]\n",
    "is_fraud_destino = dados_filtrados_errado['is_fraud'].sum()\n",
    "\n",
    "\n",
    "\n",
    "dados_filtrados_merge = data[condicao1 & condicao2]\n",
    "is_fraud_merge = dados_filtrados_merge['is_fraud'].sum()\n",
    "\n",
    "\n",
    "\n",
    "\n",
    "print(f'Tamanho do dataset: {data.shape[0]}')\n",
    "\n",
    "print('-------------------------------------------')\n",
    "\n",
    "print('Dados que tem saldo inicial antes da transação que esteja correto com saldo depois da transação -  cliente')\n",
    "print(f'Quantidade de linhas: {dados_filtrados_cliente.shape[0]}')\n",
    "print(f'Quantidade de fraude: {is_fraud_cliente}')\n",
    "\n",
    "\n",
    "\n",
    "print('-------------------------------------------')\n",
    "\n",
    "print('Dados que tem saldo inicial antes da transação que esteja correto com saldo depois da transação - destino')\n",
    "print(f'Quantidade de linhas: {dados_filtrados_destino.shape[0]}')\n",
    "print(f'Quantidade de fraude: {is_fraud_destino}')\n",
    "\n",
    "print('-------------------------------------------')\n",
    "\n",
    "\n",
    "print(f'Quantidade de linhas do filtro com base as condições: \\\n",
    "      {dados_filtrados_errado.shape[0] + dados_filtrados_correto.shape[0] }')\n",
    "\n",
    "print('-------------------------------------------')\n",
    "\n",
    "print('Dados que tem saldo inicial antes da transação que esteja correto com saldo depois da transação cliente e  destino')\n",
    "print(f'Quantidade de linhas: {dados_filtrados_merge.shape[0]}')\n",
    "print(f'Quantidade de fraude: {is_fraud_merge}')\n",
    "\n",
    "print('-------------------------------------------')\n",
    "\n"
   ]
  },
  {
   "cell_type": "code",
   "execution_count": null,
   "id": "be64b1e7",
   "metadata": {},
   "outputs": [],
   "source": []
  },
  {
   "cell_type": "code",
   "execution_count": null,
   "id": "71f077ea",
   "metadata": {},
   "outputs": [],
   "source": []
  },
  {
   "cell_type": "code",
   "execution_count": null,
   "id": "51e94719",
   "metadata": {},
   "outputs": [],
   "source": []
  },
  {
   "cell_type": "code",
   "execution_count": 217,
   "id": "c79a60cf",
   "metadata": {
    "ExecuteTime": {
     "end_time": "2023-09-12T17:52:31.729196Z",
     "start_time": "2023-09-12T17:52:21.366208Z"
    }
   },
   "outputs": [
    {
     "data": {
      "text/plain": [
       "array([], dtype=object)"
      ]
     },
     "execution_count": 217,
     "metadata": {},
     "output_type": "execute_result"
    }
   ],
   "source": [
    "# check se tem linhas com somente letra na coluna name_orig.\n",
    "data.loc[data['name_orig'].apply( lambda x: bool( re.search( '^[a-zA-Z]+$', x ) ) ), 'name_orig'].unique()"
   ]
  },
  {
   "cell_type": "code",
   "execution_count": 218,
   "id": "77ee55dd",
   "metadata": {
    "ExecuteTime": {
     "end_time": "2023-09-12T17:52:31.745199Z",
     "start_time": "2023-09-12T17:52:31.733195Z"
    }
   },
   "outputs": [],
   "source": [
    "# # identficacao: mostrar todas as linhas que tem letra e numero\n",
    "# df_name_orig = data.loc[data['name_orig'].apply( lambda x: bool( re.search( '[^0-9]+', x ) ) ), :]\n",
    "# df_name_orig.head(20)"
   ]
  },
  {
   "cell_type": "code",
   "execution_count": 219,
   "id": "8012b55b",
   "metadata": {
    "ExecuteTime": {
     "end_time": "2023-09-12T17:52:33.693197Z",
     "start_time": "2023-09-12T17:52:31.748195Z"
    }
   },
   "outputs": [
    {
     "data": {
      "text/plain": [
       "array(['C'], dtype=object)"
      ]
     },
     "execution_count": 219,
     "metadata": {},
     "output_type": "execute_result"
    }
   ],
   "source": [
    "# s.str.slice(start=0, stop=5, step=3)\n",
    "# https://pandas.pydata.org/docs/reference/api/pandas.Series.str.slice.html\n",
    "# mostrar valores unico da inicial\n",
    "data['name_orig'].str[0:1].unique()"
   ]
  },
  {
   "cell_type": "code",
   "execution_count": 220,
   "id": "adfa804f",
   "metadata": {
    "ExecuteTime": {
     "end_time": "2023-09-12T17:52:35.640187Z",
     "start_time": "2023-09-12T17:52:33.698194Z"
    }
   },
   "outputs": [
    {
     "data": {
      "text/plain": [
       "array(['M', 'C'], dtype=object)"
      ]
     },
     "execution_count": 220,
     "metadata": {},
     "output_type": "execute_result"
    }
   ],
   "source": [
    "# mostrar a letra inicial do name_dest\n",
    "# M (Comerciantes).\n",
    "data['name_dest'].str[0:1].unique()"
   ]
  },
  {
   "cell_type": "code",
   "execution_count": 221,
   "id": "86516220",
   "metadata": {
    "ExecuteTime": {
     "end_time": "2023-09-12T17:52:36.222191Z",
     "start_time": "2023-09-12T17:52:35.643191Z"
    }
   },
   "outputs": [
    {
     "data": {
      "text/html": [
       "<div>\n",
       "<style scoped>\n",
       "    .dataframe tbody tr th:only-of-type {\n",
       "        vertical-align: middle;\n",
       "    }\n",
       "\n",
       "    .dataframe tbody tr th {\n",
       "        vertical-align: top;\n",
       "    }\n",
       "\n",
       "    .dataframe thead th {\n",
       "        text-align: right;\n",
       "    }\n",
       "</style>\n",
       "<table border=\"1\" class=\"dataframe\">\n",
       "  <thead>\n",
       "    <tr style=\"text-align: right;\">\n",
       "      <th></th>\n",
       "      <th>step</th>\n",
       "      <th>type</th>\n",
       "      <th>amount</th>\n",
       "      <th>name_orig</th>\n",
       "      <th>oldbalance_org</th>\n",
       "      <th>newbalance_orig</th>\n",
       "      <th>name_dest</th>\n",
       "      <th>oldbalance_dest</th>\n",
       "      <th>newbalance_dest</th>\n",
       "      <th>is_fraud</th>\n",
       "      <th>is_flagged_fraud</th>\n",
       "    </tr>\n",
       "  </thead>\n",
       "  <tbody>\n",
       "  </tbody>\n",
       "</table>\n",
       "</div>"
      ],
      "text/plain": [
       "Empty DataFrame\n",
       "Columns: [step, type, amount, name_orig, oldbalance_org, newbalance_orig, name_dest, oldbalance_dest, newbalance_dest, is_fraud, is_flagged_fraud]\n",
       "Index: []"
      ]
     },
     "execution_count": 221,
     "metadata": {},
     "output_type": "execute_result"
    }
   ],
   "source": [
    "# não temos o mesmo name_orig idetico com name_dest\n",
    "teste = data['name_orig'] == data['name_dest']\n",
    "data[teste]"
   ]
  },
  {
   "cell_type": "code",
   "execution_count": null,
   "id": "c68f081d",
   "metadata": {},
   "outputs": [],
   "source": []
  },
  {
   "cell_type": "code",
   "execution_count": 222,
   "id": "4c8cb8ee",
   "metadata": {
    "ExecuteTime": {
     "end_time": "2023-09-12T17:52:36.478189Z",
     "start_time": "2023-09-12T17:52:36.225201Z"
    }
   },
   "outputs": [],
   "source": [
    "num_attributes = data.select_dtypes(include=['int64', 'float64'])\n",
    "cat_attributes = data.select_dtypes(exclude=['int64', 'float64', 'datetime64[ns]'])"
   ]
  },
  {
   "cell_type": "code",
   "execution_count": 223,
   "id": "f285fbcf",
   "metadata": {
    "ExecuteTime": {
     "end_time": "2023-09-12T17:52:36.509188Z",
     "start_time": "2023-09-12T17:52:36.482193Z"
    }
   },
   "outputs": [
    {
     "data": {
      "text/html": [
       "<div>\n",
       "<style scoped>\n",
       "    .dataframe tbody tr th:only-of-type {\n",
       "        vertical-align: middle;\n",
       "    }\n",
       "\n",
       "    .dataframe tbody tr th {\n",
       "        vertical-align: top;\n",
       "    }\n",
       "\n",
       "    .dataframe thead th {\n",
       "        text-align: right;\n",
       "    }\n",
       "</style>\n",
       "<table border=\"1\" class=\"dataframe\">\n",
       "  <thead>\n",
       "    <tr style=\"text-align: right;\">\n",
       "      <th></th>\n",
       "      <th>step</th>\n",
       "      <th>type</th>\n",
       "      <th>amount</th>\n",
       "      <th>oldbalance_org</th>\n",
       "      <th>newbalance_orig</th>\n",
       "      <th>oldbalance_dest</th>\n",
       "      <th>newbalance_dest</th>\n",
       "      <th>is_fraud</th>\n",
       "      <th>is_flagged_fraud</th>\n",
       "    </tr>\n",
       "  </thead>\n",
       "  <tbody>\n",
       "    <tr>\n",
       "      <th>0</th>\n",
       "      <td>1</td>\n",
       "      <td>0</td>\n",
       "      <td>9,839.6400</td>\n",
       "      <td>170,136.0000</td>\n",
       "      <td>160,296.3600</td>\n",
       "      <td>0.0000</td>\n",
       "      <td>0.0000</td>\n",
       "      <td>0</td>\n",
       "      <td>0</td>\n",
       "    </tr>\n",
       "    <tr>\n",
       "      <th>1</th>\n",
       "      <td>1</td>\n",
       "      <td>0</td>\n",
       "      <td>1,864.2800</td>\n",
       "      <td>21,249.0000</td>\n",
       "      <td>19,384.7200</td>\n",
       "      <td>0.0000</td>\n",
       "      <td>0.0000</td>\n",
       "      <td>0</td>\n",
       "      <td>0</td>\n",
       "    </tr>\n",
       "    <tr>\n",
       "      <th>2</th>\n",
       "      <td>1</td>\n",
       "      <td>1</td>\n",
       "      <td>181.0000</td>\n",
       "      <td>181.0000</td>\n",
       "      <td>0.0000</td>\n",
       "      <td>0.0000</td>\n",
       "      <td>0.0000</td>\n",
       "      <td>1</td>\n",
       "      <td>0</td>\n",
       "    </tr>\n",
       "    <tr>\n",
       "      <th>3</th>\n",
       "      <td>1</td>\n",
       "      <td>2</td>\n",
       "      <td>181.0000</td>\n",
       "      <td>181.0000</td>\n",
       "      <td>0.0000</td>\n",
       "      <td>21,182.0000</td>\n",
       "      <td>0.0000</td>\n",
       "      <td>1</td>\n",
       "      <td>0</td>\n",
       "    </tr>\n",
       "    <tr>\n",
       "      <th>4</th>\n",
       "      <td>1</td>\n",
       "      <td>0</td>\n",
       "      <td>11,668.1400</td>\n",
       "      <td>41,554.0000</td>\n",
       "      <td>29,885.8600</td>\n",
       "      <td>0.0000</td>\n",
       "      <td>0.0000</td>\n",
       "      <td>0</td>\n",
       "      <td>0</td>\n",
       "    </tr>\n",
       "    <tr>\n",
       "      <th>...</th>\n",
       "      <td>...</td>\n",
       "      <td>...</td>\n",
       "      <td>...</td>\n",
       "      <td>...</td>\n",
       "      <td>...</td>\n",
       "      <td>...</td>\n",
       "      <td>...</td>\n",
       "      <td>...</td>\n",
       "      <td>...</td>\n",
       "    </tr>\n",
       "    <tr>\n",
       "      <th>6362615</th>\n",
       "      <td>743</td>\n",
       "      <td>2</td>\n",
       "      <td>339,682.1300</td>\n",
       "      <td>339,682.1300</td>\n",
       "      <td>0.0000</td>\n",
       "      <td>0.0000</td>\n",
       "      <td>339,682.1300</td>\n",
       "      <td>1</td>\n",
       "      <td>0</td>\n",
       "    </tr>\n",
       "    <tr>\n",
       "      <th>6362616</th>\n",
       "      <td>743</td>\n",
       "      <td>1</td>\n",
       "      <td>6,311,409.2800</td>\n",
       "      <td>6,311,409.2800</td>\n",
       "      <td>0.0000</td>\n",
       "      <td>0.0000</td>\n",
       "      <td>0.0000</td>\n",
       "      <td>1</td>\n",
       "      <td>0</td>\n",
       "    </tr>\n",
       "    <tr>\n",
       "      <th>6362617</th>\n",
       "      <td>743</td>\n",
       "      <td>2</td>\n",
       "      <td>6,311,409.2800</td>\n",
       "      <td>6,311,409.2800</td>\n",
       "      <td>0.0000</td>\n",
       "      <td>68,488.8400</td>\n",
       "      <td>6,379,898.1100</td>\n",
       "      <td>1</td>\n",
       "      <td>0</td>\n",
       "    </tr>\n",
       "    <tr>\n",
       "      <th>6362618</th>\n",
       "      <td>743</td>\n",
       "      <td>1</td>\n",
       "      <td>850,002.5200</td>\n",
       "      <td>850,002.5200</td>\n",
       "      <td>0.0000</td>\n",
       "      <td>0.0000</td>\n",
       "      <td>0.0000</td>\n",
       "      <td>1</td>\n",
       "      <td>0</td>\n",
       "    </tr>\n",
       "    <tr>\n",
       "      <th>6362619</th>\n",
       "      <td>743</td>\n",
       "      <td>2</td>\n",
       "      <td>850,002.5200</td>\n",
       "      <td>850,002.5200</td>\n",
       "      <td>0.0000</td>\n",
       "      <td>6,510,099.1100</td>\n",
       "      <td>7,360,101.6300</td>\n",
       "      <td>1</td>\n",
       "      <td>0</td>\n",
       "    </tr>\n",
       "  </tbody>\n",
       "</table>\n",
       "<p>6362620 rows × 9 columns</p>\n",
       "</div>"
      ],
      "text/plain": [
       "         step  type         amount  oldbalance_org  newbalance_orig  oldbalance_dest  newbalance_dest  is_fraud  is_flagged_fraud\n",
       "0           1     0     9,839.6400    170,136.0000     160,296.3600           0.0000           0.0000         0                 0\n",
       "1           1     0     1,864.2800     21,249.0000      19,384.7200           0.0000           0.0000         0                 0\n",
       "2           1     1       181.0000        181.0000           0.0000           0.0000           0.0000         1                 0\n",
       "3           1     2       181.0000        181.0000           0.0000      21,182.0000           0.0000         1                 0\n",
       "4           1     0    11,668.1400     41,554.0000      29,885.8600           0.0000           0.0000         0                 0\n",
       "...       ...   ...            ...             ...              ...              ...              ...       ...               ...\n",
       "6362615   743     2   339,682.1300    339,682.1300           0.0000           0.0000     339,682.1300         1                 0\n",
       "6362616   743     1 6,311,409.2800  6,311,409.2800           0.0000           0.0000           0.0000         1                 0\n",
       "6362617   743     2 6,311,409.2800  6,311,409.2800           0.0000      68,488.8400   6,379,898.1100         1                 0\n",
       "6362618   743     1   850,002.5200    850,002.5200           0.0000           0.0000           0.0000         1                 0\n",
       "6362619   743     2   850,002.5200    850,002.5200           0.0000   6,510,099.1100   7,360,101.6300         1                 0\n",
       "\n",
       "[6362620 rows x 9 columns]"
      ]
     },
     "execution_count": 223,
     "metadata": {},
     "output_type": "execute_result"
    }
   ],
   "source": [
    "num_attributes"
   ]
  },
  {
   "cell_type": "code",
   "execution_count": 224,
   "id": "94070538",
   "metadata": {
    "ExecuteTime": {
     "end_time": "2023-09-12T17:52:36.541193Z",
     "start_time": "2023-09-12T17:52:36.512195Z"
    }
   },
   "outputs": [
    {
     "data": {
      "text/html": [
       "<div>\n",
       "<style scoped>\n",
       "    .dataframe tbody tr th:only-of-type {\n",
       "        vertical-align: middle;\n",
       "    }\n",
       "\n",
       "    .dataframe tbody tr th {\n",
       "        vertical-align: top;\n",
       "    }\n",
       "\n",
       "    .dataframe thead th {\n",
       "        text-align: right;\n",
       "    }\n",
       "</style>\n",
       "<table border=\"1\" class=\"dataframe\">\n",
       "  <thead>\n",
       "    <tr style=\"text-align: right;\">\n",
       "      <th></th>\n",
       "      <th>name_orig</th>\n",
       "      <th>name_dest</th>\n",
       "    </tr>\n",
       "  </thead>\n",
       "  <tbody>\n",
       "    <tr>\n",
       "      <th>0</th>\n",
       "      <td>C1231006815</td>\n",
       "      <td>M1979787155</td>\n",
       "    </tr>\n",
       "    <tr>\n",
       "      <th>1</th>\n",
       "      <td>C1666544295</td>\n",
       "      <td>M2044282225</td>\n",
       "    </tr>\n",
       "    <tr>\n",
       "      <th>2</th>\n",
       "      <td>C1305486145</td>\n",
       "      <td>C553264065</td>\n",
       "    </tr>\n",
       "    <tr>\n",
       "      <th>3</th>\n",
       "      <td>C840083671</td>\n",
       "      <td>C38997010</td>\n",
       "    </tr>\n",
       "    <tr>\n",
       "      <th>4</th>\n",
       "      <td>C2048537720</td>\n",
       "      <td>M1230701703</td>\n",
       "    </tr>\n",
       "    <tr>\n",
       "      <th>...</th>\n",
       "      <td>...</td>\n",
       "      <td>...</td>\n",
       "    </tr>\n",
       "    <tr>\n",
       "      <th>6362615</th>\n",
       "      <td>C786484425</td>\n",
       "      <td>C776919290</td>\n",
       "    </tr>\n",
       "    <tr>\n",
       "      <th>6362616</th>\n",
       "      <td>C1529008245</td>\n",
       "      <td>C1881841831</td>\n",
       "    </tr>\n",
       "    <tr>\n",
       "      <th>6362617</th>\n",
       "      <td>C1162922333</td>\n",
       "      <td>C1365125890</td>\n",
       "    </tr>\n",
       "    <tr>\n",
       "      <th>6362618</th>\n",
       "      <td>C1685995037</td>\n",
       "      <td>C2080388513</td>\n",
       "    </tr>\n",
       "    <tr>\n",
       "      <th>6362619</th>\n",
       "      <td>C1280323807</td>\n",
       "      <td>C873221189</td>\n",
       "    </tr>\n",
       "  </tbody>\n",
       "</table>\n",
       "<p>6362620 rows × 2 columns</p>\n",
       "</div>"
      ],
      "text/plain": [
       "           name_orig    name_dest\n",
       "0        C1231006815  M1979787155\n",
       "1        C1666544295  M2044282225\n",
       "2        C1305486145   C553264065\n",
       "3         C840083671    C38997010\n",
       "4        C2048537720  M1230701703\n",
       "...              ...          ...\n",
       "6362615   C786484425   C776919290\n",
       "6362616  C1529008245  C1881841831\n",
       "6362617  C1162922333  C1365125890\n",
       "6362618  C1685995037  C2080388513\n",
       "6362619  C1280323807   C873221189\n",
       "\n",
       "[6362620 rows x 2 columns]"
      ]
     },
     "execution_count": 224,
     "metadata": {},
     "output_type": "execute_result"
    }
   ],
   "source": [
    "cat_attributes"
   ]
  },
  {
   "cell_type": "code",
   "execution_count": null,
   "id": "e32fb739",
   "metadata": {},
   "outputs": [],
   "source": []
  },
  {
   "cell_type": "markdown",
   "id": "84d18e85",
   "metadata": {},
   "source": [
    "# Numerical Variables"
   ]
  },
  {
   "cell_type": "code",
   "execution_count": 225,
   "id": "b7447838",
   "metadata": {
    "ExecuteTime": {
     "end_time": "2023-09-12T17:52:40.827184Z",
     "start_time": "2023-09-12T17:52:36.545189Z"
    }
   },
   "outputs": [
    {
     "data": {
      "image/png": "[encoded data removed]",
      "text/plain": [
       "<Figure size 2500x1500 with 9 Axes>"
      ]
     },
     "metadata": {},
     "output_type": "display_data"
    }
   ],
   "source": [
    "num_attributes.hist(bins=25, figsize=(25,15));"
   ]
  },
  {
   "cell_type": "code",
   "execution_count": null,
   "id": "9d995b82",
   "metadata": {},
   "outputs": [],
   "source": []
  },
  {
   "cell_type": "markdown",
   "id": "6d75d681",
   "metadata": {},
   "source": [
    "# Analise Univariada"
   ]
  },
  {
   "cell_type": "markdown",
   "id": "fb3f2782",
   "metadata": {},
   "source": [
    "## is_fraud"
   ]
  },
  {
   "cell_type": "code",
   "execution_count": null,
   "id": "44f73277",
   "metadata": {},
   "outputs": [],
   "source": []
  },
  {
   "cell_type": "code",
   "execution_count": null,
   "id": "4c5a700b",
   "metadata": {},
   "outputs": [],
   "source": []
  },
  {
   "cell_type": "markdown",
   "id": "1ef2f49f",
   "metadata": {},
   "source": [
    "# Analise Bivariada"
   ]
  },
  {
   "cell_type": "markdown",
   "id": "4c15f939",
   "metadata": {},
   "source": [
    "# step"
   ]
  },
  {
   "cell_type": "code",
   "execution_count": 226,
   "id": "17e9d174",
   "metadata": {
    "ExecuteTime": {
     "end_time": "2023-09-12T17:55:09.441049Z",
     "start_time": "2023-09-12T17:52:40.832183Z"
    }
   },
   "outputs": [
    {
     "data": {
      "text/plain": [
       "<Axes: xlabel='step', ylabel='amount'>"
      ]
     },
     "execution_count": 226,
     "metadata": {},
     "output_type": "execute_result"
    },
    {
     "name": "stdout",
     "output_type": "stream",
     "text": [
      "Error in callback <function _draw_all_if_interactive at 0x0000027D84A44040> (for post_execute):\n"
     ]
    },
    {
     "ename": "KeyboardInterrupt",
     "evalue": "",
     "output_type": "error",
     "traceback": [
      "\u001b[1;31m---------------------------------------------------------------------------\u001b[0m",
      "\u001b[1;31mKeyboardInterrupt\u001b[0m                         Traceback (most recent call last)",
      "File \u001b[1;32m~\\.conda\\envs\\fraud_detection\\lib\\site-packages\\matplotlib\\pyplot.py:120\u001b[0m, in \u001b[0;36m_draw_all_if_interactive\u001b[1;34m()\u001b[0m\n\u001b[0;32m    118\u001b[0m \u001b[38;5;28;01mdef\u001b[39;00m \u001b[38;5;21m_draw_all_if_interactive\u001b[39m():\n\u001b[0;32m    119\u001b[0m     \u001b[38;5;28;01mif\u001b[39;00m matplotlib\u001b[38;5;241m.\u001b[39mis_interactive():\n\u001b[1;32m--> 120\u001b[0m         \u001b[43mdraw_all\u001b[49m\u001b[43m(\u001b[49m\u001b[43m)\u001b[49m\n",
      "File \u001b[1;32m~\\.conda\\envs\\fraud_detection\\lib\\site-packages\\matplotlib\\_pylab_helpers.py:132\u001b[0m, in \u001b[0;36mGcf.draw_all\u001b[1;34m(cls, force)\u001b[0m\n\u001b[0;32m    130\u001b[0m \u001b[38;5;28;01mfor\u001b[39;00m manager \u001b[38;5;129;01min\u001b[39;00m \u001b[38;5;28mcls\u001b[39m\u001b[38;5;241m.\u001b[39mget_all_fig_managers():\n\u001b[0;32m    131\u001b[0m     \u001b[38;5;28;01mif\u001b[39;00m force \u001b[38;5;129;01mor\u001b[39;00m manager\u001b[38;5;241m.\u001b[39mcanvas\u001b[38;5;241m.\u001b[39mfigure\u001b[38;5;241m.\u001b[39mstale:\n\u001b[1;32m--> 132\u001b[0m         \u001b[43mmanager\u001b[49m\u001b[38;5;241;43m.\u001b[39;49m\u001b[43mcanvas\u001b[49m\u001b[38;5;241;43m.\u001b[39;49m\u001b[43mdraw_idle\u001b[49m\u001b[43m(\u001b[49m\u001b[43m)\u001b[49m\n",
      "File \u001b[1;32m~\\.conda\\envs\\fraud_detection\\lib\\site-packages\\matplotlib\\backend_bases.py:2082\u001b[0m, in \u001b[0;36mFigureCanvasBase.draw_idle\u001b[1;34m(self, *args, **kwargs)\u001b[0m\n\u001b[0;32m   2080\u001b[0m \u001b[38;5;28;01mif\u001b[39;00m \u001b[38;5;129;01mnot\u001b[39;00m \u001b[38;5;28mself\u001b[39m\u001b[38;5;241m.\u001b[39m_is_idle_drawing:\n\u001b[0;32m   2081\u001b[0m     \u001b[38;5;28;01mwith\u001b[39;00m \u001b[38;5;28mself\u001b[39m\u001b[38;5;241m.\u001b[39m_idle_draw_cntx():\n\u001b[1;32m-> 2082\u001b[0m         \u001b[38;5;28mself\u001b[39m\u001b[38;5;241m.\u001b[39mdraw(\u001b[38;5;241m*\u001b[39margs, \u001b[38;5;241m*\u001b[39m\u001b[38;5;241m*\u001b[39mkwargs)\n",
      "File \u001b[1;32m~\\.conda\\envs\\fraud_detection\\lib\\site-packages\\matplotlib\\backends\\backend_agg.py:400\u001b[0m, in \u001b[0;36mFigureCanvasAgg.draw\u001b[1;34m(self)\u001b[0m\n\u001b[0;32m    396\u001b[0m \u001b[38;5;66;03m# Acquire a lock on the shared font cache.\u001b[39;00m\n\u001b[0;32m    397\u001b[0m \u001b[38;5;28;01mwith\u001b[39;00m RendererAgg\u001b[38;5;241m.\u001b[39mlock, \\\n\u001b[0;32m    398\u001b[0m      (\u001b[38;5;28mself\u001b[39m\u001b[38;5;241m.\u001b[39mtoolbar\u001b[38;5;241m.\u001b[39m_wait_cursor_for_draw_cm() \u001b[38;5;28;01mif\u001b[39;00m \u001b[38;5;28mself\u001b[39m\u001b[38;5;241m.\u001b[39mtoolbar\n\u001b[0;32m    399\u001b[0m       \u001b[38;5;28;01melse\u001b[39;00m nullcontext()):\n\u001b[1;32m--> 400\u001b[0m     \u001b[38;5;28;43mself\u001b[39;49m\u001b[38;5;241;43m.\u001b[39;49m\u001b[43mfigure\u001b[49m\u001b[38;5;241;43m.\u001b[39;49m\u001b[43mdraw\u001b[49m\u001b[43m(\u001b[49m\u001b[38;5;28;43mself\u001b[39;49m\u001b[38;5;241;43m.\u001b[39;49m\u001b[43mrenderer\u001b[49m\u001b[43m)\u001b[49m\n\u001b[0;32m    401\u001b[0m     \u001b[38;5;66;03m# A GUI class may be need to update a window using this draw, so\u001b[39;00m\n\u001b[0;32m    402\u001b[0m     \u001b[38;5;66;03m# don't forget to call the superclass.\u001b[39;00m\n\u001b[0;32m    403\u001b[0m     \u001b[38;5;28msuper\u001b[39m()\u001b[38;5;241m.\u001b[39mdraw()\n",
      "File \u001b[1;32m~\\.conda\\envs\\fraud_detection\\lib\\site-packages\\matplotlib\\artist.py:95\u001b[0m, in \u001b[0;36m_finalize_rasterization.<locals>.draw_wrapper\u001b[1;34m(artist, renderer, *args, **kwargs)\u001b[0m\n\u001b[0;32m     93\u001b[0m \u001b[38;5;129m@wraps\u001b[39m(draw)\n\u001b[0;32m     94\u001b[0m \u001b[38;5;28;01mdef\u001b[39;00m \u001b[38;5;21mdraw_wrapper\u001b[39m(artist, renderer, \u001b[38;5;241m*\u001b[39margs, \u001b[38;5;241m*\u001b[39m\u001b[38;5;241m*\u001b[39mkwargs):\n\u001b[1;32m---> 95\u001b[0m     result \u001b[38;5;241m=\u001b[39m draw(artist, renderer, \u001b[38;5;241m*\u001b[39margs, \u001b[38;5;241m*\u001b[39m\u001b[38;5;241m*\u001b[39mkwargs)\n\u001b[0;32m     96\u001b[0m     \u001b[38;5;28;01mif\u001b[39;00m renderer\u001b[38;5;241m.\u001b[39m_rasterizing:\n\u001b[0;32m     97\u001b[0m         renderer\u001b[38;5;241m.\u001b[39mstop_rasterizing()\n",
      "File \u001b[1;32m~\\.conda\\envs\\fraud_detection\\lib\\site-packages\\matplotlib\\artist.py:72\u001b[0m, in \u001b[0;36mallow_rasterization.<locals>.draw_wrapper\u001b[1;34m(artist, renderer)\u001b[0m\n\u001b[0;32m     69\u001b[0m     \u001b[38;5;28;01mif\u001b[39;00m artist\u001b[38;5;241m.\u001b[39mget_agg_filter() \u001b[38;5;129;01mis\u001b[39;00m \u001b[38;5;129;01mnot\u001b[39;00m \u001b[38;5;28;01mNone\u001b[39;00m:\n\u001b[0;32m     70\u001b[0m         renderer\u001b[38;5;241m.\u001b[39mstart_filter()\n\u001b[1;32m---> 72\u001b[0m     \u001b[38;5;28;01mreturn\u001b[39;00m \u001b[43mdraw\u001b[49m\u001b[43m(\u001b[49m\u001b[43martist\u001b[49m\u001b[43m,\u001b[49m\u001b[43m \u001b[49m\u001b[43mrenderer\u001b[49m\u001b[43m)\u001b[49m\n\u001b[0;32m     73\u001b[0m \u001b[38;5;28;01mfinally\u001b[39;00m:\n\u001b[0;32m     74\u001b[0m     \u001b[38;5;28;01mif\u001b[39;00m artist\u001b[38;5;241m.\u001b[39mget_agg_filter() \u001b[38;5;129;01mis\u001b[39;00m \u001b[38;5;129;01mnot\u001b[39;00m \u001b[38;5;28;01mNone\u001b[39;00m:\n",
      "File \u001b[1;32m~\\.conda\\envs\\fraud_detection\\lib\\site-packages\\matplotlib\\figure.py:3175\u001b[0m, in \u001b[0;36mFigure.draw\u001b[1;34m(self, renderer)\u001b[0m\n\u001b[0;32m   3172\u001b[0m         \u001b[38;5;66;03m# ValueError can occur when resizing a window.\u001b[39;00m\n\u001b[0;32m   3174\u001b[0m \u001b[38;5;28mself\u001b[39m\u001b[38;5;241m.\u001b[39mpatch\u001b[38;5;241m.\u001b[39mdraw(renderer)\n\u001b[1;32m-> 3175\u001b[0m \u001b[43mmimage\u001b[49m\u001b[38;5;241;43m.\u001b[39;49m\u001b[43m_draw_list_compositing_images\u001b[49m\u001b[43m(\u001b[49m\n\u001b[0;32m   3176\u001b[0m \u001b[43m    \u001b[49m\u001b[43mrenderer\u001b[49m\u001b[43m,\u001b[49m\u001b[43m \u001b[49m\u001b[38;5;28;43mself\u001b[39;49m\u001b[43m,\u001b[49m\u001b[43m \u001b[49m\u001b[43martists\u001b[49m\u001b[43m,\u001b[49m\u001b[43m \u001b[49m\u001b[38;5;28;43mself\u001b[39;49m\u001b[38;5;241;43m.\u001b[39;49m\u001b[43msuppressComposite\u001b[49m\u001b[43m)\u001b[49m\n\u001b[0;32m   3178\u001b[0m \u001b[38;5;28;01mfor\u001b[39;00m sfig \u001b[38;5;129;01min\u001b[39;00m \u001b[38;5;28mself\u001b[39m\u001b[38;5;241m.\u001b[39msubfigs:\n\u001b[0;32m   3179\u001b[0m     sfig\u001b[38;5;241m.\u001b[39mdraw(renderer)\n",
      "File \u001b[1;32m~\\.conda\\envs\\fraud_detection\\lib\\site-packages\\matplotlib\\image.py:131\u001b[0m, in \u001b[0;36m_draw_list_compositing_images\u001b[1;34m(renderer, parent, artists, suppress_composite)\u001b[0m\n\u001b[0;32m    129\u001b[0m \u001b[38;5;28;01mif\u001b[39;00m not_composite \u001b[38;5;129;01mor\u001b[39;00m \u001b[38;5;129;01mnot\u001b[39;00m has_images:\n\u001b[0;32m    130\u001b[0m     \u001b[38;5;28;01mfor\u001b[39;00m a \u001b[38;5;129;01min\u001b[39;00m artists:\n\u001b[1;32m--> 131\u001b[0m         \u001b[43ma\u001b[49m\u001b[38;5;241;43m.\u001b[39;49m\u001b[43mdraw\u001b[49m\u001b[43m(\u001b[49m\u001b[43mrenderer\u001b[49m\u001b[43m)\u001b[49m\n\u001b[0;32m    132\u001b[0m \u001b[38;5;28;01melse\u001b[39;00m:\n\u001b[0;32m    133\u001b[0m     \u001b[38;5;66;03m# Composite any adjacent images together\u001b[39;00m\n\u001b[0;32m    134\u001b[0m     image_group \u001b[38;5;241m=\u001b[39m []\n",
      "File \u001b[1;32m~\\.conda\\envs\\fraud_detection\\lib\\site-packages\\matplotlib\\artist.py:72\u001b[0m, in \u001b[0;36mallow_rasterization.<locals>.draw_wrapper\u001b[1;34m(artist, renderer)\u001b[0m\n\u001b[0;32m     69\u001b[0m     \u001b[38;5;28;01mif\u001b[39;00m artist\u001b[38;5;241m.\u001b[39mget_agg_filter() \u001b[38;5;129;01mis\u001b[39;00m \u001b[38;5;129;01mnot\u001b[39;00m \u001b[38;5;28;01mNone\u001b[39;00m:\n\u001b[0;32m     70\u001b[0m         renderer\u001b[38;5;241m.\u001b[39mstart_filter()\n\u001b[1;32m---> 72\u001b[0m     \u001b[38;5;28;01mreturn\u001b[39;00m \u001b[43mdraw\u001b[49m\u001b[43m(\u001b[49m\u001b[43martist\u001b[49m\u001b[43m,\u001b[49m\u001b[43m \u001b[49m\u001b[43mrenderer\u001b[49m\u001b[43m)\u001b[49m\n\u001b[0;32m     73\u001b[0m \u001b[38;5;28;01mfinally\u001b[39;00m:\n\u001b[0;32m     74\u001b[0m     \u001b[38;5;28;01mif\u001b[39;00m artist\u001b[38;5;241m.\u001b[39mget_agg_filter() \u001b[38;5;129;01mis\u001b[39;00m \u001b[38;5;129;01mnot\u001b[39;00m \u001b[38;5;28;01mNone\u001b[39;00m:\n",
      "File \u001b[1;32m~\\.conda\\envs\\fraud_detection\\lib\\site-packages\\matplotlib\\axes\\_base.py:3064\u001b[0m, in \u001b[0;36m_AxesBase.draw\u001b[1;34m(self, renderer)\u001b[0m\n\u001b[0;32m   3061\u001b[0m \u001b[38;5;28;01mif\u001b[39;00m artists_rasterized:\n\u001b[0;32m   3062\u001b[0m     _draw_rasterized(\u001b[38;5;28mself\u001b[39m\u001b[38;5;241m.\u001b[39mfigure, artists_rasterized, renderer)\n\u001b[1;32m-> 3064\u001b[0m \u001b[43mmimage\u001b[49m\u001b[38;5;241;43m.\u001b[39;49m\u001b[43m_draw_list_compositing_images\u001b[49m\u001b[43m(\u001b[49m\n\u001b[0;32m   3065\u001b[0m \u001b[43m    \u001b[49m\u001b[43mrenderer\u001b[49m\u001b[43m,\u001b[49m\u001b[43m \u001b[49m\u001b[38;5;28;43mself\u001b[39;49m\u001b[43m,\u001b[49m\u001b[43m \u001b[49m\u001b[43martists\u001b[49m\u001b[43m,\u001b[49m\u001b[43m \u001b[49m\u001b[38;5;28;43mself\u001b[39;49m\u001b[38;5;241;43m.\u001b[39;49m\u001b[43mfigure\u001b[49m\u001b[38;5;241;43m.\u001b[39;49m\u001b[43msuppressComposite\u001b[49m\u001b[43m)\u001b[49m\n\u001b[0;32m   3067\u001b[0m renderer\u001b[38;5;241m.\u001b[39mclose_group(\u001b[38;5;124m'\u001b[39m\u001b[38;5;124maxes\u001b[39m\u001b[38;5;124m'\u001b[39m)\n\u001b[0;32m   3068\u001b[0m \u001b[38;5;28mself\u001b[39m\u001b[38;5;241m.\u001b[39mstale \u001b[38;5;241m=\u001b[39m \u001b[38;5;28;01mFalse\u001b[39;00m\n",
      "File \u001b[1;32m~\\.conda\\envs\\fraud_detection\\lib\\site-packages\\matplotlib\\image.py:131\u001b[0m, in \u001b[0;36m_draw_list_compositing_images\u001b[1;34m(renderer, parent, artists, suppress_composite)\u001b[0m\n\u001b[0;32m    129\u001b[0m \u001b[38;5;28;01mif\u001b[39;00m not_composite \u001b[38;5;129;01mor\u001b[39;00m \u001b[38;5;129;01mnot\u001b[39;00m has_images:\n\u001b[0;32m    130\u001b[0m     \u001b[38;5;28;01mfor\u001b[39;00m a \u001b[38;5;129;01min\u001b[39;00m artists:\n\u001b[1;32m--> 131\u001b[0m         \u001b[43ma\u001b[49m\u001b[38;5;241;43m.\u001b[39;49m\u001b[43mdraw\u001b[49m\u001b[43m(\u001b[49m\u001b[43mrenderer\u001b[49m\u001b[43m)\u001b[49m\n\u001b[0;32m    132\u001b[0m \u001b[38;5;28;01melse\u001b[39;00m:\n\u001b[0;32m    133\u001b[0m     \u001b[38;5;66;03m# Composite any adjacent images together\u001b[39;00m\n\u001b[0;32m    134\u001b[0m     image_group \u001b[38;5;241m=\u001b[39m []\n",
      "File \u001b[1;32m~\\.conda\\envs\\fraud_detection\\lib\\site-packages\\matplotlib\\artist.py:72\u001b[0m, in \u001b[0;36mallow_rasterization.<locals>.draw_wrapper\u001b[1;34m(artist, renderer)\u001b[0m\n\u001b[0;32m     69\u001b[0m     \u001b[38;5;28;01mif\u001b[39;00m artist\u001b[38;5;241m.\u001b[39mget_agg_filter() \u001b[38;5;129;01mis\u001b[39;00m \u001b[38;5;129;01mnot\u001b[39;00m \u001b[38;5;28;01mNone\u001b[39;00m:\n\u001b[0;32m     70\u001b[0m         renderer\u001b[38;5;241m.\u001b[39mstart_filter()\n\u001b[1;32m---> 72\u001b[0m     \u001b[38;5;28;01mreturn\u001b[39;00m \u001b[43mdraw\u001b[49m\u001b[43m(\u001b[49m\u001b[43martist\u001b[49m\u001b[43m,\u001b[49m\u001b[43m \u001b[49m\u001b[43mrenderer\u001b[49m\u001b[43m)\u001b[49m\n\u001b[0;32m     73\u001b[0m \u001b[38;5;28;01mfinally\u001b[39;00m:\n\u001b[0;32m     74\u001b[0m     \u001b[38;5;28;01mif\u001b[39;00m artist\u001b[38;5;241m.\u001b[39mget_agg_filter() \u001b[38;5;129;01mis\u001b[39;00m \u001b[38;5;129;01mnot\u001b[39;00m \u001b[38;5;28;01mNone\u001b[39;00m:\n",
      "File \u001b[1;32m~\\.conda\\envs\\fraud_detection\\lib\\site-packages\\matplotlib\\legend.py:734\u001b[0m, in \u001b[0;36mLegend.draw\u001b[1;34m(self, renderer)\u001b[0m\n\u001b[0;32m    731\u001b[0m     Shadow(\u001b[38;5;28mself\u001b[39m\u001b[38;5;241m.\u001b[39mlegendPatch, \u001b[38;5;241m2\u001b[39m, \u001b[38;5;241m-\u001b[39m\u001b[38;5;241m2\u001b[39m)\u001b[38;5;241m.\u001b[39mdraw(renderer)\n\u001b[0;32m    733\u001b[0m \u001b[38;5;28mself\u001b[39m\u001b[38;5;241m.\u001b[39mlegendPatch\u001b[38;5;241m.\u001b[39mdraw(renderer)\n\u001b[1;32m--> 734\u001b[0m \u001b[38;5;28;43mself\u001b[39;49m\u001b[38;5;241;43m.\u001b[39;49m\u001b[43m_legend_box\u001b[49m\u001b[38;5;241;43m.\u001b[39;49m\u001b[43mdraw\u001b[49m\u001b[43m(\u001b[49m\u001b[43mrenderer\u001b[49m\u001b[43m)\u001b[49m\n\u001b[0;32m    736\u001b[0m renderer\u001b[38;5;241m.\u001b[39mclose_group(\u001b[38;5;124m'\u001b[39m\u001b[38;5;124mlegend\u001b[39m\u001b[38;5;124m'\u001b[39m)\n\u001b[0;32m    737\u001b[0m \u001b[38;5;28mself\u001b[39m\u001b[38;5;241m.\u001b[39mstale \u001b[38;5;241m=\u001b[39m \u001b[38;5;28;01mFalse\u001b[39;00m\n",
      "File \u001b[1;32m~\\.conda\\envs\\fraud_detection\\lib\\site-packages\\matplotlib\\artist.py:39\u001b[0m, in \u001b[0;36m_prevent_rasterization.<locals>.draw_wrapper\u001b[1;34m(artist, renderer, *args, **kwargs)\u001b[0m\n\u001b[0;32m     36\u001b[0m     renderer\u001b[38;5;241m.\u001b[39mstop_rasterizing()\n\u001b[0;32m     37\u001b[0m     renderer\u001b[38;5;241m.\u001b[39m_rasterizing \u001b[38;5;241m=\u001b[39m \u001b[38;5;28;01mFalse\u001b[39;00m\n\u001b[1;32m---> 39\u001b[0m \u001b[38;5;28;01mreturn\u001b[39;00m draw(artist, renderer, \u001b[38;5;241m*\u001b[39margs, \u001b[38;5;241m*\u001b[39m\u001b[38;5;241m*\u001b[39mkwargs)\n",
      "File \u001b[1;32m~\\.conda\\envs\\fraud_detection\\lib\\site-packages\\matplotlib\\offsetbox.py:413\u001b[0m, in \u001b[0;36mOffsetBox.draw\u001b[1;34m(self, renderer)\u001b[0m\n\u001b[0;32m    408\u001b[0m \u001b[38;5;250m\u001b[39m\u001b[38;5;124;03m\"\"\"\u001b[39;00m\n\u001b[0;32m    409\u001b[0m \u001b[38;5;124;03mUpdate the location of children if necessary and draw them\u001b[39;00m\n\u001b[0;32m    410\u001b[0m \u001b[38;5;124;03mto the given *renderer*.\u001b[39;00m\n\u001b[0;32m    411\u001b[0m \u001b[38;5;124;03m\"\"\"\u001b[39;00m\n\u001b[0;32m    412\u001b[0m bbox, offsets \u001b[38;5;241m=\u001b[39m \u001b[38;5;28mself\u001b[39m\u001b[38;5;241m.\u001b[39m_get_bbox_and_child_offsets(renderer)\n\u001b[1;32m--> 413\u001b[0m px, py \u001b[38;5;241m=\u001b[39m \u001b[38;5;28;43mself\u001b[39;49m\u001b[38;5;241;43m.\u001b[39;49m\u001b[43mget_offset\u001b[49m\u001b[43m(\u001b[49m\u001b[43mbbox\u001b[49m\u001b[43m,\u001b[49m\u001b[43m \u001b[49m\u001b[43mrenderer\u001b[49m\u001b[43m)\u001b[49m\n\u001b[0;32m    414\u001b[0m \u001b[38;5;28;01mfor\u001b[39;00m c, (ox, oy) \u001b[38;5;129;01min\u001b[39;00m \u001b[38;5;28mzip\u001b[39m(\u001b[38;5;28mself\u001b[39m\u001b[38;5;241m.\u001b[39mget_visible_children(), offsets):\n\u001b[0;32m    415\u001b[0m     c\u001b[38;5;241m.\u001b[39mset_offset((px \u001b[38;5;241m+\u001b[39m ox, py \u001b[38;5;241m+\u001b[39m oy))\n",
      "File \u001b[1;32m~\\.conda\\envs\\fraud_detection\\lib\\site-packages\\matplotlib\\offsetbox.py:60\u001b[0m, in \u001b[0;36m_compat_get_offset.<locals>.get_offset\u001b[1;34m(self, *args, **kwargs)\u001b[0m\n\u001b[0;32m     56\u001b[0m params \u001b[38;5;241m=\u001b[39m _api\u001b[38;5;241m.\u001b[39mselect_matching_signature(sigs, \u001b[38;5;28mself\u001b[39m, \u001b[38;5;241m*\u001b[39margs, \u001b[38;5;241m*\u001b[39m\u001b[38;5;241m*\u001b[39mkwargs)\n\u001b[0;32m     57\u001b[0m bbox \u001b[38;5;241m=\u001b[39m (params[\u001b[38;5;124m\"\u001b[39m\u001b[38;5;124mbbox\u001b[39m\u001b[38;5;124m\"\u001b[39m] \u001b[38;5;28;01mif\u001b[39;00m \u001b[38;5;124m\"\u001b[39m\u001b[38;5;124mbbox\u001b[39m\u001b[38;5;124m\"\u001b[39m \u001b[38;5;129;01min\u001b[39;00m params \u001b[38;5;28;01melse\u001b[39;00m\n\u001b[0;32m     58\u001b[0m         Bbox\u001b[38;5;241m.\u001b[39mfrom_bounds(\u001b[38;5;241m-\u001b[39mparams[\u001b[38;5;124m\"\u001b[39m\u001b[38;5;124mxdescent\u001b[39m\u001b[38;5;124m\"\u001b[39m], \u001b[38;5;241m-\u001b[39mparams[\u001b[38;5;124m\"\u001b[39m\u001b[38;5;124mydescent\u001b[39m\u001b[38;5;124m\"\u001b[39m],\n\u001b[0;32m     59\u001b[0m                          params[\u001b[38;5;124m\"\u001b[39m\u001b[38;5;124mwidth\u001b[39m\u001b[38;5;124m\"\u001b[39m], params[\u001b[38;5;124m\"\u001b[39m\u001b[38;5;124mheight\u001b[39m\u001b[38;5;124m\"\u001b[39m]))\n\u001b[1;32m---> 60\u001b[0m \u001b[38;5;28;01mreturn\u001b[39;00m \u001b[43mmeth\u001b[49m\u001b[43m(\u001b[49m\u001b[43mparams\u001b[49m\u001b[43m[\u001b[49m\u001b[38;5;124;43m\"\u001b[39;49m\u001b[38;5;124;43mself\u001b[39;49m\u001b[38;5;124;43m\"\u001b[39;49m\u001b[43m]\u001b[49m\u001b[43m,\u001b[49m\u001b[43m \u001b[49m\u001b[43mbbox\u001b[49m\u001b[43m,\u001b[49m\u001b[43m \u001b[49m\u001b[43mparams\u001b[49m\u001b[43m[\u001b[49m\u001b[38;5;124;43m\"\u001b[39;49m\u001b[38;5;124;43mrenderer\u001b[39;49m\u001b[38;5;124;43m\"\u001b[39;49m\u001b[43m]\u001b[49m\u001b[43m)\u001b[49m\n",
      "File \u001b[1;32m~\\.conda\\envs\\fraud_detection\\lib\\site-packages\\matplotlib\\offsetbox.py:313\u001b[0m, in \u001b[0;36mOffsetBox.get_offset\u001b[1;34m(self, bbox, renderer)\u001b[0m\n\u001b[0;32m    298\u001b[0m \u001b[38;5;129m@_compat_get_offset\u001b[39m\n\u001b[0;32m    299\u001b[0m \u001b[38;5;28;01mdef\u001b[39;00m \u001b[38;5;21mget_offset\u001b[39m(\u001b[38;5;28mself\u001b[39m, bbox, renderer):\n\u001b[0;32m    300\u001b[0m \u001b[38;5;250m    \u001b[39m\u001b[38;5;124;03m\"\"\"\u001b[39;00m\n\u001b[0;32m    301\u001b[0m \u001b[38;5;124;03m    Return the offset as a tuple (x, y).\u001b[39;00m\n\u001b[0;32m    302\u001b[0m \n\u001b[1;32m   (...)\u001b[0m\n\u001b[0;32m    310\u001b[0m \u001b[38;5;124;03m    renderer : `.RendererBase` subclass\u001b[39;00m\n\u001b[0;32m    311\u001b[0m \u001b[38;5;124;03m    \"\"\"\u001b[39;00m\n\u001b[0;32m    312\u001b[0m     \u001b[38;5;28;01mreturn\u001b[39;00m (\n\u001b[1;32m--> 313\u001b[0m         \u001b[38;5;28;43mself\u001b[39;49m\u001b[38;5;241;43m.\u001b[39;49m\u001b[43m_offset\u001b[49m\u001b[43m(\u001b[49m\u001b[43mbbox\u001b[49m\u001b[38;5;241;43m.\u001b[39;49m\u001b[43mwidth\u001b[49m\u001b[43m,\u001b[49m\u001b[43m \u001b[49m\u001b[43mbbox\u001b[49m\u001b[38;5;241;43m.\u001b[39;49m\u001b[43mheight\u001b[49m\u001b[43m,\u001b[49m\u001b[43m \u001b[49m\u001b[38;5;241;43m-\u001b[39;49m\u001b[43mbbox\u001b[49m\u001b[38;5;241;43m.\u001b[39;49m\u001b[43mx0\u001b[49m\u001b[43m,\u001b[49m\u001b[43m \u001b[49m\u001b[38;5;241;43m-\u001b[39;49m\u001b[43mbbox\u001b[49m\u001b[38;5;241;43m.\u001b[39;49m\u001b[43my0\u001b[49m\u001b[43m,\u001b[49m\u001b[43m \u001b[49m\u001b[43mrenderer\u001b[49m\u001b[43m)\u001b[49m\n\u001b[0;32m    314\u001b[0m         \u001b[38;5;28;01mif\u001b[39;00m callable(\u001b[38;5;28mself\u001b[39m\u001b[38;5;241m.\u001b[39m_offset)\n\u001b[0;32m    315\u001b[0m         \u001b[38;5;28;01melse\u001b[39;00m \u001b[38;5;28mself\u001b[39m\u001b[38;5;241m.\u001b[39m_offset)\n",
      "File \u001b[1;32m~\\.conda\\envs\\fraud_detection\\lib\\site-packages\\matplotlib\\legend.py:695\u001b[0m, in \u001b[0;36mLegend._findoffset\u001b[1;34m(self, width, height, xdescent, ydescent, renderer)\u001b[0m\n\u001b[0;32m    692\u001b[0m \u001b[38;5;250m\u001b[39m\u001b[38;5;124;03m\"\"\"Helper function to locate the legend.\"\"\"\u001b[39;00m\n\u001b[0;32m    694\u001b[0m \u001b[38;5;28;01mif\u001b[39;00m \u001b[38;5;28mself\u001b[39m\u001b[38;5;241m.\u001b[39m_loc \u001b[38;5;241m==\u001b[39m \u001b[38;5;241m0\u001b[39m:  \u001b[38;5;66;03m# \"best\".\u001b[39;00m\n\u001b[1;32m--> 695\u001b[0m     x, y \u001b[38;5;241m=\u001b[39m \u001b[38;5;28;43mself\u001b[39;49m\u001b[38;5;241;43m.\u001b[39;49m\u001b[43m_find_best_position\u001b[49m\u001b[43m(\u001b[49m\u001b[43mwidth\u001b[49m\u001b[43m,\u001b[49m\u001b[43m \u001b[49m\u001b[43mheight\u001b[49m\u001b[43m,\u001b[49m\u001b[43m \u001b[49m\u001b[43mrenderer\u001b[49m\u001b[43m)\u001b[49m\n\u001b[0;32m    696\u001b[0m \u001b[38;5;28;01melif\u001b[39;00m \u001b[38;5;28mself\u001b[39m\u001b[38;5;241m.\u001b[39m_loc \u001b[38;5;129;01min\u001b[39;00m Legend\u001b[38;5;241m.\u001b[39mcodes\u001b[38;5;241m.\u001b[39mvalues():  \u001b[38;5;66;03m# Fixed location.\u001b[39;00m\n\u001b[0;32m    697\u001b[0m     bbox \u001b[38;5;241m=\u001b[39m Bbox\u001b[38;5;241m.\u001b[39mfrom_bounds(\u001b[38;5;241m0\u001b[39m, \u001b[38;5;241m0\u001b[39m, width, height)\n",
      "File \u001b[1;32m~\\.conda\\envs\\fraud_detection\\lib\\site-packages\\matplotlib\\legend.py:1142\u001b[0m, in \u001b[0;36mLegend._find_best_position\u001b[1;34m(self, width, height, renderer, consider)\u001b[0m\n\u001b[0;32m   1137\u001b[0m badness \u001b[38;5;241m=\u001b[39m \u001b[38;5;241m0\u001b[39m\n\u001b[0;32m   1138\u001b[0m \u001b[38;5;66;03m# XXX TODO: If markers are present, it would be good to take them\u001b[39;00m\n\u001b[0;32m   1139\u001b[0m \u001b[38;5;66;03m# into account when checking vertex overlaps in the next line.\u001b[39;00m\n\u001b[0;32m   1140\u001b[0m badness \u001b[38;5;241m=\u001b[39m (\u001b[38;5;28msum\u001b[39m(legendBox\u001b[38;5;241m.\u001b[39mcount_contains(line\u001b[38;5;241m.\u001b[39mvertices)\n\u001b[0;32m   1141\u001b[0m                \u001b[38;5;28;01mfor\u001b[39;00m line \u001b[38;5;129;01min\u001b[39;00m lines)\n\u001b[1;32m-> 1142\u001b[0m            \u001b[38;5;241m+\u001b[39m \u001b[43mlegendBox\u001b[49m\u001b[38;5;241;43m.\u001b[39;49m\u001b[43mcount_contains\u001b[49m\u001b[43m(\u001b[49m\u001b[43moffsets\u001b[49m\u001b[43m)\u001b[49m\n\u001b[0;32m   1143\u001b[0m            \u001b[38;5;241m+\u001b[39m legendBox\u001b[38;5;241m.\u001b[39mcount_overlaps(bboxes)\n\u001b[0;32m   1144\u001b[0m            \u001b[38;5;241m+\u001b[39m \u001b[38;5;28msum\u001b[39m(line\u001b[38;5;241m.\u001b[39mintersects_bbox(legendBox, filled\u001b[38;5;241m=\u001b[39m\u001b[38;5;28;01mFalse\u001b[39;00m)\n\u001b[0;32m   1145\u001b[0m                  \u001b[38;5;28;01mfor\u001b[39;00m line \u001b[38;5;129;01min\u001b[39;00m lines))\n\u001b[0;32m   1146\u001b[0m \u001b[38;5;28;01mif\u001b[39;00m badness \u001b[38;5;241m==\u001b[39m \u001b[38;5;241m0\u001b[39m:\n\u001b[0;32m   1147\u001b[0m     \u001b[38;5;28;01mreturn\u001b[39;00m l, b\n",
      "File \u001b[1;32m~\\.conda\\envs\\fraud_detection\\lib\\site-packages\\matplotlib\\transforms.py:591\u001b[0m, in \u001b[0;36mBboxBase.count_contains\u001b[1;34m(self, vertices)\u001b[0m\n\u001b[0;32m    589\u001b[0m \u001b[38;5;28;01mif\u001b[39;00m \u001b[38;5;28mlen\u001b[39m(vertices) \u001b[38;5;241m==\u001b[39m \u001b[38;5;241m0\u001b[39m:\n\u001b[0;32m    590\u001b[0m     \u001b[38;5;28;01mreturn\u001b[39;00m \u001b[38;5;241m0\u001b[39m\n\u001b[1;32m--> 591\u001b[0m vertices \u001b[38;5;241m=\u001b[39m \u001b[43mnp\u001b[49m\u001b[38;5;241;43m.\u001b[39;49m\u001b[43masarray\u001b[49m\u001b[43m(\u001b[49m\u001b[43mvertices\u001b[49m\u001b[43m)\u001b[49m\n\u001b[0;32m    592\u001b[0m \u001b[38;5;28;01mwith\u001b[39;00m np\u001b[38;5;241m.\u001b[39merrstate(invalid\u001b[38;5;241m=\u001b[39m\u001b[38;5;124m'\u001b[39m\u001b[38;5;124mignore\u001b[39m\u001b[38;5;124m'\u001b[39m):\n\u001b[0;32m    593\u001b[0m     \u001b[38;5;28;01mreturn\u001b[39;00m (((\u001b[38;5;28mself\u001b[39m\u001b[38;5;241m.\u001b[39mmin \u001b[38;5;241m<\u001b[39m vertices) \u001b[38;5;241m&\u001b[39m\n\u001b[0;32m    594\u001b[0m              (vertices \u001b[38;5;241m<\u001b[39m \u001b[38;5;28mself\u001b[39m\u001b[38;5;241m.\u001b[39mmax))\u001b[38;5;241m.\u001b[39mall(axis\u001b[38;5;241m=\u001b[39m\u001b[38;5;241m1\u001b[39m)\u001b[38;5;241m.\u001b[39msum())\n",
      "\u001b[1;31mKeyboardInterrupt\u001b[0m: "
     ]
    },
    {
     "name": "stdout",
     "output_type": "stream",
     "text": [
      "Error in callback <function flush_figures at 0x0000027D84A60310> (for post_execute):\n"
     ]
    },
    {
     "name": "stderr",
     "output_type": "stream",
     "text": [
      "\n",
      "KeyboardInterrupt\n",
      "\n"
     ]
    }
   ],
   "source": []
  },
  {
   "cell_type": "code",
   "execution_count": null,
   "id": "57abf434",
   "metadata": {},
   "outputs": [],
   "source": []
  },
  {
   "cell_type": "code",
   "execution_count": null,
   "id": "7eee61ea",
   "metadata": {},
   "outputs": [],
   "source": []
  },
  {
   "cell_type": "markdown",
   "id": "918e6b1c",
   "metadata": {},
   "source": [
    "# type"
   ]
  },
  {
   "cell_type": "code",
   "execution_count": 227,
   "id": "47168b8d",
   "metadata": {
    "ExecuteTime": {
     "end_time": "2023-09-12T17:55:10.910043Z",
     "start_time": "2023-09-12T17:55:09.444058Z"
    }
   },
   "outputs": [
    {
     "name": "stderr",
     "output_type": "stream",
     "text": [
      "\n",
      "KeyboardInterrupt\n",
      "\n"
     ]
    },
    {
     "name": "stdout",
     "output_type": "stream",
     "text": [
      "Error in callback <function flush_figures at 0x0000027D84A60310> (for post_execute):\n"
     ]
    },
    {
     "name": "stderr",
     "output_type": "stream",
     "text": [
      "\n",
      "KeyboardInterrupt\n",
      "\n"
     ]
    }
   ],
   "source": [
    "plt.figure(figsize = (10,7))\n",
    "sns.boxplot(x = 'type', y = 'amount', data = data, palette= 'GnBu_d').set_title('Age by Passenger Class')\n",
    "plt.show()"
   ]
  },
  {
   "cell_type": "code",
   "execution_count": null,
   "id": "eeecc24f",
   "metadata": {},
   "outputs": [],
   "source": []
  },
  {
   "cell_type": "markdown",
   "id": "a58cb6c0",
   "metadata": {},
   "source": [
    "# amount"
   ]
  },
  {
   "cell_type": "code",
   "execution_count": null,
   "id": "e990bb6a",
   "metadata": {
    "ExecuteTime": {
     "end_time": "2023-09-12T17:55:10.915053Z",
     "start_time": "2023-09-12T17:55:10.915053Z"
    }
   },
   "outputs": [],
   "source": [
    "plt.figure(figsize = (10,7))\n",
    "sns.boxplot(x = 'type', y = 'amount', data = train_data, palette= 'GnBu_d').set_title('Age by Passenger Class')\n",
    "plt.show()"
   ]
  },
  {
   "cell_type": "code",
   "execution_count": null,
   "id": "91d2a741",
   "metadata": {},
   "outputs": [],
   "source": []
  },
  {
   "cell_type": "markdown",
   "id": "74e94844",
   "metadata": {},
   "source": [
    "# name_orig"
   ]
  },
  {
   "cell_type": "code",
   "execution_count": null,
   "id": "5064bbfe",
   "metadata": {},
   "outputs": [],
   "source": []
  },
  {
   "cell_type": "code",
   "execution_count": null,
   "id": "6c6ede04",
   "metadata": {},
   "outputs": [],
   "source": []
  },
  {
   "cell_type": "markdown",
   "id": "f8948f6e",
   "metadata": {},
   "source": [
    "# oldbalance_org"
   ]
  },
  {
   "cell_type": "code",
   "execution_count": null,
   "id": "1a73ec6c",
   "metadata": {},
   "outputs": [],
   "source": []
  },
  {
   "cell_type": "code",
   "execution_count": null,
   "id": "ae7ef030",
   "metadata": {},
   "outputs": [],
   "source": []
  },
  {
   "cell_type": "markdown",
   "id": "05c3a472",
   "metadata": {},
   "source": [
    "# newbalance_orig"
   ]
  },
  {
   "cell_type": "code",
   "execution_count": null,
   "id": "abffc332",
   "metadata": {},
   "outputs": [],
   "source": []
  },
  {
   "cell_type": "code",
   "execution_count": null,
   "id": "dcc3c222",
   "metadata": {},
   "outputs": [],
   "source": []
  },
  {
   "cell_type": "markdown",
   "id": "db63ea34",
   "metadata": {},
   "source": [
    "# name_dest"
   ]
  },
  {
   "cell_type": "code",
   "execution_count": null,
   "id": "56385613",
   "metadata": {},
   "outputs": [],
   "source": []
  },
  {
   "cell_type": "code",
   "execution_count": null,
   "id": "fe16d367",
   "metadata": {},
   "outputs": [],
   "source": []
  },
  {
   "cell_type": "markdown",
   "id": "a8395b74",
   "metadata": {},
   "source": [
    "# oldbalance_dest"
   ]
  },
  {
   "cell_type": "code",
   "execution_count": null,
   "id": "e01386e5",
   "metadata": {},
   "outputs": [],
   "source": []
  },
  {
   "cell_type": "code",
   "execution_count": null,
   "id": "50ddde26",
   "metadata": {},
   "outputs": [],
   "source": []
  },
  {
   "cell_type": "markdown",
   "id": "228709dd",
   "metadata": {},
   "source": [
    "# newbalance_dest"
   ]
  },
  {
   "cell_type": "code",
   "execution_count": null,
   "id": "5286f38a",
   "metadata": {},
   "outputs": [],
   "source": []
  },
  {
   "cell_type": "code",
   "execution_count": null,
   "id": "b3b0917a",
   "metadata": {},
   "outputs": [],
   "source": []
  },
  {
   "cell_type": "markdown",
   "id": "eb6a25d5",
   "metadata": {},
   "source": [
    "# is_flagged_fraud"
   ]
  },
  {
   "cell_type": "code",
   "execution_count": null,
   "id": "2f8794c3",
   "metadata": {},
   "outputs": [],
   "source": []
  },
  {
   "cell_type": "code",
   "execution_count": null,
   "id": "180e21c6",
   "metadata": {},
   "outputs": [],
   "source": []
  },
  {
   "cell_type": "markdown",
   "id": "68ab042a",
   "metadata": {},
   "source": [
    "# Multivariated Analysis"
   ]
  },
  {
   "cell_type": "code",
   "execution_count": 11,
   "id": "7e69ca06",
   "metadata": {},
   "outputs": [
    {
     "ename": "ValueError",
     "evalue": "could not convert string to float: 'PAYMENT'",
     "output_type": "error",
     "traceback": [
      "\u001b[1;31m---------------------------------------------------------------------------\u001b[0m",
      "\u001b[1;31mValueError\u001b[0m                                Traceback (most recent call last)",
      "Cell \u001b[1;32mIn[11], line 1\u001b[0m\n\u001b[1;32m----> 1\u001b[0m corr \u001b[38;5;241m=\u001b[39m \u001b[43mdata\u001b[49m\u001b[38;5;241;43m.\u001b[39;49m\u001b[43mcorr\u001b[49m\u001b[43m(\u001b[49m\u001b[43mmethod\u001b[49m\u001b[38;5;241;43m=\u001b[39;49m\u001b[38;5;124;43m'\u001b[39;49m\u001b[38;5;124;43mpearson\u001b[39;49m\u001b[38;5;124;43m'\u001b[39;49m\u001b[43m)\u001b[49m\n\u001b[0;32m      3\u001b[0m column_order \u001b[38;5;241m=\u001b[39m [\u001b[38;5;124m'\u001b[39m\u001b[38;5;124misFraud\u001b[39m\u001b[38;5;124m'\u001b[39m] \u001b[38;5;241m+\u001b[39m [col \u001b[38;5;28;01mfor\u001b[39;00m col \u001b[38;5;129;01min\u001b[39;00m corr\u001b[38;5;241m.\u001b[39mcolumns \u001b[38;5;28;01mif\u001b[39;00m col \u001b[38;5;241m!=\u001b[39m \u001b[38;5;124m'\u001b[39m\u001b[38;5;124misFraud\u001b[39m\u001b[38;5;124m'\u001b[39m]\n\u001b[0;32m      4\u001b[0m corr \u001b[38;5;241m=\u001b[39m corr\u001b[38;5;241m.\u001b[39mreindex(columns\u001b[38;5;241m=\u001b[39mcolumn_order, index\u001b[38;5;241m=\u001b[39mcolumn_order)\n",
      "File \u001b[1;32m~\\.conda\\envs\\fraud_detection\\lib\\site-packages\\pandas\\core\\frame.py:10707\u001b[0m, in \u001b[0;36mDataFrame.corr\u001b[1;34m(self, method, min_periods, numeric_only)\u001b[0m\n\u001b[0;32m  10705\u001b[0m cols \u001b[38;5;241m=\u001b[39m data\u001b[38;5;241m.\u001b[39mcolumns\n\u001b[0;32m  10706\u001b[0m idx \u001b[38;5;241m=\u001b[39m cols\u001b[38;5;241m.\u001b[39mcopy()\n\u001b[1;32m> 10707\u001b[0m mat \u001b[38;5;241m=\u001b[39m \u001b[43mdata\u001b[49m\u001b[38;5;241;43m.\u001b[39;49m\u001b[43mto_numpy\u001b[49m\u001b[43m(\u001b[49m\u001b[43mdtype\u001b[49m\u001b[38;5;241;43m=\u001b[39;49m\u001b[38;5;28;43mfloat\u001b[39;49m\u001b[43m,\u001b[49m\u001b[43m \u001b[49m\u001b[43mna_value\u001b[49m\u001b[38;5;241;43m=\u001b[39;49m\u001b[43mnp\u001b[49m\u001b[38;5;241;43m.\u001b[39;49m\u001b[43mnan\u001b[49m\u001b[43m,\u001b[49m\u001b[43m \u001b[49m\u001b[43mcopy\u001b[49m\u001b[38;5;241;43m=\u001b[39;49m\u001b[38;5;28;43;01mFalse\u001b[39;49;00m\u001b[43m)\u001b[49m\n\u001b[0;32m  10709\u001b[0m \u001b[38;5;28;01mif\u001b[39;00m method \u001b[38;5;241m==\u001b[39m \u001b[38;5;124m\"\u001b[39m\u001b[38;5;124mpearson\u001b[39m\u001b[38;5;124m\"\u001b[39m:\n\u001b[0;32m  10710\u001b[0m     correl \u001b[38;5;241m=\u001b[39m libalgos\u001b[38;5;241m.\u001b[39mnancorr(mat, minp\u001b[38;5;241m=\u001b[39mmin_periods)\n",
      "File \u001b[1;32m~\\.conda\\envs\\fraud_detection\\lib\\site-packages\\pandas\\core\\frame.py:1892\u001b[0m, in \u001b[0;36mDataFrame.to_numpy\u001b[1;34m(self, dtype, copy, na_value)\u001b[0m\n\u001b[0;32m   1890\u001b[0m \u001b[38;5;28;01mif\u001b[39;00m dtype \u001b[38;5;129;01mis\u001b[39;00m \u001b[38;5;129;01mnot\u001b[39;00m \u001b[38;5;28;01mNone\u001b[39;00m:\n\u001b[0;32m   1891\u001b[0m     dtype \u001b[38;5;241m=\u001b[39m np\u001b[38;5;241m.\u001b[39mdtype(dtype)\n\u001b[1;32m-> 1892\u001b[0m result \u001b[38;5;241m=\u001b[39m \u001b[38;5;28;43mself\u001b[39;49m\u001b[38;5;241;43m.\u001b[39;49m\u001b[43m_mgr\u001b[49m\u001b[38;5;241;43m.\u001b[39;49m\u001b[43mas_array\u001b[49m\u001b[43m(\u001b[49m\u001b[43mdtype\u001b[49m\u001b[38;5;241;43m=\u001b[39;49m\u001b[43mdtype\u001b[49m\u001b[43m,\u001b[49m\u001b[43m \u001b[49m\u001b[43mcopy\u001b[49m\u001b[38;5;241;43m=\u001b[39;49m\u001b[43mcopy\u001b[49m\u001b[43m,\u001b[49m\u001b[43m \u001b[49m\u001b[43mna_value\u001b[49m\u001b[38;5;241;43m=\u001b[39;49m\u001b[43mna_value\u001b[49m\u001b[43m)\u001b[49m\n\u001b[0;32m   1893\u001b[0m \u001b[38;5;28;01mif\u001b[39;00m result\u001b[38;5;241m.\u001b[39mdtype \u001b[38;5;129;01mis\u001b[39;00m \u001b[38;5;129;01mnot\u001b[39;00m dtype:\n\u001b[0;32m   1894\u001b[0m     result \u001b[38;5;241m=\u001b[39m np\u001b[38;5;241m.\u001b[39marray(result, dtype\u001b[38;5;241m=\u001b[39mdtype, copy\u001b[38;5;241m=\u001b[39m\u001b[38;5;28;01mFalse\u001b[39;00m)\n",
      "File \u001b[1;32m~\\.conda\\envs\\fraud_detection\\lib\\site-packages\\pandas\\core\\internals\\managers.py:1656\u001b[0m, in \u001b[0;36mBlockManager.as_array\u001b[1;34m(self, dtype, copy, na_value)\u001b[0m\n\u001b[0;32m   1654\u001b[0m         arr\u001b[38;5;241m.\u001b[39mflags\u001b[38;5;241m.\u001b[39mwriteable \u001b[38;5;241m=\u001b[39m \u001b[38;5;28;01mFalse\u001b[39;00m\n\u001b[0;32m   1655\u001b[0m \u001b[38;5;28;01melse\u001b[39;00m:\n\u001b[1;32m-> 1656\u001b[0m     arr \u001b[38;5;241m=\u001b[39m \u001b[38;5;28;43mself\u001b[39;49m\u001b[38;5;241;43m.\u001b[39;49m\u001b[43m_interleave\u001b[49m\u001b[43m(\u001b[49m\u001b[43mdtype\u001b[49m\u001b[38;5;241;43m=\u001b[39;49m\u001b[43mdtype\u001b[49m\u001b[43m,\u001b[49m\u001b[43m \u001b[49m\u001b[43mna_value\u001b[49m\u001b[38;5;241;43m=\u001b[39;49m\u001b[43mna_value\u001b[49m\u001b[43m)\u001b[49m\n\u001b[0;32m   1657\u001b[0m     \u001b[38;5;66;03m# The underlying data was copied within _interleave, so no need\u001b[39;00m\n\u001b[0;32m   1658\u001b[0m     \u001b[38;5;66;03m# to further copy if copy=True or setting na_value\u001b[39;00m\n\u001b[0;32m   1660\u001b[0m \u001b[38;5;28;01mif\u001b[39;00m na_value \u001b[38;5;129;01mis\u001b[39;00m lib\u001b[38;5;241m.\u001b[39mno_default:\n",
      "File \u001b[1;32m~\\.conda\\envs\\fraud_detection\\lib\\site-packages\\pandas\\core\\internals\\managers.py:1715\u001b[0m, in \u001b[0;36mBlockManager._interleave\u001b[1;34m(self, dtype, na_value)\u001b[0m\n\u001b[0;32m   1713\u001b[0m     \u001b[38;5;28;01melse\u001b[39;00m:\n\u001b[0;32m   1714\u001b[0m         arr \u001b[38;5;241m=\u001b[39m blk\u001b[38;5;241m.\u001b[39mget_values(dtype)\n\u001b[1;32m-> 1715\u001b[0m     \u001b[43mresult\u001b[49m\u001b[43m[\u001b[49m\u001b[43mrl\u001b[49m\u001b[38;5;241;43m.\u001b[39;49m\u001b[43mindexer\u001b[49m\u001b[43m]\u001b[49m \u001b[38;5;241m=\u001b[39m arr\n\u001b[0;32m   1716\u001b[0m     itemmask[rl\u001b[38;5;241m.\u001b[39mindexer] \u001b[38;5;241m=\u001b[39m \u001b[38;5;241m1\u001b[39m\n\u001b[0;32m   1718\u001b[0m \u001b[38;5;28;01mif\u001b[39;00m \u001b[38;5;129;01mnot\u001b[39;00m itemmask\u001b[38;5;241m.\u001b[39mall():\n",
      "\u001b[1;31mValueError\u001b[0m: could not convert string to float: 'PAYMENT'"
     ]
    }
   ],
   "source": [
    "corr = data.corr(method='pearson')\n",
    "\n",
    "column_order = ['isFraud'] + [col for col in corr.columns if col != 'isFraud']\n",
    "corr = corr.reindex(columns=column_order, index=column_order)\n",
    "\n",
    "plt.figure(figsize=(24, 12))\n",
    "sns.heatmap(corr, annot=True, fmt='.2f', cmap='coolwarm')\n",
    "plt.show()"
   ]
  },
  {
   "cell_type": "code",
   "execution_count": null,
   "id": "8c8ee9e2",
   "metadata": {},
   "outputs": [],
   "source": []
  },
  {
   "cell_type": "code",
   "execution_count": null,
   "id": "c7022202",
   "metadata": {},
   "outputs": [],
   "source": [
    "sns.kdeplot(x='engine_cc', data=cars, hue='fuel')"
   ]
  }
 ],
 "metadata": {
  "kernelspec": {
   "display_name": "Python 3 (ipykernel)",
   "language": "python",
   "name": "python3"
  },
  "language_info": {
   "codemirror_mode": {
    "name": "ipython",
    "version": 3
   },
   "file_extension": ".py",
   "mimetype": "text/x-python",
   "name": "python",
   "nbconvert_exporter": "python",
   "pygments_lexer": "ipython3",
   "version": "3.10.13"
  }
 },
 "nbformat": 4,
 "nbformat_minor": 5
}
