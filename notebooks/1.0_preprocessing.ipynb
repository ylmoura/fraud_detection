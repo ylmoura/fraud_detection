{
 "cells": [
  {
   "cell_type": "markdown",
   "metadata": {},
   "source": [
    "step - mapeia uma unidade de tempo no mundo real. Neste caso, 1 passo equivale a 1 hora. Total de passos 744 (simulação de 30 dias).\n",
    "\n",
    "tipo - CASH-IN, CASH-OUT, DÉBITO, PAGAMENTO e TRANSFERÊNCIA.\n",
    "\n",
    "montante - valor da transação em moeda local.\n",
    "\n",
    "nameOrig – cliente que iniciou a transação\n",
    "\n",
    "oldbalanceOrg - saldo inicial antes da transação\n",
    "\n",
    "newbalanceOrig - novo saldo após a transação\n",
    "\n",
    "nameDest - cliente que é o destinatário da transação\n",
    "\n",
    "oldbalanceDest - destinatário do saldo inicial antes da transação. Observe que não há informações para clientes que iniciam com M (Comerciantes).\n",
    "\n",
    "newbalanceDest - novo destinatário do saldo após a transação. Observe que não há informações para clientes que iniciam com M (Comerciantes).\n",
    "\n",
    "isFraud - São as transações realizadas pelos agentes fraudulentos dentro da simulação. Neste conjunto de dados específico, o comportamento fraudulento dos agentes visa lucrar assumindo o controle das contas dos clientes e tentando esvaziar os fundos transferindo para outra conta e depois sacando do sistema.\n",
    "\n",
    "isFlaggedFraud – O modelo de negócios visa controlar transferências massivas de uma conta para outra e sinalizar tentativas ilegais. Uma tentativa ilegal neste conjunto de dados é uma tentativa de transferir mais de 200.000 em uma única transação."
   ]
  },
  {
   "cell_type": "code",
   "execution_count": 50,
   "metadata": {
    "ExecuteTime": {
     "end_time": "2023-09-12T13:37:49.128628Z",
     "start_time": "2023-09-12T13:37:49.109622Z"
    }
   },
   "outputs": [],
   "source": [
    "# Basic Tools\n",
    "import numpy as np\n",
    "import pandas as pd\n",
    "from datetime import datetime as dt\n",
    "\n",
    "import inflection\n",
    "import re\n",
    "\n",
    "\n",
    "# File/ OS Tools\n",
    "import os\n",
    "import sys\n",
    "from watermark import watermark"
   ]
  },
  {
   "cell_type": "code",
   "execution_count": 51,
   "metadata": {
    "ExecuteTime": {
     "end_time": "2023-09-12T13:37:49.270629Z",
     "start_time": "2023-09-12T13:37:49.254625Z"
    }
   },
   "outputs": [],
   "source": [
    "def rename_columns(dataframe):\n",
    "    df = dataframe.copy()\n",
    "    title = lambda x: inflection.titleize(x)\n",
    "    snakecase = lambda x: inflection.underscore(x)\n",
    "    accent = lambda x: inflection.transliterate(x)\n",
    "    spaces = lambda x: x.replace(\" \", \"\")\n",
    "    cols_old = list(df.columns)\n",
    "    cols_old = list(map(title, cols_old))\n",
    "    cols_old = list(map(spaces, cols_old))\n",
    "    cols_old = list(map(accent, cols_old))\n",
    "    cols_new = list(map(snakecase, cols_old))\n",
    "    df.columns = cols_new\n",
    "    return df"
   ]
  },
  {
   "cell_type": "code",
   "execution_count": 52,
   "metadata": {
    "ExecuteTime": {
     "end_time": "2023-09-12T13:38:03.425938Z",
     "start_time": "2023-09-12T13:37:49.388120Z"
    }
   },
   "outputs": [],
   "source": [
    "data_raw = pd.read_csv('../data/raw/data_raw.csv',low_memory=False)\n",
    "data_raw = rename_columns(data_raw)\n",
    "data = data_raw.copy()"
   ]
  },
  {
   "cell_type": "code",
   "execution_count": null,
   "metadata": {},
   "outputs": [],
   "source": []
  },
  {
   "cell_type": "code",
   "execution_count": null,
   "metadata": {},
   "outputs": [],
   "source": []
  },
  {
   "cell_type": "markdown",
   "metadata": {},
   "source": [
    "# Missing Data"
   ]
  },
  {
   "cell_type": "code",
   "execution_count": 53,
   "metadata": {
    "ExecuteTime": {
     "end_time": "2023-09-12T13:38:04.264936Z",
     "start_time": "2023-09-12T13:38:03.429943Z"
    }
   },
   "outputs": [
    {
     "data": {
      "text/plain": [
       "step                0\n",
       "type                0\n",
       "amount              0\n",
       "name_orig           0\n",
       "oldbalance_org      0\n",
       "newbalance_orig     0\n",
       "name_dest           0\n",
       "oldbalance_dest     0\n",
       "newbalance_dest     0\n",
       "is_fraud            0\n",
       "is_flagged_fraud    0\n",
       "dtype: int64"
      ]
     },
     "execution_count": 53,
     "metadata": {},
     "output_type": "execute_result"
    }
   ],
   "source": [
    "data.isna().sum()"
   ]
  },
  {
   "cell_type": "markdown",
   "metadata": {},
   "source": [
    "# TIPO DE DADOS "
   ]
  },
  {
   "cell_type": "code",
   "execution_count": 54,
   "metadata": {
    "ExecuteTime": {
     "end_time": "2023-09-12T13:38:04.279933Z",
     "start_time": "2023-09-12T13:38:04.267931Z"
    }
   },
   "outputs": [
    {
     "data": {
      "text/plain": [
       "step                  int64\n",
       "type                 object\n",
       "amount              float64\n",
       "name_orig            object\n",
       "oldbalance_org      float64\n",
       "newbalance_orig     float64\n",
       "name_dest            object\n",
       "oldbalance_dest     float64\n",
       "newbalance_dest     float64\n",
       "is_fraud              int64\n",
       "is_flagged_fraud      int64\n",
       "dtype: object"
      ]
     },
     "execution_count": 54,
     "metadata": {},
     "output_type": "execute_result"
    }
   ],
   "source": [
    "data.dtypes"
   ]
  },
  {
   "cell_type": "code",
   "execution_count": null,
   "metadata": {},
   "outputs": [],
   "source": []
  },
  {
   "cell_type": "code",
   "execution_count": 55,
   "metadata": {
    "ExecuteTime": {
     "end_time": "2023-09-12T13:38:04.310928Z",
     "start_time": "2023-09-12T13:38:04.287936Z"
    }
   },
   "outputs": [
    {
     "data": {
      "text/html": [
       "<div>\n",
       "<style scoped>\n",
       "    .dataframe tbody tr th:only-of-type {\n",
       "        vertical-align: middle;\n",
       "    }\n",
       "\n",
       "    .dataframe tbody tr th {\n",
       "        vertical-align: top;\n",
       "    }\n",
       "\n",
       "    .dataframe thead th {\n",
       "        text-align: right;\n",
       "    }\n",
       "</style>\n",
       "<table border=\"1\" class=\"dataframe\">\n",
       "  <thead>\n",
       "    <tr style=\"text-align: right;\">\n",
       "      <th></th>\n",
       "      <th>step</th>\n",
       "      <th>type</th>\n",
       "      <th>amount</th>\n",
       "      <th>name_orig</th>\n",
       "      <th>oldbalance_org</th>\n",
       "      <th>newbalance_orig</th>\n",
       "      <th>name_dest</th>\n",
       "      <th>oldbalance_dest</th>\n",
       "      <th>newbalance_dest</th>\n",
       "      <th>is_fraud</th>\n",
       "      <th>is_flagged_fraud</th>\n",
       "    </tr>\n",
       "  </thead>\n",
       "  <tbody>\n",
       "    <tr>\n",
       "      <th>0</th>\n",
       "      <td>1</td>\n",
       "      <td>PAYMENT</td>\n",
       "      <td>9839.64</td>\n",
       "      <td>C1231006815</td>\n",
       "      <td>170136.0</td>\n",
       "      <td>160296.36</td>\n",
       "      <td>M1979787155</td>\n",
       "      <td>0.0</td>\n",
       "      <td>0.0</td>\n",
       "      <td>0</td>\n",
       "      <td>0</td>\n",
       "    </tr>\n",
       "    <tr>\n",
       "      <th>1</th>\n",
       "      <td>1</td>\n",
       "      <td>PAYMENT</td>\n",
       "      <td>1864.28</td>\n",
       "      <td>C1666544295</td>\n",
       "      <td>21249.0</td>\n",
       "      <td>19384.72</td>\n",
       "      <td>M2044282225</td>\n",
       "      <td>0.0</td>\n",
       "      <td>0.0</td>\n",
       "      <td>0</td>\n",
       "      <td>0</td>\n",
       "    </tr>\n",
       "    <tr>\n",
       "      <th>2</th>\n",
       "      <td>1</td>\n",
       "      <td>TRANSFER</td>\n",
       "      <td>181.00</td>\n",
       "      <td>C1305486145</td>\n",
       "      <td>181.0</td>\n",
       "      <td>0.00</td>\n",
       "      <td>C553264065</td>\n",
       "      <td>0.0</td>\n",
       "      <td>0.0</td>\n",
       "      <td>1</td>\n",
       "      <td>0</td>\n",
       "    </tr>\n",
       "    <tr>\n",
       "      <th>3</th>\n",
       "      <td>1</td>\n",
       "      <td>CASH_OUT</td>\n",
       "      <td>181.00</td>\n",
       "      <td>C840083671</td>\n",
       "      <td>181.0</td>\n",
       "      <td>0.00</td>\n",
       "      <td>C38997010</td>\n",
       "      <td>21182.0</td>\n",
       "      <td>0.0</td>\n",
       "      <td>1</td>\n",
       "      <td>0</td>\n",
       "    </tr>\n",
       "    <tr>\n",
       "      <th>4</th>\n",
       "      <td>1</td>\n",
       "      <td>PAYMENT</td>\n",
       "      <td>11668.14</td>\n",
       "      <td>C2048537720</td>\n",
       "      <td>41554.0</td>\n",
       "      <td>29885.86</td>\n",
       "      <td>M1230701703</td>\n",
       "      <td>0.0</td>\n",
       "      <td>0.0</td>\n",
       "      <td>0</td>\n",
       "      <td>0</td>\n",
       "    </tr>\n",
       "  </tbody>\n",
       "</table>\n",
       "</div>"
      ],
      "text/plain": [
       "   step      type    amount    name_orig  oldbalance_org  newbalance_orig  \\\n",
       "0     1   PAYMENT   9839.64  C1231006815        170136.0        160296.36   \n",
       "1     1   PAYMENT   1864.28  C1666544295         21249.0         19384.72   \n",
       "2     1  TRANSFER    181.00  C1305486145           181.0             0.00   \n",
       "3     1  CASH_OUT    181.00   C840083671           181.0             0.00   \n",
       "4     1   PAYMENT  11668.14  C2048537720         41554.0         29885.86   \n",
       "\n",
       "     name_dest  oldbalance_dest  newbalance_dest  is_fraud  is_flagged_fraud  \n",
       "0  M1979787155              0.0              0.0         0                 0  \n",
       "1  M2044282225              0.0              0.0         0                 0  \n",
       "2   C553264065              0.0              0.0         1                 0  \n",
       "3    C38997010          21182.0              0.0         1                 0  \n",
       "4  M1230701703              0.0              0.0         0                 0  "
      ]
     },
     "execution_count": 55,
     "metadata": {},
     "output_type": "execute_result"
    }
   ],
   "source": [
    "data.head()"
   ]
  },
  {
   "cell_type": "code",
   "execution_count": 56,
   "metadata": {
    "ExecuteTime": {
     "end_time": "2023-09-12T13:38:04.514926Z",
     "start_time": "2023-09-12T13:38:04.313933Z"
    }
   },
   "outputs": [
    {
     "data": {
      "text/plain": [
       "type\n",
       "CASH_OUT    0.351663\n",
       "PAYMENT     0.338146\n",
       "CASH_IN     0.219923\n",
       "TRANSFER    0.083756\n",
       "DEBIT       0.006512\n",
       "Name: proportion, dtype: float64"
      ]
     },
     "execution_count": 56,
     "metadata": {},
     "output_type": "execute_result"
    }
   ],
   "source": [
    "data['type'].value_counts(normalize=True)"
   ]
  },
  {
   "cell_type": "code",
   "execution_count": 57,
   "metadata": {
    "ExecuteTime": {
     "end_time": "2023-09-12T13:38:04.575924Z",
     "start_time": "2023-09-12T13:38:04.518934Z"
    }
   },
   "outputs": [
    {
     "data": {
      "text/plain": [
       "is_fraud\n",
       "0    0.998709\n",
       "1    0.001291\n",
       "Name: proportion, dtype: float64"
      ]
     },
     "execution_count": 57,
     "metadata": {},
     "output_type": "execute_result"
    }
   ],
   "source": [
    "data['is_fraud'].value_counts(normalize=True)"
   ]
  },
  {
   "cell_type": "code",
   "execution_count": 58,
   "metadata": {
    "ExecuteTime": {
     "end_time": "2023-09-12T13:38:04.623928Z",
     "start_time": "2023-09-12T13:38:04.578938Z"
    }
   },
   "outputs": [
    {
     "data": {
      "text/plain": [
       "is_fraud\n",
       "1    0.001291\n",
       "0    0.998709\n",
       "Name: proportion, dtype: float64"
      ]
     },
     "execution_count": 58,
     "metadata": {},
     "output_type": "execute_result"
    }
   ],
   "source": [
    "data['is_fraud'].value_counts(normalize=True,ascending=True)"
   ]
  },
  {
   "cell_type": "code",
   "execution_count": 59,
   "metadata": {
    "ExecuteTime": {
     "end_time": "2023-09-12T13:38:04.671922Z",
     "start_time": "2023-09-12T13:38:04.626929Z"
    }
   },
   "outputs": [
    {
     "data": {
      "text/html": [
       "<div>\n",
       "<style scoped>\n",
       "    .dataframe tbody tr th:only-of-type {\n",
       "        vertical-align: middle;\n",
       "    }\n",
       "\n",
       "    .dataframe tbody tr th {\n",
       "        vertical-align: top;\n",
       "    }\n",
       "\n",
       "    .dataframe thead th {\n",
       "        text-align: right;\n",
       "    }\n",
       "</style>\n",
       "<table border=\"1\" class=\"dataframe\">\n",
       "  <thead>\n",
       "    <tr style=\"text-align: right;\">\n",
       "      <th></th>\n",
       "      <th>step</th>\n",
       "      <th>type</th>\n",
       "      <th>amount</th>\n",
       "      <th>name_orig</th>\n",
       "      <th>oldbalance_org</th>\n",
       "      <th>newbalance_orig</th>\n",
       "      <th>name_dest</th>\n",
       "      <th>oldbalance_dest</th>\n",
       "      <th>newbalance_dest</th>\n",
       "      <th>is_fraud</th>\n",
       "      <th>is_flagged_fraud</th>\n",
       "    </tr>\n",
       "  </thead>\n",
       "  <tbody>\n",
       "    <tr>\n",
       "      <th>0</th>\n",
       "      <td>67</td>\n",
       "      <td>CASH_OUT</td>\n",
       "      <td>42513.08</td>\n",
       "      <td>C263309564</td>\n",
       "      <td>42513.08</td>\n",
       "      <td>0.0</td>\n",
       "      <td>C1511183581</td>\n",
       "      <td>0.00</td>\n",
       "      <td>42513.08</td>\n",
       "      <td>1</td>\n",
       "      <td>0</td>\n",
       "    </tr>\n",
       "    <tr>\n",
       "      <th>1</th>\n",
       "      <td>260</td>\n",
       "      <td>TRANSFER</td>\n",
       "      <td>175597.64</td>\n",
       "      <td>C851065850</td>\n",
       "      <td>175597.64</td>\n",
       "      <td>0.0</td>\n",
       "      <td>C1996124584</td>\n",
       "      <td>0.00</td>\n",
       "      <td>0.00</td>\n",
       "      <td>1</td>\n",
       "      <td>0</td>\n",
       "    </tr>\n",
       "    <tr>\n",
       "      <th>2</th>\n",
       "      <td>589</td>\n",
       "      <td>CASH_OUT</td>\n",
       "      <td>164296.85</td>\n",
       "      <td>C337181561</td>\n",
       "      <td>164296.85</td>\n",
       "      <td>0.0</td>\n",
       "      <td>C701761965</td>\n",
       "      <td>1371866.69</td>\n",
       "      <td>1536163.54</td>\n",
       "      <td>1</td>\n",
       "      <td>0</td>\n",
       "    </tr>\n",
       "    <tr>\n",
       "      <th>3</th>\n",
       "      <td>394</td>\n",
       "      <td>TRANSFER</td>\n",
       "      <td>49950.63</td>\n",
       "      <td>C1012366293</td>\n",
       "      <td>49950.63</td>\n",
       "      <td>0.0</td>\n",
       "      <td>C1028846036</td>\n",
       "      <td>0.00</td>\n",
       "      <td>0.00</td>\n",
       "      <td>1</td>\n",
       "      <td>0</td>\n",
       "    </tr>\n",
       "    <tr>\n",
       "      <th>4</th>\n",
       "      <td>122</td>\n",
       "      <td>CASH_OUT</td>\n",
       "      <td>91637.51</td>\n",
       "      <td>C1556025752</td>\n",
       "      <td>91637.51</td>\n",
       "      <td>0.0</td>\n",
       "      <td>C1407010141</td>\n",
       "      <td>7336697.67</td>\n",
       "      <td>7428335.18</td>\n",
       "      <td>1</td>\n",
       "      <td>0</td>\n",
       "    </tr>\n",
       "  </tbody>\n",
       "</table>\n",
       "</div>"
      ],
      "text/plain": [
       "   step      type     amount    name_orig  oldbalance_org  newbalance_orig  \\\n",
       "0    67  CASH_OUT   42513.08   C263309564        42513.08              0.0   \n",
       "1   260  TRANSFER  175597.64   C851065850       175597.64              0.0   \n",
       "2   589  CASH_OUT  164296.85   C337181561       164296.85              0.0   \n",
       "3   394  TRANSFER   49950.63  C1012366293        49950.63              0.0   \n",
       "4   122  CASH_OUT   91637.51  C1556025752        91637.51              0.0   \n",
       "\n",
       "     name_dest  oldbalance_dest  newbalance_dest  is_fraud  is_flagged_fraud  \n",
       "0  C1511183581             0.00         42513.08         1                 0  \n",
       "1  C1996124584             0.00             0.00         1                 0  \n",
       "2   C701761965       1371866.69       1536163.54         1                 0  \n",
       "3  C1028846036             0.00             0.00         1                 0  \n",
       "4  C1407010141       7336697.67       7428335.18         1                 0  "
      ]
     },
     "execution_count": 59,
     "metadata": {},
     "output_type": "execute_result"
    }
   ],
   "source": [
    "data.loc[data['is_fraud'] == 1].sample(5,ignore_index=True)"
   ]
  },
  {
   "cell_type": "code",
   "execution_count": 60,
   "metadata": {
    "ExecuteTime": {
     "end_time": "2023-09-12T13:38:04.703925Z",
     "start_time": "2023-09-12T13:38:04.673925Z"
    }
   },
   "outputs": [
    {
     "data": {
      "text/plain": [
       "8213"
      ]
     },
     "execution_count": 60,
     "metadata": {},
     "output_type": "execute_result"
    }
   ],
   "source": [
    "(data['is_fraud'] == 1).sum()"
   ]
  },
  {
   "cell_type": "code",
   "execution_count": 61,
   "metadata": {
    "ExecuteTime": {
     "end_time": "2023-09-12T13:38:04.910919Z",
     "start_time": "2023-09-12T13:38:04.707932Z"
    }
   },
   "outputs": [],
   "source": [
    "num_attributes = data.select_dtypes( include=['int64', 'float64'] )\n",
    "cat_attributes = data.select_dtypes( exclude=['int64', 'float64', 'datetime64[ns]'] )"
   ]
  },
  {
   "cell_type": "code",
   "execution_count": 62,
   "metadata": {
    "ExecuteTime": {
     "end_time": "2023-09-12T13:38:18.334820Z",
     "start_time": "2023-09-12T13:38:04.914928Z"
    }
   },
   "outputs": [
    {
     "data": {
      "text/html": [
       "<div>\n",
       "<style scoped>\n",
       "    .dataframe tbody tr th:only-of-type {\n",
       "        vertical-align: middle;\n",
       "    }\n",
       "\n",
       "    .dataframe tbody tr th {\n",
       "        vertical-align: top;\n",
       "    }\n",
       "\n",
       "    .dataframe thead th {\n",
       "        text-align: right;\n",
       "    }\n",
       "</style>\n",
       "<table border=\"1\" class=\"dataframe\">\n",
       "  <thead>\n",
       "    <tr style=\"text-align: right;\">\n",
       "      <th></th>\n",
       "      <th>attributes</th>\n",
       "      <th>min</th>\n",
       "      <th>max</th>\n",
       "      <th>range</th>\n",
       "      <th>mean</th>\n",
       "      <th>median</th>\n",
       "      <th>std</th>\n",
       "      <th>skew</th>\n",
       "      <th>kurtosis</th>\n",
       "    </tr>\n",
       "  </thead>\n",
       "  <tbody>\n",
       "    <tr>\n",
       "      <th>0</th>\n",
       "      <td>step</td>\n",
       "      <td>1.0</td>\n",
       "      <td>7.430000e+02</td>\n",
       "      <td>7.420000e+02</td>\n",
       "      <td>2.433972e+02</td>\n",
       "      <td>239.000</td>\n",
       "      <td>1.423320e+02</td>\n",
       "      <td>0.375177</td>\n",
       "      <td>0.329071</td>\n",
       "    </tr>\n",
       "    <tr>\n",
       "      <th>1</th>\n",
       "      <td>amount</td>\n",
       "      <td>0.0</td>\n",
       "      <td>9.244552e+07</td>\n",
       "      <td>9.244552e+07</td>\n",
       "      <td>1.798619e+05</td>\n",
       "      <td>74871.940</td>\n",
       "      <td>6.038582e+05</td>\n",
       "      <td>30.993949</td>\n",
       "      <td>1797.956705</td>\n",
       "    </tr>\n",
       "    <tr>\n",
       "      <th>2</th>\n",
       "      <td>oldbalance_org</td>\n",
       "      <td>0.0</td>\n",
       "      <td>5.958504e+07</td>\n",
       "      <td>5.958504e+07</td>\n",
       "      <td>8.338831e+05</td>\n",
       "      <td>14208.000</td>\n",
       "      <td>2.888242e+06</td>\n",
       "      <td>5.249136</td>\n",
       "      <td>32.964879</td>\n",
       "    </tr>\n",
       "    <tr>\n",
       "      <th>3</th>\n",
       "      <td>newbalance_orig</td>\n",
       "      <td>0.0</td>\n",
       "      <td>4.958504e+07</td>\n",
       "      <td>4.958504e+07</td>\n",
       "      <td>8.551137e+05</td>\n",
       "      <td>0.000</td>\n",
       "      <td>2.924048e+06</td>\n",
       "      <td>5.176884</td>\n",
       "      <td>32.066985</td>\n",
       "    </tr>\n",
       "    <tr>\n",
       "      <th>4</th>\n",
       "      <td>oldbalance_dest</td>\n",
       "      <td>0.0</td>\n",
       "      <td>3.560159e+08</td>\n",
       "      <td>3.560159e+08</td>\n",
       "      <td>1.100702e+06</td>\n",
       "      <td>132705.665</td>\n",
       "      <td>3.399180e+06</td>\n",
       "      <td>19.921758</td>\n",
       "      <td>948.674125</td>\n",
       "    </tr>\n",
       "    <tr>\n",
       "      <th>5</th>\n",
       "      <td>newbalance_dest</td>\n",
       "      <td>0.0</td>\n",
       "      <td>3.561793e+08</td>\n",
       "      <td>3.561793e+08</td>\n",
       "      <td>1.224996e+06</td>\n",
       "      <td>214661.440</td>\n",
       "      <td>3.674129e+06</td>\n",
       "      <td>19.352302</td>\n",
       "      <td>862.156508</td>\n",
       "    </tr>\n",
       "    <tr>\n",
       "      <th>6</th>\n",
       "      <td>is_fraud</td>\n",
       "      <td>0.0</td>\n",
       "      <td>1.000000e+00</td>\n",
       "      <td>1.000000e+00</td>\n",
       "      <td>1.290820e-03</td>\n",
       "      <td>0.000</td>\n",
       "      <td>3.590479e-02</td>\n",
       "      <td>27.779538</td>\n",
       "      <td>769.702982</td>\n",
       "    </tr>\n",
       "    <tr>\n",
       "      <th>7</th>\n",
       "      <td>is_flagged_fraud</td>\n",
       "      <td>0.0</td>\n",
       "      <td>1.000000e+00</td>\n",
       "      <td>1.000000e+00</td>\n",
       "      <td>2.514687e-06</td>\n",
       "      <td>0.000</td>\n",
       "      <td>1.585775e-03</td>\n",
       "      <td>630.603629</td>\n",
       "      <td>397659.062500</td>\n",
       "    </tr>\n",
       "  </tbody>\n",
       "</table>\n",
       "</div>"
      ],
      "text/plain": [
       "         attributes  min           max         range          mean  \\\n",
       "0              step  1.0  7.430000e+02  7.420000e+02  2.433972e+02   \n",
       "1            amount  0.0  9.244552e+07  9.244552e+07  1.798619e+05   \n",
       "2    oldbalance_org  0.0  5.958504e+07  5.958504e+07  8.338831e+05   \n",
       "3   newbalance_orig  0.0  4.958504e+07  4.958504e+07  8.551137e+05   \n",
       "4   oldbalance_dest  0.0  3.560159e+08  3.560159e+08  1.100702e+06   \n",
       "5   newbalance_dest  0.0  3.561793e+08  3.561793e+08  1.224996e+06   \n",
       "6          is_fraud  0.0  1.000000e+00  1.000000e+00  1.290820e-03   \n",
       "7  is_flagged_fraud  0.0  1.000000e+00  1.000000e+00  2.514687e-06   \n",
       "\n",
       "       median           std        skew       kurtosis  \n",
       "0     239.000  1.423320e+02    0.375177       0.329071  \n",
       "1   74871.940  6.038582e+05   30.993949    1797.956705  \n",
       "2   14208.000  2.888242e+06    5.249136      32.964879  \n",
       "3       0.000  2.924048e+06    5.176884      32.066985  \n",
       "4  132705.665  3.399180e+06   19.921758     948.674125  \n",
       "5  214661.440  3.674129e+06   19.352302     862.156508  \n",
       "6       0.000  3.590479e-02   27.779538     769.702982  \n",
       "7       0.000  1.585775e-03  630.603629  397659.062500  "
      ]
     },
     "execution_count": 62,
     "metadata": {},
     "output_type": "execute_result"
    }
   ],
   "source": [
    "# Central Tendency - mean, meadina \n",
    "ct1 = pd.DataFrame( num_attributes.apply( np.mean ) ).T\n",
    "ct2 = pd.DataFrame( num_attributes.apply( np.median ) ).T\n",
    "\n",
    "# dispersion - std, min, max, range, skew, kurtosis\n",
    "d1 = pd.DataFrame( num_attributes.apply( np.std ) ).T \n",
    "d2 = pd.DataFrame( num_attributes.apply( min ) ).T \n",
    "d3 = pd.DataFrame( num_attributes.apply( max ) ).T \n",
    "d4 = pd.DataFrame( num_attributes.apply( lambda x: x.max() - x.min() ) ).T \n",
    "d5 = pd.DataFrame( num_attributes.apply( lambda x: x.skew() ) ).T \n",
    "d6 = pd.DataFrame( num_attributes.apply( lambda x: x.kurtosis() ) ).T \n",
    "\n",
    "# concatenar\n",
    "m = pd.concat( [d2, d3, d4, ct1, ct2, d1, d5, d6] ).T.reset_index()\n",
    "m.columns = ['attributes', 'min', 'max', 'range', 'mean', 'median', 'std', 'skew', 'kurtosis']\n",
    "m"
   ]
  },
  {
   "cell_type": "code",
   "execution_count": null,
   "metadata": {
    "ExecuteTime": {
     "end_time": "2023-09-12T13:38:20.865990Z",
     "start_time": "2023-09-12T13:38:18.369826Z"
    }
   },
   "outputs": [],
   "source": []
  },
  {
   "cell_type": "code",
   "execution_count": null,
   "metadata": {},
   "outputs": [],
   "source": []
  },
  {
   "cell_type": "code",
   "execution_count": 76,
   "metadata": {
    "ExecuteTime": {
     "end_time": "2023-09-12T17:59:58.389630Z",
     "start_time": "2023-09-12T17:59:57.940647Z"
    }
   },
   "outputs": [],
   "source": [
    "map_type = {'PAYMENT': 0,'TRANSFER':1,'CASH_OUT': 2,'DEBIT': 3,'CASH_IN': 4}\n",
    "data['type'] = data['type'].map(map_type)"
   ]
  },
  {
   "cell_type": "code",
   "execution_count": 77,
   "metadata": {
    "ExecuteTime": {
     "end_time": "2023-09-12T17:59:58.926752Z",
     "start_time": "2023-09-12T17:59:58.908748Z"
    }
   },
   "outputs": [],
   "source": [
    "def remove_1_letra(df, column_name):\n",
    "    df[column_name] = df[column_name].str[1:]\n",
    "\n",
    "\n"
   ]
  },
  {
   "cell_type": "code",
   "execution_count": 78,
   "metadata": {
    "ExecuteTime": {
     "end_time": "2023-09-12T18:00:04.473278Z",
     "start_time": "2023-09-12T17:59:59.507306Z"
    }
   },
   "outputs": [],
   "source": [
    "remove_1_letra(data, 'name_orig')\n",
    "remove_1_letra(data, 'name_dest')"
   ]
  },
  {
   "cell_type": "code",
   "execution_count": 79,
   "metadata": {
    "ExecuteTime": {
     "end_time": "2023-09-12T18:00:09.781633Z",
     "start_time": "2023-09-12T18:00:09.747628Z"
    }
   },
   "outputs": [
    {
     "data": {
      "text/html": [
       "<div>\n",
       "<style scoped>\n",
       "    .dataframe tbody tr th:only-of-type {\n",
       "        vertical-align: middle;\n",
       "    }\n",
       "\n",
       "    .dataframe tbody tr th {\n",
       "        vertical-align: top;\n",
       "    }\n",
       "\n",
       "    .dataframe thead th {\n",
       "        text-align: right;\n",
       "    }\n",
       "</style>\n",
       "<table border=\"1\" class=\"dataframe\">\n",
       "  <thead>\n",
       "    <tr style=\"text-align: right;\">\n",
       "      <th></th>\n",
       "      <th>step</th>\n",
       "      <th>type</th>\n",
       "      <th>amount</th>\n",
       "      <th>name_orig</th>\n",
       "      <th>oldbalance_org</th>\n",
       "      <th>newbalance_orig</th>\n",
       "      <th>name_dest</th>\n",
       "      <th>oldbalance_dest</th>\n",
       "      <th>newbalance_dest</th>\n",
       "      <th>is_fraud</th>\n",
       "      <th>is_flagged_fraud</th>\n",
       "    </tr>\n",
       "  </thead>\n",
       "  <tbody>\n",
       "    <tr>\n",
       "      <th>0</th>\n",
       "      <td>1</td>\n",
       "      <td>0</td>\n",
       "      <td>9839.64</td>\n",
       "      <td>1231006815</td>\n",
       "      <td>170136.0</td>\n",
       "      <td>160296.36</td>\n",
       "      <td>1979787155</td>\n",
       "      <td>0.0</td>\n",
       "      <td>0.0</td>\n",
       "      <td>0</td>\n",
       "      <td>0</td>\n",
       "    </tr>\n",
       "    <tr>\n",
       "      <th>1</th>\n",
       "      <td>1</td>\n",
       "      <td>0</td>\n",
       "      <td>1864.28</td>\n",
       "      <td>1666544295</td>\n",
       "      <td>21249.0</td>\n",
       "      <td>19384.72</td>\n",
       "      <td>2044282225</td>\n",
       "      <td>0.0</td>\n",
       "      <td>0.0</td>\n",
       "      <td>0</td>\n",
       "      <td>0</td>\n",
       "    </tr>\n",
       "    <tr>\n",
       "      <th>2</th>\n",
       "      <td>1</td>\n",
       "      <td>1</td>\n",
       "      <td>181.00</td>\n",
       "      <td>1305486145</td>\n",
       "      <td>181.0</td>\n",
       "      <td>0.00</td>\n",
       "      <td>553264065</td>\n",
       "      <td>0.0</td>\n",
       "      <td>0.0</td>\n",
       "      <td>1</td>\n",
       "      <td>0</td>\n",
       "    </tr>\n",
       "    <tr>\n",
       "      <th>3</th>\n",
       "      <td>1</td>\n",
       "      <td>2</td>\n",
       "      <td>181.00</td>\n",
       "      <td>840083671</td>\n",
       "      <td>181.0</td>\n",
       "      <td>0.00</td>\n",
       "      <td>38997010</td>\n",
       "      <td>21182.0</td>\n",
       "      <td>0.0</td>\n",
       "      <td>1</td>\n",
       "      <td>0</td>\n",
       "    </tr>\n",
       "    <tr>\n",
       "      <th>4</th>\n",
       "      <td>1</td>\n",
       "      <td>0</td>\n",
       "      <td>11668.14</td>\n",
       "      <td>2048537720</td>\n",
       "      <td>41554.0</td>\n",
       "      <td>29885.86</td>\n",
       "      <td>1230701703</td>\n",
       "      <td>0.0</td>\n",
       "      <td>0.0</td>\n",
       "      <td>0</td>\n",
       "      <td>0</td>\n",
       "    </tr>\n",
       "  </tbody>\n",
       "</table>\n",
       "</div>"
      ],
      "text/plain": [
       "   step  type    amount   name_orig  oldbalance_org  newbalance_orig  \\\n",
       "0     1     0   9839.64  1231006815        170136.0        160296.36   \n",
       "1     1     0   1864.28  1666544295         21249.0         19384.72   \n",
       "2     1     1    181.00  1305486145           181.0             0.00   \n",
       "3     1     2    181.00   840083671           181.0             0.00   \n",
       "4     1     0  11668.14  2048537720         41554.0         29885.86   \n",
       "\n",
       "    name_dest  oldbalance_dest  newbalance_dest  is_fraud  is_flagged_fraud  \n",
       "0  1979787155              0.0              0.0         0                 0  \n",
       "1  2044282225              0.0              0.0         0                 0  \n",
       "2   553264065              0.0              0.0         1                 0  \n",
       "3    38997010          21182.0              0.0         1                 0  \n",
       "4  1230701703              0.0              0.0         0                 0  "
      ]
     },
     "execution_count": 79,
     "metadata": {},
     "output_type": "execute_result"
    }
   ],
   "source": [
    "data.head()"
   ]
  },
  {
   "cell_type": "code",
   "execution_count": null,
   "metadata": {},
   "outputs": [],
   "source": []
  },
  {
   "cell_type": "code",
   "execution_count": 82,
   "metadata": {
    "ExecuteTime": {
     "end_time": "2023-09-12T18:02:04.688136Z",
     "start_time": "2023-09-12T18:02:02.800158Z"
    }
   },
   "outputs": [],
   "source": [
    "data['name_dest'] = data['name_dest'].astype('int64')\n",
    "data['name_orig'] = data['name_orig'].astype('int64')"
   ]
  },
  {
   "cell_type": "code",
   "execution_count": 83,
   "metadata": {
    "ExecuteTime": {
     "end_time": "2023-09-12T18:02:08.588313Z",
     "start_time": "2023-09-12T18:02:08.567314Z"
    }
   },
   "outputs": [
    {
     "data": {
      "text/plain": [
       "step                  int64\n",
       "type                  int64\n",
       "amount              float64\n",
       "name_orig             int64\n",
       "oldbalance_org      float64\n",
       "newbalance_orig     float64\n",
       "name_dest             int64\n",
       "oldbalance_dest     float64\n",
       "newbalance_dest     float64\n",
       "is_fraud              int64\n",
       "is_flagged_fraud      int64\n",
       "dtype: object"
      ]
     },
     "execution_count": 83,
     "metadata": {},
     "output_type": "execute_result"
    }
   ],
   "source": [
    "data.dtypes"
   ]
  },
  {
   "cell_type": "code",
   "execution_count": null,
   "metadata": {},
   "outputs": [],
   "source": []
  },
  {
   "cell_type": "code",
   "execution_count": null,
   "metadata": {},
   "outputs": [],
   "source": []
  },
  {
   "cell_type": "code",
   "execution_count": null,
   "metadata": {},
   "outputs": [],
   "source": []
  },
  {
   "cell_type": "code",
   "execution_count": null,
   "metadata": {},
   "outputs": [],
   "source": []
  },
  {
   "cell_type": "code",
   "execution_count": 84,
   "metadata": {
    "ExecuteTime": {
     "end_time": "2023-09-12T18:02:52.274215Z",
     "start_time": "2023-09-12T18:02:12.807406Z"
    }
   },
   "outputs": [],
   "source": [
    "data.to_csv(\"../data/processed/data_processed.csv\", index=False)"
   ]
  },
  {
   "cell_type": "code",
   "execution_count": null,
   "metadata": {},
   "outputs": [],
   "source": []
  },
  {
   "cell_type": "code",
   "execution_count": null,
   "metadata": {},
   "outputs": [],
   "source": []
  }
 ],
 "metadata": {
  "kernelspec": {
   "display_name": "Python 3 (ipykernel)",
   "language": "python",
   "name": "python3"
  },
  "language_info": {
   "codemirror_mode": {
    "name": "ipython",
    "version": 3
   },
   "file_extension": ".py",
   "mimetype": "text/x-python",
   "name": "python",
   "nbconvert_exporter": "python",
   "pygments_lexer": "ipython3",
   "version": "3.10.13"
  }
 },
 "nbformat": 4,
 "nbformat_minor": 2
}
