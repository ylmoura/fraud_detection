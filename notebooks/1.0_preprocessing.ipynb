{
 "cells": [
  {
   "cell_type": "markdown",
   "metadata": {},
   "source": [
    "step - mapeia uma unidade de tempo no mundo real. Neste caso, 1 passo equivale a 1 hora. Total de passos 744 (simulação de 30 dias).\n",
    "\n",
    "tipo - CASH-IN, CASH-OUT, DÉBITO, PAGAMENTO e TRANSFERÊNCIA.\n",
    "\n",
    "montante - valor da transação em moeda local.\n",
    "\n",
    "nameOrig – cliente que iniciou a transação\n",
    "\n",
    "oldbalanceOrg - saldo inicial antes da transação\n",
    "\n",
    "newbalanceOrig - novo saldo após a transação\n",
    "\n",
    "nameDest - cliente que é o destinatário da transação\n",
    "\n",
    "oldbalanceDest - destinatário do saldo inicial antes da transação. Observe que não há informações para clientes que iniciam com M (Comerciantes).\n",
    "\n",
    "newbalanceDest - novo destinatário do saldo após a transação. Observe que não há informações para clientes que iniciam com M (Comerciantes).\n",
    "\n",
    "isFraud - São as transações realizadas pelos agentes fraudulentos dentro da simulação. Neste conjunto de dados específico, o comportamento fraudulento dos agentes visa lucrar assumindo o controle das contas dos clientes e tentando esvaziar os fundos transferindo para outra conta e depois sacando do sistema.\n",
    "\n",
    "isFlaggedFraud – O modelo de negócios visa controlar transferências massivas de uma conta para outra e sinalizar tentativas ilegais. Uma tentativa ilegal neste conjunto de dados é uma tentativa de transferir mais de 200.000 em uma única transação."
   ]
  },
  {
   "cell_type": "code",
   "execution_count": 1,
   "metadata": {
    "ExecuteTime": {
     "end_time": "2023-09-12T01:45:45.006651Z",
     "start_time": "2023-09-12T01:45:42.200532Z"
    }
   },
   "outputs": [],
   "source": [
    "# Basic Tools\n",
    "import numpy as np\n",
    "import pandas as pd\n",
    "from datetime import datetime as dt\n",
    "\n",
    "import inflection\n",
    "\n",
    "\n",
    "\n",
    "# File/ OS Tools\n",
    "import os\n",
    "import sys\n",
    "from watermark import watermark"
   ]
  },
  {
   "cell_type": "code",
   "execution_count": null,
   "metadata": {},
   "outputs": [],
   "source": [
    "def rename_columns(dataframe):\n",
    "    df = dataframe.copy()\n",
    "    title = lambda x: inflection.titleize(x)\n",
    "    snakecase = lambda x: inflection.underscore(x)\n",
    "    accent = lambda x: inflection.transliterate(x)\n",
    "    spaces = lambda x: x.replace(\" \", \"\")\n",
    "    cols_old = list(df.columns)\n",
    "    cols_old = list(map(title, cols_old))\n",
    "    cols_old = list(map(spaces, cols_old))\n",
    "    cols_old = list(map(accent, cols_old))\n",
    "    cols_new = list(map(snakecase, cols_old))\n",
    "    df.columns = cols_new\n",
    "    return df"
   ]
  },
  {
   "cell_type": "code",
   "execution_count": 4,
   "metadata": {
    "ExecuteTime": {
     "end_time": "2023-09-12T02:17:53.866444Z",
     "start_time": "2023-09-12T02:17:39.915225Z"
    }
   },
   "outputs": [
    {
     "ename": "NameError",
     "evalue": "name 'rename_columns' is not defined",
     "output_type": "error",
     "traceback": [
      "\u001b[1;31m---------------------------------------------------------------------------\u001b[0m",
      "\u001b[1;31mNameError\u001b[0m                                 Traceback (most recent call last)",
      "Cell \u001b[1;32mIn[4], line 2\u001b[0m\n\u001b[0;32m      1\u001b[0m data_raw \u001b[38;5;241m=\u001b[39m pd\u001b[38;5;241m.\u001b[39mread_csv(\u001b[38;5;124m'\u001b[39m\u001b[38;5;124m../data/raw/data_raw.csv\u001b[39m\u001b[38;5;124m'\u001b[39m,low_memory\u001b[38;5;241m=\u001b[39m\u001b[38;5;28;01mFalse\u001b[39;00m)\n\u001b[1;32m----> 2\u001b[0m data_raw \u001b[38;5;241m=\u001b[39m \u001b[43mrename_columns\u001b[49m(data_raw)\n\u001b[0;32m      3\u001b[0m data \u001b[38;5;241m=\u001b[39m data_raw\u001b[38;5;241m.\u001b[39mcopy()\n",
      "\u001b[1;31mNameError\u001b[0m: name 'rename_columns' is not defined"
     ]
    }
   ],
   "source": [
    "data_raw = pd.read_csv('../data/raw/data_raw.csv',low_memory=False)\n",
    "data_raw = rename_columns(data_raw)\n",
    "data = data_raw.copy()"
   ]
  },
  {
   "cell_type": "code",
   "execution_count": null,
   "metadata": {},
   "outputs": [],
   "source": []
  },
  {
   "cell_type": "code",
   "execution_count": null,
   "metadata": {},
   "outputs": [],
   "source": []
  },
  {
   "cell_type": "markdown",
   "metadata": {},
   "source": [
    "# Missing Data"
   ]
  },
  {
   "cell_type": "code",
   "execution_count": null,
   "metadata": {
    "ExecuteTime": {
     "end_time": "2023-09-12T02:17:53.872444Z",
     "start_time": "2023-09-12T02:17:53.872444Z"
    }
   },
   "outputs": [],
   "source": [
    "data.isna().sum()"
   ]
  },
  {
   "cell_type": "markdown",
   "metadata": {},
   "source": [
    "# TIPO DE DADOS "
   ]
  },
  {
   "cell_type": "code",
   "execution_count": 5,
   "metadata": {
    "ExecuteTime": {
     "end_time": "2023-09-12T02:17:55.411410Z",
     "start_time": "2023-09-12T02:17:55.393420Z"
    }
   },
   "outputs": [
    {
     "data": {
      "text/plain": [
       "step                int64\n",
       "type               object\n",
       "amount            float64\n",
       "nameOrig           object\n",
       "oldbalanceOrg     float64\n",
       "newbalanceOrig    float64\n",
       "nameDest           object\n",
       "oldbalanceDest    float64\n",
       "newbalanceDest    float64\n",
       "isFraud             int64\n",
       "isFlaggedFraud      int64\n",
       "dtype: object"
      ]
     },
     "execution_count": 5,
     "metadata": {},
     "output_type": "execute_result"
    }
   ],
   "source": [
    "data.dtypes"
   ]
  },
  {
   "cell_type": "code",
   "execution_count": 22,
   "metadata": {},
   "outputs": [],
   "source": [
    "map_type = {'PAYMENT': 0,'TRANSFER':1,'CASH_OUT': 2,'DEBIT': 3,'CASH_IN': 4}"
   ]
  },
  {
   "cell_type": "code",
   "execution_count": null,
   "metadata": {},
   "outputs": [],
   "source": []
  },
  {
   "cell_type": "code",
   "execution_count": 6,
   "metadata": {
    "ExecuteTime": {
     "end_time": "2023-09-12T02:18:06.322377Z",
     "start_time": "2023-09-12T02:18:06.042386Z"
    }
   },
   "outputs": [
    {
     "data": {
      "text/plain": [
       "type\n",
       "CASH_OUT    0.351663\n",
       "PAYMENT     0.338146\n",
       "CASH_IN     0.219923\n",
       "TRANSFER    0.083756\n",
       "DEBIT       0.006512\n",
       "Name: proportion, dtype: float64"
      ]
     },
     "execution_count": 6,
     "metadata": {},
     "output_type": "execute_result"
    }
   ],
   "source": [
    "data['type'].value_counts(normalize=True)"
   ]
  },
  {
   "cell_type": "code",
   "execution_count": 7,
   "metadata": {
    "ExecuteTime": {
     "end_time": "2023-09-12T02:18:06.382380Z",
     "start_time": "2023-09-12T02:18:06.326384Z"
    }
   },
   "outputs": [
    {
     "data": {
      "text/plain": [
       "isFraud\n",
       "0    0.998709\n",
       "1    0.001291\n",
       "Name: proportion, dtype: float64"
      ]
     },
     "execution_count": 7,
     "metadata": {},
     "output_type": "execute_result"
    }
   ],
   "source": [
    "data['isFraud'].value_counts(normalize=True)"
   ]
  },
  {
   "cell_type": "code",
   "execution_count": 8,
   "metadata": {
    "ExecuteTime": {
     "end_time": "2023-09-12T02:18:06.442381Z",
     "start_time": "2023-09-12T02:18:06.386388Z"
    }
   },
   "outputs": [
    {
     "data": {
      "text/plain": [
       "isFraud\n",
       "1    0.001291\n",
       "0    0.998709\n",
       "Name: proportion, dtype: float64"
      ]
     },
     "execution_count": 8,
     "metadata": {},
     "output_type": "execute_result"
    }
   ],
   "source": [
    "data['isFraud'].value_counts(normalize=True,ascending=True)"
   ]
  },
  {
   "cell_type": "code",
   "execution_count": 9,
   "metadata": {
    "ExecuteTime": {
     "end_time": "2023-09-12T02:18:06.532375Z",
     "start_time": "2023-09-12T02:18:06.490382Z"
    }
   },
   "outputs": [
    {
     "data": {
      "text/html": [
       "<div>\n",
       "<style scoped>\n",
       "    .dataframe tbody tr th:only-of-type {\n",
       "        vertical-align: middle;\n",
       "    }\n",
       "\n",
       "    .dataframe tbody tr th {\n",
       "        vertical-align: top;\n",
       "    }\n",
       "\n",
       "    .dataframe thead th {\n",
       "        text-align: right;\n",
       "    }\n",
       "</style>\n",
       "<table border=\"1\" class=\"dataframe\">\n",
       "  <thead>\n",
       "    <tr style=\"text-align: right;\">\n",
       "      <th></th>\n",
       "      <th>step</th>\n",
       "      <th>type</th>\n",
       "      <th>amount</th>\n",
       "      <th>nameOrig</th>\n",
       "      <th>oldbalanceOrg</th>\n",
       "      <th>newbalanceOrig</th>\n",
       "      <th>nameDest</th>\n",
       "      <th>oldbalanceDest</th>\n",
       "      <th>newbalanceDest</th>\n",
       "      <th>isFraud</th>\n",
       "      <th>isFlaggedFraud</th>\n",
       "    </tr>\n",
       "  </thead>\n",
       "  <tbody>\n",
       "    <tr>\n",
       "      <th>0</th>\n",
       "      <td>723</td>\n",
       "      <td>CASH_OUT</td>\n",
       "      <td>6199009.00</td>\n",
       "      <td>C935658927</td>\n",
       "      <td>6199009.00</td>\n",
       "      <td>0.0</td>\n",
       "      <td>C1938522935</td>\n",
       "      <td>938804.47</td>\n",
       "      <td>7137813.47</td>\n",
       "      <td>1</td>\n",
       "      <td>0</td>\n",
       "    </tr>\n",
       "    <tr>\n",
       "      <th>1</th>\n",
       "      <td>242</td>\n",
       "      <td>CASH_OUT</td>\n",
       "      <td>3139423.35</td>\n",
       "      <td>C1627766514</td>\n",
       "      <td>3139423.35</td>\n",
       "      <td>0.0</td>\n",
       "      <td>C1840253816</td>\n",
       "      <td>2593641.94</td>\n",
       "      <td>5733065.29</td>\n",
       "      <td>1</td>\n",
       "      <td>0</td>\n",
       "    </tr>\n",
       "    <tr>\n",
       "      <th>2</th>\n",
       "      <td>266</td>\n",
       "      <td>CASH_OUT</td>\n",
       "      <td>1911239.21</td>\n",
       "      <td>C951381310</td>\n",
       "      <td>1911239.21</td>\n",
       "      <td>0.0</td>\n",
       "      <td>C1006459134</td>\n",
       "      <td>188720.75</td>\n",
       "      <td>2099959.96</td>\n",
       "      <td>1</td>\n",
       "      <td>0</td>\n",
       "    </tr>\n",
       "    <tr>\n",
       "      <th>3</th>\n",
       "      <td>185</td>\n",
       "      <td>CASH_OUT</td>\n",
       "      <td>63009.43</td>\n",
       "      <td>C289965777</td>\n",
       "      <td>63009.43</td>\n",
       "      <td>0.0</td>\n",
       "      <td>C268959010</td>\n",
       "      <td>1057339.93</td>\n",
       "      <td>1120349.36</td>\n",
       "      <td>1</td>\n",
       "      <td>0</td>\n",
       "    </tr>\n",
       "    <tr>\n",
       "      <th>4</th>\n",
       "      <td>629</td>\n",
       "      <td>TRANSFER</td>\n",
       "      <td>547672.20</td>\n",
       "      <td>C1661851556</td>\n",
       "      <td>547672.20</td>\n",
       "      <td>0.0</td>\n",
       "      <td>C1014616442</td>\n",
       "      <td>0.00</td>\n",
       "      <td>0.00</td>\n",
       "      <td>1</td>\n",
       "      <td>0</td>\n",
       "    </tr>\n",
       "  </tbody>\n",
       "</table>\n",
       "</div>"
      ],
      "text/plain": [
       "   step      type      amount     nameOrig  oldbalanceOrg  newbalanceOrig  \\\n",
       "0   723  CASH_OUT  6199009.00   C935658927     6199009.00             0.0   \n",
       "1   242  CASH_OUT  3139423.35  C1627766514     3139423.35             0.0   \n",
       "2   266  CASH_OUT  1911239.21   C951381310     1911239.21             0.0   \n",
       "3   185  CASH_OUT    63009.43   C289965777       63009.43             0.0   \n",
       "4   629  TRANSFER   547672.20  C1661851556      547672.20             0.0   \n",
       "\n",
       "      nameDest  oldbalanceDest  newbalanceDest  isFraud  isFlaggedFraud  \n",
       "0  C1938522935       938804.47      7137813.47        1               0  \n",
       "1  C1840253816      2593641.94      5733065.29        1               0  \n",
       "2  C1006459134       188720.75      2099959.96        1               0  \n",
       "3   C268959010      1057339.93      1120349.36        1               0  \n",
       "4  C1014616442            0.00            0.00        1               0  "
      ]
     },
     "execution_count": 9,
     "metadata": {},
     "output_type": "execute_result"
    }
   ],
   "source": [
    "data.loc[data['isFraud'] == 1].sample(5,ignore_index=True)"
   ]
  },
  {
   "cell_type": "code",
   "execution_count": 10,
   "metadata": {
    "ExecuteTime": {
     "end_time": "2023-09-12T02:18:06.652374Z",
     "start_time": "2023-09-12T02:18:06.626380Z"
    }
   },
   "outputs": [
    {
     "data": {
      "text/plain": [
       "8213"
      ]
     },
     "execution_count": 10,
     "metadata": {},
     "output_type": "execute_result"
    }
   ],
   "source": [
    "(data['isFraud'] == 1).sum()"
   ]
  },
  {
   "cell_type": "code",
   "execution_count": 11,
   "metadata": {
    "ExecuteTime": {
     "end_time": "2023-09-12T02:18:07.057376Z",
     "start_time": "2023-09-12T02:18:06.770372Z"
    }
   },
   "outputs": [],
   "source": [
    "num_attributes = data.select_dtypes( include=['int64', 'float64'] )\n",
    "cat_attributes = data.select_dtypes( exclude=['int64', 'float64', 'datetime64[ns]'] )"
   ]
  },
  {
   "cell_type": "code",
   "execution_count": 12,
   "metadata": {
    "ExecuteTime": {
     "end_time": "2023-09-12T02:18:21.503676Z",
     "start_time": "2023-09-12T02:18:07.060391Z"
    }
   },
   "outputs": [
    {
     "data": {
      "text/html": [
       "<div>\n",
       "<style scoped>\n",
       "    .dataframe tbody tr th:only-of-type {\n",
       "        vertical-align: middle;\n",
       "    }\n",
       "\n",
       "    .dataframe tbody tr th {\n",
       "        vertical-align: top;\n",
       "    }\n",
       "\n",
       "    .dataframe thead th {\n",
       "        text-align: right;\n",
       "    }\n",
       "</style>\n",
       "<table border=\"1\" class=\"dataframe\">\n",
       "  <thead>\n",
       "    <tr style=\"text-align: right;\">\n",
       "      <th></th>\n",
       "      <th>attributes</th>\n",
       "      <th>min</th>\n",
       "      <th>max</th>\n",
       "      <th>range</th>\n",
       "      <th>mean</th>\n",
       "      <th>median</th>\n",
       "      <th>std</th>\n",
       "      <th>skew</th>\n",
       "      <th>kurtosis</th>\n",
       "    </tr>\n",
       "  </thead>\n",
       "  <tbody>\n",
       "    <tr>\n",
       "      <th>0</th>\n",
       "      <td>step</td>\n",
       "      <td>1.0</td>\n",
       "      <td>7.430000e+02</td>\n",
       "      <td>7.420000e+02</td>\n",
       "      <td>2.433972e+02</td>\n",
       "      <td>239.000</td>\n",
       "      <td>1.423320e+02</td>\n",
       "      <td>0.375177</td>\n",
       "      <td>0.329071</td>\n",
       "    </tr>\n",
       "    <tr>\n",
       "      <th>1</th>\n",
       "      <td>amount</td>\n",
       "      <td>0.0</td>\n",
       "      <td>9.244552e+07</td>\n",
       "      <td>9.244552e+07</td>\n",
       "      <td>1.798619e+05</td>\n",
       "      <td>74871.940</td>\n",
       "      <td>6.038582e+05</td>\n",
       "      <td>30.993949</td>\n",
       "      <td>1797.956705</td>\n",
       "    </tr>\n",
       "    <tr>\n",
       "      <th>2</th>\n",
       "      <td>oldbalanceOrg</td>\n",
       "      <td>0.0</td>\n",
       "      <td>5.958504e+07</td>\n",
       "      <td>5.958504e+07</td>\n",
       "      <td>8.338831e+05</td>\n",
       "      <td>14208.000</td>\n",
       "      <td>2.888242e+06</td>\n",
       "      <td>5.249136</td>\n",
       "      <td>32.964879</td>\n",
       "    </tr>\n",
       "    <tr>\n",
       "      <th>3</th>\n",
       "      <td>newbalanceOrig</td>\n",
       "      <td>0.0</td>\n",
       "      <td>4.958504e+07</td>\n",
       "      <td>4.958504e+07</td>\n",
       "      <td>8.551137e+05</td>\n",
       "      <td>0.000</td>\n",
       "      <td>2.924048e+06</td>\n",
       "      <td>5.176884</td>\n",
       "      <td>32.066985</td>\n",
       "    </tr>\n",
       "    <tr>\n",
       "      <th>4</th>\n",
       "      <td>oldbalanceDest</td>\n",
       "      <td>0.0</td>\n",
       "      <td>3.560159e+08</td>\n",
       "      <td>3.560159e+08</td>\n",
       "      <td>1.100702e+06</td>\n",
       "      <td>132705.665</td>\n",
       "      <td>3.399180e+06</td>\n",
       "      <td>19.921758</td>\n",
       "      <td>948.674125</td>\n",
       "    </tr>\n",
       "    <tr>\n",
       "      <th>5</th>\n",
       "      <td>newbalanceDest</td>\n",
       "      <td>0.0</td>\n",
       "      <td>3.561793e+08</td>\n",
       "      <td>3.561793e+08</td>\n",
       "      <td>1.224996e+06</td>\n",
       "      <td>214661.440</td>\n",
       "      <td>3.674129e+06</td>\n",
       "      <td>19.352302</td>\n",
       "      <td>862.156508</td>\n",
       "    </tr>\n",
       "    <tr>\n",
       "      <th>6</th>\n",
       "      <td>isFraud</td>\n",
       "      <td>0.0</td>\n",
       "      <td>1.000000e+00</td>\n",
       "      <td>1.000000e+00</td>\n",
       "      <td>1.290820e-03</td>\n",
       "      <td>0.000</td>\n",
       "      <td>3.590479e-02</td>\n",
       "      <td>27.779538</td>\n",
       "      <td>769.702982</td>\n",
       "    </tr>\n",
       "    <tr>\n",
       "      <th>7</th>\n",
       "      <td>isFlaggedFraud</td>\n",
       "      <td>0.0</td>\n",
       "      <td>1.000000e+00</td>\n",
       "      <td>1.000000e+00</td>\n",
       "      <td>2.514687e-06</td>\n",
       "      <td>0.000</td>\n",
       "      <td>1.585775e-03</td>\n",
       "      <td>630.603629</td>\n",
       "      <td>397659.062500</td>\n",
       "    </tr>\n",
       "  </tbody>\n",
       "</table>\n",
       "</div>"
      ],
      "text/plain": [
       "       attributes  min           max         range          mean      median  \\\n",
       "0            step  1.0  7.430000e+02  7.420000e+02  2.433972e+02     239.000   \n",
       "1          amount  0.0  9.244552e+07  9.244552e+07  1.798619e+05   74871.940   \n",
       "2   oldbalanceOrg  0.0  5.958504e+07  5.958504e+07  8.338831e+05   14208.000   \n",
       "3  newbalanceOrig  0.0  4.958504e+07  4.958504e+07  8.551137e+05       0.000   \n",
       "4  oldbalanceDest  0.0  3.560159e+08  3.560159e+08  1.100702e+06  132705.665   \n",
       "5  newbalanceDest  0.0  3.561793e+08  3.561793e+08  1.224996e+06  214661.440   \n",
       "6         isFraud  0.0  1.000000e+00  1.000000e+00  1.290820e-03       0.000   \n",
       "7  isFlaggedFraud  0.0  1.000000e+00  1.000000e+00  2.514687e-06       0.000   \n",
       "\n",
       "            std        skew       kurtosis  \n",
       "0  1.423320e+02    0.375177       0.329071  \n",
       "1  6.038582e+05   30.993949    1797.956705  \n",
       "2  2.888242e+06    5.249136      32.964879  \n",
       "3  2.924048e+06    5.176884      32.066985  \n",
       "4  3.399180e+06   19.921758     948.674125  \n",
       "5  3.674129e+06   19.352302     862.156508  \n",
       "6  3.590479e-02   27.779538     769.702982  \n",
       "7  1.585775e-03  630.603629  397659.062500  "
      ]
     },
     "execution_count": 12,
     "metadata": {},
     "output_type": "execute_result"
    }
   ],
   "source": [
    "# Central Tendency - mean, meadina \n",
    "ct1 = pd.DataFrame( num_attributes.apply( np.mean ) ).T\n",
    "ct2 = pd.DataFrame( num_attributes.apply( np.median ) ).T\n",
    "\n",
    "# dispersion - std, min, max, range, skew, kurtosis\n",
    "d1 = pd.DataFrame( num_attributes.apply( np.std ) ).T \n",
    "d2 = pd.DataFrame( num_attributes.apply( min ) ).T \n",
    "d3 = pd.DataFrame( num_attributes.apply( max ) ).T \n",
    "d4 = pd.DataFrame( num_attributes.apply( lambda x: x.max() - x.min() ) ).T \n",
    "d5 = pd.DataFrame( num_attributes.apply( lambda x: x.skew() ) ).T \n",
    "d6 = pd.DataFrame( num_attributes.apply( lambda x: x.kurtosis() ) ).T \n",
    "\n",
    "# concatenar\n",
    "m = pd.concat( [d2, d3, d4, ct1, ct2, d1, d5, d6] ).T.reset_index()\n",
    "m.columns = ['attributes', 'min', 'max', 'range', 'mean', 'median', 'std', 'skew', 'kurtosis']\n",
    "m"
   ]
  },
  {
   "cell_type": "code",
   "execution_count": 13,
   "metadata": {
    "ExecuteTime": {
     "end_time": "2023-09-12T02:18:21.548675Z",
     "start_time": "2023-09-12T02:18:21.507676Z"
    }
   },
   "outputs": [
    {
     "data": {
      "text/html": [
       "<div>\n",
       "<style scoped>\n",
       "    .dataframe tbody tr th:only-of-type {\n",
       "        vertical-align: middle;\n",
       "    }\n",
       "\n",
       "    .dataframe tbody tr th {\n",
       "        vertical-align: top;\n",
       "    }\n",
       "\n",
       "    .dataframe thead th {\n",
       "        text-align: right;\n",
       "    }\n",
       "</style>\n",
       "<table border=\"1\" class=\"dataframe\">\n",
       "  <thead>\n",
       "    <tr style=\"text-align: right;\">\n",
       "      <th></th>\n",
       "      <th>step</th>\n",
       "      <th>type</th>\n",
       "      <th>amount</th>\n",
       "      <th>nameOrig</th>\n",
       "      <th>oldbalanceOrg</th>\n",
       "      <th>newbalanceOrig</th>\n",
       "      <th>nameDest</th>\n",
       "      <th>oldbalanceDest</th>\n",
       "      <th>newbalanceDest</th>\n",
       "      <th>isFraud</th>\n",
       "      <th>isFlaggedFraud</th>\n",
       "    </tr>\n",
       "  </thead>\n",
       "  <tbody>\n",
       "    <tr>\n",
       "      <th>0</th>\n",
       "      <td>1</td>\n",
       "      <td>PAYMENT</td>\n",
       "      <td>9839.64</td>\n",
       "      <td>C1231006815</td>\n",
       "      <td>170136.0</td>\n",
       "      <td>160296.36</td>\n",
       "      <td>M1979787155</td>\n",
       "      <td>0.0</td>\n",
       "      <td>0.0</td>\n",
       "      <td>0</td>\n",
       "      <td>0</td>\n",
       "    </tr>\n",
       "    <tr>\n",
       "      <th>1</th>\n",
       "      <td>1</td>\n",
       "      <td>PAYMENT</td>\n",
       "      <td>1864.28</td>\n",
       "      <td>C1666544295</td>\n",
       "      <td>21249.0</td>\n",
       "      <td>19384.72</td>\n",
       "      <td>M2044282225</td>\n",
       "      <td>0.0</td>\n",
       "      <td>0.0</td>\n",
       "      <td>0</td>\n",
       "      <td>0</td>\n",
       "    </tr>\n",
       "    <tr>\n",
       "      <th>2</th>\n",
       "      <td>1</td>\n",
       "      <td>TRANSFER</td>\n",
       "      <td>181.00</td>\n",
       "      <td>C1305486145</td>\n",
       "      <td>181.0</td>\n",
       "      <td>0.00</td>\n",
       "      <td>C553264065</td>\n",
       "      <td>0.0</td>\n",
       "      <td>0.0</td>\n",
       "      <td>1</td>\n",
       "      <td>0</td>\n",
       "    </tr>\n",
       "    <tr>\n",
       "      <th>3</th>\n",
       "      <td>1</td>\n",
       "      <td>CASH_OUT</td>\n",
       "      <td>181.00</td>\n",
       "      <td>C840083671</td>\n",
       "      <td>181.0</td>\n",
       "      <td>0.00</td>\n",
       "      <td>C38997010</td>\n",
       "      <td>21182.0</td>\n",
       "      <td>0.0</td>\n",
       "      <td>1</td>\n",
       "      <td>0</td>\n",
       "    </tr>\n",
       "    <tr>\n",
       "      <th>4</th>\n",
       "      <td>1</td>\n",
       "      <td>PAYMENT</td>\n",
       "      <td>11668.14</td>\n",
       "      <td>C2048537720</td>\n",
       "      <td>41554.0</td>\n",
       "      <td>29885.86</td>\n",
       "      <td>M1230701703</td>\n",
       "      <td>0.0</td>\n",
       "      <td>0.0</td>\n",
       "      <td>0</td>\n",
       "      <td>0</td>\n",
       "    </tr>\n",
       "  </tbody>\n",
       "</table>\n",
       "</div>"
      ],
      "text/plain": [
       "   step      type    amount     nameOrig  oldbalanceOrg  newbalanceOrig  \\\n",
       "0     1   PAYMENT   9839.64  C1231006815       170136.0       160296.36   \n",
       "1     1   PAYMENT   1864.28  C1666544295        21249.0        19384.72   \n",
       "2     1  TRANSFER    181.00  C1305486145          181.0            0.00   \n",
       "3     1  CASH_OUT    181.00   C840083671          181.0            0.00   \n",
       "4     1   PAYMENT  11668.14  C2048537720        41554.0        29885.86   \n",
       "\n",
       "      nameDest  oldbalanceDest  newbalanceDest  isFraud  isFlaggedFraud  \n",
       "0  M1979787155             0.0             0.0        0               0  \n",
       "1  M2044282225             0.0             0.0        0               0  \n",
       "2   C553264065             0.0             0.0        1               0  \n",
       "3    C38997010         21182.0             0.0        1               0  \n",
       "4  M1230701703             0.0             0.0        0               0  "
      ]
     },
     "execution_count": 13,
     "metadata": {},
     "output_type": "execute_result"
    }
   ],
   "source": [
    "data.head()"
   ]
  },
  {
   "cell_type": "code",
   "execution_count": 15,
   "metadata": {
    "ExecuteTime": {
     "end_time": "2023-09-12T02:26:26.240777Z",
     "start_time": "2023-09-12T02:26:22.618851Z"
    }
   },
   "outputs": [
    {
     "data": {
      "text/html": [
       "<style type=\"text/css\">\n",
       "#T_f5222_row0_col0, #T_f5222_row0_col6, #T_f5222_row0_col7, #T_f5222_row7_col1, #T_f5222_row7_col2, #T_f5222_row7_col3, #T_f5222_row7_col4, #T_f5222_row7_col5 {\n",
       "  background-color: #023858;\n",
       "  color: #f1f1f1;\n",
       "}\n",
       "#T_f5222_row0_col1 {\n",
       "  background-color: #f5eef6;\n",
       "  color: #000000;\n",
       "}\n",
       "#T_f5222_row0_col2 {\n",
       "  background-color: #efe9f3;\n",
       "  color: #000000;\n",
       "}\n",
       "#T_f5222_row0_col3 {\n",
       "  background-color: #ece7f2;\n",
       "  color: #000000;\n",
       "}\n",
       "#T_f5222_row0_col4, #T_f5222_row0_col5, #T_f5222_row1_col2, #T_f5222_row1_col3 {\n",
       "  background-color: #fdf5fa;\n",
       "  color: #000000;\n",
       "}\n",
       "#T_f5222_row1_col0, #T_f5222_row1_col1, #T_f5222_row1_col4, #T_f5222_row1_col5, #T_f5222_row1_col6, #T_f5222_row1_col7, #T_f5222_row2_col0, #T_f5222_row2_col6, #T_f5222_row2_col7, #T_f5222_row3_col0, #T_f5222_row3_col1, #T_f5222_row3_col2, #T_f5222_row3_col3, #T_f5222_row3_col4, #T_f5222_row3_col5, #T_f5222_row3_col6, #T_f5222_row3_col7, #T_f5222_row4_col0, #T_f5222_row4_col1, #T_f5222_row4_col2, #T_f5222_row4_col3, #T_f5222_row4_col4, #T_f5222_row4_col5, #T_f5222_row4_col6, #T_f5222_row4_col7, #T_f5222_row5_col0, #T_f5222_row5_col1, #T_f5222_row5_col2, #T_f5222_row5_col3, #T_f5222_row5_col4, #T_f5222_row5_col5, #T_f5222_row5_col6, #T_f5222_row5_col7, #T_f5222_row6_col0, #T_f5222_row6_col1, #T_f5222_row6_col2, #T_f5222_row6_col3, #T_f5222_row6_col4, #T_f5222_row6_col5, #T_f5222_row6_col6, #T_f5222_row6_col7, #T_f5222_row7_col0, #T_f5222_row7_col6, #T_f5222_row7_col7 {\n",
       "  background-color: #fff7fb;\n",
       "  color: #000000;\n",
       "}\n",
       "#T_f5222_row2_col1 {\n",
       "  background-color: #fef6fb;\n",
       "  color: #000000;\n",
       "}\n",
       "#T_f5222_row2_col2 {\n",
       "  background-color: #f8f1f8;\n",
       "  color: #000000;\n",
       "}\n",
       "#T_f5222_row2_col3 {\n",
       "  background-color: #f6eff7;\n",
       "  color: #000000;\n",
       "}\n",
       "#T_f5222_row2_col4, #T_f5222_row2_col5 {\n",
       "  background-color: #fef6fa;\n",
       "  color: #000000;\n",
       "}\n",
       "</style>\n",
       "<table id=\"T_f5222\">\n",
       "  <thead>\n",
       "    <tr>\n",
       "      <th class=\"blank level0\" >&nbsp;</th>\n",
       "      <th id=\"T_f5222_level0_col0\" class=\"col_heading level0 col0\" >step</th>\n",
       "      <th id=\"T_f5222_level0_col1\" class=\"col_heading level0 col1\" >amount</th>\n",
       "      <th id=\"T_f5222_level0_col2\" class=\"col_heading level0 col2\" >oldbalanceOrg</th>\n",
       "      <th id=\"T_f5222_level0_col3\" class=\"col_heading level0 col3\" >newbalanceOrig</th>\n",
       "      <th id=\"T_f5222_level0_col4\" class=\"col_heading level0 col4\" >oldbalanceDest</th>\n",
       "      <th id=\"T_f5222_level0_col5\" class=\"col_heading level0 col5\" >newbalanceDest</th>\n",
       "      <th id=\"T_f5222_level0_col6\" class=\"col_heading level0 col6\" >isFraud</th>\n",
       "      <th id=\"T_f5222_level0_col7\" class=\"col_heading level0 col7\" >isFlaggedFraud</th>\n",
       "    </tr>\n",
       "  </thead>\n",
       "  <tbody>\n",
       "    <tr>\n",
       "      <th id=\"T_f5222_level0_row0\" class=\"row_heading level0 row0\" >count</th>\n",
       "      <td id=\"T_f5222_row0_col0\" class=\"data row0 col0\" >6362620.000000</td>\n",
       "      <td id=\"T_f5222_row0_col1\" class=\"data row0 col1\" >6362620.000000</td>\n",
       "      <td id=\"T_f5222_row0_col2\" class=\"data row0 col2\" >6362620.000000</td>\n",
       "      <td id=\"T_f5222_row0_col3\" class=\"data row0 col3\" >6362620.000000</td>\n",
       "      <td id=\"T_f5222_row0_col4\" class=\"data row0 col4\" >6362620.000000</td>\n",
       "      <td id=\"T_f5222_row0_col5\" class=\"data row0 col5\" >6362620.000000</td>\n",
       "      <td id=\"T_f5222_row0_col6\" class=\"data row0 col6\" >6362620.000000</td>\n",
       "      <td id=\"T_f5222_row0_col7\" class=\"data row0 col7\" >6362620.000000</td>\n",
       "    </tr>\n",
       "    <tr>\n",
       "      <th id=\"T_f5222_level0_row1\" class=\"row_heading level0 row1\" >mean</th>\n",
       "      <td id=\"T_f5222_row1_col0\" class=\"data row1 col0\" >243.397246</td>\n",
       "      <td id=\"T_f5222_row1_col1\" class=\"data row1 col1\" >179861.903549</td>\n",
       "      <td id=\"T_f5222_row1_col2\" class=\"data row1 col2\" >833883.104074</td>\n",
       "      <td id=\"T_f5222_row1_col3\" class=\"data row1 col3\" >855113.668579</td>\n",
       "      <td id=\"T_f5222_row1_col4\" class=\"data row1 col4\" >1100701.666520</td>\n",
       "      <td id=\"T_f5222_row1_col5\" class=\"data row1 col5\" >1224996.398202</td>\n",
       "      <td id=\"T_f5222_row1_col6\" class=\"data row1 col6\" >0.001291</td>\n",
       "      <td id=\"T_f5222_row1_col7\" class=\"data row1 col7\" >0.000003</td>\n",
       "    </tr>\n",
       "    <tr>\n",
       "      <th id=\"T_f5222_level0_row2\" class=\"row_heading level0 row2\" >std</th>\n",
       "      <td id=\"T_f5222_row2_col0\" class=\"data row2 col0\" >142.331971</td>\n",
       "      <td id=\"T_f5222_row2_col1\" class=\"data row2 col1\" >603858.231463</td>\n",
       "      <td id=\"T_f5222_row2_col2\" class=\"data row2 col2\" >2888242.673038</td>\n",
       "      <td id=\"T_f5222_row2_col3\" class=\"data row2 col3\" >2924048.502954</td>\n",
       "      <td id=\"T_f5222_row2_col4\" class=\"data row2 col4\" >3399180.112994</td>\n",
       "      <td id=\"T_f5222_row2_col5\" class=\"data row2 col5\" >3674128.942120</td>\n",
       "      <td id=\"T_f5222_row2_col6\" class=\"data row2 col6\" >0.035905</td>\n",
       "      <td id=\"T_f5222_row2_col7\" class=\"data row2 col7\" >0.001586</td>\n",
       "    </tr>\n",
       "    <tr>\n",
       "      <th id=\"T_f5222_level0_row3\" class=\"row_heading level0 row3\" >min</th>\n",
       "      <td id=\"T_f5222_row3_col0\" class=\"data row3 col0\" >1.000000</td>\n",
       "      <td id=\"T_f5222_row3_col1\" class=\"data row3 col1\" >0.000000</td>\n",
       "      <td id=\"T_f5222_row3_col2\" class=\"data row3 col2\" >0.000000</td>\n",
       "      <td id=\"T_f5222_row3_col3\" class=\"data row3 col3\" >0.000000</td>\n",
       "      <td id=\"T_f5222_row3_col4\" class=\"data row3 col4\" >0.000000</td>\n",
       "      <td id=\"T_f5222_row3_col5\" class=\"data row3 col5\" >0.000000</td>\n",
       "      <td id=\"T_f5222_row3_col6\" class=\"data row3 col6\" >0.000000</td>\n",
       "      <td id=\"T_f5222_row3_col7\" class=\"data row3 col7\" >0.000000</td>\n",
       "    </tr>\n",
       "    <tr>\n",
       "      <th id=\"T_f5222_level0_row4\" class=\"row_heading level0 row4\" >25%</th>\n",
       "      <td id=\"T_f5222_row4_col0\" class=\"data row4 col0\" >156.000000</td>\n",
       "      <td id=\"T_f5222_row4_col1\" class=\"data row4 col1\" >13389.570000</td>\n",
       "      <td id=\"T_f5222_row4_col2\" class=\"data row4 col2\" >0.000000</td>\n",
       "      <td id=\"T_f5222_row4_col3\" class=\"data row4 col3\" >0.000000</td>\n",
       "      <td id=\"T_f5222_row4_col4\" class=\"data row4 col4\" >0.000000</td>\n",
       "      <td id=\"T_f5222_row4_col5\" class=\"data row4 col5\" >0.000000</td>\n",
       "      <td id=\"T_f5222_row4_col6\" class=\"data row4 col6\" >0.000000</td>\n",
       "      <td id=\"T_f5222_row4_col7\" class=\"data row4 col7\" >0.000000</td>\n",
       "    </tr>\n",
       "    <tr>\n",
       "      <th id=\"T_f5222_level0_row5\" class=\"row_heading level0 row5\" >50%</th>\n",
       "      <td id=\"T_f5222_row5_col0\" class=\"data row5 col0\" >239.000000</td>\n",
       "      <td id=\"T_f5222_row5_col1\" class=\"data row5 col1\" >74871.940000</td>\n",
       "      <td id=\"T_f5222_row5_col2\" class=\"data row5 col2\" >14208.000000</td>\n",
       "      <td id=\"T_f5222_row5_col3\" class=\"data row5 col3\" >0.000000</td>\n",
       "      <td id=\"T_f5222_row5_col4\" class=\"data row5 col4\" >132705.665000</td>\n",
       "      <td id=\"T_f5222_row5_col5\" class=\"data row5 col5\" >214661.440000</td>\n",
       "      <td id=\"T_f5222_row5_col6\" class=\"data row5 col6\" >0.000000</td>\n",
       "      <td id=\"T_f5222_row5_col7\" class=\"data row5 col7\" >0.000000</td>\n",
       "    </tr>\n",
       "    <tr>\n",
       "      <th id=\"T_f5222_level0_row6\" class=\"row_heading level0 row6\" >75%</th>\n",
       "      <td id=\"T_f5222_row6_col0\" class=\"data row6 col0\" >335.000000</td>\n",
       "      <td id=\"T_f5222_row6_col1\" class=\"data row6 col1\" >208721.477500</td>\n",
       "      <td id=\"T_f5222_row6_col2\" class=\"data row6 col2\" >107315.175000</td>\n",
       "      <td id=\"T_f5222_row6_col3\" class=\"data row6 col3\" >144258.410000</td>\n",
       "      <td id=\"T_f5222_row6_col4\" class=\"data row6 col4\" >943036.707500</td>\n",
       "      <td id=\"T_f5222_row6_col5\" class=\"data row6 col5\" >1111909.250000</td>\n",
       "      <td id=\"T_f5222_row6_col6\" class=\"data row6 col6\" >0.000000</td>\n",
       "      <td id=\"T_f5222_row6_col7\" class=\"data row6 col7\" >0.000000</td>\n",
       "    </tr>\n",
       "    <tr>\n",
       "      <th id=\"T_f5222_level0_row7\" class=\"row_heading level0 row7\" >max</th>\n",
       "      <td id=\"T_f5222_row7_col0\" class=\"data row7 col0\" >743.000000</td>\n",
       "      <td id=\"T_f5222_row7_col1\" class=\"data row7 col1\" >92445516.640000</td>\n",
       "      <td id=\"T_f5222_row7_col2\" class=\"data row7 col2\" >59585040.370000</td>\n",
       "      <td id=\"T_f5222_row7_col3\" class=\"data row7 col3\" >49585040.370000</td>\n",
       "      <td id=\"T_f5222_row7_col4\" class=\"data row7 col4\" >356015889.350000</td>\n",
       "      <td id=\"T_f5222_row7_col5\" class=\"data row7 col5\" >356179278.920000</td>\n",
       "      <td id=\"T_f5222_row7_col6\" class=\"data row7 col6\" >1.000000</td>\n",
       "      <td id=\"T_f5222_row7_col7\" class=\"data row7 col7\" >1.000000</td>\n",
       "    </tr>\n",
       "  </tbody>\n",
       "</table>\n"
      ],
      "text/plain": [
       "<pandas.io.formats.style.Styler at 0x2673c9e06a0>"
      ]
     },
     "execution_count": 15,
     "metadata": {},
     "output_type": "execute_result"
    }
   ],
   "source": [
    "desc = data.describe()\n",
    "desc = desc.style.background_gradient()\n",
    "desc"
   ]
  },
  {
   "cell_type": "code",
   "execution_count": 14,
   "metadata": {
    "ExecuteTime": {
     "end_time": "2023-09-12T02:19:07.577548Z",
     "start_time": "2023-09-12T02:18:21.553673Z"
    }
   },
   "outputs": [],
   "source": [
    "data.to_csv(\"../data/processed/data_processed.csv\", index=False)"
   ]
  },
  {
   "cell_type": "code",
   "execution_count": 16,
   "metadata": {
    "ExecuteTime": {
     "end_time": "2023-09-12T02:38:49.001997Z",
     "start_time": "2023-09-12T02:38:48.944001Z"
    }
   },
   "outputs": [
    {
     "data": {
      "text/plain": [
       "isFraud\n",
       "0    6354407\n",
       "1       8213\n",
       "Name: count, dtype: int64"
      ]
     },
     "execution_count": 16,
     "metadata": {},
     "output_type": "execute_result"
    }
   ],
   "source": [
    "data['isFraud'].value_counts()"
   ]
  },
  {
   "cell_type": "code",
   "execution_count": null,
   "metadata": {},
   "outputs": [],
   "source": []
  },
  {
   "cell_type": "code",
   "execution_count": null,
   "metadata": {},
   "outputs": [],
   "source": []
  }
 ],
 "metadata": {
  "kernelspec": {
   "display_name": "Python 3 (ipykernel)",
   "language": "python",
   "name": "python3"
  },
  "language_info": {
   "codemirror_mode": {
    "name": "ipython",
    "version": 3
   },
   "file_extension": ".py",
   "mimetype": "text/x-python",
   "name": "python",
   "nbconvert_exporter": "python",
   "pygments_lexer": "ipython3",
   "version": "3.10.13"
  }
 },
 "nbformat": 4,
 "nbformat_minor": 2
}
