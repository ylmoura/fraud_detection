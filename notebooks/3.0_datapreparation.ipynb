{
 "cells": [
  {
   "cell_type": "code",
   "execution_count": 52,
   "id": "f84c3ee0",
   "metadata": {
    "ExecuteTime": {
     "end_time": "2023-09-14T01:16:43.162828Z",
     "start_time": "2023-09-14T01:16:43.150834Z"
    }
   },
   "outputs": [],
   "source": [
    "# Basic Tools\n",
    "import pandas as pd\n",
    "import numpy as np\n",
    "\n",
    "\n",
    "from sklearn.preprocessing import StandardScaler\n",
    "\n",
    "\n",
    "from sklearn.model_selection import train_test_split\n",
    "from sklearn.model_selection import cross_val_score, cross_val_predict, KFold, cross_validate\n",
    "\n"
   ]
  },
  {
   "cell_type": "code",
   "execution_count": null,
   "id": "cda72686",
   "metadata": {},
   "outputs": [],
   "source": []
  },
  {
   "cell_type": "code",
   "execution_count": null,
   "id": "9d9ac4ff",
   "metadata": {},
   "outputs": [],
   "source": []
  },
  {
   "cell_type": "code",
   "execution_count": 107,
   "id": "9b8cd92c",
   "metadata": {
    "ExecuteTime": {
     "end_time": "2023-09-14T01:25:51.723425Z",
     "start_time": "2023-09-14T01:25:40.928682Z"
    }
   },
   "outputs": [],
   "source": [
    "data = pd.read_csv('../data/processed/data_processed.csv', low_memory=False)\n"
   ]
  },
  {
   "cell_type": "code",
   "execution_count": 108,
   "id": "d9eb9f8e",
   "metadata": {
    "ExecuteTime": {
     "end_time": "2023-09-14T01:25:51.897389Z",
     "start_time": "2023-09-14T01:25:51.728424Z"
    }
   },
   "outputs": [],
   "source": [
    "data_prep = data.copy()"
   ]
  },
  {
   "cell_type": "code",
   "execution_count": 109,
   "id": "d8661b20",
   "metadata": {
    "ExecuteTime": {
     "end_time": "2023-09-14T01:25:51.912380Z",
     "start_time": "2023-09-14T01:25:51.900386Z"
    }
   },
   "outputs": [
    {
     "data": {
      "text/plain": [
       "(6362620, 18)"
      ]
     },
     "execution_count": 109,
     "metadata": {},
     "output_type": "execute_result"
    }
   ],
   "source": [
    "data_prep.shape"
   ]
  },
  {
   "cell_type": "code",
   "execution_count": 110,
   "id": "2ab58341",
   "metadata": {
    "ExecuteTime": {
     "end_time": "2023-09-14T01:25:52.377024Z",
     "start_time": "2023-09-14T01:25:51.916388Z"
    }
   },
   "outputs": [
    {
     "data": {
      "text/plain": [
       "step                0\n",
       "type                0\n",
       "amount              0\n",
       "name_orig           0\n",
       "oldbalance_org      0\n",
       "newbalance_orig     0\n",
       "name_dest           0\n",
       "oldbalance_dest     0\n",
       "newbalance_dest     0\n",
       "is_fraud            0\n",
       "is_flagged_fraud    0\n",
       "length_name_orig    0\n",
       "length_name_dest    0\n",
       "type_dest           0\n",
       "dia                 0\n",
       "hora                0\n",
       "origin_missing      0\n",
       "dest_missing        0\n",
       "dtype: int64"
      ]
     },
     "execution_count": 110,
     "metadata": {},
     "output_type": "execute_result"
    }
   ],
   "source": [
    "data_prep.isna().sum()"
   ]
  },
  {
   "cell_type": "code",
   "execution_count": 111,
   "id": "0d5e741a",
   "metadata": {
    "ExecuteTime": {
     "end_time": "2023-09-14T01:25:52.408016Z",
     "start_time": "2023-09-14T01:25:52.380025Z"
    }
   },
   "outputs": [
    {
     "data": {
      "text/html": [
       "<div>\n",
       "<style scoped>\n",
       "    .dataframe tbody tr th:only-of-type {\n",
       "        vertical-align: middle;\n",
       "    }\n",
       "\n",
       "    .dataframe tbody tr th {\n",
       "        vertical-align: top;\n",
       "    }\n",
       "\n",
       "    .dataframe thead th {\n",
       "        text-align: right;\n",
       "    }\n",
       "</style>\n",
       "<table border=\"1\" class=\"dataframe\">\n",
       "  <thead>\n",
       "    <tr style=\"text-align: right;\">\n",
       "      <th></th>\n",
       "      <th>step</th>\n",
       "      <th>type</th>\n",
       "      <th>amount</th>\n",
       "      <th>name_orig</th>\n",
       "      <th>oldbalance_org</th>\n",
       "      <th>newbalance_orig</th>\n",
       "      <th>name_dest</th>\n",
       "      <th>oldbalance_dest</th>\n",
       "      <th>newbalance_dest</th>\n",
       "      <th>is_fraud</th>\n",
       "      <th>is_flagged_fraud</th>\n",
       "      <th>length_name_orig</th>\n",
       "      <th>length_name_dest</th>\n",
       "      <th>type_dest</th>\n",
       "      <th>dia</th>\n",
       "      <th>hora</th>\n",
       "      <th>origin_missing</th>\n",
       "      <th>dest_missing</th>\n",
       "    </tr>\n",
       "  </thead>\n",
       "  <tbody>\n",
       "    <tr>\n",
       "      <th>0</th>\n",
       "      <td>1</td>\n",
       "      <td>PAYMENT</td>\n",
       "      <td>9839.64</td>\n",
       "      <td>1231006815</td>\n",
       "      <td>170136.0</td>\n",
       "      <td>160296.36</td>\n",
       "      <td>1979787155</td>\n",
       "      <td>0.0</td>\n",
       "      <td>0.0</td>\n",
       "      <td>0</td>\n",
       "      <td>0</td>\n",
       "      <td>11</td>\n",
       "      <td>11</td>\n",
       "      <td>M</td>\n",
       "      <td>1</td>\n",
       "      <td>0</td>\n",
       "      <td>0.0</td>\n",
       "      <td>9839.64</td>\n",
       "    </tr>\n",
       "    <tr>\n",
       "      <th>1</th>\n",
       "      <td>1</td>\n",
       "      <td>PAYMENT</td>\n",
       "      <td>1864.28</td>\n",
       "      <td>1666544295</td>\n",
       "      <td>21249.0</td>\n",
       "      <td>19384.72</td>\n",
       "      <td>2044282225</td>\n",
       "      <td>0.0</td>\n",
       "      <td>0.0</td>\n",
       "      <td>0</td>\n",
       "      <td>0</td>\n",
       "      <td>11</td>\n",
       "      <td>11</td>\n",
       "      <td>M</td>\n",
       "      <td>1</td>\n",
       "      <td>0</td>\n",
       "      <td>0.0</td>\n",
       "      <td>1864.28</td>\n",
       "    </tr>\n",
       "    <tr>\n",
       "      <th>2</th>\n",
       "      <td>1</td>\n",
       "      <td>TRANSFER</td>\n",
       "      <td>181.00</td>\n",
       "      <td>1305486145</td>\n",
       "      <td>181.0</td>\n",
       "      <td>0.00</td>\n",
       "      <td>553264065</td>\n",
       "      <td>0.0</td>\n",
       "      <td>0.0</td>\n",
       "      <td>1</td>\n",
       "      <td>0</td>\n",
       "      <td>11</td>\n",
       "      <td>10</td>\n",
       "      <td>C</td>\n",
       "      <td>1</td>\n",
       "      <td>0</td>\n",
       "      <td>0.0</td>\n",
       "      <td>181.00</td>\n",
       "    </tr>\n",
       "    <tr>\n",
       "      <th>3</th>\n",
       "      <td>1</td>\n",
       "      <td>CASH_OUT</td>\n",
       "      <td>181.00</td>\n",
       "      <td>840083671</td>\n",
       "      <td>181.0</td>\n",
       "      <td>0.00</td>\n",
       "      <td>38997010</td>\n",
       "      <td>21182.0</td>\n",
       "      <td>0.0</td>\n",
       "      <td>1</td>\n",
       "      <td>0</td>\n",
       "      <td>10</td>\n",
       "      <td>9</td>\n",
       "      <td>C</td>\n",
       "      <td>1</td>\n",
       "      <td>0</td>\n",
       "      <td>0.0</td>\n",
       "      <td>-21001.00</td>\n",
       "    </tr>\n",
       "    <tr>\n",
       "      <th>4</th>\n",
       "      <td>1</td>\n",
       "      <td>PAYMENT</td>\n",
       "      <td>11668.14</td>\n",
       "      <td>2048537720</td>\n",
       "      <td>41554.0</td>\n",
       "      <td>29885.86</td>\n",
       "      <td>1230701703</td>\n",
       "      <td>0.0</td>\n",
       "      <td>0.0</td>\n",
       "      <td>0</td>\n",
       "      <td>0</td>\n",
       "      <td>11</td>\n",
       "      <td>11</td>\n",
       "      <td>M</td>\n",
       "      <td>1</td>\n",
       "      <td>0</td>\n",
       "      <td>0.0</td>\n",
       "      <td>11668.14</td>\n",
       "    </tr>\n",
       "  </tbody>\n",
       "</table>\n",
       "</div>"
      ],
      "text/plain": [
       "   step      type    amount   name_orig  oldbalance_org  newbalance_orig  \\\n",
       "0     1   PAYMENT   9839.64  1231006815        170136.0        160296.36   \n",
       "1     1   PAYMENT   1864.28  1666544295         21249.0         19384.72   \n",
       "2     1  TRANSFER    181.00  1305486145           181.0             0.00   \n",
       "3     1  CASH_OUT    181.00   840083671           181.0             0.00   \n",
       "4     1   PAYMENT  11668.14  2048537720         41554.0         29885.86   \n",
       "\n",
       "    name_dest  oldbalance_dest  newbalance_dest  is_fraud  is_flagged_fraud  \\\n",
       "0  1979787155              0.0              0.0         0                 0   \n",
       "1  2044282225              0.0              0.0         0                 0   \n",
       "2   553264065              0.0              0.0         1                 0   \n",
       "3    38997010          21182.0              0.0         1                 0   \n",
       "4  1230701703              0.0              0.0         0                 0   \n",
       "\n",
       "   length_name_orig  length_name_dest type_dest  dia  hora  origin_missing  \\\n",
       "0                11                11         M    1     0             0.0   \n",
       "1                11                11         M    1     0             0.0   \n",
       "2                11                10         C    1     0             0.0   \n",
       "3                10                 9         C    1     0             0.0   \n",
       "4                11                11         M    1     0             0.0   \n",
       "\n",
       "   dest_missing  \n",
       "0       9839.64  \n",
       "1       1864.28  \n",
       "2        181.00  \n",
       "3     -21001.00  \n",
       "4      11668.14  "
      ]
     },
     "execution_count": 111,
     "metadata": {},
     "output_type": "execute_result"
    }
   ],
   "source": [
    "data_prep.head()"
   ]
  },
  {
   "cell_type": "code",
   "execution_count": 112,
   "id": "69b2396e",
   "metadata": {
    "ExecuteTime": {
     "end_time": "2023-09-14T01:25:52.874392Z",
     "start_time": "2023-09-14T01:25:52.411031Z"
    }
   },
   "outputs": [
    {
     "data": {
      "text/plain": [
       "step                0\n",
       "type                0\n",
       "amount              0\n",
       "name_orig           0\n",
       "oldbalance_org      0\n",
       "newbalance_orig     0\n",
       "name_dest           0\n",
       "oldbalance_dest     0\n",
       "newbalance_dest     0\n",
       "is_fraud            0\n",
       "is_flagged_fraud    0\n",
       "length_name_orig    0\n",
       "length_name_dest    0\n",
       "type_dest           0\n",
       "dia                 0\n",
       "hora                0\n",
       "origin_missing      0\n",
       "dest_missing        0\n",
       "dtype: int64"
      ]
     },
     "execution_count": 112,
     "metadata": {},
     "output_type": "execute_result"
    }
   ],
   "source": [
    "data_prep.isna().sum()"
   ]
  },
  {
   "cell_type": "code",
   "execution_count": 113,
   "id": "1fa2f489",
   "metadata": {
    "ExecuteTime": {
     "end_time": "2023-09-14T01:25:52.890393Z",
     "start_time": "2023-09-14T01:25:52.880394Z"
    }
   },
   "outputs": [
    {
     "data": {
      "text/plain": [
       "Index(['step', 'type', 'amount', 'name_orig', 'oldbalance_org',\n",
       "       'newbalance_orig', 'name_dest', 'oldbalance_dest', 'newbalance_dest',\n",
       "       'is_fraud', 'is_flagged_fraud', 'length_name_orig', 'length_name_dest',\n",
       "       'type_dest', 'dia', 'hora', 'origin_missing', 'dest_missing'],\n",
       "      dtype='object')"
      ]
     },
     "execution_count": 113,
     "metadata": {},
     "output_type": "execute_result"
    }
   ],
   "source": [
    "data_prep.columns"
   ]
  },
  {
   "cell_type": "code",
   "execution_count": 114,
   "id": "4b33ca2c",
   "metadata": {
    "ExecuteTime": {
     "end_time": "2023-09-14T01:25:52.905391Z",
     "start_time": "2023-09-14T01:25:52.894396Z"
    }
   },
   "outputs": [
    {
     "data": {
      "text/plain": [
       "step                  int64\n",
       "type                 object\n",
       "amount              float64\n",
       "name_orig             int64\n",
       "oldbalance_org      float64\n",
       "newbalance_orig     float64\n",
       "name_dest             int64\n",
       "oldbalance_dest     float64\n",
       "newbalance_dest     float64\n",
       "is_fraud              int64\n",
       "is_flagged_fraud      int64\n",
       "length_name_orig      int64\n",
       "length_name_dest      int64\n",
       "type_dest            object\n",
       "dia                   int64\n",
       "hora                  int64\n",
       "origin_missing      float64\n",
       "dest_missing        float64\n",
       "dtype: object"
      ]
     },
     "execution_count": 114,
     "metadata": {},
     "output_type": "execute_result"
    }
   ],
   "source": [
    "data_prep.dtypes"
   ]
  },
  {
   "cell_type": "markdown",
   "id": "7d39b3ce",
   "metadata": {},
   "source": [
    "# Encoding"
   ]
  },
  {
   "cell_type": "code",
   "execution_count": 115,
   "id": "6024a22c",
   "metadata": {
    "ExecuteTime": {
     "end_time": "2023-09-14T01:25:53.277939Z",
     "start_time": "2023-09-14T01:25:52.910400Z"
    }
   },
   "outputs": [],
   "source": [
    "map_type = {'PAYMENT': 0,'TRANSFER':1,'CASH_OUT': 2,'DEBIT': 3,'CASH_IN': 4}\n",
    "data_prep['type'] = data_prep['type'].map(map_type)"
   ]
  },
  {
   "cell_type": "code",
   "execution_count": 116,
   "id": "290f01db",
   "metadata": {
    "ExecuteTime": {
     "end_time": "2023-09-14T01:25:53.467909Z",
     "start_time": "2023-09-14T01:25:53.282955Z"
    }
   },
   "outputs": [],
   "source": [
    "map_type_dest = {'C': 0,'M':1}\n",
    "data_prep['type_dest'] = data_prep['type_dest'].map(map_type_dest)"
   ]
  },
  {
   "cell_type": "code",
   "execution_count": 117,
   "id": "47389945",
   "metadata": {
    "ExecuteTime": {
     "end_time": "2023-09-14T01:25:53.669872Z",
     "start_time": "2023-09-14T01:25:53.470912Z"
    }
   },
   "outputs": [
    {
     "data": {
      "text/plain": [
       "type_dest\n",
       "C    4211125\n",
       "M    2151495\n",
       "Name: count, dtype: int64"
      ]
     },
     "execution_count": 117,
     "metadata": {},
     "output_type": "execute_result"
    }
   ],
   "source": [
    "data['type_dest'].value_counts()"
   ]
  },
  {
   "cell_type": "code",
   "execution_count": 118,
   "id": "2d3b9342",
   "metadata": {
    "ExecuteTime": {
     "end_time": "2023-09-14T01:25:53.685858Z",
     "start_time": "2023-09-14T01:25:53.672869Z"
    }
   },
   "outputs": [
    {
     "data": {
      "text/plain": [
       "(6362620, 18)"
      ]
     },
     "execution_count": 118,
     "metadata": {},
     "output_type": "execute_result"
    }
   ],
   "source": [
    "data.shape"
   ]
  },
  {
   "cell_type": "markdown",
   "id": "4ec472cd",
   "metadata": {},
   "source": [
    "# Feature Selection"
   ]
  },
  {
   "cell_type": "code",
   "execution_count": 91,
   "id": "bcff8ff7",
   "metadata": {
    "ExecuteTime": {
     "end_time": "2023-09-14T01:18:53.170735Z",
     "start_time": "2023-09-14T01:18:53.160742Z"
    }
   },
   "outputs": [],
   "source": [
    "SELECTED_FEATURES = ['step', 'type', 'amount', 'name_orig', 'oldbalance_org',\n",
    "       'newbalance_orig', 'name_dest', 'oldbalance_dest', 'newbalance_dest',\n",
    "       'is_flagged_fraud', 'length_name_orig', 'length_name_dest',\n",
    "       'type_dest', 'dia', 'hora', 'origin_missing', 'dest_missing']\n",
    "\n",
    "\n",
    "\n",
    "TARGET = 'is_fraud'"
   ]
  },
  {
   "cell_type": "code",
   "execution_count": 92,
   "id": "e2afe67b",
   "metadata": {
    "ExecuteTime": {
     "end_time": "2023-09-14T01:18:53.606881Z",
     "start_time": "2023-09-14T01:18:53.437658Z"
    }
   },
   "outputs": [
    {
     "data": {
      "text/html": [
       "<div>\n",
       "<style scoped>\n",
       "    .dataframe tbody tr th:only-of-type {\n",
       "        vertical-align: middle;\n",
       "    }\n",
       "\n",
       "    .dataframe tbody tr th {\n",
       "        vertical-align: top;\n",
       "    }\n",
       "\n",
       "    .dataframe thead th {\n",
       "        text-align: right;\n",
       "    }\n",
       "</style>\n",
       "<table border=\"1\" class=\"dataframe\">\n",
       "  <thead>\n",
       "    <tr style=\"text-align: right;\">\n",
       "      <th></th>\n",
       "      <th>type</th>\n",
       "      <th>name_orig</th>\n",
       "      <th>oldbalance_org</th>\n",
       "      <th>newbalance_orig</th>\n",
       "      <th>name_dest</th>\n",
       "      <th>oldbalance_dest</th>\n",
       "      <th>newbalance_dest</th>\n",
       "      <th>hora</th>\n",
       "      <th>dia</th>\n",
       "      <th>origin_missing</th>\n",
       "      <th>dest_missing</th>\n",
       "      <th>length_name_orig</th>\n",
       "      <th>length_name_dest</th>\n",
       "    </tr>\n",
       "  </thead>\n",
       "  <tbody>\n",
       "    <tr>\n",
       "      <th>0</th>\n",
       "      <td>0</td>\n",
       "      <td>1231006815</td>\n",
       "      <td>170136.00</td>\n",
       "      <td>160296.36</td>\n",
       "      <td>1979787155</td>\n",
       "      <td>0.00</td>\n",
       "      <td>0.00</td>\n",
       "      <td>0</td>\n",
       "      <td>1</td>\n",
       "      <td>0.0</td>\n",
       "      <td>9839.64</td>\n",
       "      <td>11</td>\n",
       "      <td>11</td>\n",
       "    </tr>\n",
       "    <tr>\n",
       "      <th>1</th>\n",
       "      <td>0</td>\n",
       "      <td>1666544295</td>\n",
       "      <td>21249.00</td>\n",
       "      <td>19384.72</td>\n",
       "      <td>2044282225</td>\n",
       "      <td>0.00</td>\n",
       "      <td>0.00</td>\n",
       "      <td>0</td>\n",
       "      <td>1</td>\n",
       "      <td>0.0</td>\n",
       "      <td>1864.28</td>\n",
       "      <td>11</td>\n",
       "      <td>11</td>\n",
       "    </tr>\n",
       "    <tr>\n",
       "      <th>2</th>\n",
       "      <td>1</td>\n",
       "      <td>1305486145</td>\n",
       "      <td>181.00</td>\n",
       "      <td>0.00</td>\n",
       "      <td>553264065</td>\n",
       "      <td>0.00</td>\n",
       "      <td>0.00</td>\n",
       "      <td>0</td>\n",
       "      <td>1</td>\n",
       "      <td>0.0</td>\n",
       "      <td>181.00</td>\n",
       "      <td>11</td>\n",
       "      <td>10</td>\n",
       "    </tr>\n",
       "    <tr>\n",
       "      <th>3</th>\n",
       "      <td>2</td>\n",
       "      <td>840083671</td>\n",
       "      <td>181.00</td>\n",
       "      <td>0.00</td>\n",
       "      <td>38997010</td>\n",
       "      <td>21182.00</td>\n",
       "      <td>0.00</td>\n",
       "      <td>0</td>\n",
       "      <td>1</td>\n",
       "      <td>0.0</td>\n",
       "      <td>-21001.00</td>\n",
       "      <td>10</td>\n",
       "      <td>9</td>\n",
       "    </tr>\n",
       "    <tr>\n",
       "      <th>4</th>\n",
       "      <td>0</td>\n",
       "      <td>2048537720</td>\n",
       "      <td>41554.00</td>\n",
       "      <td>29885.86</td>\n",
       "      <td>1230701703</td>\n",
       "      <td>0.00</td>\n",
       "      <td>0.00</td>\n",
       "      <td>0</td>\n",
       "      <td>1</td>\n",
       "      <td>0.0</td>\n",
       "      <td>11668.14</td>\n",
       "      <td>11</td>\n",
       "      <td>11</td>\n",
       "    </tr>\n",
       "    <tr>\n",
       "      <th>...</th>\n",
       "      <td>...</td>\n",
       "      <td>...</td>\n",
       "      <td>...</td>\n",
       "      <td>...</td>\n",
       "      <td>...</td>\n",
       "      <td>...</td>\n",
       "      <td>...</td>\n",
       "      <td>...</td>\n",
       "      <td>...</td>\n",
       "      <td>...</td>\n",
       "      <td>...</td>\n",
       "      <td>...</td>\n",
       "      <td>...</td>\n",
       "    </tr>\n",
       "    <tr>\n",
       "      <th>6362615</th>\n",
       "      <td>2</td>\n",
       "      <td>786484425</td>\n",
       "      <td>339682.13</td>\n",
       "      <td>0.00</td>\n",
       "      <td>776919290</td>\n",
       "      <td>0.00</td>\n",
       "      <td>339682.13</td>\n",
       "      <td>22</td>\n",
       "      <td>31</td>\n",
       "      <td>0.0</td>\n",
       "      <td>679364.26</td>\n",
       "      <td>10</td>\n",
       "      <td>10</td>\n",
       "    </tr>\n",
       "    <tr>\n",
       "      <th>6362616</th>\n",
       "      <td>1</td>\n",
       "      <td>1529008245</td>\n",
       "      <td>6311409.28</td>\n",
       "      <td>0.00</td>\n",
       "      <td>1881841831</td>\n",
       "      <td>0.00</td>\n",
       "      <td>0.00</td>\n",
       "      <td>22</td>\n",
       "      <td>31</td>\n",
       "      <td>0.0</td>\n",
       "      <td>6311409.28</td>\n",
       "      <td>11</td>\n",
       "      <td>11</td>\n",
       "    </tr>\n",
       "    <tr>\n",
       "      <th>6362617</th>\n",
       "      <td>2</td>\n",
       "      <td>1162922333</td>\n",
       "      <td>6311409.28</td>\n",
       "      <td>0.00</td>\n",
       "      <td>1365125890</td>\n",
       "      <td>68488.84</td>\n",
       "      <td>6379898.11</td>\n",
       "      <td>22</td>\n",
       "      <td>31</td>\n",
       "      <td>0.0</td>\n",
       "      <td>12622818.55</td>\n",
       "      <td>11</td>\n",
       "      <td>11</td>\n",
       "    </tr>\n",
       "    <tr>\n",
       "      <th>6362618</th>\n",
       "      <td>1</td>\n",
       "      <td>1685995037</td>\n",
       "      <td>850002.52</td>\n",
       "      <td>0.00</td>\n",
       "      <td>2080388513</td>\n",
       "      <td>0.00</td>\n",
       "      <td>0.00</td>\n",
       "      <td>22</td>\n",
       "      <td>31</td>\n",
       "      <td>0.0</td>\n",
       "      <td>850002.52</td>\n",
       "      <td>11</td>\n",
       "      <td>11</td>\n",
       "    </tr>\n",
       "    <tr>\n",
       "      <th>6362619</th>\n",
       "      <td>2</td>\n",
       "      <td>1280323807</td>\n",
       "      <td>850002.52</td>\n",
       "      <td>0.00</td>\n",
       "      <td>873221189</td>\n",
       "      <td>6510099.11</td>\n",
       "      <td>7360101.63</td>\n",
       "      <td>22</td>\n",
       "      <td>31</td>\n",
       "      <td>0.0</td>\n",
       "      <td>1700005.04</td>\n",
       "      <td>11</td>\n",
       "      <td>10</td>\n",
       "    </tr>\n",
       "  </tbody>\n",
       "</table>\n",
       "<p>6362620 rows × 13 columns</p>\n",
       "</div>"
      ],
      "text/plain": [
       "         type   name_orig  oldbalance_org  newbalance_orig   name_dest  \\\n",
       "0           0  1231006815       170136.00        160296.36  1979787155   \n",
       "1           0  1666544295        21249.00         19384.72  2044282225   \n",
       "2           1  1305486145          181.00             0.00   553264065   \n",
       "3           2   840083671          181.00             0.00    38997010   \n",
       "4           0  2048537720        41554.00         29885.86  1230701703   \n",
       "...       ...         ...             ...              ...         ...   \n",
       "6362615     2   786484425       339682.13             0.00   776919290   \n",
       "6362616     1  1529008245      6311409.28             0.00  1881841831   \n",
       "6362617     2  1162922333      6311409.28             0.00  1365125890   \n",
       "6362618     1  1685995037       850002.52             0.00  2080388513   \n",
       "6362619     2  1280323807       850002.52             0.00   873221189   \n",
       "\n",
       "         oldbalance_dest  newbalance_dest  hora  dia  origin_missing  \\\n",
       "0                   0.00             0.00     0    1             0.0   \n",
       "1                   0.00             0.00     0    1             0.0   \n",
       "2                   0.00             0.00     0    1             0.0   \n",
       "3               21182.00             0.00     0    1             0.0   \n",
       "4                   0.00             0.00     0    1             0.0   \n",
       "...                  ...              ...   ...  ...             ...   \n",
       "6362615             0.00        339682.13    22   31             0.0   \n",
       "6362616             0.00             0.00    22   31             0.0   \n",
       "6362617         68488.84       6379898.11    22   31             0.0   \n",
       "6362618             0.00             0.00    22   31             0.0   \n",
       "6362619       6510099.11       7360101.63    22   31             0.0   \n",
       "\n",
       "         dest_missing  length_name_orig  length_name_dest  \n",
       "0             9839.64                11                11  \n",
       "1             1864.28                11                11  \n",
       "2              181.00                11                10  \n",
       "3           -21001.00                10                 9  \n",
       "4            11668.14                11                11  \n",
       "...               ...               ...               ...  \n",
       "6362615     679364.26                10                10  \n",
       "6362616    6311409.28                11                11  \n",
       "6362617   12622818.55                11                11  \n",
       "6362618     850002.52                11                11  \n",
       "6362619    1700005.04                11                10  \n",
       "\n",
       "[6362620 rows x 13 columns]"
      ]
     },
     "execution_count": 92,
     "metadata": {},
     "output_type": "execute_result"
    }
   ],
   "source": [
    "data_prep[SELECTED_FEATURES]"
   ]
  },
  {
   "cell_type": "markdown",
   "id": "b14ed417",
   "metadata": {},
   "source": [
    "# Normalization"
   ]
  },
  {
   "cell_type": "markdown",
   "id": "9c3b759b",
   "metadata": {},
   "source": [
    "Métodos:\n",
    "* Feature Scaling\n",
    "\n",
    "* Standardization\n",
    "\n",
    "* Encoding\n",
    "\n",
    "* Discretization\n",
    "\n",
    "* Handling missing values"
   ]
  },
  {
   "cell_type": "code",
   "execution_count": 93,
   "id": "bd3868ce",
   "metadata": {
    "ExecuteTime": {
     "end_time": "2023-09-14T01:18:58.394184Z",
     "start_time": "2023-09-14T01:18:57.211026Z"
    }
   },
   "outputs": [
    {
     "name": "stdout",
     "output_type": "stream",
     "text": [
      "Columns/Skew\n",
      " dest_missing       30.331092\n",
      "origin_missing     30.074746\n",
      "oldbalance_dest    19.921758\n",
      "newbalance_dest    19.352302\n",
      "oldbalance_org      5.249136\n",
      "newbalance_orig     5.176884\n",
      "dtype: float64\n"
     ]
    }
   ],
   "source": [
    "log_columns = data_prep[SELECTED_FEATURES].skew().sort_values(ascending=False)\n",
    "log_columns = log_columns.loc[log_columns > 0.75]\n",
    "print('Columns/Skew\\n',log_columns)   "
   ]
  },
  {
   "cell_type": "code",
   "execution_count": 94,
   "id": "44022b72",
   "metadata": {
    "ExecuteTime": {
     "end_time": "2023-09-14T01:18:59.246040Z",
     "start_time": "2023-09-14T01:18:59.237047Z"
    }
   },
   "outputs": [],
   "source": [
    "cols_to_normalize = log_columns.index"
   ]
  },
  {
   "cell_type": "code",
   "execution_count": 95,
   "id": "0a7a4c25",
   "metadata": {
    "ExecuteTime": {
     "end_time": "2023-09-14T01:19:00.051590Z",
     "start_time": "2023-09-14T01:19:00.032924Z"
    }
   },
   "outputs": [
    {
     "data": {
      "text/plain": [
       "Index(['dest_missing', 'origin_missing', 'oldbalance_dest', 'newbalance_dest',\n",
       "       'oldbalance_org', 'newbalance_orig'],\n",
       "      dtype='object')"
      ]
     },
     "execution_count": 95,
     "metadata": {},
     "output_type": "execute_result"
    }
   ],
   "source": [
    "cols_to_normalize"
   ]
  },
  {
   "cell_type": "code",
   "execution_count": 96,
   "id": "3ccfd645",
   "metadata": {
    "ExecuteTime": {
     "end_time": "2023-09-14T01:19:02.901298Z",
     "start_time": "2023-09-14T01:19:02.893301Z"
    }
   },
   "outputs": [],
   "source": [
    "\n",
    "\n",
    "# # Crie uma instância do StandardScaler\n",
    "# scaler = StandardScaler()\n",
    "\n",
    "# # Ajuste o scaler apenas às colunas selecionadas e transforme essas colunas\n",
    "# data_prep[cols_to_normalize] = scaler.fit_transform(data_prep[cols_to_normalize])\n"
   ]
  },
  {
   "cell_type": "code",
   "execution_count": 99,
   "id": "91ea91ce",
   "metadata": {
    "ExecuteTime": {
     "end_time": "2023-09-14T01:19:26.987668Z",
     "start_time": "2023-09-14T01:19:26.841717Z"
    }
   },
   "outputs": [
    {
     "data": {
      "text/plain": [
       "step                    0\n",
       "type                    0\n",
       "amount                  0\n",
       "name_orig               0\n",
       "oldbalance_org          0\n",
       "newbalance_orig         0\n",
       "name_dest               0\n",
       "oldbalance_dest         0\n",
       "newbalance_dest         0\n",
       "is_fraud                0\n",
       "is_flagged_fraud        0\n",
       "length_name_orig        0\n",
       "length_name_dest        0\n",
       "type_dest               0\n",
       "dia                     0\n",
       "hora                    0\n",
       "origin_missing          0\n",
       "dest_missing        57366\n",
       "dtype: int64"
      ]
     },
     "execution_count": 99,
     "metadata": {},
     "output_type": "execute_result"
    }
   ],
   "source": [
    "data_prep.isna().sum()"
   ]
  },
  {
   "cell_type": "code",
   "execution_count": null,
   "id": "a38ffbd9",
   "metadata": {},
   "outputs": [],
   "source": []
  },
  {
   "cell_type": "code",
   "execution_count": 98,
   "id": "a0da3a24",
   "metadata": {
    "ExecuteTime": {
     "end_time": "2023-09-14T01:19:23.062622Z",
     "start_time": "2023-09-14T01:19:22.480754Z"
    }
   },
   "outputs": [
    {
     "name": "stderr",
     "output_type": "stream",
     "text": [
      "C:\\Users\\yves.moura\\.conda\\envs\\fraud_detection\\lib\\site-packages\\pandas\\core\\internals\\blocks.py:329: RuntimeWarning: invalid value encountered in log1p\n",
      "  result = func(self.values, **kwargs)\n"
     ]
    }
   ],
   "source": [
    "data_prep[cols_to_normalize] = np.log1p( data_prep[cols_to_normalize] )"
   ]
  },
  {
   "cell_type": "code",
   "execution_count": 100,
   "id": "cd6d1173",
   "metadata": {
    "ExecuteTime": {
     "end_time": "2023-09-14T01:20:13.085235Z",
     "start_time": "2023-09-14T01:20:13.050260Z"
    }
   },
   "outputs": [],
   "source": [
    "data_prep['dest_missing'].fillna(0, inplace = True)"
   ]
  },
  {
   "cell_type": "code",
   "execution_count": 101,
   "id": "7b1e246d",
   "metadata": {
    "ExecuteTime": {
     "end_time": "2023-09-14T01:20:13.980073Z",
     "start_time": "2023-09-14T01:20:13.942089Z"
    }
   },
   "outputs": [
    {
     "data": {
      "text/html": [
       "<div>\n",
       "<style scoped>\n",
       "    .dataframe tbody tr th:only-of-type {\n",
       "        vertical-align: middle;\n",
       "    }\n",
       "\n",
       "    .dataframe tbody tr th {\n",
       "        vertical-align: top;\n",
       "    }\n",
       "\n",
       "    .dataframe thead th {\n",
       "        text-align: right;\n",
       "    }\n",
       "</style>\n",
       "<table border=\"1\" class=\"dataframe\">\n",
       "  <thead>\n",
       "    <tr style=\"text-align: right;\">\n",
       "      <th></th>\n",
       "      <th>step</th>\n",
       "      <th>type</th>\n",
       "      <th>amount</th>\n",
       "      <th>name_orig</th>\n",
       "      <th>oldbalance_org</th>\n",
       "      <th>newbalance_orig</th>\n",
       "      <th>name_dest</th>\n",
       "      <th>oldbalance_dest</th>\n",
       "      <th>newbalance_dest</th>\n",
       "      <th>is_fraud</th>\n",
       "      <th>is_flagged_fraud</th>\n",
       "      <th>length_name_orig</th>\n",
       "      <th>length_name_dest</th>\n",
       "      <th>type_dest</th>\n",
       "      <th>dia</th>\n",
       "      <th>hora</th>\n",
       "      <th>origin_missing</th>\n",
       "      <th>dest_missing</th>\n",
       "    </tr>\n",
       "  </thead>\n",
       "  <tbody>\n",
       "    <tr>\n",
       "      <th>0</th>\n",
       "      <td>1</td>\n",
       "      <td>0</td>\n",
       "      <td>9839.64</td>\n",
       "      <td>1231006815</td>\n",
       "      <td>12.044359</td>\n",
       "      <td>11.984786</td>\n",
       "      <td>1979787155</td>\n",
       "      <td>0.000000</td>\n",
       "      <td>0.0</td>\n",
       "      <td>0</td>\n",
       "      <td>0</td>\n",
       "      <td>11</td>\n",
       "      <td>11</td>\n",
       "      <td>1</td>\n",
       "      <td>1</td>\n",
       "      <td>0</td>\n",
       "      <td>0.0</td>\n",
       "      <td>9.194276</td>\n",
       "    </tr>\n",
       "    <tr>\n",
       "      <th>1</th>\n",
       "      <td>1</td>\n",
       "      <td>0</td>\n",
       "      <td>1864.28</td>\n",
       "      <td>1666544295</td>\n",
       "      <td>9.964112</td>\n",
       "      <td>9.872292</td>\n",
       "      <td>2044282225</td>\n",
       "      <td>0.000000</td>\n",
       "      <td>0.0</td>\n",
       "      <td>0</td>\n",
       "      <td>0</td>\n",
       "      <td>11</td>\n",
       "      <td>11</td>\n",
       "      <td>1</td>\n",
       "      <td>1</td>\n",
       "      <td>0</td>\n",
       "      <td>0.0</td>\n",
       "      <td>7.531166</td>\n",
       "    </tr>\n",
       "    <tr>\n",
       "      <th>2</th>\n",
       "      <td>1</td>\n",
       "      <td>1</td>\n",
       "      <td>181.00</td>\n",
       "      <td>1305486145</td>\n",
       "      <td>5.204007</td>\n",
       "      <td>0.000000</td>\n",
       "      <td>553264065</td>\n",
       "      <td>0.000000</td>\n",
       "      <td>0.0</td>\n",
       "      <td>1</td>\n",
       "      <td>0</td>\n",
       "      <td>11</td>\n",
       "      <td>10</td>\n",
       "      <td>0</td>\n",
       "      <td>1</td>\n",
       "      <td>0</td>\n",
       "      <td>0.0</td>\n",
       "      <td>5.204007</td>\n",
       "    </tr>\n",
       "    <tr>\n",
       "      <th>3</th>\n",
       "      <td>1</td>\n",
       "      <td>2</td>\n",
       "      <td>181.00</td>\n",
       "      <td>840083671</td>\n",
       "      <td>5.204007</td>\n",
       "      <td>0.000000</td>\n",
       "      <td>38997010</td>\n",
       "      <td>9.960954</td>\n",
       "      <td>0.0</td>\n",
       "      <td>1</td>\n",
       "      <td>0</td>\n",
       "      <td>10</td>\n",
       "      <td>9</td>\n",
       "      <td>0</td>\n",
       "      <td>1</td>\n",
       "      <td>0</td>\n",
       "      <td>0.0</td>\n",
       "      <td>0.000000</td>\n",
       "    </tr>\n",
       "    <tr>\n",
       "      <th>4</th>\n",
       "      <td>1</td>\n",
       "      <td>0</td>\n",
       "      <td>11668.14</td>\n",
       "      <td>2048537720</td>\n",
       "      <td>10.634773</td>\n",
       "      <td>10.305174</td>\n",
       "      <td>1230701703</td>\n",
       "      <td>0.000000</td>\n",
       "      <td>0.0</td>\n",
       "      <td>0</td>\n",
       "      <td>0</td>\n",
       "      <td>11</td>\n",
       "      <td>11</td>\n",
       "      <td>1</td>\n",
       "      <td>1</td>\n",
       "      <td>0</td>\n",
       "      <td>0.0</td>\n",
       "      <td>9.364703</td>\n",
       "    </tr>\n",
       "  </tbody>\n",
       "</table>\n",
       "</div>"
      ],
      "text/plain": [
       "   step  type    amount   name_orig  oldbalance_org  newbalance_orig  \\\n",
       "0     1     0   9839.64  1231006815       12.044359        11.984786   \n",
       "1     1     0   1864.28  1666544295        9.964112         9.872292   \n",
       "2     1     1    181.00  1305486145        5.204007         0.000000   \n",
       "3     1     2    181.00   840083671        5.204007         0.000000   \n",
       "4     1     0  11668.14  2048537720       10.634773        10.305174   \n",
       "\n",
       "    name_dest  oldbalance_dest  newbalance_dest  is_fraud  is_flagged_fraud  \\\n",
       "0  1979787155         0.000000              0.0         0                 0   \n",
       "1  2044282225         0.000000              0.0         0                 0   \n",
       "2   553264065         0.000000              0.0         1                 0   \n",
       "3    38997010         9.960954              0.0         1                 0   \n",
       "4  1230701703         0.000000              0.0         0                 0   \n",
       "\n",
       "   length_name_orig  length_name_dest  type_dest  dia  hora  origin_missing  \\\n",
       "0                11                11          1    1     0             0.0   \n",
       "1                11                11          1    1     0             0.0   \n",
       "2                11                10          0    1     0             0.0   \n",
       "3                10                 9          0    1     0             0.0   \n",
       "4                11                11          1    1     0             0.0   \n",
       "\n",
       "   dest_missing  \n",
       "0      9.194276  \n",
       "1      7.531166  \n",
       "2      5.204007  \n",
       "3      0.000000  \n",
       "4      9.364703  "
      ]
     },
     "execution_count": 101,
     "metadata": {},
     "output_type": "execute_result"
    }
   ],
   "source": [
    "data_prep.head()"
   ]
  },
  {
   "cell_type": "code",
   "execution_count": null,
   "id": "e46e9e97",
   "metadata": {},
   "outputs": [],
   "source": []
  },
  {
   "cell_type": "code",
   "execution_count": null,
   "id": "c7fcf458",
   "metadata": {},
   "outputs": [],
   "source": []
  },
  {
   "cell_type": "code",
   "execution_count": null,
   "id": "1692d53c",
   "metadata": {},
   "outputs": [],
   "source": []
  },
  {
   "cell_type": "code",
   "execution_count": 102,
   "id": "361bc814",
   "metadata": {
    "ExecuteTime": {
     "end_time": "2023-09-14T01:20:15.793503Z",
     "start_time": "2023-09-14T01:20:15.531634Z"
    }
   },
   "outputs": [],
   "source": [
    "y = data_prep[TARGET]\n",
    "X = data_prep[SELECTED_FEATURES]"
   ]
  },
  {
   "cell_type": "code",
   "execution_count": 103,
   "id": "22e35c17",
   "metadata": {
    "ExecuteTime": {
     "end_time": "2023-09-14T01:20:15.966752Z",
     "start_time": "2023-09-14T01:20:15.829693Z"
    }
   },
   "outputs": [
    {
     "data": {
      "text/plain": [
       "type                0\n",
       "name_orig           0\n",
       "oldbalance_org      0\n",
       "newbalance_orig     0\n",
       "name_dest           0\n",
       "oldbalance_dest     0\n",
       "newbalance_dest     0\n",
       "hora                0\n",
       "dia                 0\n",
       "origin_missing      0\n",
       "dest_missing        0\n",
       "length_name_orig    0\n",
       "length_name_dest    0\n",
       "dtype: int64"
      ]
     },
     "execution_count": 103,
     "metadata": {},
     "output_type": "execute_result"
    }
   ],
   "source": [
    "X.isna().sum()"
   ]
  },
  {
   "cell_type": "code",
   "execution_count": 104,
   "id": "d22e6080",
   "metadata": {
    "ExecuteTime": {
     "end_time": "2023-09-14T01:20:16.490585Z",
     "start_time": "2023-09-14T01:20:16.469597Z"
    }
   },
   "outputs": [
    {
     "data": {
      "text/html": [
       "<div>\n",
       "<style scoped>\n",
       "    .dataframe tbody tr th:only-of-type {\n",
       "        vertical-align: middle;\n",
       "    }\n",
       "\n",
       "    .dataframe tbody tr th {\n",
       "        vertical-align: top;\n",
       "    }\n",
       "\n",
       "    .dataframe thead th {\n",
       "        text-align: right;\n",
       "    }\n",
       "</style>\n",
       "<table border=\"1\" class=\"dataframe\">\n",
       "  <thead>\n",
       "    <tr style=\"text-align: right;\">\n",
       "      <th></th>\n",
       "      <th>type</th>\n",
       "      <th>name_orig</th>\n",
       "      <th>oldbalance_org</th>\n",
       "      <th>newbalance_orig</th>\n",
       "      <th>name_dest</th>\n",
       "      <th>oldbalance_dest</th>\n",
       "      <th>newbalance_dest</th>\n",
       "      <th>hora</th>\n",
       "      <th>dia</th>\n",
       "      <th>origin_missing</th>\n",
       "      <th>dest_missing</th>\n",
       "      <th>length_name_orig</th>\n",
       "      <th>length_name_dest</th>\n",
       "    </tr>\n",
       "  </thead>\n",
       "  <tbody>\n",
       "    <tr>\n",
       "      <th>0</th>\n",
       "      <td>0</td>\n",
       "      <td>1231006815</td>\n",
       "      <td>12.044359</td>\n",
       "      <td>11.984786</td>\n",
       "      <td>1979787155</td>\n",
       "      <td>0.000000</td>\n",
       "      <td>0.0</td>\n",
       "      <td>0</td>\n",
       "      <td>1</td>\n",
       "      <td>0.0</td>\n",
       "      <td>9.194276</td>\n",
       "      <td>11</td>\n",
       "      <td>11</td>\n",
       "    </tr>\n",
       "    <tr>\n",
       "      <th>1</th>\n",
       "      <td>0</td>\n",
       "      <td>1666544295</td>\n",
       "      <td>9.964112</td>\n",
       "      <td>9.872292</td>\n",
       "      <td>2044282225</td>\n",
       "      <td>0.000000</td>\n",
       "      <td>0.0</td>\n",
       "      <td>0</td>\n",
       "      <td>1</td>\n",
       "      <td>0.0</td>\n",
       "      <td>7.531166</td>\n",
       "      <td>11</td>\n",
       "      <td>11</td>\n",
       "    </tr>\n",
       "    <tr>\n",
       "      <th>2</th>\n",
       "      <td>1</td>\n",
       "      <td>1305486145</td>\n",
       "      <td>5.204007</td>\n",
       "      <td>0.000000</td>\n",
       "      <td>553264065</td>\n",
       "      <td>0.000000</td>\n",
       "      <td>0.0</td>\n",
       "      <td>0</td>\n",
       "      <td>1</td>\n",
       "      <td>0.0</td>\n",
       "      <td>5.204007</td>\n",
       "      <td>11</td>\n",
       "      <td>10</td>\n",
       "    </tr>\n",
       "    <tr>\n",
       "      <th>3</th>\n",
       "      <td>2</td>\n",
       "      <td>840083671</td>\n",
       "      <td>5.204007</td>\n",
       "      <td>0.000000</td>\n",
       "      <td>38997010</td>\n",
       "      <td>9.960954</td>\n",
       "      <td>0.0</td>\n",
       "      <td>0</td>\n",
       "      <td>1</td>\n",
       "      <td>0.0</td>\n",
       "      <td>0.000000</td>\n",
       "      <td>10</td>\n",
       "      <td>9</td>\n",
       "    </tr>\n",
       "    <tr>\n",
       "      <th>4</th>\n",
       "      <td>0</td>\n",
       "      <td>2048537720</td>\n",
       "      <td>10.634773</td>\n",
       "      <td>10.305174</td>\n",
       "      <td>1230701703</td>\n",
       "      <td>0.000000</td>\n",
       "      <td>0.0</td>\n",
       "      <td>0</td>\n",
       "      <td>1</td>\n",
       "      <td>0.0</td>\n",
       "      <td>9.364703</td>\n",
       "      <td>11</td>\n",
       "      <td>11</td>\n",
       "    </tr>\n",
       "  </tbody>\n",
       "</table>\n",
       "</div>"
      ],
      "text/plain": [
       "   type   name_orig  oldbalance_org  newbalance_orig   name_dest  \\\n",
       "0     0  1231006815       12.044359        11.984786  1979787155   \n",
       "1     0  1666544295        9.964112         9.872292  2044282225   \n",
       "2     1  1305486145        5.204007         0.000000   553264065   \n",
       "3     2   840083671        5.204007         0.000000    38997010   \n",
       "4     0  2048537720       10.634773        10.305174  1230701703   \n",
       "\n",
       "   oldbalance_dest  newbalance_dest  hora  dia  origin_missing  dest_missing  \\\n",
       "0         0.000000              0.0     0    1             0.0      9.194276   \n",
       "1         0.000000              0.0     0    1             0.0      7.531166   \n",
       "2         0.000000              0.0     0    1             0.0      5.204007   \n",
       "3         9.960954              0.0     0    1             0.0      0.000000   \n",
       "4         0.000000              0.0     0    1             0.0      9.364703   \n",
       "\n",
       "   length_name_orig  length_name_dest  \n",
       "0                11                11  \n",
       "1                11                11  \n",
       "2                11                10  \n",
       "3                10                 9  \n",
       "4                11                11  "
      ]
     },
     "execution_count": 104,
     "metadata": {},
     "output_type": "execute_result"
    }
   ],
   "source": [
    "X.head()"
   ]
  },
  {
   "cell_type": "code",
   "execution_count": null,
   "id": "1fe4ce83",
   "metadata": {},
   "outputs": [],
   "source": []
  },
  {
   "cell_type": "code",
   "execution_count": 105,
   "id": "858fda01",
   "metadata": {
    "ExecuteTime": {
     "end_time": "2023-09-14T01:20:21.702430Z",
     "start_time": "2023-09-14T01:20:17.332236Z"
    }
   },
   "outputs": [
    {
     "data": {
      "text/plain": [
       "((5090096, 13), (5090096,), (1272524, 13), (1272524,))"
      ]
     },
     "execution_count": 105,
     "metadata": {},
     "output_type": "execute_result"
    }
   ],
   "source": [
    "seed=7\n",
    "X_train, X_val, y_train, y_val = train_test_split(X, y, test_size = 0.2, shuffle=True, random_state=seed,stratify=y)\n",
    "X_train.shape, y_train.shape, X_val.shape, y_val.shape"
   ]
  },
  {
   "cell_type": "code",
   "execution_count": 106,
   "id": "9c9c8d2c",
   "metadata": {
    "ExecuteTime": {
     "end_time": "2023-09-14T01:20:22.434027Z",
     "start_time": "2023-09-14T01:20:22.377049Z"
    }
   },
   "outputs": [
    {
     "data": {
      "text/plain": [
       "is_fraud\n",
       "0    6354407\n",
       "1       8213\n",
       "Name: count, dtype: int64"
      ]
     },
     "execution_count": 106,
     "metadata": {},
     "output_type": "execute_result"
    }
   ],
   "source": [
    "data_prep['is_fraud'].value_counts()"
   ]
  },
  {
   "cell_type": "code",
   "execution_count": null,
   "id": "dc60bdf7",
   "metadata": {
    "ExecuteTime": {
     "end_time": "2023-09-13T02:37:23.405380Z",
     "start_time": "2023-09-13T02:37:23.395379Z"
    }
   },
   "outputs": [],
   "source": []
  },
  {
   "cell_type": "code",
   "execution_count": null,
   "id": "a6a90b63",
   "metadata": {},
   "outputs": [],
   "source": []
  },
  {
   "cell_type": "code",
   "execution_count": null,
   "id": "0347a505",
   "metadata": {},
   "outputs": [],
   "source": []
  },
  {
   "cell_type": "code",
   "execution_count": null,
   "id": "6b9148fb",
   "metadata": {},
   "outputs": [],
   "source": []
  },
  {
   "cell_type": "code",
   "execution_count": null,
   "id": "bb8c17fe",
   "metadata": {},
   "outputs": [],
   "source": []
  },
  {
   "cell_type": "code",
   "execution_count": null,
   "id": "24b74c36",
   "metadata": {},
   "outputs": [],
   "source": []
  }
 ],
 "metadata": {
  "kernelspec": {
   "display_name": "Python 3 (ipykernel)",
   "language": "python",
   "name": "python3"
  },
  "language_info": {
   "codemirror_mode": {
    "name": "ipython",
    "version": 3
   },
   "file_extension": ".py",
   "mimetype": "text/x-python",
   "name": "python",
   "nbconvert_exporter": "python",
   "pygments_lexer": "ipython3",
   "version": "3.10.13"
  }
 },
 "nbformat": 4,
 "nbformat_minor": 5
}
