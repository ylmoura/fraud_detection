{
 "cells": [
  {
   "cell_type": "code",
   "execution_count": 93,
   "id": "f84c3ee0",
   "metadata": {
    "ExecuteTime": {
     "end_time": "2023-09-12T22:41:09.058157Z",
     "start_time": "2023-09-12T22:41:09.039158Z"
    }
   },
   "outputs": [],
   "source": [
    "# Basic Tools\n",
    "import pandas as pd\n",
    "import numpy as np\n",
    "\n",
    "\n",
    "from sklearn.preprocessing import StandardScaler\n",
    "\n",
    "\n",
    "from sklearn.model_selection import train_test_split\n",
    "from sklearn.model_selection import cross_val_score, cross_val_predict, KFold, cross_validate\n",
    "\n"
   ]
  },
  {
   "cell_type": "code",
   "execution_count": null,
   "id": "4edfeb39",
   "metadata": {},
   "outputs": [],
   "source": []
  },
  {
   "cell_type": "code",
   "execution_count": null,
   "id": "d37cf7a5",
   "metadata": {},
   "outputs": [],
   "source": []
  },
  {
   "cell_type": "code",
   "execution_count": 97,
   "id": "9b8cd92c",
   "metadata": {
    "ExecuteTime": {
     "end_time": "2023-09-12T22:41:41.595165Z",
     "start_time": "2023-09-12T22:41:34.552954Z"
    }
   },
   "outputs": [],
   "source": [
    "data = pd.read_csv('../data/processed/data_processed.csv')\n"
   ]
  },
  {
   "cell_type": "code",
   "execution_count": 239,
   "id": "fde6b17b",
   "metadata": {
    "ExecuteTime": {
     "end_time": "2023-09-12T23:03:23.557575Z",
     "start_time": "2023-09-12T23:03:23.437048Z"
    }
   },
   "outputs": [],
   "source": [
    "data_prep = data.copy()"
   ]
  },
  {
   "cell_type": "code",
   "execution_count": 240,
   "id": "d8661b20",
   "metadata": {
    "ExecuteTime": {
     "end_time": "2023-09-12T23:03:23.589579Z",
     "start_time": "2023-09-12T23:03:23.571579Z"
    }
   },
   "outputs": [
    {
     "data": {
      "text/plain": [
       "(6362620, 13)"
      ]
     },
     "execution_count": 240,
     "metadata": {},
     "output_type": "execute_result"
    }
   ],
   "source": [
    "data_prep.shape"
   ]
  },
  {
   "cell_type": "code",
   "execution_count": 241,
   "id": "2ab58341",
   "metadata": {
    "ExecuteTime": {
     "end_time": "2023-09-12T23:03:23.825126Z",
     "start_time": "2023-09-12T23:03:23.684126Z"
    }
   },
   "outputs": [
    {
     "data": {
      "text/plain": [
       "step                0\n",
       "type                0\n",
       "amount              0\n",
       "name_orig           0\n",
       "oldbalance_org      0\n",
       "newbalance_orig     0\n",
       "name_dest           0\n",
       "oldbalance_dest     0\n",
       "newbalance_dest     0\n",
       "is_fraud            0\n",
       "is_flagged_fraud    0\n",
       "dia                 0\n",
       "hora                0\n",
       "dtype: int64"
      ]
     },
     "execution_count": 241,
     "metadata": {},
     "output_type": "execute_result"
    }
   ],
   "source": [
    "data_prep.isna().sum()"
   ]
  },
  {
   "cell_type": "code",
   "execution_count": 242,
   "id": "0d5e741a",
   "metadata": {
    "ExecuteTime": {
     "end_time": "2023-09-12T23:03:23.857123Z",
     "start_time": "2023-09-12T23:03:23.828119Z"
    }
   },
   "outputs": [
    {
     "data": {
      "text/html": [
       "<div>\n",
       "<style scoped>\n",
       "    .dataframe tbody tr th:only-of-type {\n",
       "        vertical-align: middle;\n",
       "    }\n",
       "\n",
       "    .dataframe tbody tr th {\n",
       "        vertical-align: top;\n",
       "    }\n",
       "\n",
       "    .dataframe thead th {\n",
       "        text-align: right;\n",
       "    }\n",
       "</style>\n",
       "<table border=\"1\" class=\"dataframe\">\n",
       "  <thead>\n",
       "    <tr style=\"text-align: right;\">\n",
       "      <th></th>\n",
       "      <th>step</th>\n",
       "      <th>type</th>\n",
       "      <th>amount</th>\n",
       "      <th>name_orig</th>\n",
       "      <th>oldbalance_org</th>\n",
       "      <th>newbalance_orig</th>\n",
       "      <th>name_dest</th>\n",
       "      <th>oldbalance_dest</th>\n",
       "      <th>newbalance_dest</th>\n",
       "      <th>is_fraud</th>\n",
       "      <th>is_flagged_fraud</th>\n",
       "      <th>dia</th>\n",
       "      <th>hora</th>\n",
       "    </tr>\n",
       "  </thead>\n",
       "  <tbody>\n",
       "    <tr>\n",
       "      <th>0</th>\n",
       "      <td>1</td>\n",
       "      <td>0</td>\n",
       "      <td>9839.64</td>\n",
       "      <td>1231006815</td>\n",
       "      <td>170136.0</td>\n",
       "      <td>160296.36</td>\n",
       "      <td>1979787155</td>\n",
       "      <td>0.0</td>\n",
       "      <td>0.0</td>\n",
       "      <td>0</td>\n",
       "      <td>0</td>\n",
       "      <td>1</td>\n",
       "      <td>0</td>\n",
       "    </tr>\n",
       "    <tr>\n",
       "      <th>1</th>\n",
       "      <td>1</td>\n",
       "      <td>0</td>\n",
       "      <td>1864.28</td>\n",
       "      <td>1666544295</td>\n",
       "      <td>21249.0</td>\n",
       "      <td>19384.72</td>\n",
       "      <td>2044282225</td>\n",
       "      <td>0.0</td>\n",
       "      <td>0.0</td>\n",
       "      <td>0</td>\n",
       "      <td>0</td>\n",
       "      <td>1</td>\n",
       "      <td>0</td>\n",
       "    </tr>\n",
       "    <tr>\n",
       "      <th>2</th>\n",
       "      <td>1</td>\n",
       "      <td>1</td>\n",
       "      <td>181.00</td>\n",
       "      <td>1305486145</td>\n",
       "      <td>181.0</td>\n",
       "      <td>0.00</td>\n",
       "      <td>553264065</td>\n",
       "      <td>0.0</td>\n",
       "      <td>0.0</td>\n",
       "      <td>1</td>\n",
       "      <td>0</td>\n",
       "      <td>1</td>\n",
       "      <td>0</td>\n",
       "    </tr>\n",
       "    <tr>\n",
       "      <th>3</th>\n",
       "      <td>1</td>\n",
       "      <td>2</td>\n",
       "      <td>181.00</td>\n",
       "      <td>840083671</td>\n",
       "      <td>181.0</td>\n",
       "      <td>0.00</td>\n",
       "      <td>38997010</td>\n",
       "      <td>21182.0</td>\n",
       "      <td>0.0</td>\n",
       "      <td>1</td>\n",
       "      <td>0</td>\n",
       "      <td>1</td>\n",
       "      <td>0</td>\n",
       "    </tr>\n",
       "    <tr>\n",
       "      <th>4</th>\n",
       "      <td>1</td>\n",
       "      <td>0</td>\n",
       "      <td>11668.14</td>\n",
       "      <td>2048537720</td>\n",
       "      <td>41554.0</td>\n",
       "      <td>29885.86</td>\n",
       "      <td>1230701703</td>\n",
       "      <td>0.0</td>\n",
       "      <td>0.0</td>\n",
       "      <td>0</td>\n",
       "      <td>0</td>\n",
       "      <td>1</td>\n",
       "      <td>0</td>\n",
       "    </tr>\n",
       "  </tbody>\n",
       "</table>\n",
       "</div>"
      ],
      "text/plain": [
       "   step  type    amount   name_orig  oldbalance_org  newbalance_orig  \\\n",
       "0     1     0   9839.64  1231006815        170136.0        160296.36   \n",
       "1     1     0   1864.28  1666544295         21249.0         19384.72   \n",
       "2     1     1    181.00  1305486145           181.0             0.00   \n",
       "3     1     2    181.00   840083671           181.0             0.00   \n",
       "4     1     0  11668.14  2048537720         41554.0         29885.86   \n",
       "\n",
       "    name_dest  oldbalance_dest  newbalance_dest  is_fraud  is_flagged_fraud  \\\n",
       "0  1979787155              0.0              0.0         0                 0   \n",
       "1  2044282225              0.0              0.0         0                 0   \n",
       "2   553264065              0.0              0.0         1                 0   \n",
       "3    38997010          21182.0              0.0         1                 0   \n",
       "4  1230701703              0.0              0.0         0                 0   \n",
       "\n",
       "   dia  hora  \n",
       "0    1     0  \n",
       "1    1     0  \n",
       "2    1     0  \n",
       "3    1     0  \n",
       "4    1     0  "
      ]
     },
     "execution_count": 242,
     "metadata": {},
     "output_type": "execute_result"
    }
   ],
   "source": [
    "data_prep.head()"
   ]
  },
  {
   "cell_type": "code",
   "execution_count": 243,
   "id": "1fa2f489",
   "metadata": {
    "ExecuteTime": {
     "end_time": "2023-09-12T23:03:23.936117Z",
     "start_time": "2023-09-12T23:03:23.915127Z"
    }
   },
   "outputs": [
    {
     "data": {
      "text/plain": [
       "Index(['step', 'type', 'amount', 'name_orig', 'oldbalance_org',\n",
       "       'newbalance_orig', 'name_dest', 'oldbalance_dest', 'newbalance_dest',\n",
       "       'is_fraud', 'is_flagged_fraud', 'dia', 'hora'],\n",
       "      dtype='object')"
      ]
     },
     "execution_count": 243,
     "metadata": {},
     "output_type": "execute_result"
    }
   ],
   "source": [
    "data_prep.columns"
   ]
  },
  {
   "cell_type": "code",
   "execution_count": 244,
   "id": "10b6aaa3",
   "metadata": {
    "ExecuteTime": {
     "end_time": "2023-09-12T23:03:24.058147Z",
     "start_time": "2023-09-12T23:03:24.036150Z"
    }
   },
   "outputs": [
    {
     "data": {
      "text/plain": [
       "step                  int64\n",
       "type                  int64\n",
       "amount              float64\n",
       "name_orig             int64\n",
       "oldbalance_org      float64\n",
       "newbalance_orig     float64\n",
       "name_dest             int64\n",
       "oldbalance_dest     float64\n",
       "newbalance_dest     float64\n",
       "is_fraud              int64\n",
       "is_flagged_fraud      int64\n",
       "dia                   int64\n",
       "hora                  int64\n",
       "dtype: object"
      ]
     },
     "execution_count": 244,
     "metadata": {},
     "output_type": "execute_result"
    }
   ],
   "source": [
    "data_prep.dtypes"
   ]
  },
  {
   "cell_type": "markdown",
   "id": "1b1836ee",
   "metadata": {},
   "source": [
    "# Encoding"
   ]
  },
  {
   "cell_type": "code",
   "execution_count": 245,
   "id": "1f6ac959",
   "metadata": {
    "ExecuteTime": {
     "end_time": "2023-09-12T23:03:24.276100Z",
     "start_time": "2023-09-12T23:03:24.268097Z"
    }
   },
   "outputs": [],
   "source": [
    "# map_type = {'PAYMENT': 0,'TRANSFER':1,'CASH_OUT': 2,'DEBIT': 3,'CASH_IN': 4}\n",
    "# data_prep['type'] = data_prep['type'].map(map_type)"
   ]
  },
  {
   "cell_type": "code",
   "execution_count": null,
   "id": "7d07278e",
   "metadata": {},
   "outputs": [],
   "source": []
  },
  {
   "cell_type": "code",
   "execution_count": null,
   "id": "9bb3d656",
   "metadata": {},
   "outputs": [],
   "source": []
  },
  {
   "cell_type": "markdown",
   "id": "61ca20eb",
   "metadata": {},
   "source": [
    "# Feature Selection"
   ]
  },
  {
   "cell_type": "code",
   "execution_count": 246,
   "id": "bcff8ff7",
   "metadata": {
    "ExecuteTime": {
     "end_time": "2023-09-12T23:03:28.304018Z",
     "start_time": "2023-09-12T23:03:28.283021Z"
    }
   },
   "outputs": [],
   "source": [
    "SELECTED_FEATURES = [\n",
    "    #'step',\n",
    "    'type', 'amount', 'name_orig', 'oldbalance_org',\n",
    "       'newbalance_orig', 'name_dest', 'oldbalance_dest', 'newbalance_dest', 'is_flagged_fraud', 'hora', 'dia']\n",
    "\n",
    "\n",
    "\n",
    "\n",
    "TARGET = 'is_fraud'"
   ]
  },
  {
   "cell_type": "code",
   "execution_count": 247,
   "id": "8eb57f0f",
   "metadata": {
    "ExecuteTime": {
     "end_time": "2023-09-12T23:03:28.753822Z",
     "start_time": "2023-09-12T23:03:28.556830Z"
    }
   },
   "outputs": [
    {
     "data": {
      "text/html": [
       "<div>\n",
       "<style scoped>\n",
       "    .dataframe tbody tr th:only-of-type {\n",
       "        vertical-align: middle;\n",
       "    }\n",
       "\n",
       "    .dataframe tbody tr th {\n",
       "        vertical-align: top;\n",
       "    }\n",
       "\n",
       "    .dataframe thead th {\n",
       "        text-align: right;\n",
       "    }\n",
       "</style>\n",
       "<table border=\"1\" class=\"dataframe\">\n",
       "  <thead>\n",
       "    <tr style=\"text-align: right;\">\n",
       "      <th></th>\n",
       "      <th>step</th>\n",
       "      <th>type</th>\n",
       "      <th>amount</th>\n",
       "      <th>name_orig</th>\n",
       "      <th>oldbalance_org</th>\n",
       "      <th>newbalance_orig</th>\n",
       "      <th>name_dest</th>\n",
       "      <th>oldbalance_dest</th>\n",
       "      <th>newbalance_dest</th>\n",
       "      <th>is_flagged_fraud</th>\n",
       "      <th>hora</th>\n",
       "      <th>dia</th>\n",
       "    </tr>\n",
       "  </thead>\n",
       "  <tbody>\n",
       "    <tr>\n",
       "      <th>0</th>\n",
       "      <td>1</td>\n",
       "      <td>0</td>\n",
       "      <td>9839.64</td>\n",
       "      <td>1231006815</td>\n",
       "      <td>170136.00</td>\n",
       "      <td>160296.36</td>\n",
       "      <td>1979787155</td>\n",
       "      <td>0.00</td>\n",
       "      <td>0.00</td>\n",
       "      <td>0</td>\n",
       "      <td>0</td>\n",
       "      <td>1</td>\n",
       "    </tr>\n",
       "    <tr>\n",
       "      <th>1</th>\n",
       "      <td>1</td>\n",
       "      <td>0</td>\n",
       "      <td>1864.28</td>\n",
       "      <td>1666544295</td>\n",
       "      <td>21249.00</td>\n",
       "      <td>19384.72</td>\n",
       "      <td>2044282225</td>\n",
       "      <td>0.00</td>\n",
       "      <td>0.00</td>\n",
       "      <td>0</td>\n",
       "      <td>0</td>\n",
       "      <td>1</td>\n",
       "    </tr>\n",
       "    <tr>\n",
       "      <th>2</th>\n",
       "      <td>1</td>\n",
       "      <td>1</td>\n",
       "      <td>181.00</td>\n",
       "      <td>1305486145</td>\n",
       "      <td>181.00</td>\n",
       "      <td>0.00</td>\n",
       "      <td>553264065</td>\n",
       "      <td>0.00</td>\n",
       "      <td>0.00</td>\n",
       "      <td>0</td>\n",
       "      <td>0</td>\n",
       "      <td>1</td>\n",
       "    </tr>\n",
       "    <tr>\n",
       "      <th>3</th>\n",
       "      <td>1</td>\n",
       "      <td>2</td>\n",
       "      <td>181.00</td>\n",
       "      <td>840083671</td>\n",
       "      <td>181.00</td>\n",
       "      <td>0.00</td>\n",
       "      <td>38997010</td>\n",
       "      <td>21182.00</td>\n",
       "      <td>0.00</td>\n",
       "      <td>0</td>\n",
       "      <td>0</td>\n",
       "      <td>1</td>\n",
       "    </tr>\n",
       "    <tr>\n",
       "      <th>4</th>\n",
       "      <td>1</td>\n",
       "      <td>0</td>\n",
       "      <td>11668.14</td>\n",
       "      <td>2048537720</td>\n",
       "      <td>41554.00</td>\n",
       "      <td>29885.86</td>\n",
       "      <td>1230701703</td>\n",
       "      <td>0.00</td>\n",
       "      <td>0.00</td>\n",
       "      <td>0</td>\n",
       "      <td>0</td>\n",
       "      <td>1</td>\n",
       "    </tr>\n",
       "    <tr>\n",
       "      <th>...</th>\n",
       "      <td>...</td>\n",
       "      <td>...</td>\n",
       "      <td>...</td>\n",
       "      <td>...</td>\n",
       "      <td>...</td>\n",
       "      <td>...</td>\n",
       "      <td>...</td>\n",
       "      <td>...</td>\n",
       "      <td>...</td>\n",
       "      <td>...</td>\n",
       "      <td>...</td>\n",
       "      <td>...</td>\n",
       "    </tr>\n",
       "    <tr>\n",
       "      <th>6362615</th>\n",
       "      <td>743</td>\n",
       "      <td>2</td>\n",
       "      <td>339682.13</td>\n",
       "      <td>786484425</td>\n",
       "      <td>339682.13</td>\n",
       "      <td>0.00</td>\n",
       "      <td>776919290</td>\n",
       "      <td>0.00</td>\n",
       "      <td>339682.13</td>\n",
       "      <td>0</td>\n",
       "      <td>22</td>\n",
       "      <td>31</td>\n",
       "    </tr>\n",
       "    <tr>\n",
       "      <th>6362616</th>\n",
       "      <td>743</td>\n",
       "      <td>1</td>\n",
       "      <td>6311409.28</td>\n",
       "      <td>1529008245</td>\n",
       "      <td>6311409.28</td>\n",
       "      <td>0.00</td>\n",
       "      <td>1881841831</td>\n",
       "      <td>0.00</td>\n",
       "      <td>0.00</td>\n",
       "      <td>0</td>\n",
       "      <td>22</td>\n",
       "      <td>31</td>\n",
       "    </tr>\n",
       "    <tr>\n",
       "      <th>6362617</th>\n",
       "      <td>743</td>\n",
       "      <td>2</td>\n",
       "      <td>6311409.28</td>\n",
       "      <td>1162922333</td>\n",
       "      <td>6311409.28</td>\n",
       "      <td>0.00</td>\n",
       "      <td>1365125890</td>\n",
       "      <td>68488.84</td>\n",
       "      <td>6379898.11</td>\n",
       "      <td>0</td>\n",
       "      <td>22</td>\n",
       "      <td>31</td>\n",
       "    </tr>\n",
       "    <tr>\n",
       "      <th>6362618</th>\n",
       "      <td>743</td>\n",
       "      <td>1</td>\n",
       "      <td>850002.52</td>\n",
       "      <td>1685995037</td>\n",
       "      <td>850002.52</td>\n",
       "      <td>0.00</td>\n",
       "      <td>2080388513</td>\n",
       "      <td>0.00</td>\n",
       "      <td>0.00</td>\n",
       "      <td>0</td>\n",
       "      <td>22</td>\n",
       "      <td>31</td>\n",
       "    </tr>\n",
       "    <tr>\n",
       "      <th>6362619</th>\n",
       "      <td>743</td>\n",
       "      <td>2</td>\n",
       "      <td>850002.52</td>\n",
       "      <td>1280323807</td>\n",
       "      <td>850002.52</td>\n",
       "      <td>0.00</td>\n",
       "      <td>873221189</td>\n",
       "      <td>6510099.11</td>\n",
       "      <td>7360101.63</td>\n",
       "      <td>0</td>\n",
       "      <td>22</td>\n",
       "      <td>31</td>\n",
       "    </tr>\n",
       "  </tbody>\n",
       "</table>\n",
       "<p>6362620 rows × 12 columns</p>\n",
       "</div>"
      ],
      "text/plain": [
       "         step  type      amount   name_orig  oldbalance_org  newbalance_orig  \\\n",
       "0           1     0     9839.64  1231006815       170136.00        160296.36   \n",
       "1           1     0     1864.28  1666544295        21249.00         19384.72   \n",
       "2           1     1      181.00  1305486145          181.00             0.00   \n",
       "3           1     2      181.00   840083671          181.00             0.00   \n",
       "4           1     0    11668.14  2048537720        41554.00         29885.86   \n",
       "...       ...   ...         ...         ...             ...              ...   \n",
       "6362615   743     2   339682.13   786484425       339682.13             0.00   \n",
       "6362616   743     1  6311409.28  1529008245      6311409.28             0.00   \n",
       "6362617   743     2  6311409.28  1162922333      6311409.28             0.00   \n",
       "6362618   743     1   850002.52  1685995037       850002.52             0.00   \n",
       "6362619   743     2   850002.52  1280323807       850002.52             0.00   \n",
       "\n",
       "          name_dest  oldbalance_dest  newbalance_dest  is_flagged_fraud  hora  \\\n",
       "0        1979787155             0.00             0.00                 0     0   \n",
       "1        2044282225             0.00             0.00                 0     0   \n",
       "2         553264065             0.00             0.00                 0     0   \n",
       "3          38997010         21182.00             0.00                 0     0   \n",
       "4        1230701703             0.00             0.00                 0     0   \n",
       "...             ...              ...              ...               ...   ...   \n",
       "6362615   776919290             0.00        339682.13                 0    22   \n",
       "6362616  1881841831             0.00             0.00                 0    22   \n",
       "6362617  1365125890         68488.84       6379898.11                 0    22   \n",
       "6362618  2080388513             0.00             0.00                 0    22   \n",
       "6362619   873221189       6510099.11       7360101.63                 0    22   \n",
       "\n",
       "         dia  \n",
       "0          1  \n",
       "1          1  \n",
       "2          1  \n",
       "3          1  \n",
       "4          1  \n",
       "...      ...  \n",
       "6362615   31  \n",
       "6362616   31  \n",
       "6362617   31  \n",
       "6362618   31  \n",
       "6362619   31  \n",
       "\n",
       "[6362620 rows x 12 columns]"
      ]
     },
     "execution_count": 247,
     "metadata": {},
     "output_type": "execute_result"
    }
   ],
   "source": [
    "data_prep[SELECTED_FEATURES]"
   ]
  },
  {
   "cell_type": "markdown",
   "id": "ab878e17",
   "metadata": {},
   "source": [
    "# Normalization"
   ]
  },
  {
   "cell_type": "markdown",
   "id": "d8c7efcd",
   "metadata": {},
   "source": [
    "Métodos:\n",
    "* Feature Scaling\n",
    "\n",
    "* Standardization\n",
    "\n",
    "* Encoding\n",
    "\n",
    "* Discretization\n",
    "\n",
    "* Handling missing values"
   ]
  },
  {
   "cell_type": "code",
   "execution_count": 248,
   "id": "af9cdee3",
   "metadata": {
    "ExecuteTime": {
     "end_time": "2023-09-12T23:03:32.147486Z",
     "start_time": "2023-09-12T23:03:30.860473Z"
    }
   },
   "outputs": [
    {
     "name": "stdout",
     "output_type": "stream",
     "text": [
      "Columns/Skew\n",
      " is_flagged_fraud    630.603629\n",
      "amount               30.993949\n",
      "oldbalance_dest      19.921758\n",
      "newbalance_dest      19.352302\n",
      "oldbalance_org        5.249136\n",
      "newbalance_orig       5.176884\n",
      "dtype: float64\n"
     ]
    }
   ],
   "source": [
    "log_columns = data_prep[SELECTED_FEATURES].skew().sort_values(ascending=False)\n",
    "log_columns = log_columns.loc[log_columns > 0.75]\n",
    "print('Columns/Skew\\n',log_columns)   "
   ]
  },
  {
   "cell_type": "code",
   "execution_count": 249,
   "id": "c6a32199",
   "metadata": {
    "ExecuteTime": {
     "end_time": "2023-09-12T23:03:32.163488Z",
     "start_time": "2023-09-12T23:03:32.151489Z"
    }
   },
   "outputs": [],
   "source": [
    "cols_to_normalize = log_columns.index"
   ]
  },
  {
   "cell_type": "code",
   "execution_count": 250,
   "id": "de4e0edf",
   "metadata": {
    "ExecuteTime": {
     "end_time": "2023-09-12T23:03:32.179488Z",
     "start_time": "2023-09-12T23:03:32.168491Z"
    }
   },
   "outputs": [
    {
     "data": {
      "text/plain": [
       "Index(['is_flagged_fraud', 'amount', 'oldbalance_dest', 'newbalance_dest',\n",
       "       'oldbalance_org', 'newbalance_orig'],\n",
       "      dtype='object')"
      ]
     },
     "execution_count": 250,
     "metadata": {},
     "output_type": "execute_result"
    }
   ],
   "source": [
    "cols_to_normalize"
   ]
  },
  {
   "cell_type": "code",
   "execution_count": 251,
   "id": "4494bafc",
   "metadata": {
    "ExecuteTime": {
     "end_time": "2023-09-12T23:03:33.068500Z",
     "start_time": "2023-09-12T23:03:32.185495Z"
    }
   },
   "outputs": [],
   "source": [
    "\n",
    "\n",
    "# Crie uma instância do StandardScaler\n",
    "scaler = StandardScaler()\n",
    "\n",
    "# Ajuste o scaler apenas às colunas selecionadas e transforme essas colunas\n",
    "data_prep[cols_to_normalize] = scaler.fit_transform(data_prep[cols_to_normalize])\n"
   ]
  },
  {
   "cell_type": "code",
   "execution_count": 252,
   "id": "61814281",
   "metadata": {
    "ExecuteTime": {
     "end_time": "2023-09-12T23:03:33.100503Z",
     "start_time": "2023-09-12T23:03:33.072507Z"
    }
   },
   "outputs": [
    {
     "data": {
      "text/html": [
       "<div>\n",
       "<style scoped>\n",
       "    .dataframe tbody tr th:only-of-type {\n",
       "        vertical-align: middle;\n",
       "    }\n",
       "\n",
       "    .dataframe tbody tr th {\n",
       "        vertical-align: top;\n",
       "    }\n",
       "\n",
       "    .dataframe thead th {\n",
       "        text-align: right;\n",
       "    }\n",
       "</style>\n",
       "<table border=\"1\" class=\"dataframe\">\n",
       "  <thead>\n",
       "    <tr style=\"text-align: right;\">\n",
       "      <th></th>\n",
       "      <th>step</th>\n",
       "      <th>type</th>\n",
       "      <th>amount</th>\n",
       "      <th>name_orig</th>\n",
       "      <th>oldbalance_org</th>\n",
       "      <th>newbalance_orig</th>\n",
       "      <th>name_dest</th>\n",
       "      <th>oldbalance_dest</th>\n",
       "      <th>newbalance_dest</th>\n",
       "      <th>is_fraud</th>\n",
       "      <th>is_flagged_fraud</th>\n",
       "      <th>dia</th>\n",
       "      <th>hora</th>\n",
       "    </tr>\n",
       "  </thead>\n",
       "  <tbody>\n",
       "    <tr>\n",
       "      <th>0</th>\n",
       "      <td>1</td>\n",
       "      <td>0</td>\n",
       "      <td>-0.281560</td>\n",
       "      <td>1231006815</td>\n",
       "      <td>-0.229810</td>\n",
       "      <td>-0.237622</td>\n",
       "      <td>1979787155</td>\n",
       "      <td>-0.323814</td>\n",
       "      <td>-0.333411</td>\n",
       "      <td>0</td>\n",
       "      <td>-0.001586</td>\n",
       "      <td>1</td>\n",
       "      <td>0</td>\n",
       "    </tr>\n",
       "    <tr>\n",
       "      <th>1</th>\n",
       "      <td>1</td>\n",
       "      <td>0</td>\n",
       "      <td>-0.294767</td>\n",
       "      <td>1666544295</td>\n",
       "      <td>-0.281359</td>\n",
       "      <td>-0.285812</td>\n",
       "      <td>2044282225</td>\n",
       "      <td>-0.323814</td>\n",
       "      <td>-0.333411</td>\n",
       "      <td>0</td>\n",
       "      <td>-0.001586</td>\n",
       "      <td>1</td>\n",
       "      <td>0</td>\n",
       "    </tr>\n",
       "    <tr>\n",
       "      <th>2</th>\n",
       "      <td>1</td>\n",
       "      <td>1</td>\n",
       "      <td>-0.297555</td>\n",
       "      <td>1305486145</td>\n",
       "      <td>-0.288654</td>\n",
       "      <td>-0.292442</td>\n",
       "      <td>553264065</td>\n",
       "      <td>-0.323814</td>\n",
       "      <td>-0.333411</td>\n",
       "      <td>1</td>\n",
       "      <td>-0.001586</td>\n",
       "      <td>1</td>\n",
       "      <td>0</td>\n",
       "    </tr>\n",
       "    <tr>\n",
       "      <th>3</th>\n",
       "      <td>1</td>\n",
       "      <td>2</td>\n",
       "      <td>-0.297555</td>\n",
       "      <td>840083671</td>\n",
       "      <td>-0.288654</td>\n",
       "      <td>-0.292442</td>\n",
       "      <td>38997010</td>\n",
       "      <td>-0.317582</td>\n",
       "      <td>-0.333411</td>\n",
       "      <td>1</td>\n",
       "      <td>-0.001586</td>\n",
       "      <td>1</td>\n",
       "      <td>0</td>\n",
       "    </tr>\n",
       "    <tr>\n",
       "      <th>4</th>\n",
       "      <td>1</td>\n",
       "      <td>0</td>\n",
       "      <td>-0.278532</td>\n",
       "      <td>2048537720</td>\n",
       "      <td>-0.274329</td>\n",
       "      <td>-0.282221</td>\n",
       "      <td>1230701703</td>\n",
       "      <td>-0.323814</td>\n",
       "      <td>-0.333411</td>\n",
       "      <td>0</td>\n",
       "      <td>-0.001586</td>\n",
       "      <td>1</td>\n",
       "      <td>0</td>\n",
       "    </tr>\n",
       "  </tbody>\n",
       "</table>\n",
       "</div>"
      ],
      "text/plain": [
       "   step  type    amount   name_orig  oldbalance_org  newbalance_orig  \\\n",
       "0     1     0 -0.281560  1231006815       -0.229810        -0.237622   \n",
       "1     1     0 -0.294767  1666544295       -0.281359        -0.285812   \n",
       "2     1     1 -0.297555  1305486145       -0.288654        -0.292442   \n",
       "3     1     2 -0.297555   840083671       -0.288654        -0.292442   \n",
       "4     1     0 -0.278532  2048537720       -0.274329        -0.282221   \n",
       "\n",
       "    name_dest  oldbalance_dest  newbalance_dest  is_fraud  is_flagged_fraud  \\\n",
       "0  1979787155        -0.323814        -0.333411         0         -0.001586   \n",
       "1  2044282225        -0.323814        -0.333411         0         -0.001586   \n",
       "2   553264065        -0.323814        -0.333411         1         -0.001586   \n",
       "3    38997010        -0.317582        -0.333411         1         -0.001586   \n",
       "4  1230701703        -0.323814        -0.333411         0         -0.001586   \n",
       "\n",
       "   dia  hora  \n",
       "0    1     0  \n",
       "1    1     0  \n",
       "2    1     0  \n",
       "3    1     0  \n",
       "4    1     0  "
      ]
     },
     "execution_count": 252,
     "metadata": {},
     "output_type": "execute_result"
    }
   ],
   "source": [
    "data_prep.head()"
   ]
  },
  {
   "cell_type": "code",
   "execution_count": null,
   "id": "2e18200c",
   "metadata": {},
   "outputs": [],
   "source": []
  },
  {
   "cell_type": "code",
   "execution_count": null,
   "id": "fb3b80ea",
   "metadata": {},
   "outputs": [],
   "source": []
  },
  {
   "cell_type": "code",
   "execution_count": null,
   "id": "dcaf3ff1",
   "metadata": {},
   "outputs": [],
   "source": []
  },
  {
   "cell_type": "code",
   "execution_count": null,
   "id": "2f0e170d",
   "metadata": {},
   "outputs": [],
   "source": []
  },
  {
   "cell_type": "code",
   "execution_count": 253,
   "id": "25c5c1b5",
   "metadata": {
    "ExecuteTime": {
     "end_time": "2023-09-12T23:03:46.735696Z",
     "start_time": "2023-09-12T23:03:46.477694Z"
    }
   },
   "outputs": [],
   "source": [
    "y = data_prep[TARGET]\n",
    "X = data_prep[SELECTED_FEATURES]"
   ]
  },
  {
   "cell_type": "code",
   "execution_count": 166,
   "id": "666be406",
   "metadata": {
    "ExecuteTime": {
     "end_time": "2023-09-12T22:47:51.398568Z",
     "start_time": "2023-09-12T22:47:46.776447Z"
    }
   },
   "outputs": [
    {
     "data": {
      "text/plain": [
       "((5090096, 12), (5090096,), (1272524, 12), (1272524,))"
      ]
     },
     "execution_count": 166,
     "metadata": {},
     "output_type": "execute_result"
    }
   ],
   "source": [
    "seed=7\n",
    "X_train, X_val, y_train, y_val = train_test_split(X, y, test_size = 0.2, shuffle=True, random_state=seed,stratify=y)\n",
    "X_train.shape, y_train.shape, X_val.shape, y_val.shape"
   ]
  },
  {
   "cell_type": "code",
   "execution_count": 167,
   "id": "1f171c02",
   "metadata": {
    "ExecuteTime": {
     "end_time": "2023-09-12T22:47:51.461565Z",
     "start_time": "2023-09-12T22:47:51.403575Z"
    }
   },
   "outputs": [
    {
     "data": {
      "text/plain": [
       "is_fraud\n",
       "0    6354407\n",
       "1       8213\n",
       "Name: count, dtype: int64"
      ]
     },
     "execution_count": 167,
     "metadata": {},
     "output_type": "execute_result"
    }
   ],
   "source": [
    "data_prep['is_fraud'].value_counts()"
   ]
  },
  {
   "cell_type": "code",
   "execution_count": 168,
   "id": "724021e0",
   "metadata": {
    "ExecuteTime": {
     "end_time": "2023-09-12T22:47:51.477569Z",
     "start_time": "2023-09-12T22:47:51.465564Z"
    }
   },
   "outputs": [],
   "source": [
    "number_folds = 4\n",
    "Kfold = KFold(n_splits=number_folds, shuffle=True, random_state=seed)"
   ]
  },
  {
   "cell_type": "code",
   "execution_count": null,
   "id": "f09151e7",
   "metadata": {},
   "outputs": [],
   "source": []
  },
  {
   "cell_type": "code",
   "execution_count": null,
   "id": "83276c59",
   "metadata": {},
   "outputs": [],
   "source": []
  },
  {
   "cell_type": "code",
   "execution_count": null,
   "id": "2b10a9f2",
   "metadata": {},
   "outputs": [],
   "source": []
  },
  {
   "cell_type": "code",
   "execution_count": null,
   "id": "5c439d09",
   "metadata": {},
   "outputs": [],
   "source": []
  },
  {
   "cell_type": "code",
   "execution_count": null,
   "id": "ccdadbd9",
   "metadata": {},
   "outputs": [],
   "source": []
  }
 ],
 "metadata": {
  "kernelspec": {
   "display_name": "Python 3 (ipykernel)",
   "language": "python",
   "name": "python3"
  },
  "language_info": {
   "codemirror_mode": {
    "name": "ipython",
    "version": 3
   },
   "file_extension": ".py",
   "mimetype": "text/x-python",
   "name": "python",
   "nbconvert_exporter": "python",
   "pygments_lexer": "ipython3",
   "version": "3.10.13"
  }
 },
 "nbformat": 4,
 "nbformat_minor": 5
}
