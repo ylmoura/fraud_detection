{
 "cells": [
  {
   "cell_type": "code",
   "execution_count": null,
   "id": "775c74e2",
   "metadata": {},
   "outputs": [],
   "source": [
    "%%capture\n",
    "%run 3.0_datapreparation.ipynb"
   ]
  },
  {
   "cell_type": "code",
   "execution_count": null,
   "id": "17ebd10d",
   "metadata": {},
   "outputs": [],
   "source": [
    "X.shape, y.shape"
   ]
  },
  {
   "cell_type": "code",
   "execution_count": null,
   "id": "6f06d0b6",
   "metadata": {},
   "outputs": [],
   "source": []
  },
  {
   "cell_type": "code",
   "execution_count": null,
   "id": "0d2d16c3",
   "metadata": {},
   "outputs": [],
   "source": [
    "RANDOM_SEED = 42\n",
    "np.random.seed(RANDOM_SEED)\n",
    "\n",
    "\n",
    "# ### Data Analisy Libraries ###\n",
    "import numpy as np\n",
    "import pandas as pd\n",
    "import pickle\n",
    "\n",
    "# # ### Machine Learning Libraries ###\n",
    "from sklearn.model_selection import cross_val_score, cross_val_predict, KFold, cross_validate\n",
    "from sklearn.model_selection import train_test_split , GridSearchCV, RandomizedSearchCV, StratifiedKFold\n",
    "\n",
    "\n",
    "import warnings\n",
    "\n",
    "\n",
    "warnings.filterwarnings( 'ignore' )\n",
    "\n",
    "\n",
    "# optuna \n",
    "\n",
    "import optuna\n",
    "from optuna.samplers import TPESampler\n",
    "\n",
    "from optuna.pruners import SuccessiveHalvingPruner, HyperbandPruner\n",
    "optuna.logging.set_verbosity(optuna.logging.WARNING)\n",
    "# Import optuna.visualization\n",
    "import optuna.visualization as vis\n",
    "\n",
    "\n",
    "import xgboost as xgb\n",
    "\n",
    "\n",
    "\n",
    "# SHAP\n",
    "import shap"
   ]
  },
  {
   "cell_type": "code",
   "execution_count": null,
   "id": "df874d9c",
   "metadata": {},
   "outputs": [],
   "source": []
  },
  {
   "cell_type": "code",
   "execution_count": 20,
   "id": "d0841d8e",
   "metadata": {
    "ExecuteTime": {
     "end_time": "2023-09-12T02:52:53.971396Z",
     "start_time": "2023-09-12T02:52:53.954405Z"
    }
   },
   "outputs": [],
   "source": [
    "\n",
    "# Set class weights\n",
    "# scale_pos_weight = (Número de exemplos negativos) / (Número de exemplos positivos)\n",
    "class_weights = {0: 6354407, 1: 8213}  # Class 0: 1, Class 1: 10\n",
    "\n",
    "# Set \"scale_pos_weight\" based on class balance\n",
    "pos_weight = class_weights[0] / class_weights[1]\n",
    "\n",
    "# # Train XGBoost model\n",
    "# model = xgb.XGBClassifier(scale_pos_weight=pos_weight, class_weight=class_weights)\n",
    "# model.fit(X_train, y_train)"
   ]
  },
  {
   "cell_type": "code",
   "execution_count": 21,
   "id": "bbfe020b",
   "metadata": {
    "ExecuteTime": {
     "end_time": "2023-09-12T02:52:54.481392Z",
     "start_time": "2023-09-12T02:52:54.468397Z"
    }
   },
   "outputs": [
    {
     "data": {
      "text/plain": [
       "773.7010836478753"
      ]
     },
     "execution_count": 21,
     "metadata": {},
     "output_type": "execute_result"
    }
   ],
   "source": [
    "pos_weight"
   ]
  },
  {
   "cell_type": "code",
   "execution_count": null,
   "id": "20bfad5e",
   "metadata": {},
   "outputs": [],
   "source": []
  }
 ],
 "metadata": {
  "kernelspec": {
   "display_name": "Python 3 (ipykernel)",
   "language": "python",
   "name": "python3"
  },
  "language_info": {
   "codemirror_mode": {
    "name": "ipython",
    "version": 3
   },
   "file_extension": ".py",
   "mimetype": "text/x-python",
   "name": "python",
   "nbconvert_exporter": "python",
   "pygments_lexer": "ipython3",
   "version": "3.10.13"
  }
 },
 "nbformat": 4,
 "nbformat_minor": 5
}
